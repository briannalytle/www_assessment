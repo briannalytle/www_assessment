{
 "cells": [
  {
   "cell_type": "code",
   "execution_count": 1,
   "metadata": {},
   "outputs": [],
   "source": [
    "import numpy as np\n",
    "import pandas as pd\n",
    "import seaborn as sns\n",
    "import matplotlib.pyplot as plt\n",
    "\n",
    "%matplotlib inline\n",
    "import plotly as px"
   ]
  },
  {
   "cell_type": "markdown",
   "metadata": {},
   "source": [
    "# Import DataFrame"
   ]
  },
  {
   "cell_type": "code",
   "execution_count": 3,
   "metadata": {},
   "outputs": [
    {
     "data": {
      "text/html": [
       "<div>\n",
       "<style scoped>\n",
       "    .dataframe tbody tr th:only-of-type {\n",
       "        vertical-align: middle;\n",
       "    }\n",
       "\n",
       "    .dataframe tbody tr th {\n",
       "        vertical-align: top;\n",
       "    }\n",
       "\n",
       "    .dataframe thead th {\n",
       "        text-align: right;\n",
       "    }\n",
       "</style>\n",
       "<table border=\"1\" class=\"dataframe\">\n",
       "  <thead>\n",
       "    <tr style=\"text-align: right;\">\n",
       "      <th></th>\n",
       "      <th>Date</th>\n",
       "      <th>Page Title</th>\n",
       "      <th>Age</th>\n",
       "      <th>Gender</th>\n",
       "      <th>Source / Medium</th>\n",
       "      <th>Pageviews</th>\n",
       "      <th>Unique Pageviews</th>\n",
       "    </tr>\n",
       "  </thead>\n",
       "  <tbody>\n",
       "    <tr>\n",
       "      <td>0</td>\n",
       "      <td>20190606</td>\n",
       "      <td>Chrissy Teigen Wore the Pleated-Jean Trend | W...</td>\n",
       "      <td>35-44</td>\n",
       "      <td>female</td>\n",
       "      <td>m.facebook.com / referral</td>\n",
       "      <td>35541</td>\n",
       "      <td>31670</td>\n",
       "    </tr>\n",
       "    <tr>\n",
       "      <td>1</td>\n",
       "      <td>20190606</td>\n",
       "      <td>Chrissy Teigen Wore the Pleated-Jean Trend | W...</td>\n",
       "      <td>25-34</td>\n",
       "      <td>female</td>\n",
       "      <td>m.facebook.com / referral</td>\n",
       "      <td>29730</td>\n",
       "      <td>26236</td>\n",
       "    </tr>\n",
       "    <tr>\n",
       "      <td>2</td>\n",
       "      <td>20190608</td>\n",
       "      <td>Chrissy Teigen Wore the Pleated-Jean Trend | W...</td>\n",
       "      <td>35-44</td>\n",
       "      <td>female</td>\n",
       "      <td>m.facebook.com / referral</td>\n",
       "      <td>21249</td>\n",
       "      <td>18923</td>\n",
       "    </tr>\n",
       "    <tr>\n",
       "      <td>3</td>\n",
       "      <td>20190606</td>\n",
       "      <td>Chrissy Teigen Wore the Pleated-Jean Trend | W...</td>\n",
       "      <td>45-54</td>\n",
       "      <td>female</td>\n",
       "      <td>m.facebook.com / referral</td>\n",
       "      <td>18858</td>\n",
       "      <td>16825</td>\n",
       "    </tr>\n",
       "    <tr>\n",
       "      <td>4</td>\n",
       "      <td>20190608</td>\n",
       "      <td>Chrissy Teigen Wore the Pleated-Jean Trend | W...</td>\n",
       "      <td>25-34</td>\n",
       "      <td>female</td>\n",
       "      <td>m.facebook.com / referral</td>\n",
       "      <td>18157</td>\n",
       "      <td>15970</td>\n",
       "    </tr>\n",
       "  </tbody>\n",
       "</table>\n",
       "</div>"
      ],
      "text/plain": [
       "       Date                                         Page Title    Age  Gender  \\\n",
       "0  20190606  Chrissy Teigen Wore the Pleated-Jean Trend | W...  35-44  female   \n",
       "1  20190606  Chrissy Teigen Wore the Pleated-Jean Trend | W...  25-34  female   \n",
       "2  20190608  Chrissy Teigen Wore the Pleated-Jean Trend | W...  35-44  female   \n",
       "3  20190606  Chrissy Teigen Wore the Pleated-Jean Trend | W...  45-54  female   \n",
       "4  20190608  Chrissy Teigen Wore the Pleated-Jean Trend | W...  25-34  female   \n",
       "\n",
       "             Source / Medium  Pageviews  Unique Pageviews  \n",
       "0  m.facebook.com / referral      35541             31670  \n",
       "1  m.facebook.com / referral      29730             26236  \n",
       "2  m.facebook.com / referral      21249             18923  \n",
       "3  m.facebook.com / referral      18858             16825  \n",
       "4  m.facebook.com / referral      18157             15970  "
      ]
     },
     "execution_count": 3,
     "metadata": {},
     "output_type": "execute_result"
    }
   ],
   "source": [
    "www = pd.read_csv('data/assessment_ds.csv', encoding='latin1')\n",
    "www.head()"
   ]
  },
  {
   "cell_type": "markdown",
   "metadata": {},
   "source": [
    "# Feature Engineering"
   ]
  },
  {
   "cell_type": "code",
   "execution_count": 4,
   "metadata": {},
   "outputs": [],
   "source": [
    "#change date format\n",
    "www['Date']= pd.to_datetime(www['Date'], format=\"%Y%m%d\")"
   ]
  },
  {
   "cell_type": "code",
   "execution_count": 5,
   "metadata": {},
   "outputs": [
    {
     "name": "stderr",
     "output_type": "stream",
     "text": [
      "C:\\Users\\Brianna Lytle\\Anaconda3\\lib\\site-packages\\ipykernel_launcher.py:9: SettingWithCopyWarning:\n",
      "\n",
      "\n",
      "A value is trying to be set on a copy of a slice from a DataFrame\n",
      "\n",
      "See the caveats in the documentation: http://pandas.pydata.org/pandas-docs/stable/user_guide/indexing.html#returning-a-view-versus-a-copy\n",
      "\n",
      "C:\\Users\\Brianna Lytle\\Anaconda3\\lib\\site-packages\\ipykernel_launcher.py:7: SettingWithCopyWarning:\n",
      "\n",
      "\n",
      "A value is trying to be set on a copy of a slice from a DataFrame\n",
      "\n",
      "See the caveats in the documentation: http://pandas.pydata.org/pandas-docs/stable/user_guide/indexing.html#returning-a-view-versus-a-copy\n",
      "\n"
     ]
    }
   ],
   "source": [
    "#split 'Page Title' column into two\n",
    "page_split = www['Page Title'].str.split('|', expand = True)\n",
    "www['Page'] = page_split[0]\n",
    "www['Title'] = page_split[1]\n",
    "for i in range(len(www['Title'])):\n",
    "    if \"Who What Wear UK\" in www['Title'][i]:\n",
    "        www['Title'][i] = 'Who What Wear UK'\n",
    "    elif \"Who What Wear\" in www['Title'][i]:\n",
    "        www['Title'][i] = 'Who What Wear'\n",
    "    else:\n",
    "        pass"
   ]
  },
  {
   "cell_type": "code",
   "execution_count": 6,
   "metadata": {},
   "outputs": [],
   "source": [
    "#split 'Source / Medium column into two'\n",
    "source_split = www['Source / Medium'].str.split('/', expand = True)\n",
    "www['Source'] = source_split[0]\n",
    "www['Medium'] = source_split[1]\n",
    "# unique page view average\n",
    "www['unique_percent'] = www['Unique Pageviews'] / www['Pageviews']\n",
    "#Word Count fcor Page - not including title\n",
    "www['page_wc'] = www['Page'].apply(lambda x: len(x.split()))\n",
    "#binary values - if article is from specific major source\n",
    "www['source_facebook'] = np.where(www['Source'].str.contains('facebook'), 1,0)\n",
    "www['source_google'] = np.where(www['Source'].str.contains('google'), 1, 0)\n",
    "www['source_yahoo'] = np.where(www['Source'].str.contains('yahoo'), 1, 0)\n",
    "www['source_instagram'] = np.where(www['Source'].str.contains('instagram'), 1, 0)\n",
    "www['source_pinterest'] = np.where(www['Source'].str.contains('pinterest'), 1, 0)"
   ]
  },
  {
   "cell_type": "code",
   "execution_count": 7,
   "metadata": {},
   "outputs": [],
   "source": [
    "# How many page titles have a numerical value in it\n",
    "numbers = ['1', '2', '3', '4', '5','6','7','8','9','0']\n",
    "def number_search(column):\n",
    "    for i in numbers:\n",
    "        if i in column:\n",
    "            return 1\n",
    "        else:\n",
    "            return 0\n",
    "www['page_number'] = www['Page'].apply(number_search)"
   ]
  },
  {
   "cell_type": "code",
   "execution_count": 8,
   "metadata": {},
   "outputs": [],
   "source": [
    "#another column identifying if article is from major source\n",
    "def get_source(data):\n",
    "    data = data.lower()\n",
    "    sources = { 'facebook': 'Facebook',\n",
    "                'google': 'Google',\n",
    "                'yahoo': 'Yahoo',\n",
    "                'instagram': 'Instagram',\n",
    "                'pinterest': 'Pinterest',\n",
    "                'other': 'Other'}\n",
    "\n",
    "    for key, value in sources.items():\n",
    "        if data.find(key) != -1: # If key name is found in row data\n",
    "            return value\n",
    "        \n",
    "        \n",
    "www['major_sources'] = www['Source'].apply(get_source)"
   ]
  },
  {
   "cell_type": "code",
   "execution_count": 9,
   "metadata": {},
   "outputs": [],
   "source": [
    "www['major_sources'].fillna('other', inplace = True)"
   ]
  },
  {
   "cell_type": "markdown",
   "metadata": {},
   "source": [
    "**Save Feature Engineered Dataframe**"
   ]
  },
  {
   "cell_type": "code",
   "execution_count": 10,
   "metadata": {},
   "outputs": [],
   "source": [
    "www.to_csv('data/www_fe.csv', index = False)"
   ]
  },
  {
   "cell_type": "markdown",
   "metadata": {},
   "source": [
    "# Who is our Audience? What Demographic represents our core audience?"
   ]
  },
  {
   "cell_type": "markdown",
   "metadata": {},
   "source": [
    "**Main Demographics:**\n",
    "- There is about a 9 to 1 ratio split between the female and male audience. Based on this dataset, about 89.5% of the audience is female and 10.5% of the audience is male. \n",
    "- The most popular age group among the genders is between the age 25-34 (31%) and 35-44 (21%). Surprisingly, audience members between the age 18-21 only take up about 5% of the dataset\n",
    "- The most popular Title reference of articles viewed across all demographics is from the original 'Who What Wear'.\n",
    "- The second most popular Title reference among all demographics is \"The Latest Fitness, Health and Wellness Tips.\"\n",
    "- The least popular Title reference among all demographics is \"The Thirty.\" However, this title reference is primarily read by people in the 25-34 age group"
   ]
  },
  {
   "cell_type": "code",
   "execution_count": 11,
   "metadata": {},
   "outputs": [
    {
     "data": {
      "text/plain": [
       "25-34    0.310182\n",
       "35-44    0.210472\n",
       "45-54    0.181530\n",
       "55-64    0.160800\n",
       "65+      0.083896\n",
       "18-24    0.053122\n",
       "Name: Age, dtype: float64"
      ]
     },
     "execution_count": 11,
     "metadata": {},
     "output_type": "execute_result"
    }
   ],
   "source": [
    "www['Age'].value_counts(normalize = True)"
   ]
  },
  {
   "cell_type": "code",
   "execution_count": 12,
   "metadata": {
    "scrolled": true
   },
   "outputs": [
    {
     "data": {
      "text/plain": [
       "female    0.894825\n",
       "male      0.105175\n",
       "Name: Gender, dtype: float64"
      ]
     },
     "execution_count": 12,
     "metadata": {},
     "output_type": "execute_result"
    }
   ],
   "source": [
    "www['Gender'].value_counts(normalize = True)"
   ]
  },
  {
   "cell_type": "code",
   "execution_count": 56,
   "metadata": {},
   "outputs": [
    {
     "data": {
      "text/plain": [
       "Text(0.5, 1.0, 'WWW June 2019 Audience Demographic')"
      ]
     },
     "execution_count": 56,
     "metadata": {},
     "output_type": "execute_result"
    },
    {
     "data": {
      "image/png": "[encoded data removed]",
      "text/plain": [
       "<Figure size 1080x360 with 1 Axes>"
      ]
     },
     "metadata": {},
     "output_type": "display_data"
    }
   ],
   "source": [
    "plt.figure(figsize = (15,5))\n",
    "sns.set()\n",
    "sns.countplot(x = 'Age', hue = 'Gender', data = www, \n",
    "              order = ['18-24', '25-34', '35-44', '45-54', '55-64', '65+']).set_title('WWW June 2019 Audience Demographic', fontsize = 15)"
   ]
  },
  {
   "cell_type": "code",
   "execution_count": 55,
   "metadata": {
    "scrolled": false
   },
   "outputs": [
    {
     "data": {
      "text/plain": [
       "Text(0.5, 1.0, 'June 2019 - Most Popular Article Titles by Age Group')"
      ]
     },
     "execution_count": 55,
     "metadata": {},
     "output_type": "execute_result"
    },
    {
     "data": {
      "image/png": "[encoded data removed]",
      "text/plain": [
       "<Figure size 1440x576 with 1 Axes>"
      ]
     },
     "metadata": {},
     "output_type": "display_data"
    }
   ],
   "source": [
    "plt.figure(figsize = (20, 8))\n",
    "sns.set()\n",
    "sns.countplot(x = 'Age', hue = 'Title', data = www, \n",
    "              order = ['18-24', '25-34', '35-44', '45-54', '55-64', '65+']).set_title('June 2019 - Most Popular Article Titles by Age Group', fontsize = 20)"
   ]
  },
  {
   "cell_type": "markdown",
   "metadata": {},
   "source": [
    " # Other Findings:"
   ]
  },
  {
   "cell_type": "markdown",
   "metadata": {},
   "source": [
    "Notes: \n",
    "- If Medium is 'organic', then the source is from Google. \n",
    "- If Medium is 'email', then it is from the newsletter - this means that the user is already subscribed to the emails. \n",
    "- If Medium is 'cpc' or 'paid', then the source is from Facebook\n",
    "- If Medium is '(none)', then the article source is from (direct)\n",
    "- If Medium is 'earned-share', then the article source is from share-button\n",
    "- If Medium is from 'facebook', then the article source is from another online magazine (ex/popsugar, lauren conrad)\n",
    "- If Medium is from  'display', then the article source if from a WWW site"
   ]
  },
  {
   "cell_type": "code",
   "execution_count": 17,
   "metadata": {
    "scrolled": true
   },
   "outputs": [
    {
     "data": {
      "text/html": [
       "<div>\n",
       "<style scoped>\n",
       "    .dataframe tbody tr th:only-of-type {\n",
       "        vertical-align: middle;\n",
       "    }\n",
       "\n",
       "    .dataframe tbody tr th {\n",
       "        vertical-align: top;\n",
       "    }\n",
       "\n",
       "    .dataframe thead th {\n",
       "        text-align: right;\n",
       "    }\n",
       "</style>\n",
       "<table border=\"1\" class=\"dataframe\">\n",
       "  <thead>\n",
       "    <tr style=\"text-align: right;\">\n",
       "      <th></th>\n",
       "      <th>Date</th>\n",
       "      <th>Pageviews</th>\n",
       "      <th>Unique Pageviews</th>\n",
       "      <th>unique_percent</th>\n",
       "      <th>page_wc</th>\n",
       "      <th>source_facebook</th>\n",
       "      <th>source_google</th>\n",
       "      <th>source_yahoo</th>\n",
       "      <th>source_instagram</th>\n",
       "      <th>source_pinterest</th>\n",
       "    </tr>\n",
       "    <tr>\n",
       "      <th>Age</th>\n",
       "      <th></th>\n",
       "      <th></th>\n",
       "      <th></th>\n",
       "      <th></th>\n",
       "      <th></th>\n",
       "      <th></th>\n",
       "      <th></th>\n",
       "      <th></th>\n",
       "      <th></th>\n",
       "      <th></th>\n",
       "    </tr>\n",
       "  </thead>\n",
       "  <tbody>\n",
       "    <tr>\n",
       "      <td>18-24</td>\n",
       "      <td>2.019062e+07</td>\n",
       "      <td>263.436207</td>\n",
       "      <td>213.547701</td>\n",
       "      <td>0.815240</td>\n",
       "      <td>7.978736</td>\n",
       "      <td>0.295402</td>\n",
       "      <td>0.527586</td>\n",
       "      <td>0.014368</td>\n",
       "      <td>0.004023</td>\n",
       "      <td>0.017241</td>\n",
       "    </tr>\n",
       "    <tr>\n",
       "      <td>25-34</td>\n",
       "      <td>2.019062e+07</td>\n",
       "      <td>434.298819</td>\n",
       "      <td>356.000394</td>\n",
       "      <td>0.816392</td>\n",
       "      <td>8.430807</td>\n",
       "      <td>0.278543</td>\n",
       "      <td>0.428839</td>\n",
       "      <td>0.011516</td>\n",
       "      <td>0.009941</td>\n",
       "      <td>0.038091</td>\n",
       "    </tr>\n",
       "    <tr>\n",
       "      <td>35-44</td>\n",
       "      <td>2.019062e+07</td>\n",
       "      <td>408.506672</td>\n",
       "      <td>342.414128</td>\n",
       "      <td>0.840094</td>\n",
       "      <td>8.482158</td>\n",
       "      <td>0.377140</td>\n",
       "      <td>0.287061</td>\n",
       "      <td>0.032057</td>\n",
       "      <td>0.006527</td>\n",
       "      <td>0.028576</td>\n",
       "    </tr>\n",
       "    <tr>\n",
       "      <td>45-54</td>\n",
       "      <td>2.019062e+07</td>\n",
       "      <td>365.689876</td>\n",
       "      <td>304.011268</td>\n",
       "      <td>0.841527</td>\n",
       "      <td>8.463337</td>\n",
       "      <td>0.354356</td>\n",
       "      <td>0.247898</td>\n",
       "      <td>0.038850</td>\n",
       "      <td>0.002523</td>\n",
       "      <td>0.039859</td>\n",
       "    </tr>\n",
       "    <tr>\n",
       "      <td>55-64</td>\n",
       "      <td>2.019062e+07</td>\n",
       "      <td>375.194228</td>\n",
       "      <td>309.094171</td>\n",
       "      <td>0.833824</td>\n",
       "      <td>8.460794</td>\n",
       "      <td>0.279286</td>\n",
       "      <td>0.256313</td>\n",
       "      <td>0.046326</td>\n",
       "      <td>0.001519</td>\n",
       "      <td>0.051263</td>\n",
       "    </tr>\n",
       "    <tr>\n",
       "      <td>65+</td>\n",
       "      <td>2.019062e+07</td>\n",
       "      <td>287.894105</td>\n",
       "      <td>236.146288</td>\n",
       "      <td>0.834864</td>\n",
       "      <td>8.426128</td>\n",
       "      <td>0.242358</td>\n",
       "      <td>0.265284</td>\n",
       "      <td>0.059316</td>\n",
       "      <td>0.000364</td>\n",
       "      <td>0.026565</td>\n",
       "    </tr>\n",
       "  </tbody>\n",
       "</table>\n",
       "</div>"
      ],
      "text/plain": [
       "               Date   Pageviews  Unique Pageviews  unique_percent   page_wc  \\\n",
       "Age                                                                           \n",
       "18-24  2.019062e+07  263.436207        213.547701        0.815240  7.978736   \n",
       "25-34  2.019062e+07  434.298819        356.000394        0.816392  8.430807   \n",
       "35-44  2.019062e+07  408.506672        342.414128        0.840094  8.482158   \n",
       "45-54  2.019062e+07  365.689876        304.011268        0.841527  8.463337   \n",
       "55-64  2.019062e+07  375.194228        309.094171        0.833824  8.460794   \n",
       "65+    2.019062e+07  287.894105        236.146288        0.834864  8.426128   \n",
       "\n",
       "       source_facebook  source_google  source_yahoo  source_instagram  \\\n",
       "Age                                                                     \n",
       "18-24         0.295402       0.527586      0.014368          0.004023   \n",
       "25-34         0.278543       0.428839      0.011516          0.009941   \n",
       "35-44         0.377140       0.287061      0.032057          0.006527   \n",
       "45-54         0.354356       0.247898      0.038850          0.002523   \n",
       "55-64         0.279286       0.256313      0.046326          0.001519   \n",
       "65+           0.242358       0.265284      0.059316          0.000364   \n",
       "\n",
       "       source_pinterest  \n",
       "Age                      \n",
       "18-24          0.017241  \n",
       "25-34          0.038091  \n",
       "35-44          0.028576  \n",
       "45-54          0.039859  \n",
       "55-64          0.051263  \n",
       "65+            0.026565  "
      ]
     },
     "execution_count": 17,
     "metadata": {},
     "output_type": "execute_result"
    }
   ],
   "source": [
    "# www[['Pageviews', 'Unique Pageviews']].describe()\n",
    "www.groupby(['Age']).mean()"
   ]
  },
  {
   "cell_type": "markdown",
   "metadata": {},
   "source": [
    "- The older groups have slightly more average overall unique viewers. \n",
    "- A plurality of referrals come from a google related source among all age groups\n",
    "- Most Likely to be referred from Facebook: Age group 35-44, 45 -54\n",
    "- Most likely to be referred from Google: Age group 18-24, 25-34"
   ]
  }
 ],
 "metadata": {
  "kernelspec": {
   "display_name": "Python 3",
   "language": "python",
   "name": "python3"
  },
  "language_info": {
   "codemirror_mode": {
    "name": "ipython",
    "version": 3
   },
   "file_extension": ".py",
   "mimetype": "text/x-python",
   "name": "python",
   "nbconvert_exporter": "python",
   "pygments_lexer": "ipython3",
   "version": "3.7.4"
  }
 },
 "nbformat": 4,
 "nbformat_minor": 2
}
