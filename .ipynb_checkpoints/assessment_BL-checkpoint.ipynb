{
 "cells": [
  {
   "cell_type": "code",
   "execution_count": 102,
   "metadata": {},
   "outputs": [],
   "source": [
    "import numpy as np\n",
    "import pandas as pd\n",
    "import seaborn as sns\n",
    "import matplotlib.pyplot as plt\n",
    "\n",
    "%matplotlib inline\n",
    "import sys"
   ]
  },
  {
   "cell_type": "markdown",
   "metadata": {},
   "source": [
    "# Import DataFrame"
   ]
  },
  {
   "cell_type": "code",
   "execution_count": 103,
   "metadata": {},
   "outputs": [],
   "source": [
    "www = pd.read_csv('assessment_ds.csv', encoding='latin1')"
   ]
  },
  {
   "cell_type": "code",
   "execution_count": 104,
   "metadata": {},
   "outputs": [
    {
     "data": {
      "text/html": [
       "<div>\n",
       "<style scoped>\n",
       "    .dataframe tbody tr th:only-of-type {\n",
       "        vertical-align: middle;\n",
       "    }\n",
       "\n",
       "    .dataframe tbody tr th {\n",
       "        vertical-align: top;\n",
       "    }\n",
       "\n",
       "    .dataframe thead th {\n",
       "        text-align: right;\n",
       "    }\n",
       "</style>\n",
       "<table border=\"1\" class=\"dataframe\">\n",
       "  <thead>\n",
       "    <tr style=\"text-align: right;\">\n",
       "      <th></th>\n",
       "      <th>Date</th>\n",
       "      <th>Page Title</th>\n",
       "      <th>Age</th>\n",
       "      <th>Gender</th>\n",
       "      <th>Source / Medium</th>\n",
       "      <th>Pageviews</th>\n",
       "      <th>Unique Pageviews</th>\n",
       "    </tr>\n",
       "  </thead>\n",
       "  <tbody>\n",
       "    <tr>\n",
       "      <td>0</td>\n",
       "      <td>20190606</td>\n",
       "      <td>Chrissy Teigen Wore the Pleated-Jean Trend | W...</td>\n",
       "      <td>35-44</td>\n",
       "      <td>female</td>\n",
       "      <td>m.facebook.com / referral</td>\n",
       "      <td>35541</td>\n",
       "      <td>31670</td>\n",
       "    </tr>\n",
       "    <tr>\n",
       "      <td>1</td>\n",
       "      <td>20190606</td>\n",
       "      <td>Chrissy Teigen Wore the Pleated-Jean Trend | W...</td>\n",
       "      <td>25-34</td>\n",
       "      <td>female</td>\n",
       "      <td>m.facebook.com / referral</td>\n",
       "      <td>29730</td>\n",
       "      <td>26236</td>\n",
       "    </tr>\n",
       "    <tr>\n",
       "      <td>2</td>\n",
       "      <td>20190608</td>\n",
       "      <td>Chrissy Teigen Wore the Pleated-Jean Trend | W...</td>\n",
       "      <td>35-44</td>\n",
       "      <td>female</td>\n",
       "      <td>m.facebook.com / referral</td>\n",
       "      <td>21249</td>\n",
       "      <td>18923</td>\n",
       "    </tr>\n",
       "    <tr>\n",
       "      <td>3</td>\n",
       "      <td>20190606</td>\n",
       "      <td>Chrissy Teigen Wore the Pleated-Jean Trend | W...</td>\n",
       "      <td>45-54</td>\n",
       "      <td>female</td>\n",
       "      <td>m.facebook.com / referral</td>\n",
       "      <td>18858</td>\n",
       "      <td>16825</td>\n",
       "    </tr>\n",
       "    <tr>\n",
       "      <td>4</td>\n",
       "      <td>20190608</td>\n",
       "      <td>Chrissy Teigen Wore the Pleated-Jean Trend | W...</td>\n",
       "      <td>25-34</td>\n",
       "      <td>female</td>\n",
       "      <td>m.facebook.com / referral</td>\n",
       "      <td>18157</td>\n",
       "      <td>15970</td>\n",
       "    </tr>\n",
       "  </tbody>\n",
       "</table>\n",
       "</div>"
      ],
      "text/plain": [
       "       Date                                         Page Title    Age  Gender  \\\n",
       "0  20190606  Chrissy Teigen Wore the Pleated-Jean Trend | W...  35-44  female   \n",
       "1  20190606  Chrissy Teigen Wore the Pleated-Jean Trend | W...  25-34  female   \n",
       "2  20190608  Chrissy Teigen Wore the Pleated-Jean Trend | W...  35-44  female   \n",
       "3  20190606  Chrissy Teigen Wore the Pleated-Jean Trend | W...  45-54  female   \n",
       "4  20190608  Chrissy Teigen Wore the Pleated-Jean Trend | W...  25-34  female   \n",
       "\n",
       "             Source / Medium  Pageviews  Unique Pageviews  \n",
       "0  m.facebook.com / referral      35541             31670  \n",
       "1  m.facebook.com / referral      29730             26236  \n",
       "2  m.facebook.com / referral      21249             18923  \n",
       "3  m.facebook.com / referral      18858             16825  \n",
       "4  m.facebook.com / referral      18157             15970  "
      ]
     },
     "execution_count": 104,
     "metadata": {},
     "output_type": "execute_result"
    }
   ],
   "source": [
    "www.head()"
   ]
  },
  {
   "cell_type": "markdown",
   "metadata": {},
   "source": [
    "# Feature Engineering"
   ]
  },
  {
   "cell_type": "code",
   "execution_count": 114,
   "metadata": {},
   "outputs": [],
   "source": [
    "#split 'Page Title' column into two\n",
    "page_split = www['Page Title'].str.split('|', expand = True)\n",
    "www['Page'] = page_split[0]\n",
    "www['Title'] = page_split[1]\n",
    "for i in range(len(www['Title'])):\n",
    "    if \"Who What Wear UK\" in www['Title'][i]:\n",
    "        www['Title'][i] = 'Who What Wear UK'\n",
    "    elif \"Who What Wear\" in www['Title'][i]:\n",
    "        www['Title'][i] = 'Who What Wear'\n",
    "    else:\n",
    "        pass"
   ]
  },
  {
   "cell_type": "code",
   "execution_count": 117,
   "metadata": {},
   "outputs": [
    {
     "data": {
      "text/plain": [
       "Who What Wear                                     31043\n",
       " The Latest Fitness, Health, and Wellness Tips      807\n",
       "Who What Wear UK                                    615\n",
       " TheThirty                                          290\n",
       "Name: Title, dtype: int64"
      ]
     },
     "execution_count": 117,
     "metadata": {},
     "output_type": "execute_result"
    }
   ],
   "source": [
    "www['Title'].value_counts()"
   ]
  },
  {
   "cell_type": "code",
   "execution_count": 92,
   "metadata": {},
   "outputs": [],
   "source": [
    "#split 'Source / Medium column into two'\n",
    "source_split = www['Source / Medium'].str.split('/', expand = True)\n",
    "www['Source'] = source_split[0]\n",
    "www['Medium'] = source_split[1]"
   ]
  },
  {
   "cell_type": "code",
   "execution_count": 118,
   "metadata": {
    "scrolled": false
   },
   "outputs": [
    {
     "data": {
      "text/html": [
       "<div>\n",
       "<style scoped>\n",
       "    .dataframe tbody tr th:only-of-type {\n",
       "        vertical-align: middle;\n",
       "    }\n",
       "\n",
       "    .dataframe tbody tr th {\n",
       "        vertical-align: top;\n",
       "    }\n",
       "\n",
       "    .dataframe thead th {\n",
       "        text-align: right;\n",
       "    }\n",
       "</style>\n",
       "<table border=\"1\" class=\"dataframe\">\n",
       "  <thead>\n",
       "    <tr style=\"text-align: right;\">\n",
       "      <th></th>\n",
       "      <th>Date</th>\n",
       "      <th>Page Title</th>\n",
       "      <th>Age</th>\n",
       "      <th>Gender</th>\n",
       "      <th>Source / Medium</th>\n",
       "      <th>Pageviews</th>\n",
       "      <th>Unique Pageviews</th>\n",
       "      <th>Page</th>\n",
       "      <th>Title</th>\n",
       "    </tr>\n",
       "  </thead>\n",
       "  <tbody>\n",
       "    <tr>\n",
       "      <td>0</td>\n",
       "      <td>20190606</td>\n",
       "      <td>Chrissy Teigen Wore the Pleated-Jean Trend | W...</td>\n",
       "      <td>35-44</td>\n",
       "      <td>female</td>\n",
       "      <td>m.facebook.com / referral</td>\n",
       "      <td>35541</td>\n",
       "      <td>31670</td>\n",
       "      <td>Chrissy Teigen Wore the Pleated-Jean Trend</td>\n",
       "      <td>Who What Wear</td>\n",
       "    </tr>\n",
       "    <tr>\n",
       "      <td>1</td>\n",
       "      <td>20190606</td>\n",
       "      <td>Chrissy Teigen Wore the Pleated-Jean Trend | W...</td>\n",
       "      <td>25-34</td>\n",
       "      <td>female</td>\n",
       "      <td>m.facebook.com / referral</td>\n",
       "      <td>29730</td>\n",
       "      <td>26236</td>\n",
       "      <td>Chrissy Teigen Wore the Pleated-Jean Trend</td>\n",
       "      <td>Who What Wear</td>\n",
       "    </tr>\n",
       "    <tr>\n",
       "      <td>2</td>\n",
       "      <td>20190608</td>\n",
       "      <td>Chrissy Teigen Wore the Pleated-Jean Trend | W...</td>\n",
       "      <td>35-44</td>\n",
       "      <td>female</td>\n",
       "      <td>m.facebook.com / referral</td>\n",
       "      <td>21249</td>\n",
       "      <td>18923</td>\n",
       "      <td>Chrissy Teigen Wore the Pleated-Jean Trend</td>\n",
       "      <td>Who What Wear</td>\n",
       "    </tr>\n",
       "    <tr>\n",
       "      <td>3</td>\n",
       "      <td>20190606</td>\n",
       "      <td>Chrissy Teigen Wore the Pleated-Jean Trend | W...</td>\n",
       "      <td>45-54</td>\n",
       "      <td>female</td>\n",
       "      <td>m.facebook.com / referral</td>\n",
       "      <td>18858</td>\n",
       "      <td>16825</td>\n",
       "      <td>Chrissy Teigen Wore the Pleated-Jean Trend</td>\n",
       "      <td>Who What Wear</td>\n",
       "    </tr>\n",
       "    <tr>\n",
       "      <td>4</td>\n",
       "      <td>20190608</td>\n",
       "      <td>Chrissy Teigen Wore the Pleated-Jean Trend | W...</td>\n",
       "      <td>25-34</td>\n",
       "      <td>female</td>\n",
       "      <td>m.facebook.com / referral</td>\n",
       "      <td>18157</td>\n",
       "      <td>15970</td>\n",
       "      <td>Chrissy Teigen Wore the Pleated-Jean Trend</td>\n",
       "      <td>Who What Wear</td>\n",
       "    </tr>\n",
       "  </tbody>\n",
       "</table>\n",
       "</div>"
      ],
      "text/plain": [
       "       Date                                         Page Title    Age  Gender  \\\n",
       "0  20190606  Chrissy Teigen Wore the Pleated-Jean Trend | W...  35-44  female   \n",
       "1  20190606  Chrissy Teigen Wore the Pleated-Jean Trend | W...  25-34  female   \n",
       "2  20190608  Chrissy Teigen Wore the Pleated-Jean Trend | W...  35-44  female   \n",
       "3  20190606  Chrissy Teigen Wore the Pleated-Jean Trend | W...  45-54  female   \n",
       "4  20190608  Chrissy Teigen Wore the Pleated-Jean Trend | W...  25-34  female   \n",
       "\n",
       "             Source / Medium  Pageviews  Unique Pageviews  \\\n",
       "0  m.facebook.com / referral      35541             31670   \n",
       "1  m.facebook.com / referral      29730             26236   \n",
       "2  m.facebook.com / referral      21249             18923   \n",
       "3  m.facebook.com / referral      18858             16825   \n",
       "4  m.facebook.com / referral      18157             15970   \n",
       "\n",
       "                                          Page          Title  \n",
       "0  Chrissy Teigen Wore the Pleated-Jean Trend   Who What Wear  \n",
       "1  Chrissy Teigen Wore the Pleated-Jean Trend   Who What Wear  \n",
       "2  Chrissy Teigen Wore the Pleated-Jean Trend   Who What Wear  \n",
       "3  Chrissy Teigen Wore the Pleated-Jean Trend   Who What Wear  \n",
       "4  Chrissy Teigen Wore the Pleated-Jean Trend   Who What Wear  "
      ]
     },
     "execution_count": 118,
     "metadata": {},
     "output_type": "execute_result"
    }
   ],
   "source": [
    "www.head()"
   ]
  },
  {
   "cell_type": "markdown",
   "metadata": {},
   "source": [
    "# Basic Graphs"
   ]
  },
  {
   "cell_type": "code",
   "execution_count": 54,
   "metadata": {},
   "outputs": [],
   "source": [
    "#pair plot with age and Title column"
   ]
  },
  {
   "cell_type": "code",
   "execution_count": 119,
   "metadata": {},
   "outputs": [
    {
     "data": {
      "image/png": "[encoded data removed]",
      "text/plain": [
       "<Figure size 1440x1440 with 4 Axes>"
      ]
     },
     "metadata": {
      "needs_background": "light"
     },
     "output_type": "display_data"
    }
   ],
   "source": [
    "sns.catplot(x=\"Age\", y=\"Pageviews\", col =\"Title\", kind = 'bar', data=www, \n",
    "            height = 10, col_wrap = 2,\n",
    "           order = ['18-24', '25-34', '35-44', '45-54', '55-64', '65+']);"
   ]
  },
  {
   "cell_type": "markdown",
   "metadata": {},
   "source": [
    "https://seaborn.pydata.org/generated/seaborn.catplot.html"
   ]
  },
  {
   "cell_type": "code",
   "execution_count": null,
   "metadata": {},
   "outputs": [],
   "source": []
  }
 ],
 "metadata": {
  "kernelspec": {
   "display_name": "Python 3",
   "language": "python",
   "name": "python3"
  },
  "language_info": {
   "codemirror_mode": {
    "name": "ipython",
    "version": 3
   },
   "file_extension": ".py",
   "mimetype": "text/x-python",
   "name": "python",
   "nbconvert_exporter": "python",
   "pygments_lexer": "ipython3",
   "version": "3.7.4"
  }
 },
 "nbformat": 4,
 "nbformat_minor": 2
}
