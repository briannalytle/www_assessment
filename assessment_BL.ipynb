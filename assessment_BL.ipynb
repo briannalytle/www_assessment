{
 "cells": [
  {
   "cell_type": "code",
   "execution_count": 46,
   "metadata": {},
   "outputs": [],
   "source": [
    "import numpy as np\n",
    "import pandas as pd\n",
    "import seaborn as sns\n",
    "import matplotlib.pyplot as plt\n",
    "\n",
    "%matplotlib inline\n",
    "import plotly as px"
   ]
  },
  {
   "cell_type": "code",
   "execution_count": 47,
   "metadata": {},
   "outputs": [],
   "source": [
    "pd.set_option('display.max_rows', 100)"
   ]
  },
  {
   "cell_type": "markdown",
   "metadata": {},
   "source": [
    "# Import DataFrame"
   ]
  },
  {
   "cell_type": "code",
   "execution_count": 48,
   "metadata": {},
   "outputs": [
    {
     "data": {
      "text/html": [
       "<div>\n",
       "<style scoped>\n",
       "    .dataframe tbody tr th:only-of-type {\n",
       "        vertical-align: middle;\n",
       "    }\n",
       "\n",
       "    .dataframe tbody tr th {\n",
       "        vertical-align: top;\n",
       "    }\n",
       "\n",
       "    .dataframe thead th {\n",
       "        text-align: right;\n",
       "    }\n",
       "</style>\n",
       "<table border=\"1\" class=\"dataframe\">\n",
       "  <thead>\n",
       "    <tr style=\"text-align: right;\">\n",
       "      <th></th>\n",
       "      <th>Date</th>\n",
       "      <th>Page Title</th>\n",
       "      <th>Age</th>\n",
       "      <th>Gender</th>\n",
       "      <th>Source / Medium</th>\n",
       "      <th>Pageviews</th>\n",
       "      <th>Unique Pageviews</th>\n",
       "    </tr>\n",
       "  </thead>\n",
       "  <tbody>\n",
       "    <tr>\n",
       "      <td>0</td>\n",
       "      <td>20190606</td>\n",
       "      <td>Chrissy Teigen Wore the Pleated-Jean Trend | W...</td>\n",
       "      <td>35-44</td>\n",
       "      <td>female</td>\n",
       "      <td>m.facebook.com / referral</td>\n",
       "      <td>35541</td>\n",
       "      <td>31670</td>\n",
       "    </tr>\n",
       "    <tr>\n",
       "      <td>1</td>\n",
       "      <td>20190606</td>\n",
       "      <td>Chrissy Teigen Wore the Pleated-Jean Trend | W...</td>\n",
       "      <td>25-34</td>\n",
       "      <td>female</td>\n",
       "      <td>m.facebook.com / referral</td>\n",
       "      <td>29730</td>\n",
       "      <td>26236</td>\n",
       "    </tr>\n",
       "    <tr>\n",
       "      <td>2</td>\n",
       "      <td>20190608</td>\n",
       "      <td>Chrissy Teigen Wore the Pleated-Jean Trend | W...</td>\n",
       "      <td>35-44</td>\n",
       "      <td>female</td>\n",
       "      <td>m.facebook.com / referral</td>\n",
       "      <td>21249</td>\n",
       "      <td>18923</td>\n",
       "    </tr>\n",
       "    <tr>\n",
       "      <td>3</td>\n",
       "      <td>20190606</td>\n",
       "      <td>Chrissy Teigen Wore the Pleated-Jean Trend | W...</td>\n",
       "      <td>45-54</td>\n",
       "      <td>female</td>\n",
       "      <td>m.facebook.com / referral</td>\n",
       "      <td>18858</td>\n",
       "      <td>16825</td>\n",
       "    </tr>\n",
       "    <tr>\n",
       "      <td>4</td>\n",
       "      <td>20190608</td>\n",
       "      <td>Chrissy Teigen Wore the Pleated-Jean Trend | W...</td>\n",
       "      <td>25-34</td>\n",
       "      <td>female</td>\n",
       "      <td>m.facebook.com / referral</td>\n",
       "      <td>18157</td>\n",
       "      <td>15970</td>\n",
       "    </tr>\n",
       "  </tbody>\n",
       "</table>\n",
       "</div>"
      ],
      "text/plain": [
       "       Date                                         Page Title    Age  Gender  \\\n",
       "0  20190606  Chrissy Teigen Wore the Pleated-Jean Trend | W...  35-44  female   \n",
       "1  20190606  Chrissy Teigen Wore the Pleated-Jean Trend | W...  25-34  female   \n",
       "2  20190608  Chrissy Teigen Wore the Pleated-Jean Trend | W...  35-44  female   \n",
       "3  20190606  Chrissy Teigen Wore the Pleated-Jean Trend | W...  45-54  female   \n",
       "4  20190608  Chrissy Teigen Wore the Pleated-Jean Trend | W...  25-34  female   \n",
       "\n",
       "             Source / Medium  Pageviews  Unique Pageviews  \n",
       "0  m.facebook.com / referral      35541             31670  \n",
       "1  m.facebook.com / referral      29730             26236  \n",
       "2  m.facebook.com / referral      21249             18923  \n",
       "3  m.facebook.com / referral      18858             16825  \n",
       "4  m.facebook.com / referral      18157             15970  "
      ]
     },
     "execution_count": 48,
     "metadata": {},
     "output_type": "execute_result"
    }
   ],
   "source": [
    "www = pd.read_csv('assessment_ds.csv', encoding='latin1')\n",
    "www.head()"
   ]
  },
  {
   "cell_type": "markdown",
   "metadata": {},
   "source": [
    "# Feature Engineering"
   ]
  },
  {
   "cell_type": "code",
   "execution_count": 60,
   "metadata": {},
   "outputs": [],
   "source": [
    "#change date format\n",
    "www['Date']= pd.to_datetime(www['Date'], format=\"%Y%m%d\")"
   ]
  },
  {
   "cell_type": "code",
   "execution_count": 49,
   "metadata": {},
   "outputs": [
    {
     "name": "stderr",
     "output_type": "stream",
     "text": [
      "C:\\Users\\Brianna Lytle\\Anaconda3\\lib\\site-packages\\ipykernel_launcher.py:9: SettingWithCopyWarning:\n",
      "\n",
      "\n",
      "A value is trying to be set on a copy of a slice from a DataFrame\n",
      "\n",
      "See the caveats in the documentation: http://pandas.pydata.org/pandas-docs/stable/user_guide/indexing.html#returning-a-view-versus-a-copy\n",
      "\n",
      "C:\\Users\\Brianna Lytle\\Anaconda3\\lib\\site-packages\\ipykernel_launcher.py:7: SettingWithCopyWarning:\n",
      "\n",
      "\n",
      "A value is trying to be set on a copy of a slice from a DataFrame\n",
      "\n",
      "See the caveats in the documentation: http://pandas.pydata.org/pandas-docs/stable/user_guide/indexing.html#returning-a-view-versus-a-copy\n",
      "\n"
     ]
    }
   ],
   "source": [
    "#split 'Page Title' column into two\n",
    "page_split = www['Page Title'].str.split('|', expand = True)\n",
    "www['Page'] = page_split[0]\n",
    "www['Title'] = page_split[1]\n",
    "for i in range(len(www['Title'])):\n",
    "    if \"Who What Wear UK\" in www['Title'][i]:\n",
    "        www['Title'][i] = 'Who What Wear UK'\n",
    "    elif \"Who What Wear\" in www['Title'][i]:\n",
    "        www['Title'][i] = 'Who What Wear'\n",
    "    else:\n",
    "        pass"
   ]
  },
  {
   "cell_type": "code",
   "execution_count": 50,
   "metadata": {
    "scrolled": true
   },
   "outputs": [
    {
     "data": {
      "text/plain": [
       "Who What Wear                                     31043\n",
       " The Latest Fitness, Health, and Wellness Tips      807\n",
       "Who What Wear UK                                    615\n",
       " TheThirty                                          290\n",
       "Name: Title, dtype: int64"
      ]
     },
     "execution_count": 50,
     "metadata": {},
     "output_type": "execute_result"
    }
   ],
   "source": [
    "www['Title'].value_counts()"
   ]
  },
  {
   "cell_type": "code",
   "execution_count": 51,
   "metadata": {},
   "outputs": [],
   "source": [
    "#split 'Source / Medium column into two'\n",
    "source_split = www['Source / Medium'].str.split('/', expand = True)\n",
    "www['Source'] = source_split[0]\n",
    "www['Medium'] = source_split[1]"
   ]
  },
  {
   "cell_type": "code",
   "execution_count": 52,
   "metadata": {},
   "outputs": [],
   "source": [
    "# unique page view ratio\n",
    "www['unique_percent'] = www['Unique Pageviews'] / www['Pageviews']\n",
    "#Word Count fcor Page - not including title\n",
    "www['page_wc'] = www['Page'].apply(lambda x: len(x.split()))"
   ]
  },
  {
   "cell_type": "code",
   "execution_count": 53,
   "metadata": {},
   "outputs": [],
   "source": [
    "# How many page titles have a numerical value in it\n",
    "numbers = ['1', '2', '3', '4', '5','6','7','8','9','0']\n",
    "def number_search(column):\n",
    "    for i in numbers:\n",
    "        if i in column:\n",
    "            return 1\n",
    "        else:\n",
    "            return 0\n",
    "www['page_number'] = www['Page'].apply(number_search)"
   ]
  },
  {
   "cell_type": "code",
   "execution_count": 54,
   "metadata": {},
   "outputs": [],
   "source": [
    "www['source_facebook'] = np.where(www['Source'].str.contains('facebook'), 1,0)\n",
    "www['source_google'] = np.where(www['Source'].str.contains('google'), 1, 0)\n",
    "www['source_yahoo'] = np.where(www['Source'].str.contains('yahoo'), 1, 0)\n",
    "www['source_instagram'] = np.where(www['Source'].str.contains('instagram'), 1, 0)\n",
    "www['source_pinterest'] = np.where(www['Source'].str.contains('pinterest'), 1, 0)"
   ]
  },
  {
   "cell_type": "code",
   "execution_count": 55,
   "metadata": {
    "scrolled": false
   },
   "outputs": [
    {
     "data": {
      "text/plain": [
       "0    0.713204\n",
       "1    0.286796\n",
       "Name: page_number, dtype: float64"
      ]
     },
     "execution_count": 55,
     "metadata": {},
     "output_type": "execute_result"
    }
   ],
   "source": [
    "www['page_number'].value_counts(normalize = True)"
   ]
  },
  {
   "cell_type": "code",
   "execution_count": 74,
   "metadata": {},
   "outputs": [
    {
     "ename": "ValueError",
     "evalue": "The truth value of a Series is ambiguous. Use a.empty, a.bool(), a.item(), a.any() or a.all().",
     "output_type": "error",
     "traceback": [
      "\u001b[1;31m---------------------------------------------------------------------------\u001b[0m",
      "\u001b[1;31mValueError\u001b[0m                                Traceback (most recent call last)",
      "\u001b[1;32m<ipython-input-74-3677a94d23b5>\u001b[0m in \u001b[0;36m<module>\u001b[1;34m\u001b[0m\n\u001b[0;32m     13\u001b[0m         \u001b[1;32mreturn\u001b[0m \u001b[0mother\u001b[0m\u001b[1;33m\u001b[0m\u001b[1;33m\u001b[0m\u001b[0m\n\u001b[0;32m     14\u001b[0m \u001b[1;33m\u001b[0m\u001b[0m\n\u001b[1;32m---> 15\u001b[1;33m \u001b[0mwww\u001b[0m\u001b[1;33m[\u001b[0m\u001b[1;34m'major_sources'\u001b[0m\u001b[1;33m]\u001b[0m \u001b[1;33m=\u001b[0m \u001b[0mwww\u001b[0m\u001b[1;33m[\u001b[0m\u001b[1;34m'Source'\u001b[0m\u001b[1;33m]\u001b[0m\u001b[1;33m.\u001b[0m\u001b[0mapply\u001b[0m\u001b[1;33m(\u001b[0m\u001b[0mmajor_sources\u001b[0m\u001b[1;33m)\u001b[0m\u001b[1;33m\u001b[0m\u001b[1;33m\u001b[0m\u001b[0m\n\u001b[0m",
      "\u001b[1;32m~\\Anaconda3\\lib\\site-packages\\pandas\\core\\series.py\u001b[0m in \u001b[0;36mapply\u001b[1;34m(self, func, convert_dtype, args, **kwds)\u001b[0m\n\u001b[0;32m   4040\u001b[0m             \u001b[1;32melse\u001b[0m\u001b[1;33m:\u001b[0m\u001b[1;33m\u001b[0m\u001b[1;33m\u001b[0m\u001b[0m\n\u001b[0;32m   4041\u001b[0m                 \u001b[0mvalues\u001b[0m \u001b[1;33m=\u001b[0m \u001b[0mself\u001b[0m\u001b[1;33m.\u001b[0m\u001b[0mastype\u001b[0m\u001b[1;33m(\u001b[0m\u001b[0mobject\u001b[0m\u001b[1;33m)\u001b[0m\u001b[1;33m.\u001b[0m\u001b[0mvalues\u001b[0m\u001b[1;33m\u001b[0m\u001b[1;33m\u001b[0m\u001b[0m\n\u001b[1;32m-> 4042\u001b[1;33m                 \u001b[0mmapped\u001b[0m \u001b[1;33m=\u001b[0m \u001b[0mlib\u001b[0m\u001b[1;33m.\u001b[0m\u001b[0mmap_infer\u001b[0m\u001b[1;33m(\u001b[0m\u001b[0mvalues\u001b[0m\u001b[1;33m,\u001b[0m \u001b[0mf\u001b[0m\u001b[1;33m,\u001b[0m \u001b[0mconvert\u001b[0m\u001b[1;33m=\u001b[0m\u001b[0mconvert_dtype\u001b[0m\u001b[1;33m)\u001b[0m\u001b[1;33m\u001b[0m\u001b[1;33m\u001b[0m\u001b[0m\n\u001b[0m\u001b[0;32m   4043\u001b[0m \u001b[1;33m\u001b[0m\u001b[0m\n\u001b[0;32m   4044\u001b[0m         \u001b[1;32mif\u001b[0m \u001b[0mlen\u001b[0m\u001b[1;33m(\u001b[0m\u001b[0mmapped\u001b[0m\u001b[1;33m)\u001b[0m \u001b[1;32mand\u001b[0m \u001b[0misinstance\u001b[0m\u001b[1;33m(\u001b[0m\u001b[0mmapped\u001b[0m\u001b[1;33m[\u001b[0m\u001b[1;36m0\u001b[0m\u001b[1;33m]\u001b[0m\u001b[1;33m,\u001b[0m \u001b[0mSeries\u001b[0m\u001b[1;33m)\u001b[0m\u001b[1;33m:\u001b[0m\u001b[1;33m\u001b[0m\u001b[1;33m\u001b[0m\u001b[0m\n",
      "\u001b[1;32mpandas\\_libs\\lib.pyx\u001b[0m in \u001b[0;36mpandas._libs.lib.map_infer\u001b[1;34m()\u001b[0m\n",
      "\u001b[1;32m<ipython-input-74-3677a94d23b5>\u001b[0m in \u001b[0;36mmajor_sources\u001b[1;34m(source)\u001b[0m\n\u001b[0;32m      1\u001b[0m \u001b[1;32mdef\u001b[0m \u001b[0mmajor_sources\u001b[0m\u001b[1;33m(\u001b[0m\u001b[0msource\u001b[0m\u001b[1;33m)\u001b[0m\u001b[1;33m:\u001b[0m\u001b[1;33m\u001b[0m\u001b[1;33m\u001b[0m\u001b[0m\n\u001b[1;32m----> 2\u001b[1;33m     \u001b[1;32mif\u001b[0m \u001b[0mwww\u001b[0m\u001b[1;33m[\u001b[0m\u001b[1;34m'Source'\u001b[0m\u001b[1;33m]\u001b[0m\u001b[1;33m.\u001b[0m\u001b[0mstr\u001b[0m\u001b[1;33m.\u001b[0m\u001b[0mcontains\u001b[0m\u001b[1;33m(\u001b[0m\u001b[1;34m'facebook'\u001b[0m\u001b[1;33m)\u001b[0m\u001b[1;33m:\u001b[0m\u001b[1;33m\u001b[0m\u001b[1;33m\u001b[0m\u001b[0m\n\u001b[0m\u001b[0;32m      3\u001b[0m         \u001b[1;32mreturn\u001b[0m \u001b[1;34m'Facebook'\u001b[0m\u001b[1;33m\u001b[0m\u001b[1;33m\u001b[0m\u001b[0m\n\u001b[0;32m      4\u001b[0m     \u001b[1;32melif\u001b[0m \u001b[0mwww\u001b[0m\u001b[1;33m[\u001b[0m\u001b[1;34m'Source'\u001b[0m\u001b[1;33m]\u001b[0m\u001b[1;33m.\u001b[0m\u001b[0mstr\u001b[0m\u001b[1;33m.\u001b[0m\u001b[0mcontains\u001b[0m\u001b[1;33m(\u001b[0m\u001b[1;34m'google'\u001b[0m\u001b[1;33m)\u001b[0m\u001b[1;33m:\u001b[0m\u001b[1;33m\u001b[0m\u001b[1;33m\u001b[0m\u001b[0m\n\u001b[0;32m      5\u001b[0m         \u001b[1;32mreturn\u001b[0m \u001b[1;34m'Google'\u001b[0m\u001b[1;33m\u001b[0m\u001b[1;33m\u001b[0m\u001b[0m\n",
      "\u001b[1;32m~\\Anaconda3\\lib\\site-packages\\pandas\\core\\generic.py\u001b[0m in \u001b[0;36m__nonzero__\u001b[1;34m(self)\u001b[0m\n\u001b[0;32m   1553\u001b[0m             \u001b[1;34m\"The truth value of a {0} is ambiguous. \"\u001b[0m\u001b[1;33m\u001b[0m\u001b[1;33m\u001b[0m\u001b[0m\n\u001b[0;32m   1554\u001b[0m             \"Use a.empty, a.bool(), a.item(), a.any() or a.all().\".format(\n\u001b[1;32m-> 1555\u001b[1;33m                 \u001b[0mself\u001b[0m\u001b[1;33m.\u001b[0m\u001b[0m__class__\u001b[0m\u001b[1;33m.\u001b[0m\u001b[0m__name__\u001b[0m\u001b[1;33m\u001b[0m\u001b[1;33m\u001b[0m\u001b[0m\n\u001b[0m\u001b[0;32m   1556\u001b[0m             )\n\u001b[0;32m   1557\u001b[0m         )\n",
      "\u001b[1;31mValueError\u001b[0m: The truth value of a Series is ambiguous. Use a.empty, a.bool(), a.item(), a.any() or a.all()."
     ]
    }
   ],
   "source": [
    "def major_sources(source):\n",
    "    if www['Source'].str.contains('facebook'):\n",
    "        return 'Facebook'\n",
    "    elif www['Source'].str.contains('google'):\n",
    "        return 'Google'\n",
    "    elif www['Source'].str.contains('yahoo'):\n",
    "        return 'Yahoo'\n",
    "    elif www['Source'].str.contains('instagram'):\n",
    "        return 'Instagram'\n",
    "    elif www['Source'].str.contains('pinterest'):\n",
    "        return 'Pinterest'\n",
    "    else:\n",
    "        return other\n",
    "    \n",
    "www['major_sources'] = www['Source'].apply(major_sources)"
   ]
  },
  {
   "cell_type": "code",
   "execution_count": 61,
   "metadata": {
    "scrolled": true
   },
   "outputs": [
    {
     "data": {
      "text/html": [
       "<div>\n",
       "<style scoped>\n",
       "    .dataframe tbody tr th:only-of-type {\n",
       "        vertical-align: middle;\n",
       "    }\n",
       "\n",
       "    .dataframe tbody tr th {\n",
       "        vertical-align: top;\n",
       "    }\n",
       "\n",
       "    .dataframe thead th {\n",
       "        text-align: right;\n",
       "    }\n",
       "</style>\n",
       "<table border=\"1\" class=\"dataframe\">\n",
       "  <thead>\n",
       "    <tr style=\"text-align: right;\">\n",
       "      <th></th>\n",
       "      <th>Date</th>\n",
       "      <th>Page Title</th>\n",
       "      <th>Age</th>\n",
       "      <th>Gender</th>\n",
       "      <th>Source / Medium</th>\n",
       "      <th>Pageviews</th>\n",
       "      <th>Unique Pageviews</th>\n",
       "      <th>Page</th>\n",
       "      <th>Title</th>\n",
       "      <th>Source</th>\n",
       "      <th>Medium</th>\n",
       "      <th>unique_percent</th>\n",
       "      <th>page_wc</th>\n",
       "      <th>page_number</th>\n",
       "      <th>source_facebook</th>\n",
       "      <th>source_google</th>\n",
       "      <th>source_yahoo</th>\n",
       "      <th>source_instagram</th>\n",
       "      <th>source_pinterest</th>\n",
       "    </tr>\n",
       "  </thead>\n",
       "  <tbody>\n",
       "    <tr>\n",
       "      <td>0</td>\n",
       "      <td>2019-06-06</td>\n",
       "      <td>Chrissy Teigen Wore the Pleated-Jean Trend | W...</td>\n",
       "      <td>35-44</td>\n",
       "      <td>female</td>\n",
       "      <td>m.facebook.com / referral</td>\n",
       "      <td>35541</td>\n",
       "      <td>31670</td>\n",
       "      <td>Chrissy Teigen Wore the Pleated-Jean Trend</td>\n",
       "      <td>Who What Wear</td>\n",
       "      <td>m.facebook.com</td>\n",
       "      <td>referral</td>\n",
       "      <td>0.891084</td>\n",
       "      <td>6</td>\n",
       "      <td>0</td>\n",
       "      <td>1</td>\n",
       "      <td>0</td>\n",
       "      <td>0</td>\n",
       "      <td>0</td>\n",
       "      <td>0</td>\n",
       "    </tr>\n",
       "  </tbody>\n",
       "</table>\n",
       "</div>"
      ],
      "text/plain": [
       "        Date                                         Page Title    Age  \\\n",
       "0 2019-06-06  Chrissy Teigen Wore the Pleated-Jean Trend | W...  35-44   \n",
       "\n",
       "   Gender            Source / Medium  Pageviews  Unique Pageviews  \\\n",
       "0  female  m.facebook.com / referral      35541             31670   \n",
       "\n",
       "                                          Page          Title  \\\n",
       "0  Chrissy Teigen Wore the Pleated-Jean Trend   Who What Wear   \n",
       "\n",
       "            Source     Medium  unique_percent  page_wc  page_number  \\\n",
       "0  m.facebook.com    referral        0.891084        6            0   \n",
       "\n",
       "   source_facebook  source_google  source_yahoo  source_instagram  \\\n",
       "0                1              0             0                 0   \n",
       "\n",
       "   source_pinterest  \n",
       "0                 0  "
      ]
     },
     "execution_count": 61,
     "metadata": {},
     "output_type": "execute_result"
    }
   ],
   "source": [
    "www.head(1)"
   ]
  },
  {
   "cell_type": "markdown",
   "metadata": {},
   "source": [
    "Save Final DataFrame"
   ]
  },
  {
   "cell_type": "code",
   "execution_count": 62,
   "metadata": {},
   "outputs": [],
   "source": [
    "www.to_csv('www_fe.csv', index = False)"
   ]
  },
  {
   "cell_type": "markdown",
   "metadata": {},
   "source": [
    "# Basic Graphs"
   ]
  },
  {
   "cell_type": "code",
   "execution_count": 72,
   "metadata": {},
   "outputs": [],
   "source": [
    "# sns.catplot(x=\"Age\", y=\"Pageviews\", col =\"Title\", kind = 'bar', data=www, \n",
    "#             height = 10, col_wrap = 2,\n",
    "#            order = ['18-24', '25-34', '35-44', '45-54', '55-64', '65+'], ci = None);"
   ]
  },
  {
   "cell_type": "markdown",
   "metadata": {},
   "source": [
    "https://seaborn.pydata.org/generated/seaborn.catplot.html"
   ]
  },
  {
   "cell_type": "markdown",
   "metadata": {},
   "source": [
    "# Who is our Audience? What Demographic represents our core audience?"
   ]
  },
  {
   "cell_type": "markdown",
   "metadata": {},
   "source": [
    "**Main Demographics:**\n",
    "- There is about a 9 to 1 ratio split between the female and male audience. Based on this dataset, about 89.5% of the audience is female and 10.5% of the audience is male. \n",
    "- The most popular age group among the genders is between the age 25-34 (31%) and 35-44 (21%). Surprisingly, audience members between the age 18-21 only take up about 5% of the dataset\n",
    "- The most popular Title reference of articles viewed across all demographics is from the original 'Who What Wear'.\n",
    "- The second most popular Title reference among all demographics is \"The Latest Fitness, Health and Wellness Tips.\"\n",
    "- The least popular Title reference among all demographics is \"The Thirty.\" However, this title reference is primarily read by people in the 25-34 age group"
   ]
  },
  {
   "cell_type": "code",
   "execution_count": 11,
   "metadata": {},
   "outputs": [
    {
     "data": {
      "text/plain": [
       "25-34    0.310182\n",
       "35-44    0.210472\n",
       "45-54    0.181530\n",
       "55-64    0.160800\n",
       "65+      0.083896\n",
       "18-24    0.053122\n",
       "Name: Age, dtype: float64"
      ]
     },
     "execution_count": 11,
     "metadata": {},
     "output_type": "execute_result"
    }
   ],
   "source": [
    "www['Age'].value_counts(normalize = True)"
   ]
  },
  {
   "cell_type": "code",
   "execution_count": 12,
   "metadata": {
    "scrolled": true
   },
   "outputs": [
    {
     "data": {
      "text/plain": [
       "female    0.894825\n",
       "male      0.105175\n",
       "Name: Gender, dtype: float64"
      ]
     },
     "execution_count": 12,
     "metadata": {},
     "output_type": "execute_result"
    }
   ],
   "source": [
    "www['Gender'].value_counts(normalize = True)"
   ]
  },
  {
   "cell_type": "code",
   "execution_count": 13,
   "metadata": {
    "scrolled": true
   },
   "outputs": [
    {
     "data": {
      "text/plain": [
       "Who What Wear                                     0.947733\n",
       " The Latest Fitness, Health, and Wellness Tips    0.024637\n",
       "Who What Wear UK                                  0.018776\n",
       " TheThirty                                        0.008854\n",
       "Name: Title, dtype: float64"
      ]
     },
     "execution_count": 13,
     "metadata": {},
     "output_type": "execute_result"
    }
   ],
   "source": [
    "www['Title'].value_counts(normalize = True)"
   ]
  },
  {
   "cell_type": "code",
   "execution_count": 15,
   "metadata": {},
   "outputs": [
    {
     "data": {
      "text/plain": [
       "<matplotlib.axes._subplots.AxesSubplot at 0x19fc8250d88>"
      ]
     },
     "execution_count": 15,
     "metadata": {},
     "output_type": "execute_result"
    },
    {
     "data": {
      "image/png": "[encoded data removed]",
      "text/plain": [
       "<Figure size 1080x360 with 1 Axes>"
      ]
     },
     "metadata": {
      "needs_background": "light"
     },
     "output_type": "display_data"
    }
   ],
   "source": [
    "plt.figure(figsize = (15,5))\n",
    "sns.set()\n",
    "sns.countplot(x = 'Age', hue = 'Gender', data = www)"
   ]
  },
  {
   "cell_type": "code",
   "execution_count": 16,
   "metadata": {
    "scrolled": true
   },
   "outputs": [
    {
     "data": {
      "text/plain": [
       "<matplotlib.axes._subplots.AxesSubplot at 0x19fc8221d48>"
      ]
     },
     "execution_count": 16,
     "metadata": {},
     "output_type": "execute_result"
    },
    {
     "data": {
      "image/png": "[encoded data removed]",
      "text/plain": [
       "<Figure size 1440x576 with 1 Axes>"
      ]
     },
     "metadata": {},
     "output_type": "display_data"
    }
   ],
   "source": [
    "plt.figure(figsize = (20, 8))\n",
    "sns.set()\n",
    "sns.countplot(x = 'Age', hue = 'Title', data = www)"
   ]
  },
  {
   "cell_type": "markdown",
   "metadata": {},
   "source": [
    "## What content resonates with the main demographic? What are these and frames that drive engagement?"
   ]
  },
  {
   "cell_type": "markdown",
   "metadata": {},
   "source": [
    " # Most Popular Channels"
   ]
  },
  {
   "cell_type": "markdown",
   "metadata": {},
   "source": [
    "Note: \n",
    "- If Medium is 'organic', then the source is from Google. \n",
    "- If Medium is 'email', then it is from the newsletter - this means that the user is already subscribed to the emails. \n",
    "- If Medium is 'cpc' or 'paid', then the source is from Facebook\n",
    "- If Medium is '(none)', then the article source is from (direct)\n",
    "- If Medium is 'earned-share', then the article source is from share-button\n",
    "- If Medium is from 'facebook', then the article source is from another online magazine (ex/popsugar, lauren conrad)\n",
    "- If Medium is from  'display', then the article source if from a WWW site"
   ]
  },
  {
   "cell_type": "code",
   "execution_count": 110,
   "metadata": {
    "scrolled": true
   },
   "outputs": [],
   "source": [
    "# www['Medium'].value_counts()"
   ]
  },
  {
   "cell_type": "code",
   "execution_count": 17,
   "metadata": {
    "scrolled": true
   },
   "outputs": [
    {
     "data": {
      "text/html": [
       "<div>\n",
       "<style scoped>\n",
       "    .dataframe tbody tr th:only-of-type {\n",
       "        vertical-align: middle;\n",
       "    }\n",
       "\n",
       "    .dataframe tbody tr th {\n",
       "        vertical-align: top;\n",
       "    }\n",
       "\n",
       "    .dataframe thead th {\n",
       "        text-align: right;\n",
       "    }\n",
       "</style>\n",
       "<table border=\"1\" class=\"dataframe\">\n",
       "  <thead>\n",
       "    <tr style=\"text-align: right;\">\n",
       "      <th></th>\n",
       "      <th>Date</th>\n",
       "      <th>Pageviews</th>\n",
       "      <th>Unique Pageviews</th>\n",
       "      <th>unique_percent</th>\n",
       "      <th>page_wc</th>\n",
       "      <th>source_facebook</th>\n",
       "      <th>source_google</th>\n",
       "      <th>source_yahoo</th>\n",
       "      <th>source_instagram</th>\n",
       "      <th>source_pinterest</th>\n",
       "    </tr>\n",
       "    <tr>\n",
       "      <th>Age</th>\n",
       "      <th></th>\n",
       "      <th></th>\n",
       "      <th></th>\n",
       "      <th></th>\n",
       "      <th></th>\n",
       "      <th></th>\n",
       "      <th></th>\n",
       "      <th></th>\n",
       "      <th></th>\n",
       "      <th></th>\n",
       "    </tr>\n",
       "  </thead>\n",
       "  <tbody>\n",
       "    <tr>\n",
       "      <td>18-24</td>\n",
       "      <td>2.019062e+07</td>\n",
       "      <td>263.436207</td>\n",
       "      <td>213.547701</td>\n",
       "      <td>0.815240</td>\n",
       "      <td>7.978736</td>\n",
       "      <td>0.295402</td>\n",
       "      <td>0.527586</td>\n",
       "      <td>0.014368</td>\n",
       "      <td>0.004023</td>\n",
       "      <td>0.017241</td>\n",
       "    </tr>\n",
       "    <tr>\n",
       "      <td>25-34</td>\n",
       "      <td>2.019062e+07</td>\n",
       "      <td>434.298819</td>\n",
       "      <td>356.000394</td>\n",
       "      <td>0.816392</td>\n",
       "      <td>8.430807</td>\n",
       "      <td>0.278543</td>\n",
       "      <td>0.428839</td>\n",
       "      <td>0.011516</td>\n",
       "      <td>0.009941</td>\n",
       "      <td>0.038091</td>\n",
       "    </tr>\n",
       "    <tr>\n",
       "      <td>35-44</td>\n",
       "      <td>2.019062e+07</td>\n",
       "      <td>408.506672</td>\n",
       "      <td>342.414128</td>\n",
       "      <td>0.840094</td>\n",
       "      <td>8.482158</td>\n",
       "      <td>0.377140</td>\n",
       "      <td>0.287061</td>\n",
       "      <td>0.032057</td>\n",
       "      <td>0.006527</td>\n",
       "      <td>0.028576</td>\n",
       "    </tr>\n",
       "    <tr>\n",
       "      <td>45-54</td>\n",
       "      <td>2.019062e+07</td>\n",
       "      <td>365.689876</td>\n",
       "      <td>304.011268</td>\n",
       "      <td>0.841527</td>\n",
       "      <td>8.463337</td>\n",
       "      <td>0.354356</td>\n",
       "      <td>0.247898</td>\n",
       "      <td>0.038850</td>\n",
       "      <td>0.002523</td>\n",
       "      <td>0.039859</td>\n",
       "    </tr>\n",
       "    <tr>\n",
       "      <td>55-64</td>\n",
       "      <td>2.019062e+07</td>\n",
       "      <td>375.194228</td>\n",
       "      <td>309.094171</td>\n",
       "      <td>0.833824</td>\n",
       "      <td>8.460794</td>\n",
       "      <td>0.279286</td>\n",
       "      <td>0.256313</td>\n",
       "      <td>0.046326</td>\n",
       "      <td>0.001519</td>\n",
       "      <td>0.051263</td>\n",
       "    </tr>\n",
       "    <tr>\n",
       "      <td>65+</td>\n",
       "      <td>2.019062e+07</td>\n",
       "      <td>287.894105</td>\n",
       "      <td>236.146288</td>\n",
       "      <td>0.834864</td>\n",
       "      <td>8.426128</td>\n",
       "      <td>0.242358</td>\n",
       "      <td>0.265284</td>\n",
       "      <td>0.059316</td>\n",
       "      <td>0.000364</td>\n",
       "      <td>0.026565</td>\n",
       "    </tr>\n",
       "  </tbody>\n",
       "</table>\n",
       "</div>"
      ],
      "text/plain": [
       "               Date   Pageviews  Unique Pageviews  unique_percent   page_wc  \\\n",
       "Age                                                                           \n",
       "18-24  2.019062e+07  263.436207        213.547701        0.815240  7.978736   \n",
       "25-34  2.019062e+07  434.298819        356.000394        0.816392  8.430807   \n",
       "35-44  2.019062e+07  408.506672        342.414128        0.840094  8.482158   \n",
       "45-54  2.019062e+07  365.689876        304.011268        0.841527  8.463337   \n",
       "55-64  2.019062e+07  375.194228        309.094171        0.833824  8.460794   \n",
       "65+    2.019062e+07  287.894105        236.146288        0.834864  8.426128   \n",
       "\n",
       "       source_facebook  source_google  source_yahoo  source_instagram  \\\n",
       "Age                                                                     \n",
       "18-24         0.295402       0.527586      0.014368          0.004023   \n",
       "25-34         0.278543       0.428839      0.011516          0.009941   \n",
       "35-44         0.377140       0.287061      0.032057          0.006527   \n",
       "45-54         0.354356       0.247898      0.038850          0.002523   \n",
       "55-64         0.279286       0.256313      0.046326          0.001519   \n",
       "65+           0.242358       0.265284      0.059316          0.000364   \n",
       "\n",
       "       source_pinterest  \n",
       "Age                      \n",
       "18-24          0.017241  \n",
       "25-34          0.038091  \n",
       "35-44          0.028576  \n",
       "45-54          0.039859  \n",
       "55-64          0.051263  \n",
       "65+            0.026565  "
      ]
     },
     "execution_count": 17,
     "metadata": {},
     "output_type": "execute_result"
    }
   ],
   "source": [
    "# www[['Pageviews', 'Unique Pageviews']].describe()\n",
    "www.groupby(['Age']).mean()"
   ]
  },
  {
   "cell_type": "markdown",
   "metadata": {},
   "source": [
    "- The older groups have slightly more average overall unique viewers. \n",
    "- A plurality of referrals come from a google related source among all age groups\n",
    "- Most Likely to be referred from Facebook: Age group 35-44, 45 -54\n",
    "- Most likely to be referred from Google: Age group 18-24, 25-34\n",
    "\n",
    "**Interesting Finds**:\n",
    "- The age group 65+ has more overall and unique page views than the 18-24 age group"
   ]
  },
  {
   "cell_type": "markdown",
   "metadata": {},
   "source": [
    "--------"
   ]
  },
  {
   "cell_type": "markdown",
   "metadata": {},
   "source": [
    "<details>\n",
    "<summary>Overall:</summary>\n",
    "<li> Continue Newsletters via email! This is the mot optimal way to gain page views. Older age groups are slightly more likely to view articles through email newsletters.\n",
    "<li>It may not be best to go for unique overall page view % - For most age groups,, the highest organic PV% had the lowest page views per medium\n",
    "<li>\"DesignTaxi\" and \"instagram-owned\" arre the least strong medium but produce the highest organic PV%\n",
    "</details>\n",
    "\n",
    "<details>\n",
    "<summary> Age 18-24: </summary>\n",
    "<li>Among the highest Average PV, the medium with the highest unique_percent is a \"referral\" source - 365 views, 82% unique.\n",
    "<li>This demographic is least likely to look at the same email twice\n",
    "<li>To target this demographic, affiliate marketing may be best. ??\n",
    "</details>\n",
    "\n",
    "\n",
    "\n",
    "<details>\n",
    "<summary> Age 25-34: </summary>\n",
    "<li>Among the highest Average PV, the medium with the highest unique_percent is a \"paid\" source - 308 views, 96.7% unique.\n",
    "<li>The unique pv % for referall is the same as Age 18-24 with a higher total Average PV - 554 views, 82%\n",
    "</details>\n",
    "\n",
    "<details>\n",
    "<summary> Age 35-44: </summary>\n",
    "<li>Among the highest Average PV, the medium with the highest unique_percent is a \"facebook\" source - 259.67 views, 91.9% unique.\n",
    "<li>To target this demographic, affiliate marketing with other online fashion/beauty magazines. Continue strong SEO. Most overall page views come from organic/referral sites as well as other online beauty magazines.\n",
    "</details>\n",
    "\n",
    "<details>\n",
    "<summary> Age 45-54: </summary>\n",
    "<li>Among the highest Average PV, the medium with the highest unique_percent is a \"facebook\" source - 224.8 views, 90.4% unique.\n",
    "<li>If it's not in their email they probably won't bother to look for an article with WWW\n",
    "</details>\n",
    "\n",
    "<details>\n",
    "<summary> Age 55-65: </summary>\n",
    "<li>Among the highest Average PV, the medium with the highest unique_percent is a \"facebook\" source - 198 views, 86.9% unique.\n",
    "<li>All mediums with a unique_pageview above 90% had an overall average total page view less than 100.\n",
    "</details>\n",
    "\n",
    "<details>\n",
    "<summary> Age 65+: </summary>\n",
    "<li>Among the highest Average PV, the medium with the highest unique_percent is a \"referral\" source - 323 views, 82.8% unique.\n",
    "</details>"
   ]
  },
  {
   "cell_type": "code",
   "execution_count": 20,
   "metadata": {},
   "outputs": [
    {
     "data": {
      "text/html": [
       "<div>\n",
       "<style scoped>\n",
       "    .dataframe tbody tr th:only-of-type {\n",
       "        vertical-align: middle;\n",
       "    }\n",
       "\n",
       "    .dataframe tbody tr th {\n",
       "        vertical-align: top;\n",
       "    }\n",
       "\n",
       "    .dataframe thead th {\n",
       "        text-align: right;\n",
       "    }\n",
       "</style>\n",
       "<table border=\"1\" class=\"dataframe\">\n",
       "  <thead>\n",
       "    <tr style=\"text-align: right;\">\n",
       "      <th></th>\n",
       "      <th>Pageviews</th>\n",
       "      <th>page_wc</th>\n",
       "      <th>unique_percent</th>\n",
       "    </tr>\n",
       "    <tr>\n",
       "      <th>Medium</th>\n",
       "      <th></th>\n",
       "      <th></th>\n",
       "      <th></th>\n",
       "    </tr>\n",
       "  </thead>\n",
       "  <tbody>\n",
       "    <tr>\n",
       "      <td>(none)</td>\n",
       "      <td>207.719849</td>\n",
       "      <td>8.170362</td>\n",
       "      <td>0.794591</td>\n",
       "    </tr>\n",
       "    <tr>\n",
       "      <td>(not set)</td>\n",
       "      <td>24.928571</td>\n",
       "      <td>9.142857</td>\n",
       "      <td>0.900584</td>\n",
       "    </tr>\n",
       "    <tr>\n",
       "      <td>DesignTAXI</td>\n",
       "      <td>118.800000</td>\n",
       "      <td>9.000000</td>\n",
       "      <td>0.777912</td>\n",
       "    </tr>\n",
       "    <tr>\n",
       "      <td>cpc</td>\n",
       "      <td>63.179167</td>\n",
       "      <td>8.262500</td>\n",
       "      <td>0.886133</td>\n",
       "    </tr>\n",
       "    <tr>\n",
       "      <td>display</td>\n",
       "      <td>78.760870</td>\n",
       "      <td>8.043478</td>\n",
       "      <td>0.919899</td>\n",
       "    </tr>\n",
       "    <tr>\n",
       "      <td>earned-share</td>\n",
       "      <td>144.657895</td>\n",
       "      <td>7.956140</td>\n",
       "      <td>0.782967</td>\n",
       "    </tr>\n",
       "    <tr>\n",
       "      <td>email</td>\n",
       "      <td>833.074150</td>\n",
       "      <td>8.784515</td>\n",
       "      <td>0.810472</td>\n",
       "    </tr>\n",
       "    <tr>\n",
       "      <td>facebook</td>\n",
       "      <td>206.448225</td>\n",
       "      <td>7.695266</td>\n",
       "      <td>0.909008</td>\n",
       "    </tr>\n",
       "    <tr>\n",
       "      <td>feed</td>\n",
       "      <td>155.750000</td>\n",
       "      <td>8.125000</td>\n",
       "      <td>0.815041</td>\n",
       "    </tr>\n",
       "    <tr>\n",
       "      <td>ig</td>\n",
       "      <td>224.750000</td>\n",
       "      <td>9.500000</td>\n",
       "      <td>0.867330</td>\n",
       "    </tr>\n",
       "    <tr>\n",
       "      <td>instagram-owned</td>\n",
       "      <td>23.800000</td>\n",
       "      <td>8.000000</td>\n",
       "      <td>0.925968</td>\n",
       "    </tr>\n",
       "    <tr>\n",
       "      <td>organic</td>\n",
       "      <td>252.164787</td>\n",
       "      <td>8.568902</td>\n",
       "      <td>0.800270</td>\n",
       "    </tr>\n",
       "    <tr>\n",
       "      <td>paid</td>\n",
       "      <td>155.586028</td>\n",
       "      <td>6.954722</td>\n",
       "      <td>0.956539</td>\n",
       "    </tr>\n",
       "    <tr>\n",
       "      <td>referral</td>\n",
       "      <td>480.552754</td>\n",
       "      <td>8.412199</td>\n",
       "      <td>0.826435</td>\n",
       "    </tr>\n",
       "    <tr>\n",
       "      <td>social</td>\n",
       "      <td>106.545154</td>\n",
       "      <td>8.611233</td>\n",
       "      <td>0.887837</td>\n",
       "    </tr>\n",
       "  </tbody>\n",
       "</table>\n",
       "</div>"
      ],
      "text/plain": [
       "                   Pageviews   page_wc  unique_percent\n",
       "Medium                                                \n",
       " (none)           207.719849  8.170362        0.794591\n",
       " (not set)         24.928571  9.142857        0.900584\n",
       " DesignTAXI       118.800000  9.000000        0.777912\n",
       " cpc               63.179167  8.262500        0.886133\n",
       " display           78.760870  8.043478        0.919899\n",
       " earned-share     144.657895  7.956140        0.782967\n",
       " email            833.074150  8.784515        0.810472\n",
       " facebook         206.448225  7.695266        0.909008\n",
       " feed             155.750000  8.125000        0.815041\n",
       " ig               224.750000  9.500000        0.867330\n",
       " instagram-owned   23.800000  8.000000        0.925968\n",
       " organic          252.164787  8.568902        0.800270\n",
       " paid             155.586028  6.954722        0.956539\n",
       " referral         480.552754  8.412199        0.826435\n",
       " social           106.545154  8.611233        0.887837"
      ]
     },
     "execution_count": 20,
     "metadata": {},
     "output_type": "execute_result"
    }
   ],
   "source": [
    "#based on the articles displayed at a certain source - focusing on the source medium\n",
    "www[['Pageviews', 'page_wc', 'Age', 'Medium', 'unique_percent']].groupby(['Medium']).mean()"
   ]
  },
  {
   "cell_type": "code",
   "execution_count": null,
   "metadata": {},
   "outputs": [],
   "source": []
  }
 ],
 "metadata": {
  "kernelspec": {
   "display_name": "Python 3",
   "language": "python",
   "name": "python3"
  },
  "language_info": {
   "codemirror_mode": {
    "name": "ipython",
    "version": 3
   },
   "file_extension": ".py",
   "mimetype": "text/x-python",
   "name": "python",
   "nbconvert_exporter": "python",
   "pygments_lexer": "ipython3",
   "version": "3.7.4"
  }
 },
 "nbformat": 4,
 "nbformat_minor": 2
}
