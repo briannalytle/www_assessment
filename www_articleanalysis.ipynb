{
 "cells": [
  {
   "cell_type": "code",
   "execution_count": 69,
   "metadata": {},
   "outputs": [],
   "source": [
    "import pandas as pd\n",
    "import numpy as np\n",
    "import seaborn as sns\n",
    "import matplotlib.pyplot as plt\n",
    "\n",
    "%matplotlib inline\n",
    "\n",
    "#plotly linegraph\n",
    "import plotly.express as px"
   ]
  },
  {
   "cell_type": "code",
   "execution_count": 41,
   "metadata": {},
   "outputs": [],
   "source": [
    "pd.set_option('display.max_rows', 100)"
   ]
  },
  {
   "cell_type": "markdown",
   "metadata": {},
   "source": [
    "# Import Dataframe"
   ]
  },
  {
   "cell_type": "code",
   "execution_count": 50,
   "metadata": {},
   "outputs": [],
   "source": [
    "www= pd.read_csv('www_fe.csv', encoding='latin1')"
   ]
  },
  {
   "cell_type": "code",
   "execution_count": 80,
   "metadata": {},
   "outputs": [
    {
     "data": {
      "text/html": [
       "<div>\n",
       "<style scoped>\n",
       "    .dataframe tbody tr th:only-of-type {\n",
       "        vertical-align: middle;\n",
       "    }\n",
       "\n",
       "    .dataframe tbody tr th {\n",
       "        vertical-align: top;\n",
       "    }\n",
       "\n",
       "    .dataframe thead th {\n",
       "        text-align: right;\n",
       "    }\n",
       "</style>\n",
       "<table border=\"1\" class=\"dataframe\">\n",
       "  <thead>\n",
       "    <tr style=\"text-align: right;\">\n",
       "      <th></th>\n",
       "      <th>Date</th>\n",
       "      <th>Page Title</th>\n",
       "      <th>Age</th>\n",
       "      <th>Gender</th>\n",
       "      <th>Source / Medium</th>\n",
       "      <th>Pageviews</th>\n",
       "      <th>Unique Pageviews</th>\n",
       "      <th>Page</th>\n",
       "      <th>Title</th>\n",
       "      <th>Source</th>\n",
       "      <th>Medium</th>\n",
       "      <th>unique_percent</th>\n",
       "      <th>page_wc</th>\n",
       "      <th>page_number</th>\n",
       "      <th>source_facebook</th>\n",
       "      <th>source_google</th>\n",
       "      <th>source_yahoo</th>\n",
       "      <th>source_instagram</th>\n",
       "      <th>source_pinterest</th>\n",
       "    </tr>\n",
       "  </thead>\n",
       "  <tbody>\n",
       "    <tr>\n",
       "      <td>0</td>\n",
       "      <td>2019-06-06</td>\n",
       "      <td>Chrissy Teigen Wore the Pleated-Jean Trend | W...</td>\n",
       "      <td>35-44</td>\n",
       "      <td>female</td>\n",
       "      <td>m.facebook.com / referral</td>\n",
       "      <td>35541</td>\n",
       "      <td>31670</td>\n",
       "      <td>Chrissy Teigen Wore the Pleated-Jean Trend</td>\n",
       "      <td>Who What Wear</td>\n",
       "      <td>m.facebook.com</td>\n",
       "      <td>referral</td>\n",
       "      <td>0.891084</td>\n",
       "      <td>6</td>\n",
       "      <td>0</td>\n",
       "      <td>1</td>\n",
       "      <td>0</td>\n",
       "      <td>0</td>\n",
       "      <td>0</td>\n",
       "      <td>0</td>\n",
       "    </tr>\n",
       "  </tbody>\n",
       "</table>\n",
       "</div>"
      ],
      "text/plain": [
       "         Date                                         Page Title    Age  \\\n",
       "0  2019-06-06  Chrissy Teigen Wore the Pleated-Jean Trend | W...  35-44   \n",
       "\n",
       "   Gender            Source / Medium  Pageviews  Unique Pageviews  \\\n",
       "0  female  m.facebook.com / referral      35541             31670   \n",
       "\n",
       "                                          Page          Title  \\\n",
       "0  Chrissy Teigen Wore the Pleated-Jean Trend   Who What Wear   \n",
       "\n",
       "            Source     Medium  unique_percent  page_wc  page_number  \\\n",
       "0  m.facebook.com    referral        0.891084        6            0   \n",
       "\n",
       "   source_facebook  source_google  source_yahoo  source_instagram  \\\n",
       "0                1              0             0                 0   \n",
       "\n",
       "   source_pinterest  \n",
       "0                 0  "
      ]
     },
     "execution_count": 80,
     "metadata": {},
     "output_type": "execute_result"
    }
   ],
   "source": [
    "www.head(1)"
   ]
  },
  {
   "cell_type": "code",
   "execution_count": 86,
   "metadata": {},
   "outputs": [
    {
     "data": {
      "application/vnd.plotly.v1+json": {
       "config": {
        "plotlyServerURL": "https://plot.ly"
       },
       "data": [
        {
         "hoverlabel": {
          "namelength": 0
         },
         "hovertemplate": "Date=%{x}<br>Pageviews=%{y}",
         "legendgroup": "",
         "line": {
          "color": "#636efa",
          "dash": "solid"
         },
         "mode": "lines",
         "name": "",
         "showlegend": false,
         "type": "scatter",
         "x": [
          "2019-06-01",
          "2019-06-02",
          "2019-06-03",
          "2019-06-04",
          "2019-06-05",
          "2019-06-06",
          "2019-06-07",
          "2019-06-08",
          "2019-06-09",
          "2019-06-10",
          "2019-06-11",
          "2019-06-12",
          "2019-06-13",
          "2019-06-14",
          "2019-06-15",
          "2019-06-16",
          "2019-06-17",
          "2019-06-18",
          "2019-06-19",
          "2019-06-20",
          "2019-06-21",
          "2019-06-22",
          "2019-06-23",
          "2019-06-24",
          "2019-06-25",
          "2019-06-26",
          "2019-06-27",
          "2019-06-28",
          "2019-06-29",
          "2019-06-30"
         ],
         "xaxis": "x",
         "y": [
          301874,
          516469,
          453413,
          497345,
          518437,
          565622,
          426707,
          455743,
          432472,
          512147,
          420331,
          365421,
          380083,
          273983,
          232442,
          306998,
          415102,
          444074,
          418076,
          397134,
          335194,
          488772,
          398742,
          546740,
          413877,
          428435,
          459514,
          462787,
          353897,
          406942
         ],
         "yaxis": "y"
        }
       ],
       "layout": {
        "legend": {
         "tracegroupgap": 0
        },
        "template": {
         "data": {
          "bar": [
           {
            "error_x": {
             "color": "#2a3f5f"
            },
            "error_y": {
             "color": "#2a3f5f"
            },
            "marker": {
             "line": {
              "color": "#E5ECF6",
              "width": 0.5
             }
            },
            "type": "bar"
           }
          ],
          "barpolar": [
           {
            "marker": {
             "line": {
              "color": "#E5ECF6",
              "width": 0.5
             }
            },
            "type": "barpolar"
           }
          ],
          "carpet": [
           {
            "aaxis": {
             "endlinecolor": "#2a3f5f",
             "gridcolor": "white",
             "linecolor": "white",
             "minorgridcolor": "white",
             "startlinecolor": "#2a3f5f"
            },
            "baxis": {
             "endlinecolor": "#2a3f5f",
             "gridcolor": "white",
             "linecolor": "white",
             "minorgridcolor": "white",
             "startlinecolor": "#2a3f5f"
            },
            "type": "carpet"
           }
          ],
          "choropleth": [
           {
            "colorbar": {
             "outlinewidth": 0,
             "ticks": ""
            },
            "type": "choropleth"
           }
          ],
          "contour": [
           {
            "colorbar": {
             "outlinewidth": 0,
             "ticks": ""
            },
            "colorscale": [
             [
              0,
              "#0d0887"
             ],
             [
              0.1111111111111111,
              "#46039f"
             ],
             [
              0.2222222222222222,
              "#7201a8"
             ],
             [
              0.3333333333333333,
              "#9c179e"
             ],
             [
              0.4444444444444444,
              "#bd3786"
             ],
             [
              0.5555555555555556,
              "#d8576b"
             ],
             [
              0.6666666666666666,
              "#ed7953"
             ],
             [
              0.7777777777777778,
              "#fb9f3a"
             ],
             [
              0.8888888888888888,
              "#fdca26"
             ],
             [
              1,
              "#f0f921"
             ]
            ],
            "type": "contour"
           }
          ],
          "contourcarpet": [
           {
            "colorbar": {
             "outlinewidth": 0,
             "ticks": ""
            },
            "type": "contourcarpet"
           }
          ],
          "heatmap": [
           {
            "colorbar": {
             "outlinewidth": 0,
             "ticks": ""
            },
            "colorscale": [
             [
              0,
              "#0d0887"
             ],
             [
              0.1111111111111111,
              "#46039f"
             ],
             [
              0.2222222222222222,
              "#7201a8"
             ],
             [
              0.3333333333333333,
              "#9c179e"
             ],
             [
              0.4444444444444444,
              "#bd3786"
             ],
             [
              0.5555555555555556,
              "#d8576b"
             ],
             [
              0.6666666666666666,
              "#ed7953"
             ],
             [
              0.7777777777777778,
              "#fb9f3a"
             ],
             [
              0.8888888888888888,
              "#fdca26"
             ],
             [
              1,
              "#f0f921"
             ]
            ],
            "type": "heatmap"
           }
          ],
          "heatmapgl": [
           {
            "colorbar": {
             "outlinewidth": 0,
             "ticks": ""
            },
            "colorscale": [
             [
              0,
              "#0d0887"
             ],
             [
              0.1111111111111111,
              "#46039f"
             ],
             [
              0.2222222222222222,
              "#7201a8"
             ],
             [
              0.3333333333333333,
              "#9c179e"
             ],
             [
              0.4444444444444444,
              "#bd3786"
             ],
             [
              0.5555555555555556,
              "#d8576b"
             ],
             [
              0.6666666666666666,
              "#ed7953"
             ],
             [
              0.7777777777777778,
              "#fb9f3a"
             ],
             [
              0.8888888888888888,
              "#fdca26"
             ],
             [
              1,
              "#f0f921"
             ]
            ],
            "type": "heatmapgl"
           }
          ],
          "histogram": [
           {
            "marker": {
             "colorbar": {
              "outlinewidth": 0,
              "ticks": ""
             }
            },
            "type": "histogram"
           }
          ],
          "histogram2d": [
           {
            "colorbar": {
             "outlinewidth": 0,
             "ticks": ""
            },
            "colorscale": [
             [
              0,
              "#0d0887"
             ],
             [
              0.1111111111111111,
              "#46039f"
             ],
             [
              0.2222222222222222,
              "#7201a8"
             ],
             [
              0.3333333333333333,
              "#9c179e"
             ],
             [
              0.4444444444444444,
              "#bd3786"
             ],
             [
              0.5555555555555556,
              "#d8576b"
             ],
             [
              0.6666666666666666,
              "#ed7953"
             ],
             [
              0.7777777777777778,
              "#fb9f3a"
             ],
             [
              0.8888888888888888,
              "#fdca26"
             ],
             [
              1,
              "#f0f921"
             ]
            ],
            "type": "histogram2d"
           }
          ],
          "histogram2dcontour": [
           {
            "colorbar": {
             "outlinewidth": 0,
             "ticks": ""
            },
            "colorscale": [
             [
              0,
              "#0d0887"
             ],
             [
              0.1111111111111111,
              "#46039f"
             ],
             [
              0.2222222222222222,
              "#7201a8"
             ],
             [
              0.3333333333333333,
              "#9c179e"
             ],
             [
              0.4444444444444444,
              "#bd3786"
             ],
             [
              0.5555555555555556,
              "#d8576b"
             ],
             [
              0.6666666666666666,
              "#ed7953"
             ],
             [
              0.7777777777777778,
              "#fb9f3a"
             ],
             [
              0.8888888888888888,
              "#fdca26"
             ],
             [
              1,
              "#f0f921"
             ]
            ],
            "type": "histogram2dcontour"
           }
          ],
          "mesh3d": [
           {
            "colorbar": {
             "outlinewidth": 0,
             "ticks": ""
            },
            "type": "mesh3d"
           }
          ],
          "parcoords": [
           {
            "line": {
             "colorbar": {
              "outlinewidth": 0,
              "ticks": ""
             }
            },
            "type": "parcoords"
           }
          ],
          "pie": [
           {
            "automargin": true,
            "type": "pie"
           }
          ],
          "scatter": [
           {
            "marker": {
             "colorbar": {
              "outlinewidth": 0,
              "ticks": ""
             }
            },
            "type": "scatter"
           }
          ],
          "scatter3d": [
           {
            "line": {
             "colorbar": {
              "outlinewidth": 0,
              "ticks": ""
             }
            },
            "marker": {
             "colorbar": {
              "outlinewidth": 0,
              "ticks": ""
             }
            },
            "type": "scatter3d"
           }
          ],
          "scattercarpet": [
           {
            "marker": {
             "colorbar": {
              "outlinewidth": 0,
              "ticks": ""
             }
            },
            "type": "scattercarpet"
           }
          ],
          "scattergeo": [
           {
            "marker": {
             "colorbar": {
              "outlinewidth": 0,
              "ticks": ""
             }
            },
            "type": "scattergeo"
           }
          ],
          "scattergl": [
           {
            "marker": {
             "colorbar": {
              "outlinewidth": 0,
              "ticks": ""
             }
            },
            "type": "scattergl"
           }
          ],
          "scattermapbox": [
           {
            "marker": {
             "colorbar": {
              "outlinewidth": 0,
              "ticks": ""
             }
            },
            "type": "scattermapbox"
           }
          ],
          "scatterpolar": [
           {
            "marker": {
             "colorbar": {
              "outlinewidth": 0,
              "ticks": ""
             }
            },
            "type": "scatterpolar"
           }
          ],
          "scatterpolargl": [
           {
            "marker": {
             "colorbar": {
              "outlinewidth": 0,
              "ticks": ""
             }
            },
            "type": "scatterpolargl"
           }
          ],
          "scatterternary": [
           {
            "marker": {
             "colorbar": {
              "outlinewidth": 0,
              "ticks": ""
             }
            },
            "type": "scatterternary"
           }
          ],
          "surface": [
           {
            "colorbar": {
             "outlinewidth": 0,
             "ticks": ""
            },
            "colorscale": [
             [
              0,
              "#0d0887"
             ],
             [
              0.1111111111111111,
              "#46039f"
             ],
             [
              0.2222222222222222,
              "#7201a8"
             ],
             [
              0.3333333333333333,
              "#9c179e"
             ],
             [
              0.4444444444444444,
              "#bd3786"
             ],
             [
              0.5555555555555556,
              "#d8576b"
             ],
             [
              0.6666666666666666,
              "#ed7953"
             ],
             [
              0.7777777777777778,
              "#fb9f3a"
             ],
             [
              0.8888888888888888,
              "#fdca26"
             ],
             [
              1,
              "#f0f921"
             ]
            ],
            "type": "surface"
           }
          ],
          "table": [
           {
            "cells": {
             "fill": {
              "color": "#EBF0F8"
             },
             "line": {
              "color": "white"
             }
            },
            "header": {
             "fill": {
              "color": "#C8D4E3"
             },
             "line": {
              "color": "white"
             }
            },
            "type": "table"
           }
          ]
         },
         "layout": {
          "annotationdefaults": {
           "arrowcolor": "#2a3f5f",
           "arrowhead": 0,
           "arrowwidth": 1
          },
          "coloraxis": {
           "colorbar": {
            "outlinewidth": 0,
            "ticks": ""
           }
          },
          "colorscale": {
           "diverging": [
            [
             0,
             "#8e0152"
            ],
            [
             0.1,
             "#c51b7d"
            ],
            [
             0.2,
             "#de77ae"
            ],
            [
             0.3,
             "#f1b6da"
            ],
            [
             0.4,
             "#fde0ef"
            ],
            [
             0.5,
             "#f7f7f7"
            ],
            [
             0.6,
             "#e6f5d0"
            ],
            [
             0.7,
             "#b8e186"
            ],
            [
             0.8,
             "#7fbc41"
            ],
            [
             0.9,
             "#4d9221"
            ],
            [
             1,
             "#276419"
            ]
           ],
           "sequential": [
            [
             0,
             "#0d0887"
            ],
            [
             0.1111111111111111,
             "#46039f"
            ],
            [
             0.2222222222222222,
             "#7201a8"
            ],
            [
             0.3333333333333333,
             "#9c179e"
            ],
            [
             0.4444444444444444,
             "#bd3786"
            ],
            [
             0.5555555555555556,
             "#d8576b"
            ],
            [
             0.6666666666666666,
             "#ed7953"
            ],
            [
             0.7777777777777778,
             "#fb9f3a"
            ],
            [
             0.8888888888888888,
             "#fdca26"
            ],
            [
             1,
             "#f0f921"
            ]
           ],
           "sequentialminus": [
            [
             0,
             "#0d0887"
            ],
            [
             0.1111111111111111,
             "#46039f"
            ],
            [
             0.2222222222222222,
             "#7201a8"
            ],
            [
             0.3333333333333333,
             "#9c179e"
            ],
            [
             0.4444444444444444,
             "#bd3786"
            ],
            [
             0.5555555555555556,
             "#d8576b"
            ],
            [
             0.6666666666666666,
             "#ed7953"
            ],
            [
             0.7777777777777778,
             "#fb9f3a"
            ],
            [
             0.8888888888888888,
             "#fdca26"
            ],
            [
             1,
             "#f0f921"
            ]
           ]
          },
          "colorway": [
           "#636efa",
           "#EF553B",
           "#00cc96",
           "#ab63fa",
           "#FFA15A",
           "#19d3f3",
           "#FF6692",
           "#B6E880",
           "#FF97FF",
           "#FECB52"
          ],
          "font": {
           "color": "#2a3f5f"
          },
          "geo": {
           "bgcolor": "white",
           "lakecolor": "white",
           "landcolor": "#E5ECF6",
           "showlakes": true,
           "showland": true,
           "subunitcolor": "white"
          },
          "hoverlabel": {
           "align": "left"
          },
          "hovermode": "closest",
          "mapbox": {
           "style": "light"
          },
          "paper_bgcolor": "white",
          "plot_bgcolor": "#E5ECF6",
          "polar": {
           "angularaxis": {
            "gridcolor": "white",
            "linecolor": "white",
            "ticks": ""
           },
           "bgcolor": "#E5ECF6",
           "radialaxis": {
            "gridcolor": "white",
            "linecolor": "white",
            "ticks": ""
           }
          },
          "scene": {
           "xaxis": {
            "backgroundcolor": "#E5ECF6",
            "gridcolor": "white",
            "gridwidth": 2,
            "linecolor": "white",
            "showbackground": true,
            "ticks": "",
            "zerolinecolor": "white"
           },
           "yaxis": {
            "backgroundcolor": "#E5ECF6",
            "gridcolor": "white",
            "gridwidth": 2,
            "linecolor": "white",
            "showbackground": true,
            "ticks": "",
            "zerolinecolor": "white"
           },
           "zaxis": {
            "backgroundcolor": "#E5ECF6",
            "gridcolor": "white",
            "gridwidth": 2,
            "linecolor": "white",
            "showbackground": true,
            "ticks": "",
            "zerolinecolor": "white"
           }
          },
          "shapedefaults": {
           "line": {
            "color": "#2a3f5f"
           }
          },
          "ternary": {
           "aaxis": {
            "gridcolor": "white",
            "linecolor": "white",
            "ticks": ""
           },
           "baxis": {
            "gridcolor": "white",
            "linecolor": "white",
            "ticks": ""
           },
           "bgcolor": "#E5ECF6",
           "caxis": {
            "gridcolor": "white",
            "linecolor": "white",
            "ticks": ""
           }
          },
          "title": {
           "x": 0.05
          },
          "xaxis": {
           "automargin": true,
           "gridcolor": "white",
           "linecolor": "white",
           "ticks": "",
           "title": {
            "standoff": 15
           },
           "zerolinecolor": "white",
           "zerolinewidth": 2
          },
          "yaxis": {
           "automargin": true,
           "gridcolor": "white",
           "linecolor": "white",
           "ticks": "",
           "title": {
            "standoff": 15
           },
           "zerolinecolor": "white",
           "zerolinewidth": 2
          }
         }
        },
        "title": {
         "text": "Total Page Views per Date"
        },
        "xaxis": {
         "anchor": "y",
         "domain": [
          0,
          1
         ],
         "title": {
          "text": "Date"
         }
        },
        "yaxis": {
         "anchor": "x",
         "domain": [
          0,
          1
         ],
         "title": {
          "text": "Pageviews"
         }
        }
       }
      },
      "text/html": [
       "<div>\n",
       "        \n",
       "        \n",
       "            <div id=\"f0a3e56d-ef05-4acc-b962-a1ab6370db22\" class=\"plotly-graph-div\" style=\"height:525px; width:100%;\"></div>\n",
       "            <script type=\"text/javascript\">\n",
       "                require([\"plotly\"], function(Plotly) {\n",
       "                    window.PLOTLYENV=window.PLOTLYENV || {};\n",
       "                    \n",
       "                if (document.getElementById(\"f0a3e56d-ef05-4acc-b962-a1ab6370db22\")) {\n",
       "                    Plotly.newPlot(\n",
       "                        'f0a3e56d-ef05-4acc-b962-a1ab6370db22',\n",
       "                        [{\"hoverlabel\": {\"namelength\": 0}, \"hovertemplate\": \"Date=%{x}<br>Pageviews=%{y}\", \"legendgroup\": \"\", \"line\": {\"color\": \"#636efa\", \"dash\": \"solid\"}, \"mode\": \"lines\", \"name\": \"\", \"showlegend\": false, \"type\": \"scatter\", \"x\": [\"2019-06-01\", \"2019-06-02\", \"2019-06-03\", \"2019-06-04\", \"2019-06-05\", \"2019-06-06\", \"2019-06-07\", \"2019-06-08\", \"2019-06-09\", \"2019-06-10\", \"2019-06-11\", \"2019-06-12\", \"2019-06-13\", \"2019-06-14\", \"2019-06-15\", \"2019-06-16\", \"2019-06-17\", \"2019-06-18\", \"2019-06-19\", \"2019-06-20\", \"2019-06-21\", \"2019-06-22\", \"2019-06-23\", \"2019-06-24\", \"2019-06-25\", \"2019-06-26\", \"2019-06-27\", \"2019-06-28\", \"2019-06-29\", \"2019-06-30\"], \"xaxis\": \"x\", \"y\": [301874, 516469, 453413, 497345, 518437, 565622, 426707, 455743, 432472, 512147, 420331, 365421, 380083, 273983, 232442, 306998, 415102, 444074, 418076, 397134, 335194, 488772, 398742, 546740, 413877, 428435, 459514, 462787, 353897, 406942], \"yaxis\": \"y\"}],\n",
       "                        {\"legend\": {\"tracegroupgap\": 0}, \"template\": {\"data\": {\"bar\": [{\"error_x\": {\"color\": \"#2a3f5f\"}, \"error_y\": {\"color\": \"#2a3f5f\"}, \"marker\": {\"line\": {\"color\": \"#E5ECF6\", \"width\": 0.5}}, \"type\": \"bar\"}], \"barpolar\": [{\"marker\": {\"line\": {\"color\": \"#E5ECF6\", \"width\": 0.5}}, \"type\": \"barpolar\"}], \"carpet\": [{\"aaxis\": {\"endlinecolor\": \"#2a3f5f\", \"gridcolor\": \"white\", \"linecolor\": \"white\", \"minorgridcolor\": \"white\", \"startlinecolor\": \"#2a3f5f\"}, \"baxis\": {\"endlinecolor\": \"#2a3f5f\", \"gridcolor\": \"white\", \"linecolor\": \"white\", \"minorgridcolor\": \"white\", \"startlinecolor\": \"#2a3f5f\"}, \"type\": \"carpet\"}], \"choropleth\": [{\"colorbar\": {\"outlinewidth\": 0, \"ticks\": \"\"}, \"type\": \"choropleth\"}], \"contour\": [{\"colorbar\": {\"outlinewidth\": 0, \"ticks\": \"\"}, \"colorscale\": [[0.0, \"#0d0887\"], [0.1111111111111111, \"#46039f\"], [0.2222222222222222, \"#7201a8\"], [0.3333333333333333, \"#9c179e\"], [0.4444444444444444, \"#bd3786\"], [0.5555555555555556, \"#d8576b\"], [0.6666666666666666, \"#ed7953\"], [0.7777777777777778, \"#fb9f3a\"], [0.8888888888888888, \"#fdca26\"], [1.0, \"#f0f921\"]], \"type\": \"contour\"}], \"contourcarpet\": [{\"colorbar\": {\"outlinewidth\": 0, \"ticks\": \"\"}, \"type\": \"contourcarpet\"}], \"heatmap\": [{\"colorbar\": {\"outlinewidth\": 0, \"ticks\": \"\"}, \"colorscale\": [[0.0, \"#0d0887\"], [0.1111111111111111, \"#46039f\"], [0.2222222222222222, \"#7201a8\"], [0.3333333333333333, \"#9c179e\"], [0.4444444444444444, \"#bd3786\"], [0.5555555555555556, \"#d8576b\"], [0.6666666666666666, \"#ed7953\"], [0.7777777777777778, \"#fb9f3a\"], [0.8888888888888888, \"#fdca26\"], [1.0, \"#f0f921\"]], \"type\": \"heatmap\"}], \"heatmapgl\": [{\"colorbar\": {\"outlinewidth\": 0, \"ticks\": \"\"}, \"colorscale\": [[0.0, \"#0d0887\"], [0.1111111111111111, \"#46039f\"], [0.2222222222222222, \"#7201a8\"], [0.3333333333333333, \"#9c179e\"], [0.4444444444444444, \"#bd3786\"], [0.5555555555555556, \"#d8576b\"], [0.6666666666666666, \"#ed7953\"], [0.7777777777777778, \"#fb9f3a\"], [0.8888888888888888, \"#fdca26\"], [1.0, \"#f0f921\"]], \"type\": \"heatmapgl\"}], \"histogram\": [{\"marker\": {\"colorbar\": {\"outlinewidth\": 0, \"ticks\": \"\"}}, \"type\": \"histogram\"}], \"histogram2d\": [{\"colorbar\": {\"outlinewidth\": 0, \"ticks\": \"\"}, \"colorscale\": [[0.0, \"#0d0887\"], [0.1111111111111111, \"#46039f\"], [0.2222222222222222, \"#7201a8\"], [0.3333333333333333, \"#9c179e\"], [0.4444444444444444, \"#bd3786\"], [0.5555555555555556, \"#d8576b\"], [0.6666666666666666, \"#ed7953\"], [0.7777777777777778, \"#fb9f3a\"], [0.8888888888888888, \"#fdca26\"], [1.0, \"#f0f921\"]], \"type\": \"histogram2d\"}], \"histogram2dcontour\": [{\"colorbar\": {\"outlinewidth\": 0, \"ticks\": \"\"}, \"colorscale\": [[0.0, \"#0d0887\"], [0.1111111111111111, \"#46039f\"], [0.2222222222222222, \"#7201a8\"], [0.3333333333333333, \"#9c179e\"], [0.4444444444444444, \"#bd3786\"], [0.5555555555555556, \"#d8576b\"], [0.6666666666666666, \"#ed7953\"], [0.7777777777777778, \"#fb9f3a\"], [0.8888888888888888, \"#fdca26\"], [1.0, \"#f0f921\"]], \"type\": \"histogram2dcontour\"}], \"mesh3d\": [{\"colorbar\": {\"outlinewidth\": 0, \"ticks\": \"\"}, \"type\": \"mesh3d\"}], \"parcoords\": [{\"line\": {\"colorbar\": {\"outlinewidth\": 0, \"ticks\": \"\"}}, \"type\": \"parcoords\"}], \"pie\": [{\"automargin\": true, \"type\": \"pie\"}], \"scatter\": [{\"marker\": {\"colorbar\": {\"outlinewidth\": 0, \"ticks\": \"\"}}, \"type\": \"scatter\"}], \"scatter3d\": [{\"line\": {\"colorbar\": {\"outlinewidth\": 0, \"ticks\": \"\"}}, \"marker\": {\"colorbar\": {\"outlinewidth\": 0, \"ticks\": \"\"}}, \"type\": \"scatter3d\"}], \"scattercarpet\": [{\"marker\": {\"colorbar\": {\"outlinewidth\": 0, \"ticks\": \"\"}}, \"type\": \"scattercarpet\"}], \"scattergeo\": [{\"marker\": {\"colorbar\": {\"outlinewidth\": 0, \"ticks\": \"\"}}, \"type\": \"scattergeo\"}], \"scattergl\": [{\"marker\": {\"colorbar\": {\"outlinewidth\": 0, \"ticks\": \"\"}}, \"type\": \"scattergl\"}], \"scattermapbox\": [{\"marker\": {\"colorbar\": {\"outlinewidth\": 0, \"ticks\": \"\"}}, \"type\": \"scattermapbox\"}], \"scatterpolar\": [{\"marker\": {\"colorbar\": {\"outlinewidth\": 0, \"ticks\": \"\"}}, \"type\": \"scatterpolar\"}], \"scatterpolargl\": [{\"marker\": {\"colorbar\": {\"outlinewidth\": 0, \"ticks\": \"\"}}, \"type\": \"scatterpolargl\"}], \"scatterternary\": [{\"marker\": {\"colorbar\": {\"outlinewidth\": 0, \"ticks\": \"\"}}, \"type\": \"scatterternary\"}], \"surface\": [{\"colorbar\": {\"outlinewidth\": 0, \"ticks\": \"\"}, \"colorscale\": [[0.0, \"#0d0887\"], [0.1111111111111111, \"#46039f\"], [0.2222222222222222, \"#7201a8\"], [0.3333333333333333, \"#9c179e\"], [0.4444444444444444, \"#bd3786\"], [0.5555555555555556, \"#d8576b\"], [0.6666666666666666, \"#ed7953\"], [0.7777777777777778, \"#fb9f3a\"], [0.8888888888888888, \"#fdca26\"], [1.0, \"#f0f921\"]], \"type\": \"surface\"}], \"table\": [{\"cells\": {\"fill\": {\"color\": \"#EBF0F8\"}, \"line\": {\"color\": \"white\"}}, \"header\": {\"fill\": {\"color\": \"#C8D4E3\"}, \"line\": {\"color\": \"white\"}}, \"type\": \"table\"}]}, \"layout\": {\"annotationdefaults\": {\"arrowcolor\": \"#2a3f5f\", \"arrowhead\": 0, \"arrowwidth\": 1}, \"coloraxis\": {\"colorbar\": {\"outlinewidth\": 0, \"ticks\": \"\"}}, \"colorscale\": {\"diverging\": [[0, \"#8e0152\"], [0.1, \"#c51b7d\"], [0.2, \"#de77ae\"], [0.3, \"#f1b6da\"], [0.4, \"#fde0ef\"], [0.5, \"#f7f7f7\"], [0.6, \"#e6f5d0\"], [0.7, \"#b8e186\"], [0.8, \"#7fbc41\"], [0.9, \"#4d9221\"], [1, \"#276419\"]], \"sequential\": [[0.0, \"#0d0887\"], [0.1111111111111111, \"#46039f\"], [0.2222222222222222, \"#7201a8\"], [0.3333333333333333, \"#9c179e\"], [0.4444444444444444, \"#bd3786\"], [0.5555555555555556, \"#d8576b\"], [0.6666666666666666, \"#ed7953\"], [0.7777777777777778, \"#fb9f3a\"], [0.8888888888888888, \"#fdca26\"], [1.0, \"#f0f921\"]], \"sequentialminus\": [[0.0, \"#0d0887\"], [0.1111111111111111, \"#46039f\"], [0.2222222222222222, \"#7201a8\"], [0.3333333333333333, \"#9c179e\"], [0.4444444444444444, \"#bd3786\"], [0.5555555555555556, \"#d8576b\"], [0.6666666666666666, \"#ed7953\"], [0.7777777777777778, \"#fb9f3a\"], [0.8888888888888888, \"#fdca26\"], [1.0, \"#f0f921\"]]}, \"colorway\": [\"#636efa\", \"#EF553B\", \"#00cc96\", \"#ab63fa\", \"#FFA15A\", \"#19d3f3\", \"#FF6692\", \"#B6E880\", \"#FF97FF\", \"#FECB52\"], \"font\": {\"color\": \"#2a3f5f\"}, \"geo\": {\"bgcolor\": \"white\", \"lakecolor\": \"white\", \"landcolor\": \"#E5ECF6\", \"showlakes\": true, \"showland\": true, \"subunitcolor\": \"white\"}, \"hoverlabel\": {\"align\": \"left\"}, \"hovermode\": \"closest\", \"mapbox\": {\"style\": \"light\"}, \"paper_bgcolor\": \"white\", \"plot_bgcolor\": \"#E5ECF6\", \"polar\": {\"angularaxis\": {\"gridcolor\": \"white\", \"linecolor\": \"white\", \"ticks\": \"\"}, \"bgcolor\": \"#E5ECF6\", \"radialaxis\": {\"gridcolor\": \"white\", \"linecolor\": \"white\", \"ticks\": \"\"}}, \"scene\": {\"xaxis\": {\"backgroundcolor\": \"#E5ECF6\", \"gridcolor\": \"white\", \"gridwidth\": 2, \"linecolor\": \"white\", \"showbackground\": true, \"ticks\": \"\", \"zerolinecolor\": \"white\"}, \"yaxis\": {\"backgroundcolor\": \"#E5ECF6\", \"gridcolor\": \"white\", \"gridwidth\": 2, \"linecolor\": \"white\", \"showbackground\": true, \"ticks\": \"\", \"zerolinecolor\": \"white\"}, \"zaxis\": {\"backgroundcolor\": \"#E5ECF6\", \"gridcolor\": \"white\", \"gridwidth\": 2, \"linecolor\": \"white\", \"showbackground\": true, \"ticks\": \"\", \"zerolinecolor\": \"white\"}}, \"shapedefaults\": {\"line\": {\"color\": \"#2a3f5f\"}}, \"ternary\": {\"aaxis\": {\"gridcolor\": \"white\", \"linecolor\": \"white\", \"ticks\": \"\"}, \"baxis\": {\"gridcolor\": \"white\", \"linecolor\": \"white\", \"ticks\": \"\"}, \"bgcolor\": \"#E5ECF6\", \"caxis\": {\"gridcolor\": \"white\", \"linecolor\": \"white\", \"ticks\": \"\"}}, \"title\": {\"x\": 0.05}, \"xaxis\": {\"automargin\": true, \"gridcolor\": \"white\", \"linecolor\": \"white\", \"ticks\": \"\", \"title\": {\"standoff\": 15}, \"zerolinecolor\": \"white\", \"zerolinewidth\": 2}, \"yaxis\": {\"automargin\": true, \"gridcolor\": \"white\", \"linecolor\": \"white\", \"ticks\": \"\", \"title\": {\"standoff\": 15}, \"zerolinecolor\": \"white\", \"zerolinewidth\": 2}}}, \"title\": {\"text\": \"Total Page Views per Date\"}, \"xaxis\": {\"anchor\": \"y\", \"domain\": [0.0, 1.0], \"title\": {\"text\": \"Date\"}}, \"yaxis\": {\"anchor\": \"x\", \"domain\": [0.0, 1.0], \"title\": {\"text\": \"Pageviews\"}}},\n",
       "                        {\"responsive\": true}\n",
       "                    ).then(function(){\n",
       "                            \n",
       "var gd = document.getElementById('f0a3e56d-ef05-4acc-b962-a1ab6370db22');\n",
       "var x = new MutationObserver(function (mutations, observer) {{\n",
       "        var display = window.getComputedStyle(gd).display;\n",
       "        if (!display || display === 'none') {{\n",
       "            console.log([gd, 'removed!']);\n",
       "            Plotly.purge(gd);\n",
       "            observer.disconnect();\n",
       "        }}\n",
       "}});\n",
       "\n",
       "// Listen for the removal of the full notebook cells\n",
       "var notebookContainer = gd.closest('#notebook-container');\n",
       "if (notebookContainer) {{\n",
       "    x.observe(notebookContainer, {childList: true});\n",
       "}}\n",
       "\n",
       "// Listen for the clearing of the current output cell\n",
       "var outputEl = gd.closest('.output');\n",
       "if (outputEl) {{\n",
       "    x.observe(outputEl, {childList: true});\n",
       "}}\n",
       "\n",
       "                        })\n",
       "                };\n",
       "                });\n",
       "            </script>\n",
       "        </div>"
      ]
     },
     "metadata": {},
     "output_type": "display_data"
    },
    {
     "data": {
      "application/vnd.plotly.v1+json": {
       "config": {
        "plotlyServerURL": "https://plot.ly"
       },
       "data": [
        {
         "hoverlabel": {
          "namelength": 0
         },
         "hovertemplate": "Age=18-24<br>Date=%{x}<br>Pageviews=%{y}",
         "legendgroup": "18-24",
         "line": {
          "color": "#636efa",
          "dash": "solid"
         },
         "mode": "lines",
         "name": "18-24",
         "showlegend": true,
         "type": "scatter",
         "x": [
          "2019-06-01",
          "2019-06-02",
          "2019-06-03",
          "2019-06-04",
          "2019-06-05",
          "2019-06-06",
          "2019-06-07",
          "2019-06-08",
          "2019-06-09",
          "2019-06-10",
          "2019-06-11",
          "2019-06-12",
          "2019-06-13",
          "2019-06-14",
          "2019-06-15",
          "2019-06-16",
          "2019-06-17",
          "2019-06-18",
          "2019-06-19",
          "2019-06-20",
          "2019-06-21",
          "2019-06-22",
          "2019-06-23",
          "2019-06-24",
          "2019-06-25",
          "2019-06-26",
          "2019-06-27",
          "2019-06-28",
          "2019-06-29",
          "2019-06-30"
         ],
         "xaxis": "x",
         "y": [
          11787,
          20660,
          21355,
          24803,
          22622,
          22696,
          13347,
          13580,
          12293,
          15984,
          15874,
          12329,
          10430,
          7790,
          6418,
          7563,
          14233,
          18850,
          14493,
          16954,
          16007,
          16431,
          16718,
          19254,
          15136,
          15025,
          17681,
          18001,
          11415,
          8650
         ],
         "yaxis": "y"
        },
        {
         "hoverlabel": {
          "namelength": 0
         },
         "hovertemplate": "Age=25-34<br>Date=%{x}<br>Pageviews=%{y}",
         "legendgroup": "25-34",
         "line": {
          "color": "#EF553B",
          "dash": "solid"
         },
         "mode": "lines",
         "name": "25-34",
         "showlegend": true,
         "type": "scatter",
         "x": [
          "2019-06-01",
          "2019-06-02",
          "2019-06-03",
          "2019-06-04",
          "2019-06-05",
          "2019-06-06",
          "2019-06-07",
          "2019-06-08",
          "2019-06-09",
          "2019-06-10",
          "2019-06-11",
          "2019-06-12",
          "2019-06-13",
          "2019-06-14",
          "2019-06-15",
          "2019-06-16",
          "2019-06-17",
          "2019-06-18",
          "2019-06-19",
          "2019-06-20",
          "2019-06-21",
          "2019-06-22",
          "2019-06-23",
          "2019-06-24",
          "2019-06-25",
          "2019-06-26",
          "2019-06-27",
          "2019-06-28",
          "2019-06-29",
          "2019-06-30"
         ],
         "xaxis": "x",
         "y": [
          96620,
          151279,
          178069,
          181623,
          172200,
          200332,
          146674,
          127244,
          128730,
          182343,
          145875,
          143381,
          137004,
          106299,
          64913,
          85956,
          162328,
          161884,
          161026,
          168392,
          139919,
          140036,
          121205,
          198639,
          168316,
          172407,
          174125,
          175255,
          108082,
          112320
         ],
         "yaxis": "y"
        },
        {
         "hoverlabel": {
          "namelength": 0
         },
         "hovertemplate": "Age=35-44<br>Date=%{x}<br>Pageviews=%{y}",
         "legendgroup": "35-44",
         "line": {
          "color": "#00cc96",
          "dash": "solid"
         },
         "mode": "lines",
         "name": "35-44",
         "showlegend": true,
         "type": "scatter",
         "x": [
          "2019-06-01",
          "2019-06-02",
          "2019-06-03",
          "2019-06-04",
          "2019-06-05",
          "2019-06-06",
          "2019-06-07",
          "2019-06-08",
          "2019-06-09",
          "2019-06-10",
          "2019-06-11",
          "2019-06-12",
          "2019-06-13",
          "2019-06-14",
          "2019-06-15",
          "2019-06-16",
          "2019-06-17",
          "2019-06-18",
          "2019-06-19",
          "2019-06-20",
          "2019-06-21",
          "2019-06-22",
          "2019-06-23",
          "2019-06-24",
          "2019-06-25",
          "2019-06-26",
          "2019-06-27",
          "2019-06-28",
          "2019-06-29",
          "2019-06-30"
         ],
         "xaxis": "x",
         "y": [
          67769,
          119050,
          94277,
          104686,
          116500,
          145667,
          103207,
          123933,
          109699,
          113982,
          90610,
          80586,
          85212,
          56959,
          52429,
          72621,
          87826,
          97983,
          89021,
          88514,
          73603,
          115780,
          96016,
          107595,
          85887,
          81890,
          92497,
          99041,
          80290,
          83115
         ],
         "yaxis": "y"
        },
        {
         "hoverlabel": {
          "namelength": 0
         },
         "hovertemplate": "Age=45-54<br>Date=%{x}<br>Pageviews=%{y}",
         "legendgroup": "45-54",
         "line": {
          "color": "#ab63fa",
          "dash": "solid"
         },
         "mode": "lines",
         "name": "45-54",
         "showlegend": true,
         "type": "scatter",
         "x": [
          "2019-06-01",
          "2019-06-02",
          "2019-06-03",
          "2019-06-04",
          "2019-06-05",
          "2019-06-06",
          "2019-06-07",
          "2019-06-08",
          "2019-06-09",
          "2019-06-10",
          "2019-06-11",
          "2019-06-12",
          "2019-06-13",
          "2019-06-14",
          "2019-06-15",
          "2019-06-16",
          "2019-06-17",
          "2019-06-18",
          "2019-06-19",
          "2019-06-20",
          "2019-06-21",
          "2019-06-22",
          "2019-06-23",
          "2019-06-24",
          "2019-06-25",
          "2019-06-26",
          "2019-06-27",
          "2019-06-28",
          "2019-06-29",
          "2019-06-30"
         ],
         "xaxis": "x",
         "y": [
          58182,
          96961,
          71004,
          83012,
          93723,
          95859,
          72460,
          91008,
          78836,
          86405,
          73119,
          57060,
          66800,
          47907,
          47580,
          65487,
          65792,
          75418,
          69086,
          56045,
          48461,
          88959,
          67476,
          85499,
          61875,
          67434,
          74195,
          75869,
          69618,
          83262
         ],
         "yaxis": "y"
        },
        {
         "hoverlabel": {
          "namelength": 0
         },
         "hovertemplate": "Age=55-64<br>Date=%{x}<br>Pageviews=%{y}",
         "legendgroup": "55-64",
         "line": {
          "color": "#FFA15A",
          "dash": "solid"
         },
         "mode": "lines",
         "name": "55-64",
         "showlegend": true,
         "type": "scatter",
         "x": [
          "2019-06-01",
          "2019-06-02",
          "2019-06-03",
          "2019-06-04",
          "2019-06-05",
          "2019-06-06",
          "2019-06-07",
          "2019-06-08",
          "2019-06-09",
          "2019-06-10",
          "2019-06-11",
          "2019-06-12",
          "2019-06-13",
          "2019-06-14",
          "2019-06-15",
          "2019-06-16",
          "2019-06-17",
          "2019-06-18",
          "2019-06-19",
          "2019-06-20",
          "2019-06-21",
          "2019-06-22",
          "2019-06-23",
          "2019-06-24",
          "2019-06-25",
          "2019-06-26",
          "2019-06-27",
          "2019-06-28",
          "2019-06-29",
          "2019-06-30"
         ],
         "xaxis": "x",
         "y": [
          49724,
          91661,
          62888,
          75201,
          81238,
          71838,
          66631,
          72766,
          76157,
          82074,
          68140,
          52827,
          60937,
          40481,
          45194,
          56574,
          60313,
          63735,
          62297,
          49751,
          41530,
          82468,
          62558,
          93947,
          57047,
          63615,
          71161,
          68255,
          59770,
          85370
         ],
         "yaxis": "y"
        },
        {
         "hoverlabel": {
          "namelength": 0
         },
         "hovertemplate": "Age=65+<br>Date=%{x}<br>Pageviews=%{y}",
         "legendgroup": "65+",
         "line": {
          "color": "#19d3f3",
          "dash": "solid"
         },
         "mode": "lines",
         "name": "65+",
         "showlegend": true,
         "type": "scatter",
         "x": [
          "2019-06-01",
          "2019-06-02",
          "2019-06-03",
          "2019-06-04",
          "2019-06-05",
          "2019-06-06",
          "2019-06-07",
          "2019-06-08",
          "2019-06-09",
          "2019-06-10",
          "2019-06-11",
          "2019-06-12",
          "2019-06-13",
          "2019-06-14",
          "2019-06-15",
          "2019-06-16",
          "2019-06-17",
          "2019-06-18",
          "2019-06-19",
          "2019-06-20",
          "2019-06-21",
          "2019-06-22",
          "2019-06-23",
          "2019-06-24",
          "2019-06-25",
          "2019-06-26",
          "2019-06-27",
          "2019-06-28",
          "2019-06-29",
          "2019-06-30"
         ],
         "xaxis": "x",
         "y": [
          17792,
          36858,
          25820,
          28020,
          32154,
          29230,
          24388,
          27212,
          26757,
          31359,
          26713,
          19238,
          19700,
          14547,
          15908,
          18797,
          24610,
          26204,
          22153,
          17478,
          15674,
          45098,
          34769,
          41806,
          25616,
          28064,
          29855,
          26366,
          24722,
          34225
         ],
         "yaxis": "y"
        }
       ],
       "layout": {
        "legend": {
         "title": {
          "text": "Age"
         },
         "tracegroupgap": 0
        },
        "template": {
         "data": {
          "bar": [
           {
            "error_x": {
             "color": "#2a3f5f"
            },
            "error_y": {
             "color": "#2a3f5f"
            },
            "marker": {
             "line": {
              "color": "#E5ECF6",
              "width": 0.5
             }
            },
            "type": "bar"
           }
          ],
          "barpolar": [
           {
            "marker": {
             "line": {
              "color": "#E5ECF6",
              "width": 0.5
             }
            },
            "type": "barpolar"
           }
          ],
          "carpet": [
           {
            "aaxis": {
             "endlinecolor": "#2a3f5f",
             "gridcolor": "white",
             "linecolor": "white",
             "minorgridcolor": "white",
             "startlinecolor": "#2a3f5f"
            },
            "baxis": {
             "endlinecolor": "#2a3f5f",
             "gridcolor": "white",
             "linecolor": "white",
             "minorgridcolor": "white",
             "startlinecolor": "#2a3f5f"
            },
            "type": "carpet"
           }
          ],
          "choropleth": [
           {
            "colorbar": {
             "outlinewidth": 0,
             "ticks": ""
            },
            "type": "choropleth"
           }
          ],
          "contour": [
           {
            "colorbar": {
             "outlinewidth": 0,
             "ticks": ""
            },
            "colorscale": [
             [
              0,
              "#0d0887"
             ],
             [
              0.1111111111111111,
              "#46039f"
             ],
             [
              0.2222222222222222,
              "#7201a8"
             ],
             [
              0.3333333333333333,
              "#9c179e"
             ],
             [
              0.4444444444444444,
              "#bd3786"
             ],
             [
              0.5555555555555556,
              "#d8576b"
             ],
             [
              0.6666666666666666,
              "#ed7953"
             ],
             [
              0.7777777777777778,
              "#fb9f3a"
             ],
             [
              0.8888888888888888,
              "#fdca26"
             ],
             [
              1,
              "#f0f921"
             ]
            ],
            "type": "contour"
           }
          ],
          "contourcarpet": [
           {
            "colorbar": {
             "outlinewidth": 0,
             "ticks": ""
            },
            "type": "contourcarpet"
           }
          ],
          "heatmap": [
           {
            "colorbar": {
             "outlinewidth": 0,
             "ticks": ""
            },
            "colorscale": [
             [
              0,
              "#0d0887"
             ],
             [
              0.1111111111111111,
              "#46039f"
             ],
             [
              0.2222222222222222,
              "#7201a8"
             ],
             [
              0.3333333333333333,
              "#9c179e"
             ],
             [
              0.4444444444444444,
              "#bd3786"
             ],
             [
              0.5555555555555556,
              "#d8576b"
             ],
             [
              0.6666666666666666,
              "#ed7953"
             ],
             [
              0.7777777777777778,
              "#fb9f3a"
             ],
             [
              0.8888888888888888,
              "#fdca26"
             ],
             [
              1,
              "#f0f921"
             ]
            ],
            "type": "heatmap"
           }
          ],
          "heatmapgl": [
           {
            "colorbar": {
             "outlinewidth": 0,
             "ticks": ""
            },
            "colorscale": [
             [
              0,
              "#0d0887"
             ],
             [
              0.1111111111111111,
              "#46039f"
             ],
             [
              0.2222222222222222,
              "#7201a8"
             ],
             [
              0.3333333333333333,
              "#9c179e"
             ],
             [
              0.4444444444444444,
              "#bd3786"
             ],
             [
              0.5555555555555556,
              "#d8576b"
             ],
             [
              0.6666666666666666,
              "#ed7953"
             ],
             [
              0.7777777777777778,
              "#fb9f3a"
             ],
             [
              0.8888888888888888,
              "#fdca26"
             ],
             [
              1,
              "#f0f921"
             ]
            ],
            "type": "heatmapgl"
           }
          ],
          "histogram": [
           {
            "marker": {
             "colorbar": {
              "outlinewidth": 0,
              "ticks": ""
             }
            },
            "type": "histogram"
           }
          ],
          "histogram2d": [
           {
            "colorbar": {
             "outlinewidth": 0,
             "ticks": ""
            },
            "colorscale": [
             [
              0,
              "#0d0887"
             ],
             [
              0.1111111111111111,
              "#46039f"
             ],
             [
              0.2222222222222222,
              "#7201a8"
             ],
             [
              0.3333333333333333,
              "#9c179e"
             ],
             [
              0.4444444444444444,
              "#bd3786"
             ],
             [
              0.5555555555555556,
              "#d8576b"
             ],
             [
              0.6666666666666666,
              "#ed7953"
             ],
             [
              0.7777777777777778,
              "#fb9f3a"
             ],
             [
              0.8888888888888888,
              "#fdca26"
             ],
             [
              1,
              "#f0f921"
             ]
            ],
            "type": "histogram2d"
           }
          ],
          "histogram2dcontour": [
           {
            "colorbar": {
             "outlinewidth": 0,
             "ticks": ""
            },
            "colorscale": [
             [
              0,
              "#0d0887"
             ],
             [
              0.1111111111111111,
              "#46039f"
             ],
             [
              0.2222222222222222,
              "#7201a8"
             ],
             [
              0.3333333333333333,
              "#9c179e"
             ],
             [
              0.4444444444444444,
              "#bd3786"
             ],
             [
              0.5555555555555556,
              "#d8576b"
             ],
             [
              0.6666666666666666,
              "#ed7953"
             ],
             [
              0.7777777777777778,
              "#fb9f3a"
             ],
             [
              0.8888888888888888,
              "#fdca26"
             ],
             [
              1,
              "#f0f921"
             ]
            ],
            "type": "histogram2dcontour"
           }
          ],
          "mesh3d": [
           {
            "colorbar": {
             "outlinewidth": 0,
             "ticks": ""
            },
            "type": "mesh3d"
           }
          ],
          "parcoords": [
           {
            "line": {
             "colorbar": {
              "outlinewidth": 0,
              "ticks": ""
             }
            },
            "type": "parcoords"
           }
          ],
          "pie": [
           {
            "automargin": true,
            "type": "pie"
           }
          ],
          "scatter": [
           {
            "marker": {
             "colorbar": {
              "outlinewidth": 0,
              "ticks": ""
             }
            },
            "type": "scatter"
           }
          ],
          "scatter3d": [
           {
            "line": {
             "colorbar": {
              "outlinewidth": 0,
              "ticks": ""
             }
            },
            "marker": {
             "colorbar": {
              "outlinewidth": 0,
              "ticks": ""
             }
            },
            "type": "scatter3d"
           }
          ],
          "scattercarpet": [
           {
            "marker": {
             "colorbar": {
              "outlinewidth": 0,
              "ticks": ""
             }
            },
            "type": "scattercarpet"
           }
          ],
          "scattergeo": [
           {
            "marker": {
             "colorbar": {
              "outlinewidth": 0,
              "ticks": ""
             }
            },
            "type": "scattergeo"
           }
          ],
          "scattergl": [
           {
            "marker": {
             "colorbar": {
              "outlinewidth": 0,
              "ticks": ""
             }
            },
            "type": "scattergl"
           }
          ],
          "scattermapbox": [
           {
            "marker": {
             "colorbar": {
              "outlinewidth": 0,
              "ticks": ""
             }
            },
            "type": "scattermapbox"
           }
          ],
          "scatterpolar": [
           {
            "marker": {
             "colorbar": {
              "outlinewidth": 0,
              "ticks": ""
             }
            },
            "type": "scatterpolar"
           }
          ],
          "scatterpolargl": [
           {
            "marker": {
             "colorbar": {
              "outlinewidth": 0,
              "ticks": ""
             }
            },
            "type": "scatterpolargl"
           }
          ],
          "scatterternary": [
           {
            "marker": {
             "colorbar": {
              "outlinewidth": 0,
              "ticks": ""
             }
            },
            "type": "scatterternary"
           }
          ],
          "surface": [
           {
            "colorbar": {
             "outlinewidth": 0,
             "ticks": ""
            },
            "colorscale": [
             [
              0,
              "#0d0887"
             ],
             [
              0.1111111111111111,
              "#46039f"
             ],
             [
              0.2222222222222222,
              "#7201a8"
             ],
             [
              0.3333333333333333,
              "#9c179e"
             ],
             [
              0.4444444444444444,
              "#bd3786"
             ],
             [
              0.5555555555555556,
              "#d8576b"
             ],
             [
              0.6666666666666666,
              "#ed7953"
             ],
             [
              0.7777777777777778,
              "#fb9f3a"
             ],
             [
              0.8888888888888888,
              "#fdca26"
             ],
             [
              1,
              "#f0f921"
             ]
            ],
            "type": "surface"
           }
          ],
          "table": [
           {
            "cells": {
             "fill": {
              "color": "#EBF0F8"
             },
             "line": {
              "color": "white"
             }
            },
            "header": {
             "fill": {
              "color": "#C8D4E3"
             },
             "line": {
              "color": "white"
             }
            },
            "type": "table"
           }
          ]
         },
         "layout": {
          "annotationdefaults": {
           "arrowcolor": "#2a3f5f",
           "arrowhead": 0,
           "arrowwidth": 1
          },
          "coloraxis": {
           "colorbar": {
            "outlinewidth": 0,
            "ticks": ""
           }
          },
          "colorscale": {
           "diverging": [
            [
             0,
             "#8e0152"
            ],
            [
             0.1,
             "#c51b7d"
            ],
            [
             0.2,
             "#de77ae"
            ],
            [
             0.3,
             "#f1b6da"
            ],
            [
             0.4,
             "#fde0ef"
            ],
            [
             0.5,
             "#f7f7f7"
            ],
            [
             0.6,
             "#e6f5d0"
            ],
            [
             0.7,
             "#b8e186"
            ],
            [
             0.8,
             "#7fbc41"
            ],
            [
             0.9,
             "#4d9221"
            ],
            [
             1,
             "#276419"
            ]
           ],
           "sequential": [
            [
             0,
             "#0d0887"
            ],
            [
             0.1111111111111111,
             "#46039f"
            ],
            [
             0.2222222222222222,
             "#7201a8"
            ],
            [
             0.3333333333333333,
             "#9c179e"
            ],
            [
             0.4444444444444444,
             "#bd3786"
            ],
            [
             0.5555555555555556,
             "#d8576b"
            ],
            [
             0.6666666666666666,
             "#ed7953"
            ],
            [
             0.7777777777777778,
             "#fb9f3a"
            ],
            [
             0.8888888888888888,
             "#fdca26"
            ],
            [
             1,
             "#f0f921"
            ]
           ],
           "sequentialminus": [
            [
             0,
             "#0d0887"
            ],
            [
             0.1111111111111111,
             "#46039f"
            ],
            [
             0.2222222222222222,
             "#7201a8"
            ],
            [
             0.3333333333333333,
             "#9c179e"
            ],
            [
             0.4444444444444444,
             "#bd3786"
            ],
            [
             0.5555555555555556,
             "#d8576b"
            ],
            [
             0.6666666666666666,
             "#ed7953"
            ],
            [
             0.7777777777777778,
             "#fb9f3a"
            ],
            [
             0.8888888888888888,
             "#fdca26"
            ],
            [
             1,
             "#f0f921"
            ]
           ]
          },
          "colorway": [
           "#636efa",
           "#EF553B",
           "#00cc96",
           "#ab63fa",
           "#FFA15A",
           "#19d3f3",
           "#FF6692",
           "#B6E880",
           "#FF97FF",
           "#FECB52"
          ],
          "font": {
           "color": "#2a3f5f"
          },
          "geo": {
           "bgcolor": "white",
           "lakecolor": "white",
           "landcolor": "#E5ECF6",
           "showlakes": true,
           "showland": true,
           "subunitcolor": "white"
          },
          "hoverlabel": {
           "align": "left"
          },
          "hovermode": "closest",
          "mapbox": {
           "style": "light"
          },
          "paper_bgcolor": "white",
          "plot_bgcolor": "#E5ECF6",
          "polar": {
           "angularaxis": {
            "gridcolor": "white",
            "linecolor": "white",
            "ticks": ""
           },
           "bgcolor": "#E5ECF6",
           "radialaxis": {
            "gridcolor": "white",
            "linecolor": "white",
            "ticks": ""
           }
          },
          "scene": {
           "xaxis": {
            "backgroundcolor": "#E5ECF6",
            "gridcolor": "white",
            "gridwidth": 2,
            "linecolor": "white",
            "showbackground": true,
            "ticks": "",
            "zerolinecolor": "white"
           },
           "yaxis": {
            "backgroundcolor": "#E5ECF6",
            "gridcolor": "white",
            "gridwidth": 2,
            "linecolor": "white",
            "showbackground": true,
            "ticks": "",
            "zerolinecolor": "white"
           },
           "zaxis": {
            "backgroundcolor": "#E5ECF6",
            "gridcolor": "white",
            "gridwidth": 2,
            "linecolor": "white",
            "showbackground": true,
            "ticks": "",
            "zerolinecolor": "white"
           }
          },
          "shapedefaults": {
           "line": {
            "color": "#2a3f5f"
           }
          },
          "ternary": {
           "aaxis": {
            "gridcolor": "white",
            "linecolor": "white",
            "ticks": ""
           },
           "baxis": {
            "gridcolor": "white",
            "linecolor": "white",
            "ticks": ""
           },
           "bgcolor": "#E5ECF6",
           "caxis": {
            "gridcolor": "white",
            "linecolor": "white",
            "ticks": ""
           }
          },
          "title": {
           "x": 0.05
          },
          "xaxis": {
           "automargin": true,
           "gridcolor": "white",
           "linecolor": "white",
           "ticks": "",
           "title": {
            "standoff": 15
           },
           "zerolinecolor": "white",
           "zerolinewidth": 2
          },
          "yaxis": {
           "automargin": true,
           "gridcolor": "white",
           "linecolor": "white",
           "ticks": "",
           "title": {
            "standoff": 15
           },
           "zerolinecolor": "white",
           "zerolinewidth": 2
          }
         }
        },
        "title": {
         "text": "Total Page Views per Date/Age Group"
        },
        "xaxis": {
         "anchor": "y",
         "domain": [
          0,
          1
         ],
         "title": {
          "text": "Date"
         }
        },
        "yaxis": {
         "anchor": "x",
         "domain": [
          0,
          1
         ],
         "title": {
          "text": "Pageviews"
         }
        }
       }
      },
      "text/html": [
       "<div>\n",
       "        \n",
       "        \n",
       "            <div id=\"b74bfa41-2658-4b44-862d-75e368a21279\" class=\"plotly-graph-div\" style=\"height:525px; width:100%;\"></div>\n",
       "            <script type=\"text/javascript\">\n",
       "                require([\"plotly\"], function(Plotly) {\n",
       "                    window.PLOTLYENV=window.PLOTLYENV || {};\n",
       "                    \n",
       "                if (document.getElementById(\"b74bfa41-2658-4b44-862d-75e368a21279\")) {\n",
       "                    Plotly.newPlot(\n",
       "                        'b74bfa41-2658-4b44-862d-75e368a21279',\n",
       "                        [{\"hoverlabel\": {\"namelength\": 0}, \"hovertemplate\": \"Age=18-24<br>Date=%{x}<br>Pageviews=%{y}\", \"legendgroup\": \"18-24\", \"line\": {\"color\": \"#636efa\", \"dash\": \"solid\"}, \"mode\": \"lines\", \"name\": \"18-24\", \"showlegend\": true, \"type\": \"scatter\", \"x\": [\"2019-06-01\", \"2019-06-02\", \"2019-06-03\", \"2019-06-04\", \"2019-06-05\", \"2019-06-06\", \"2019-06-07\", \"2019-06-08\", \"2019-06-09\", \"2019-06-10\", \"2019-06-11\", \"2019-06-12\", \"2019-06-13\", \"2019-06-14\", \"2019-06-15\", \"2019-06-16\", \"2019-06-17\", \"2019-06-18\", \"2019-06-19\", \"2019-06-20\", \"2019-06-21\", \"2019-06-22\", \"2019-06-23\", \"2019-06-24\", \"2019-06-25\", \"2019-06-26\", \"2019-06-27\", \"2019-06-28\", \"2019-06-29\", \"2019-06-30\"], \"xaxis\": \"x\", \"y\": [11787, 20660, 21355, 24803, 22622, 22696, 13347, 13580, 12293, 15984, 15874, 12329, 10430, 7790, 6418, 7563, 14233, 18850, 14493, 16954, 16007, 16431, 16718, 19254, 15136, 15025, 17681, 18001, 11415, 8650], \"yaxis\": \"y\"}, {\"hoverlabel\": {\"namelength\": 0}, \"hovertemplate\": \"Age=25-34<br>Date=%{x}<br>Pageviews=%{y}\", \"legendgroup\": \"25-34\", \"line\": {\"color\": \"#EF553B\", \"dash\": \"solid\"}, \"mode\": \"lines\", \"name\": \"25-34\", \"showlegend\": true, \"type\": \"scatter\", \"x\": [\"2019-06-01\", \"2019-06-02\", \"2019-06-03\", \"2019-06-04\", \"2019-06-05\", \"2019-06-06\", \"2019-06-07\", \"2019-06-08\", \"2019-06-09\", \"2019-06-10\", \"2019-06-11\", \"2019-06-12\", \"2019-06-13\", \"2019-06-14\", \"2019-06-15\", \"2019-06-16\", \"2019-06-17\", \"2019-06-18\", \"2019-06-19\", \"2019-06-20\", \"2019-06-21\", \"2019-06-22\", \"2019-06-23\", \"2019-06-24\", \"2019-06-25\", \"2019-06-26\", \"2019-06-27\", \"2019-06-28\", \"2019-06-29\", \"2019-06-30\"], \"xaxis\": \"x\", \"y\": [96620, 151279, 178069, 181623, 172200, 200332, 146674, 127244, 128730, 182343, 145875, 143381, 137004, 106299, 64913, 85956, 162328, 161884, 161026, 168392, 139919, 140036, 121205, 198639, 168316, 172407, 174125, 175255, 108082, 112320], \"yaxis\": \"y\"}, {\"hoverlabel\": {\"namelength\": 0}, \"hovertemplate\": \"Age=35-44<br>Date=%{x}<br>Pageviews=%{y}\", \"legendgroup\": \"35-44\", \"line\": {\"color\": \"#00cc96\", \"dash\": \"solid\"}, \"mode\": \"lines\", \"name\": \"35-44\", \"showlegend\": true, \"type\": \"scatter\", \"x\": [\"2019-06-01\", \"2019-06-02\", \"2019-06-03\", \"2019-06-04\", \"2019-06-05\", \"2019-06-06\", \"2019-06-07\", \"2019-06-08\", \"2019-06-09\", \"2019-06-10\", \"2019-06-11\", \"2019-06-12\", \"2019-06-13\", \"2019-06-14\", \"2019-06-15\", \"2019-06-16\", \"2019-06-17\", \"2019-06-18\", \"2019-06-19\", \"2019-06-20\", \"2019-06-21\", \"2019-06-22\", \"2019-06-23\", \"2019-06-24\", \"2019-06-25\", \"2019-06-26\", \"2019-06-27\", \"2019-06-28\", \"2019-06-29\", \"2019-06-30\"], \"xaxis\": \"x\", \"y\": [67769, 119050, 94277, 104686, 116500, 145667, 103207, 123933, 109699, 113982, 90610, 80586, 85212, 56959, 52429, 72621, 87826, 97983, 89021, 88514, 73603, 115780, 96016, 107595, 85887, 81890, 92497, 99041, 80290, 83115], \"yaxis\": \"y\"}, {\"hoverlabel\": {\"namelength\": 0}, \"hovertemplate\": \"Age=45-54<br>Date=%{x}<br>Pageviews=%{y}\", \"legendgroup\": \"45-54\", \"line\": {\"color\": \"#ab63fa\", \"dash\": \"solid\"}, \"mode\": \"lines\", \"name\": \"45-54\", \"showlegend\": true, \"type\": \"scatter\", \"x\": [\"2019-06-01\", \"2019-06-02\", \"2019-06-03\", \"2019-06-04\", \"2019-06-05\", \"2019-06-06\", \"2019-06-07\", \"2019-06-08\", \"2019-06-09\", \"2019-06-10\", \"2019-06-11\", \"2019-06-12\", \"2019-06-13\", \"2019-06-14\", \"2019-06-15\", \"2019-06-16\", \"2019-06-17\", \"2019-06-18\", \"2019-06-19\", \"2019-06-20\", \"2019-06-21\", \"2019-06-22\", \"2019-06-23\", \"2019-06-24\", \"2019-06-25\", \"2019-06-26\", \"2019-06-27\", \"2019-06-28\", \"2019-06-29\", \"2019-06-30\"], \"xaxis\": \"x\", \"y\": [58182, 96961, 71004, 83012, 93723, 95859, 72460, 91008, 78836, 86405, 73119, 57060, 66800, 47907, 47580, 65487, 65792, 75418, 69086, 56045, 48461, 88959, 67476, 85499, 61875, 67434, 74195, 75869, 69618, 83262], \"yaxis\": \"y\"}, {\"hoverlabel\": {\"namelength\": 0}, \"hovertemplate\": \"Age=55-64<br>Date=%{x}<br>Pageviews=%{y}\", \"legendgroup\": \"55-64\", \"line\": {\"color\": \"#FFA15A\", \"dash\": \"solid\"}, \"mode\": \"lines\", \"name\": \"55-64\", \"showlegend\": true, \"type\": \"scatter\", \"x\": [\"2019-06-01\", \"2019-06-02\", \"2019-06-03\", \"2019-06-04\", \"2019-06-05\", \"2019-06-06\", \"2019-06-07\", \"2019-06-08\", \"2019-06-09\", \"2019-06-10\", \"2019-06-11\", \"2019-06-12\", \"2019-06-13\", \"2019-06-14\", \"2019-06-15\", \"2019-06-16\", \"2019-06-17\", \"2019-06-18\", \"2019-06-19\", \"2019-06-20\", \"2019-06-21\", \"2019-06-22\", \"2019-06-23\", \"2019-06-24\", \"2019-06-25\", \"2019-06-26\", \"2019-06-27\", \"2019-06-28\", \"2019-06-29\", \"2019-06-30\"], \"xaxis\": \"x\", \"y\": [49724, 91661, 62888, 75201, 81238, 71838, 66631, 72766, 76157, 82074, 68140, 52827, 60937, 40481, 45194, 56574, 60313, 63735, 62297, 49751, 41530, 82468, 62558, 93947, 57047, 63615, 71161, 68255, 59770, 85370], \"yaxis\": \"y\"}, {\"hoverlabel\": {\"namelength\": 0}, \"hovertemplate\": \"Age=65+<br>Date=%{x}<br>Pageviews=%{y}\", \"legendgroup\": \"65+\", \"line\": {\"color\": \"#19d3f3\", \"dash\": \"solid\"}, \"mode\": \"lines\", \"name\": \"65+\", \"showlegend\": true, \"type\": \"scatter\", \"x\": [\"2019-06-01\", \"2019-06-02\", \"2019-06-03\", \"2019-06-04\", \"2019-06-05\", \"2019-06-06\", \"2019-06-07\", \"2019-06-08\", \"2019-06-09\", \"2019-06-10\", \"2019-06-11\", \"2019-06-12\", \"2019-06-13\", \"2019-06-14\", \"2019-06-15\", \"2019-06-16\", \"2019-06-17\", \"2019-06-18\", \"2019-06-19\", \"2019-06-20\", \"2019-06-21\", \"2019-06-22\", \"2019-06-23\", \"2019-06-24\", \"2019-06-25\", \"2019-06-26\", \"2019-06-27\", \"2019-06-28\", \"2019-06-29\", \"2019-06-30\"], \"xaxis\": \"x\", \"y\": [17792, 36858, 25820, 28020, 32154, 29230, 24388, 27212, 26757, 31359, 26713, 19238, 19700, 14547, 15908, 18797, 24610, 26204, 22153, 17478, 15674, 45098, 34769, 41806, 25616, 28064, 29855, 26366, 24722, 34225], \"yaxis\": \"y\"}],\n",
       "                        {\"legend\": {\"title\": {\"text\": \"Age\"}, \"tracegroupgap\": 0}, \"template\": {\"data\": {\"bar\": [{\"error_x\": {\"color\": \"#2a3f5f\"}, \"error_y\": {\"color\": \"#2a3f5f\"}, \"marker\": {\"line\": {\"color\": \"#E5ECF6\", \"width\": 0.5}}, \"type\": \"bar\"}], \"barpolar\": [{\"marker\": {\"line\": {\"color\": \"#E5ECF6\", \"width\": 0.5}}, \"type\": \"barpolar\"}], \"carpet\": [{\"aaxis\": {\"endlinecolor\": \"#2a3f5f\", \"gridcolor\": \"white\", \"linecolor\": \"white\", \"minorgridcolor\": \"white\", \"startlinecolor\": \"#2a3f5f\"}, \"baxis\": {\"endlinecolor\": \"#2a3f5f\", \"gridcolor\": \"white\", \"linecolor\": \"white\", \"minorgridcolor\": \"white\", \"startlinecolor\": \"#2a3f5f\"}, \"type\": \"carpet\"}], \"choropleth\": [{\"colorbar\": {\"outlinewidth\": 0, \"ticks\": \"\"}, \"type\": \"choropleth\"}], \"contour\": [{\"colorbar\": {\"outlinewidth\": 0, \"ticks\": \"\"}, \"colorscale\": [[0.0, \"#0d0887\"], [0.1111111111111111, \"#46039f\"], [0.2222222222222222, \"#7201a8\"], [0.3333333333333333, \"#9c179e\"], [0.4444444444444444, \"#bd3786\"], [0.5555555555555556, \"#d8576b\"], [0.6666666666666666, \"#ed7953\"], [0.7777777777777778, \"#fb9f3a\"], [0.8888888888888888, \"#fdca26\"], [1.0, \"#f0f921\"]], \"type\": \"contour\"}], \"contourcarpet\": [{\"colorbar\": {\"outlinewidth\": 0, \"ticks\": \"\"}, \"type\": \"contourcarpet\"}], \"heatmap\": [{\"colorbar\": {\"outlinewidth\": 0, \"ticks\": \"\"}, \"colorscale\": [[0.0, \"#0d0887\"], [0.1111111111111111, \"#46039f\"], [0.2222222222222222, \"#7201a8\"], [0.3333333333333333, \"#9c179e\"], [0.4444444444444444, \"#bd3786\"], [0.5555555555555556, \"#d8576b\"], [0.6666666666666666, \"#ed7953\"], [0.7777777777777778, \"#fb9f3a\"], [0.8888888888888888, \"#fdca26\"], [1.0, \"#f0f921\"]], \"type\": \"heatmap\"}], \"heatmapgl\": [{\"colorbar\": {\"outlinewidth\": 0, \"ticks\": \"\"}, \"colorscale\": [[0.0, \"#0d0887\"], [0.1111111111111111, \"#46039f\"], [0.2222222222222222, \"#7201a8\"], [0.3333333333333333, \"#9c179e\"], [0.4444444444444444, \"#bd3786\"], [0.5555555555555556, \"#d8576b\"], [0.6666666666666666, \"#ed7953\"], [0.7777777777777778, \"#fb9f3a\"], [0.8888888888888888, \"#fdca26\"], [1.0, \"#f0f921\"]], \"type\": \"heatmapgl\"}], \"histogram\": [{\"marker\": {\"colorbar\": {\"outlinewidth\": 0, \"ticks\": \"\"}}, \"type\": \"histogram\"}], \"histogram2d\": [{\"colorbar\": {\"outlinewidth\": 0, \"ticks\": \"\"}, \"colorscale\": [[0.0, \"#0d0887\"], [0.1111111111111111, \"#46039f\"], [0.2222222222222222, \"#7201a8\"], [0.3333333333333333, \"#9c179e\"], [0.4444444444444444, \"#bd3786\"], [0.5555555555555556, \"#d8576b\"], [0.6666666666666666, \"#ed7953\"], [0.7777777777777778, \"#fb9f3a\"], [0.8888888888888888, \"#fdca26\"], [1.0, \"#f0f921\"]], \"type\": \"histogram2d\"}], \"histogram2dcontour\": [{\"colorbar\": {\"outlinewidth\": 0, \"ticks\": \"\"}, \"colorscale\": [[0.0, \"#0d0887\"], [0.1111111111111111, \"#46039f\"], [0.2222222222222222, \"#7201a8\"], [0.3333333333333333, \"#9c179e\"], [0.4444444444444444, \"#bd3786\"], [0.5555555555555556, \"#d8576b\"], [0.6666666666666666, \"#ed7953\"], [0.7777777777777778, \"#fb9f3a\"], [0.8888888888888888, \"#fdca26\"], [1.0, \"#f0f921\"]], \"type\": \"histogram2dcontour\"}], \"mesh3d\": [{\"colorbar\": {\"outlinewidth\": 0, \"ticks\": \"\"}, \"type\": \"mesh3d\"}], \"parcoords\": [{\"line\": {\"colorbar\": {\"outlinewidth\": 0, \"ticks\": \"\"}}, \"type\": \"parcoords\"}], \"pie\": [{\"automargin\": true, \"type\": \"pie\"}], \"scatter\": [{\"marker\": {\"colorbar\": {\"outlinewidth\": 0, \"ticks\": \"\"}}, \"type\": \"scatter\"}], \"scatter3d\": [{\"line\": {\"colorbar\": {\"outlinewidth\": 0, \"ticks\": \"\"}}, \"marker\": {\"colorbar\": {\"outlinewidth\": 0, \"ticks\": \"\"}}, \"type\": \"scatter3d\"}], \"scattercarpet\": [{\"marker\": {\"colorbar\": {\"outlinewidth\": 0, \"ticks\": \"\"}}, \"type\": \"scattercarpet\"}], \"scattergeo\": [{\"marker\": {\"colorbar\": {\"outlinewidth\": 0, \"ticks\": \"\"}}, \"type\": \"scattergeo\"}], \"scattergl\": [{\"marker\": {\"colorbar\": {\"outlinewidth\": 0, \"ticks\": \"\"}}, \"type\": \"scattergl\"}], \"scattermapbox\": [{\"marker\": {\"colorbar\": {\"outlinewidth\": 0, \"ticks\": \"\"}}, \"type\": \"scattermapbox\"}], \"scatterpolar\": [{\"marker\": {\"colorbar\": {\"outlinewidth\": 0, \"ticks\": \"\"}}, \"type\": \"scatterpolar\"}], \"scatterpolargl\": [{\"marker\": {\"colorbar\": {\"outlinewidth\": 0, \"ticks\": \"\"}}, \"type\": \"scatterpolargl\"}], \"scatterternary\": [{\"marker\": {\"colorbar\": {\"outlinewidth\": 0, \"ticks\": \"\"}}, \"type\": \"scatterternary\"}], \"surface\": [{\"colorbar\": {\"outlinewidth\": 0, \"ticks\": \"\"}, \"colorscale\": [[0.0, \"#0d0887\"], [0.1111111111111111, \"#46039f\"], [0.2222222222222222, \"#7201a8\"], [0.3333333333333333, \"#9c179e\"], [0.4444444444444444, \"#bd3786\"], [0.5555555555555556, \"#d8576b\"], [0.6666666666666666, \"#ed7953\"], [0.7777777777777778, \"#fb9f3a\"], [0.8888888888888888, \"#fdca26\"], [1.0, \"#f0f921\"]], \"type\": \"surface\"}], \"table\": [{\"cells\": {\"fill\": {\"color\": \"#EBF0F8\"}, \"line\": {\"color\": \"white\"}}, \"header\": {\"fill\": {\"color\": \"#C8D4E3\"}, \"line\": {\"color\": \"white\"}}, \"type\": \"table\"}]}, \"layout\": {\"annotationdefaults\": {\"arrowcolor\": \"#2a3f5f\", \"arrowhead\": 0, \"arrowwidth\": 1}, \"coloraxis\": {\"colorbar\": {\"outlinewidth\": 0, \"ticks\": \"\"}}, \"colorscale\": {\"diverging\": [[0, \"#8e0152\"], [0.1, \"#c51b7d\"], [0.2, \"#de77ae\"], [0.3, \"#f1b6da\"], [0.4, \"#fde0ef\"], [0.5, \"#f7f7f7\"], [0.6, \"#e6f5d0\"], [0.7, \"#b8e186\"], [0.8, \"#7fbc41\"], [0.9, \"#4d9221\"], [1, \"#276419\"]], \"sequential\": [[0.0, \"#0d0887\"], [0.1111111111111111, \"#46039f\"], [0.2222222222222222, \"#7201a8\"], [0.3333333333333333, \"#9c179e\"], [0.4444444444444444, \"#bd3786\"], [0.5555555555555556, \"#d8576b\"], [0.6666666666666666, \"#ed7953\"], [0.7777777777777778, \"#fb9f3a\"], [0.8888888888888888, \"#fdca26\"], [1.0, \"#f0f921\"]], \"sequentialminus\": [[0.0, \"#0d0887\"], [0.1111111111111111, \"#46039f\"], [0.2222222222222222, \"#7201a8\"], [0.3333333333333333, \"#9c179e\"], [0.4444444444444444, \"#bd3786\"], [0.5555555555555556, \"#d8576b\"], [0.6666666666666666, \"#ed7953\"], [0.7777777777777778, \"#fb9f3a\"], [0.8888888888888888, \"#fdca26\"], [1.0, \"#f0f921\"]]}, \"colorway\": [\"#636efa\", \"#EF553B\", \"#00cc96\", \"#ab63fa\", \"#FFA15A\", \"#19d3f3\", \"#FF6692\", \"#B6E880\", \"#FF97FF\", \"#FECB52\"], \"font\": {\"color\": \"#2a3f5f\"}, \"geo\": {\"bgcolor\": \"white\", \"lakecolor\": \"white\", \"landcolor\": \"#E5ECF6\", \"showlakes\": true, \"showland\": true, \"subunitcolor\": \"white\"}, \"hoverlabel\": {\"align\": \"left\"}, \"hovermode\": \"closest\", \"mapbox\": {\"style\": \"light\"}, \"paper_bgcolor\": \"white\", \"plot_bgcolor\": \"#E5ECF6\", \"polar\": {\"angularaxis\": {\"gridcolor\": \"white\", \"linecolor\": \"white\", \"ticks\": \"\"}, \"bgcolor\": \"#E5ECF6\", \"radialaxis\": {\"gridcolor\": \"white\", \"linecolor\": \"white\", \"ticks\": \"\"}}, \"scene\": {\"xaxis\": {\"backgroundcolor\": \"#E5ECF6\", \"gridcolor\": \"white\", \"gridwidth\": 2, \"linecolor\": \"white\", \"showbackground\": true, \"ticks\": \"\", \"zerolinecolor\": \"white\"}, \"yaxis\": {\"backgroundcolor\": \"#E5ECF6\", \"gridcolor\": \"white\", \"gridwidth\": 2, \"linecolor\": \"white\", \"showbackground\": true, \"ticks\": \"\", \"zerolinecolor\": \"white\"}, \"zaxis\": {\"backgroundcolor\": \"#E5ECF6\", \"gridcolor\": \"white\", \"gridwidth\": 2, \"linecolor\": \"white\", \"showbackground\": true, \"ticks\": \"\", \"zerolinecolor\": \"white\"}}, \"shapedefaults\": {\"line\": {\"color\": \"#2a3f5f\"}}, \"ternary\": {\"aaxis\": {\"gridcolor\": \"white\", \"linecolor\": \"white\", \"ticks\": \"\"}, \"baxis\": {\"gridcolor\": \"white\", \"linecolor\": \"white\", \"ticks\": \"\"}, \"bgcolor\": \"#E5ECF6\", \"caxis\": {\"gridcolor\": \"white\", \"linecolor\": \"white\", \"ticks\": \"\"}}, \"title\": {\"x\": 0.05}, \"xaxis\": {\"automargin\": true, \"gridcolor\": \"white\", \"linecolor\": \"white\", \"ticks\": \"\", \"title\": {\"standoff\": 15}, \"zerolinecolor\": \"white\", \"zerolinewidth\": 2}, \"yaxis\": {\"automargin\": true, \"gridcolor\": \"white\", \"linecolor\": \"white\", \"ticks\": \"\", \"title\": {\"standoff\": 15}, \"zerolinecolor\": \"white\", \"zerolinewidth\": 2}}}, \"title\": {\"text\": \"Total Page Views per Date/Age Group\"}, \"xaxis\": {\"anchor\": \"y\", \"domain\": [0.0, 1.0], \"title\": {\"text\": \"Date\"}}, \"yaxis\": {\"anchor\": \"x\", \"domain\": [0.0, 1.0], \"title\": {\"text\": \"Pageviews\"}}},\n",
       "                        {\"responsive\": true}\n",
       "                    ).then(function(){\n",
       "                            \n",
       "var gd = document.getElementById('b74bfa41-2658-4b44-862d-75e368a21279');\n",
       "var x = new MutationObserver(function (mutations, observer) {{\n",
       "        var display = window.getComputedStyle(gd).display;\n",
       "        if (!display || display === 'none') {{\n",
       "            console.log([gd, 'removed!']);\n",
       "            Plotly.purge(gd);\n",
       "            observer.disconnect();\n",
       "        }}\n",
       "}});\n",
       "\n",
       "// Listen for the removal of the full notebook cells\n",
       "var notebookContainer = gd.closest('#notebook-container');\n",
       "if (notebookContainer) {{\n",
       "    x.observe(notebookContainer, {childList: true});\n",
       "}}\n",
       "\n",
       "// Listen for the clearing of the current output cell\n",
       "var outputEl = gd.closest('.output');\n",
       "if (outputEl) {{\n",
       "    x.observe(outputEl, {childList: true});\n",
       "}}\n",
       "\n",
       "                        })\n",
       "                };\n",
       "                });\n",
       "            </script>\n",
       "        </div>"
      ]
     },
     "metadata": {},
     "output_type": "display_data"
    },
    {
     "data": {
      "application/vnd.plotly.v1+json": {
       "config": {
        "plotlyServerURL": "https://plot.ly"
       },
       "data": [
        {
         "hoverlabel": {
          "namelength": 0
         },
         "hovertemplate": "Medium= (none)<br>Date=%{x}<br>Pageviews=%{y}",
         "legendgroup": " (none)",
         "line": {
          "color": "#636efa",
          "dash": "solid"
         },
         "mode": "lines",
         "name": " (none)",
         "showlegend": true,
         "type": "scatter",
         "x": [
          "2019-06-01",
          "2019-06-02",
          "2019-06-03",
          "2019-06-04",
          "2019-06-05",
          "2019-06-06",
          "2019-06-07",
          "2019-06-08",
          "2019-06-09",
          "2019-06-10",
          "2019-06-11",
          "2019-06-12",
          "2019-06-13",
          "2019-06-14",
          "2019-06-15",
          "2019-06-16",
          "2019-06-17",
          "2019-06-18",
          "2019-06-19",
          "2019-06-20",
          "2019-06-21",
          "2019-06-22",
          "2019-06-23",
          "2019-06-24",
          "2019-06-25",
          "2019-06-26",
          "2019-06-27",
          "2019-06-28",
          "2019-06-29",
          "2019-06-30"
         ],
         "xaxis": "x",
         "y": [
          6840,
          11396,
          17906,
          14223,
          9082,
          13512,
          9134,
          7614,
          7661,
          20300,
          12213,
          10444,
          11944,
          8274,
          6667,
          8206,
          22486,
          27072,
          12812,
          7922,
          9939,
          12815,
          9295,
          29763,
          11965,
          8943,
          22060,
          13792,
          9662,
          10132
         ],
         "yaxis": "y"
        },
        {
         "hoverlabel": {
          "namelength": 0
         },
         "hovertemplate": "Medium= (not set)<br>Date=%{x}<br>Pageviews=%{y}",
         "legendgroup": " (not set)",
         "line": {
          "color": "#EF553B",
          "dash": "solid"
         },
         "mode": "lines",
         "name": " (not set)",
         "showlegend": true,
         "type": "scatter",
         "x": [
          "2019-06-01",
          "2019-06-02",
          "2019-06-08"
         ],
         "xaxis": "x",
         "y": [
          62,
          261,
          26
         ],
         "yaxis": "y"
        },
        {
         "hoverlabel": {
          "namelength": 0
         },
         "hovertemplate": "Medium= cpc<br>Date=%{x}<br>Pageviews=%{y}",
         "legendgroup": " cpc",
         "line": {
          "color": "#00cc96",
          "dash": "solid"
         },
         "mode": "lines",
         "name": " cpc",
         "showlegend": true,
         "type": "scatter",
         "x": [
          "2019-06-01",
          "2019-06-02",
          "2019-06-04",
          "2019-06-05",
          "2019-06-06",
          "2019-06-07",
          "2019-06-08",
          "2019-06-09",
          "2019-06-10",
          "2019-06-11",
          "2019-06-12",
          "2019-06-13",
          "2019-06-14",
          "2019-06-15",
          "2019-06-16",
          "2019-06-17",
          "2019-06-18",
          "2019-06-19",
          "2019-06-20",
          "2019-06-21",
          "2019-06-22",
          "2019-06-23",
          "2019-06-24",
          "2019-06-25",
          "2019-06-26",
          "2019-06-27",
          "2019-06-28",
          "2019-06-29",
          "2019-06-30"
         ],
         "xaxis": "x",
         "y": [
          16,
          96,
          26,
          85,
          38,
          80,
          67,
          68,
          132,
          99,
          193,
          74,
          141,
          218,
          89,
          339,
          739,
          958,
          544,
          905,
          1335,
          1175,
          1152,
          1188,
          692,
          869,
          1097,
          993,
          1755
         ],
         "yaxis": "y"
        },
        {
         "hoverlabel": {
          "namelength": 0
         },
         "hovertemplate": "Medium= earned-share<br>Date=%{x}<br>Pageviews=%{y}",
         "legendgroup": " earned-share",
         "line": {
          "color": "#ab63fa",
          "dash": "solid"
         },
         "mode": "lines",
         "name": " earned-share",
         "showlegend": true,
         "type": "scatter",
         "x": [
          "2019-06-01",
          "2019-06-03",
          "2019-06-04",
          "2019-06-05",
          "2019-06-06",
          "2019-06-07",
          "2019-06-10",
          "2019-06-11",
          "2019-06-12",
          "2019-06-13",
          "2019-06-14",
          "2019-06-15",
          "2019-06-16",
          "2019-06-17",
          "2019-06-18",
          "2019-06-19",
          "2019-06-20",
          "2019-06-21",
          "2019-06-22",
          "2019-06-23",
          "2019-06-24",
          "2019-06-25",
          "2019-06-26",
          "2019-06-27",
          "2019-06-28",
          "2019-06-29",
          "2019-06-30"
         ],
         "xaxis": "x",
         "y": [
          17,
          576,
          102,
          252,
          60,
          38,
          466,
          70,
          44,
          97,
          37,
          727,
          801,
          1764,
          1628,
          1612,
          1421,
          1048,
          32,
          295,
          1760,
          1652,
          844,
          765,
          353,
          18,
          12
         ],
         "yaxis": "y"
        },
        {
         "hoverlabel": {
          "namelength": 0
         },
         "hovertemplate": "Medium= email<br>Date=%{x}<br>Pageviews=%{y}",
         "legendgroup": " email",
         "line": {
          "color": "#FFA15A",
          "dash": "solid"
         },
         "mode": "lines",
         "name": " email",
         "showlegend": true,
         "type": "scatter",
         "x": [
          "2019-06-01",
          "2019-06-02",
          "2019-06-03",
          "2019-06-04",
          "2019-06-05",
          "2019-06-06",
          "2019-06-07",
          "2019-06-08",
          "2019-06-09",
          "2019-06-10",
          "2019-06-11",
          "2019-06-12",
          "2019-06-13",
          "2019-06-14",
          "2019-06-15",
          "2019-06-16",
          "2019-06-17",
          "2019-06-18",
          "2019-06-19",
          "2019-06-20",
          "2019-06-21",
          "2019-06-22",
          "2019-06-23",
          "2019-06-24",
          "2019-06-25",
          "2019-06-26",
          "2019-06-27",
          "2019-06-28",
          "2019-06-29",
          "2019-06-30"
         ],
         "xaxis": "x",
         "y": [
          32325,
          80013,
          79908,
          105861,
          92090,
          63133,
          48819,
          42615,
          71699,
          91687,
          65508,
          57891,
          49844,
          49461,
          51251,
          54454,
          89477,
          98610,
          100985,
          53746,
          68643,
          50077,
          57229,
          90470,
          76398,
          90463,
          63476,
          52701,
          42381,
          62319
         ],
         "yaxis": "y"
        },
        {
         "hoverlabel": {
          "namelength": 0
         },
         "hovertemplate": "Medium= facebook<br>Date=%{x}<br>Pageviews=%{y}",
         "legendgroup": " facebook",
         "line": {
          "color": "#19d3f3",
          "dash": "solid"
         },
         "mode": "lines",
         "name": " facebook",
         "showlegend": true,
         "type": "scatter",
         "x": [
          "2019-06-01",
          "2019-06-02",
          "2019-06-03",
          "2019-06-04",
          "2019-06-05",
          "2019-06-06",
          "2019-06-07",
          "2019-06-08",
          "2019-06-09",
          "2019-06-10",
          "2019-06-11",
          "2019-06-12",
          "2019-06-13",
          "2019-06-14",
          "2019-06-15",
          "2019-06-16",
          "2019-06-17",
          "2019-06-18",
          "2019-06-19",
          "2019-06-20",
          "2019-06-21",
          "2019-06-22",
          "2019-06-23",
          "2019-06-24",
          "2019-06-25",
          "2019-06-26",
          "2019-06-27",
          "2019-06-28",
          "2019-06-29",
          "2019-06-30"
         ],
         "xaxis": "x",
         "y": [
          1808,
          2124,
          1882,
          1831,
          21688,
          7652,
          2144,
          2187,
          2198,
          2132,
          1613,
          2227,
          20345,
          11502,
          6034,
          3612,
          1363,
          13784,
          6563,
          3123,
          2808,
          1945,
          1601,
          979,
          2109,
          4466,
          3077,
          2854,
          2437,
          1471
         ],
         "yaxis": "y"
        },
        {
         "hoverlabel": {
          "namelength": 0
         },
         "hovertemplate": "Medium= feed<br>Date=%{x}<br>Pageviews=%{y}",
         "legendgroup": " feed",
         "line": {
          "color": "#FF6692",
          "dash": "solid"
         },
         "mode": "lines",
         "name": " feed",
         "showlegend": true,
         "type": "scatter",
         "x": [
          "2019-06-01",
          "2019-06-03",
          "2019-06-22"
         ],
         "xaxis": "x",
         "y": [
          392,
          461,
          393
         ],
         "yaxis": "y"
        },
        {
         "hoverlabel": {
          "namelength": 0
         },
         "hovertemplate": "Medium= organic<br>Date=%{x}<br>Pageviews=%{y}",
         "legendgroup": " organic",
         "line": {
          "color": "#B6E880",
          "dash": "solid"
         },
         "mode": "lines",
         "name": " organic",
         "showlegend": true,
         "type": "scatter",
         "x": [
          "2019-06-01",
          "2019-06-02",
          "2019-06-03",
          "2019-06-04",
          "2019-06-05",
          "2019-06-06",
          "2019-06-07",
          "2019-06-08",
          "2019-06-09",
          "2019-06-10",
          "2019-06-11",
          "2019-06-12",
          "2019-06-13",
          "2019-06-14",
          "2019-06-15",
          "2019-06-16",
          "2019-06-17",
          "2019-06-18",
          "2019-06-19",
          "2019-06-20",
          "2019-06-21",
          "2019-06-22",
          "2019-06-23",
          "2019-06-24",
          "2019-06-25",
          "2019-06-26",
          "2019-06-27",
          "2019-06-28",
          "2019-06-29",
          "2019-06-30"
         ],
         "xaxis": "x",
         "y": [
          37157,
          54081,
          63599,
          70615,
          66867,
          56715,
          64013,
          39430,
          36166,
          63065,
          51343,
          57900,
          61562,
          51314,
          36209,
          44378,
          71682,
          63760,
          61350,
          68935,
          54237,
          37833,
          32550,
          84175,
          61337,
          53582,
          65195,
          66809,
          29931,
          48411
         ],
         "yaxis": "y"
        },
        {
         "hoverlabel": {
          "namelength": 0
         },
         "hovertemplate": "Medium= paid<br>Date=%{x}<br>Pageviews=%{y}",
         "legendgroup": " paid",
         "line": {
          "color": "#FF97FF",
          "dash": "solid"
         },
         "mode": "lines",
         "name": " paid",
         "showlegend": true,
         "type": "scatter",
         "x": [
          "2019-06-01",
          "2019-06-02",
          "2019-06-03",
          "2019-06-04",
          "2019-06-05",
          "2019-06-06",
          "2019-06-07",
          "2019-06-08",
          "2019-06-09",
          "2019-06-10",
          "2019-06-11",
          "2019-06-12",
          "2019-06-13",
          "2019-06-14",
          "2019-06-15",
          "2019-06-16",
          "2019-06-17",
          "2019-06-18",
          "2019-06-19",
          "2019-06-20",
          "2019-06-21",
          "2019-06-22",
          "2019-06-23",
          "2019-06-24",
          "2019-06-25",
          "2019-06-26",
          "2019-06-27",
          "2019-06-28",
          "2019-06-29",
          "2019-06-30"
         ],
         "xaxis": "x",
         "y": [
          3749,
          4517,
          3570,
          3296,
          3460,
          2982,
          1148,
          875,
          950,
          1030,
          1652,
          1622,
          1605,
          1365,
          735,
          702,
          641,
          1738,
          3433,
          8822,
          7419,
          8812,
          8515,
          7841,
          7868,
          7679,
          7881,
          6892,
          6692,
          2777
         ],
         "yaxis": "y"
        },
        {
         "hoverlabel": {
          "namelength": 0
         },
         "hovertemplate": "Medium= referral<br>Date=%{x}<br>Pageviews=%{y}",
         "legendgroup": " referral",
         "line": {
          "color": "#FECB52",
          "dash": "solid"
         },
         "mode": "lines",
         "name": " referral",
         "showlegend": true,
         "type": "scatter",
         "x": [
          "2019-06-01",
          "2019-06-02",
          "2019-06-03",
          "2019-06-04",
          "2019-06-05",
          "2019-06-06",
          "2019-06-07",
          "2019-06-08",
          "2019-06-09",
          "2019-06-10",
          "2019-06-11",
          "2019-06-12",
          "2019-06-13",
          "2019-06-14",
          "2019-06-15",
          "2019-06-16",
          "2019-06-17",
          "2019-06-18",
          "2019-06-19",
          "2019-06-20",
          "2019-06-21",
          "2019-06-22",
          "2019-06-23",
          "2019-06-24",
          "2019-06-25",
          "2019-06-26",
          "2019-06-27",
          "2019-06-28",
          "2019-06-29",
          "2019-06-30"
         ],
         "xaxis": "x",
         "y": [
          211106,
          349526,
          269251,
          279789,
          304797,
          363833,
          269057,
          321945,
          287763,
          302273,
          273587,
          214313,
          228645,
          148973,
          127924,
          188203,
          220281,
          232726,
          227966,
          247035,
          185340,
          372384,
          283949,
          326332,
          247756,
          257400,
          292267,
          310697,
          249619,
          275756
         ],
         "yaxis": "y"
        },
        {
         "hoverlabel": {
          "namelength": 0
         },
         "hovertemplate": "Medium= social<br>Date=%{x}<br>Pageviews=%{y}",
         "legendgroup": " social",
         "line": {
          "color": "#636efa",
          "dash": "solid"
         },
         "mode": "lines",
         "name": " social",
         "showlegend": true,
         "type": "scatter",
         "x": [
          "2019-06-01",
          "2019-06-02",
          "2019-06-03",
          "2019-06-04",
          "2019-06-05",
          "2019-06-06",
          "2019-06-07",
          "2019-06-08",
          "2019-06-09",
          "2019-06-10",
          "2019-06-11",
          "2019-06-12",
          "2019-06-13",
          "2019-06-14",
          "2019-06-15",
          "2019-06-16",
          "2019-06-17",
          "2019-06-18",
          "2019-06-19",
          "2019-06-20",
          "2019-06-21",
          "2019-06-22",
          "2019-06-23",
          "2019-06-24",
          "2019-06-25",
          "2019-06-26",
          "2019-06-27",
          "2019-06-28",
          "2019-06-29",
          "2019-06-30"
         ],
         "xaxis": "x",
         "y": [
          8402,
          14455,
          15570,
          20824,
          20094,
          57684,
          31680,
          40867,
          25967,
          31047,
          14212,
          20787,
          5940,
          2916,
          2677,
          6553,
          6987,
          3885,
          2397,
          5566,
          4616,
          2569,
          3284,
          3861,
          3588,
          3198,
          3297,
          7592,
          12164,
          4293
         ],
         "yaxis": "y"
        },
        {
         "hoverlabel": {
          "namelength": 0
         },
         "hovertemplate": "Medium= display<br>Date=%{x}<br>Pageviews=%{y}",
         "legendgroup": " display",
         "line": {
          "color": "#EF553B",
          "dash": "solid"
         },
         "mode": "lines",
         "name": " display",
         "showlegend": true,
         "type": "scatter",
         "x": [
          "2019-06-03",
          "2019-06-04",
          "2019-06-05",
          "2019-06-06",
          "2019-06-10",
          "2019-06-11",
          "2019-06-13",
          "2019-06-18",
          "2019-06-20",
          "2019-06-21",
          "2019-06-22",
          "2019-06-23",
          "2019-06-24",
          "2019-06-25",
          "2019-06-27",
          "2019-06-30"
         ],
         "xaxis": "x",
         "y": [
          690,
          778,
          22,
          13,
          15,
          34,
          27,
          95,
          20,
          239,
          577,
          661,
          407,
          16,
          13,
          16
         ],
         "yaxis": "y"
        },
        {
         "hoverlabel": {
          "namelength": 0
         },
         "hovertemplate": "Medium= ig<br>Date=%{x}<br>Pageviews=%{y}",
         "legendgroup": " ig",
         "line": {
          "color": "#00cc96",
          "dash": "solid"
         },
         "mode": "lines",
         "name": " ig",
         "showlegend": true,
         "type": "scatter",
         "x": [
          "2019-06-07",
          "2019-06-08",
          "2019-06-23"
         ],
         "xaxis": "x",
         "y": [
          594,
          117,
          188
         ],
         "yaxis": "y"
        },
        {
         "hoverlabel": {
          "namelength": 0
         },
         "hovertemplate": "Medium= instagram-owned<br>Date=%{x}<br>Pageviews=%{y}",
         "legendgroup": " instagram-owned",
         "line": {
          "color": "#ab63fa",
          "dash": "solid"
         },
         "mode": "lines",
         "name": " instagram-owned",
         "showlegend": true,
         "type": "scatter",
         "x": [
          "2019-06-17",
          "2019-06-18"
         ],
         "xaxis": "x",
         "y": [
          82,
          37
         ],
         "yaxis": "y"
        },
        {
         "hoverlabel": {
          "namelength": 0
         },
         "hovertemplate": "Medium= DesignTAXI<br>Date=%{x}<br>Pageviews=%{y}",
         "legendgroup": " DesignTAXI",
         "line": {
          "color": "#FFA15A",
          "dash": "solid"
         },
         "mode": "lines",
         "name": " DesignTAXI",
         "showlegend": true,
         "type": "scatter",
         "x": [
          "2019-06-26",
          "2019-06-27"
         ],
         "xaxis": "x",
         "y": [
          1168,
          614
         ],
         "yaxis": "y"
        }
       ],
       "layout": {
        "legend": {
         "title": {
          "text": "Medium"
         },
         "tracegroupgap": 0
        },
        "template": {
         "data": {
          "bar": [
           {
            "error_x": {
             "color": "#2a3f5f"
            },
            "error_y": {
             "color": "#2a3f5f"
            },
            "marker": {
             "line": {
              "color": "#E5ECF6",
              "width": 0.5
             }
            },
            "type": "bar"
           }
          ],
          "barpolar": [
           {
            "marker": {
             "line": {
              "color": "#E5ECF6",
              "width": 0.5
             }
            },
            "type": "barpolar"
           }
          ],
          "carpet": [
           {
            "aaxis": {
             "endlinecolor": "#2a3f5f",
             "gridcolor": "white",
             "linecolor": "white",
             "minorgridcolor": "white",
             "startlinecolor": "#2a3f5f"
            },
            "baxis": {
             "endlinecolor": "#2a3f5f",
             "gridcolor": "white",
             "linecolor": "white",
             "minorgridcolor": "white",
             "startlinecolor": "#2a3f5f"
            },
            "type": "carpet"
           }
          ],
          "choropleth": [
           {
            "colorbar": {
             "outlinewidth": 0,
             "ticks": ""
            },
            "type": "choropleth"
           }
          ],
          "contour": [
           {
            "colorbar": {
             "outlinewidth": 0,
             "ticks": ""
            },
            "colorscale": [
             [
              0,
              "#0d0887"
             ],
             [
              0.1111111111111111,
              "#46039f"
             ],
             [
              0.2222222222222222,
              "#7201a8"
             ],
             [
              0.3333333333333333,
              "#9c179e"
             ],
             [
              0.4444444444444444,
              "#bd3786"
             ],
             [
              0.5555555555555556,
              "#d8576b"
             ],
             [
              0.6666666666666666,
              "#ed7953"
             ],
             [
              0.7777777777777778,
              "#fb9f3a"
             ],
             [
              0.8888888888888888,
              "#fdca26"
             ],
             [
              1,
              "#f0f921"
             ]
            ],
            "type": "contour"
           }
          ],
          "contourcarpet": [
           {
            "colorbar": {
             "outlinewidth": 0,
             "ticks": ""
            },
            "type": "contourcarpet"
           }
          ],
          "heatmap": [
           {
            "colorbar": {
             "outlinewidth": 0,
             "ticks": ""
            },
            "colorscale": [
             [
              0,
              "#0d0887"
             ],
             [
              0.1111111111111111,
              "#46039f"
             ],
             [
              0.2222222222222222,
              "#7201a8"
             ],
             [
              0.3333333333333333,
              "#9c179e"
             ],
             [
              0.4444444444444444,
              "#bd3786"
             ],
             [
              0.5555555555555556,
              "#d8576b"
             ],
             [
              0.6666666666666666,
              "#ed7953"
             ],
             [
              0.7777777777777778,
              "#fb9f3a"
             ],
             [
              0.8888888888888888,
              "#fdca26"
             ],
             [
              1,
              "#f0f921"
             ]
            ],
            "type": "heatmap"
           }
          ],
          "heatmapgl": [
           {
            "colorbar": {
             "outlinewidth": 0,
             "ticks": ""
            },
            "colorscale": [
             [
              0,
              "#0d0887"
             ],
             [
              0.1111111111111111,
              "#46039f"
             ],
             [
              0.2222222222222222,
              "#7201a8"
             ],
             [
              0.3333333333333333,
              "#9c179e"
             ],
             [
              0.4444444444444444,
              "#bd3786"
             ],
             [
              0.5555555555555556,
              "#d8576b"
             ],
             [
              0.6666666666666666,
              "#ed7953"
             ],
             [
              0.7777777777777778,
              "#fb9f3a"
             ],
             [
              0.8888888888888888,
              "#fdca26"
             ],
             [
              1,
              "#f0f921"
             ]
            ],
            "type": "heatmapgl"
           }
          ],
          "histogram": [
           {
            "marker": {
             "colorbar": {
              "outlinewidth": 0,
              "ticks": ""
             }
            },
            "type": "histogram"
           }
          ],
          "histogram2d": [
           {
            "colorbar": {
             "outlinewidth": 0,
             "ticks": ""
            },
            "colorscale": [
             [
              0,
              "#0d0887"
             ],
             [
              0.1111111111111111,
              "#46039f"
             ],
             [
              0.2222222222222222,
              "#7201a8"
             ],
             [
              0.3333333333333333,
              "#9c179e"
             ],
             [
              0.4444444444444444,
              "#bd3786"
             ],
             [
              0.5555555555555556,
              "#d8576b"
             ],
             [
              0.6666666666666666,
              "#ed7953"
             ],
             [
              0.7777777777777778,
              "#fb9f3a"
             ],
             [
              0.8888888888888888,
              "#fdca26"
             ],
             [
              1,
              "#f0f921"
             ]
            ],
            "type": "histogram2d"
           }
          ],
          "histogram2dcontour": [
           {
            "colorbar": {
             "outlinewidth": 0,
             "ticks": ""
            },
            "colorscale": [
             [
              0,
              "#0d0887"
             ],
             [
              0.1111111111111111,
              "#46039f"
             ],
             [
              0.2222222222222222,
              "#7201a8"
             ],
             [
              0.3333333333333333,
              "#9c179e"
             ],
             [
              0.4444444444444444,
              "#bd3786"
             ],
             [
              0.5555555555555556,
              "#d8576b"
             ],
             [
              0.6666666666666666,
              "#ed7953"
             ],
             [
              0.7777777777777778,
              "#fb9f3a"
             ],
             [
              0.8888888888888888,
              "#fdca26"
             ],
             [
              1,
              "#f0f921"
             ]
            ],
            "type": "histogram2dcontour"
           }
          ],
          "mesh3d": [
           {
            "colorbar": {
             "outlinewidth": 0,
             "ticks": ""
            },
            "type": "mesh3d"
           }
          ],
          "parcoords": [
           {
            "line": {
             "colorbar": {
              "outlinewidth": 0,
              "ticks": ""
             }
            },
            "type": "parcoords"
           }
          ],
          "pie": [
           {
            "automargin": true,
            "type": "pie"
           }
          ],
          "scatter": [
           {
            "marker": {
             "colorbar": {
              "outlinewidth": 0,
              "ticks": ""
             }
            },
            "type": "scatter"
           }
          ],
          "scatter3d": [
           {
            "line": {
             "colorbar": {
              "outlinewidth": 0,
              "ticks": ""
             }
            },
            "marker": {
             "colorbar": {
              "outlinewidth": 0,
              "ticks": ""
             }
            },
            "type": "scatter3d"
           }
          ],
          "scattercarpet": [
           {
            "marker": {
             "colorbar": {
              "outlinewidth": 0,
              "ticks": ""
             }
            },
            "type": "scattercarpet"
           }
          ],
          "scattergeo": [
           {
            "marker": {
             "colorbar": {
              "outlinewidth": 0,
              "ticks": ""
             }
            },
            "type": "scattergeo"
           }
          ],
          "scattergl": [
           {
            "marker": {
             "colorbar": {
              "outlinewidth": 0,
              "ticks": ""
             }
            },
            "type": "scattergl"
           }
          ],
          "scattermapbox": [
           {
            "marker": {
             "colorbar": {
              "outlinewidth": 0,
              "ticks": ""
             }
            },
            "type": "scattermapbox"
           }
          ],
          "scatterpolar": [
           {
            "marker": {
             "colorbar": {
              "outlinewidth": 0,
              "ticks": ""
             }
            },
            "type": "scatterpolar"
           }
          ],
          "scatterpolargl": [
           {
            "marker": {
             "colorbar": {
              "outlinewidth": 0,
              "ticks": ""
             }
            },
            "type": "scatterpolargl"
           }
          ],
          "scatterternary": [
           {
            "marker": {
             "colorbar": {
              "outlinewidth": 0,
              "ticks": ""
             }
            },
            "type": "scatterternary"
           }
          ],
          "surface": [
           {
            "colorbar": {
             "outlinewidth": 0,
             "ticks": ""
            },
            "colorscale": [
             [
              0,
              "#0d0887"
             ],
             [
              0.1111111111111111,
              "#46039f"
             ],
             [
              0.2222222222222222,
              "#7201a8"
             ],
             [
              0.3333333333333333,
              "#9c179e"
             ],
             [
              0.4444444444444444,
              "#bd3786"
             ],
             [
              0.5555555555555556,
              "#d8576b"
             ],
             [
              0.6666666666666666,
              "#ed7953"
             ],
             [
              0.7777777777777778,
              "#fb9f3a"
             ],
             [
              0.8888888888888888,
              "#fdca26"
             ],
             [
              1,
              "#f0f921"
             ]
            ],
            "type": "surface"
           }
          ],
          "table": [
           {
            "cells": {
             "fill": {
              "color": "#EBF0F8"
             },
             "line": {
              "color": "white"
             }
            },
            "header": {
             "fill": {
              "color": "#C8D4E3"
             },
             "line": {
              "color": "white"
             }
            },
            "type": "table"
           }
          ]
         },
         "layout": {
          "annotationdefaults": {
           "arrowcolor": "#2a3f5f",
           "arrowhead": 0,
           "arrowwidth": 1
          },
          "coloraxis": {
           "colorbar": {
            "outlinewidth": 0,
            "ticks": ""
           }
          },
          "colorscale": {
           "diverging": [
            [
             0,
             "#8e0152"
            ],
            [
             0.1,
             "#c51b7d"
            ],
            [
             0.2,
             "#de77ae"
            ],
            [
             0.3,
             "#f1b6da"
            ],
            [
             0.4,
             "#fde0ef"
            ],
            [
             0.5,
             "#f7f7f7"
            ],
            [
             0.6,
             "#e6f5d0"
            ],
            [
             0.7,
             "#b8e186"
            ],
            [
             0.8,
             "#7fbc41"
            ],
            [
             0.9,
             "#4d9221"
            ],
            [
             1,
             "#276419"
            ]
           ],
           "sequential": [
            [
             0,
             "#0d0887"
            ],
            [
             0.1111111111111111,
             "#46039f"
            ],
            [
             0.2222222222222222,
             "#7201a8"
            ],
            [
             0.3333333333333333,
             "#9c179e"
            ],
            [
             0.4444444444444444,
             "#bd3786"
            ],
            [
             0.5555555555555556,
             "#d8576b"
            ],
            [
             0.6666666666666666,
             "#ed7953"
            ],
            [
             0.7777777777777778,
             "#fb9f3a"
            ],
            [
             0.8888888888888888,
             "#fdca26"
            ],
            [
             1,
             "#f0f921"
            ]
           ],
           "sequentialminus": [
            [
             0,
             "#0d0887"
            ],
            [
             0.1111111111111111,
             "#46039f"
            ],
            [
             0.2222222222222222,
             "#7201a8"
            ],
            [
             0.3333333333333333,
             "#9c179e"
            ],
            [
             0.4444444444444444,
             "#bd3786"
            ],
            [
             0.5555555555555556,
             "#d8576b"
            ],
            [
             0.6666666666666666,
             "#ed7953"
            ],
            [
             0.7777777777777778,
             "#fb9f3a"
            ],
            [
             0.8888888888888888,
             "#fdca26"
            ],
            [
             1,
             "#f0f921"
            ]
           ]
          },
          "colorway": [
           "#636efa",
           "#EF553B",
           "#00cc96",
           "#ab63fa",
           "#FFA15A",
           "#19d3f3",
           "#FF6692",
           "#B6E880",
           "#FF97FF",
           "#FECB52"
          ],
          "font": {
           "color": "#2a3f5f"
          },
          "geo": {
           "bgcolor": "white",
           "lakecolor": "white",
           "landcolor": "#E5ECF6",
           "showlakes": true,
           "showland": true,
           "subunitcolor": "white"
          },
          "hoverlabel": {
           "align": "left"
          },
          "hovermode": "closest",
          "mapbox": {
           "style": "light"
          },
          "paper_bgcolor": "white",
          "plot_bgcolor": "#E5ECF6",
          "polar": {
           "angularaxis": {
            "gridcolor": "white",
            "linecolor": "white",
            "ticks": ""
           },
           "bgcolor": "#E5ECF6",
           "radialaxis": {
            "gridcolor": "white",
            "linecolor": "white",
            "ticks": ""
           }
          },
          "scene": {
           "xaxis": {
            "backgroundcolor": "#E5ECF6",
            "gridcolor": "white",
            "gridwidth": 2,
            "linecolor": "white",
            "showbackground": true,
            "ticks": "",
            "zerolinecolor": "white"
           },
           "yaxis": {
            "backgroundcolor": "#E5ECF6",
            "gridcolor": "white",
            "gridwidth": 2,
            "linecolor": "white",
            "showbackground": true,
            "ticks": "",
            "zerolinecolor": "white"
           },
           "zaxis": {
            "backgroundcolor": "#E5ECF6",
            "gridcolor": "white",
            "gridwidth": 2,
            "linecolor": "white",
            "showbackground": true,
            "ticks": "",
            "zerolinecolor": "white"
           }
          },
          "shapedefaults": {
           "line": {
            "color": "#2a3f5f"
           }
          },
          "ternary": {
           "aaxis": {
            "gridcolor": "white",
            "linecolor": "white",
            "ticks": ""
           },
           "baxis": {
            "gridcolor": "white",
            "linecolor": "white",
            "ticks": ""
           },
           "bgcolor": "#E5ECF6",
           "caxis": {
            "gridcolor": "white",
            "linecolor": "white",
            "ticks": ""
           }
          },
          "title": {
           "x": 0.05
          },
          "xaxis": {
           "automargin": true,
           "gridcolor": "white",
           "linecolor": "white",
           "ticks": "",
           "title": {
            "standoff": 15
           },
           "zerolinecolor": "white",
           "zerolinewidth": 2
          },
          "yaxis": {
           "automargin": true,
           "gridcolor": "white",
           "linecolor": "white",
           "ticks": "",
           "title": {
            "standoff": 15
           },
           "zerolinecolor": "white",
           "zerolinewidth": 2
          }
         }
        },
        "title": {
         "text": "Total Page Views per Date/Medium"
        },
        "xaxis": {
         "anchor": "y",
         "domain": [
          0,
          1
         ],
         "title": {
          "text": "Date"
         }
        },
        "yaxis": {
         "anchor": "x",
         "domain": [
          0,
          1
         ],
         "title": {
          "text": "Pageviews"
         }
        }
       }
      },
      "text/html": [
       "<div>\n",
       "        \n",
       "        \n",
       "            <div id=\"392eb4d7-28ff-49e5-9691-4ea125a065cc\" class=\"plotly-graph-div\" style=\"height:525px; width:100%;\"></div>\n",
       "            <script type=\"text/javascript\">\n",
       "                require([\"plotly\"], function(Plotly) {\n",
       "                    window.PLOTLYENV=window.PLOTLYENV || {};\n",
       "                    \n",
       "                if (document.getElementById(\"392eb4d7-28ff-49e5-9691-4ea125a065cc\")) {\n",
       "                    Plotly.newPlot(\n",
       "                        '392eb4d7-28ff-49e5-9691-4ea125a065cc',\n",
       "                        [{\"hoverlabel\": {\"namelength\": 0}, \"hovertemplate\": \"Medium= (none)<br>Date=%{x}<br>Pageviews=%{y}\", \"legendgroup\": \" (none)\", \"line\": {\"color\": \"#636efa\", \"dash\": \"solid\"}, \"mode\": \"lines\", \"name\": \" (none)\", \"showlegend\": true, \"type\": \"scatter\", \"x\": [\"2019-06-01\", \"2019-06-02\", \"2019-06-03\", \"2019-06-04\", \"2019-06-05\", \"2019-06-06\", \"2019-06-07\", \"2019-06-08\", \"2019-06-09\", \"2019-06-10\", \"2019-06-11\", \"2019-06-12\", \"2019-06-13\", \"2019-06-14\", \"2019-06-15\", \"2019-06-16\", \"2019-06-17\", \"2019-06-18\", \"2019-06-19\", \"2019-06-20\", \"2019-06-21\", \"2019-06-22\", \"2019-06-23\", \"2019-06-24\", \"2019-06-25\", \"2019-06-26\", \"2019-06-27\", \"2019-06-28\", \"2019-06-29\", \"2019-06-30\"], \"xaxis\": \"x\", \"y\": [6840, 11396, 17906, 14223, 9082, 13512, 9134, 7614, 7661, 20300, 12213, 10444, 11944, 8274, 6667, 8206, 22486, 27072, 12812, 7922, 9939, 12815, 9295, 29763, 11965, 8943, 22060, 13792, 9662, 10132], \"yaxis\": \"y\"}, {\"hoverlabel\": {\"namelength\": 0}, \"hovertemplate\": \"Medium= (not set)<br>Date=%{x}<br>Pageviews=%{y}\", \"legendgroup\": \" (not set)\", \"line\": {\"color\": \"#EF553B\", \"dash\": \"solid\"}, \"mode\": \"lines\", \"name\": \" (not set)\", \"showlegend\": true, \"type\": \"scatter\", \"x\": [\"2019-06-01\", \"2019-06-02\", \"2019-06-08\"], \"xaxis\": \"x\", \"y\": [62, 261, 26], \"yaxis\": \"y\"}, {\"hoverlabel\": {\"namelength\": 0}, \"hovertemplate\": \"Medium= cpc<br>Date=%{x}<br>Pageviews=%{y}\", \"legendgroup\": \" cpc\", \"line\": {\"color\": \"#00cc96\", \"dash\": \"solid\"}, \"mode\": \"lines\", \"name\": \" cpc\", \"showlegend\": true, \"type\": \"scatter\", \"x\": [\"2019-06-01\", \"2019-06-02\", \"2019-06-04\", \"2019-06-05\", \"2019-06-06\", \"2019-06-07\", \"2019-06-08\", \"2019-06-09\", \"2019-06-10\", \"2019-06-11\", \"2019-06-12\", \"2019-06-13\", \"2019-06-14\", \"2019-06-15\", \"2019-06-16\", \"2019-06-17\", \"2019-06-18\", \"2019-06-19\", \"2019-06-20\", \"2019-06-21\", \"2019-06-22\", \"2019-06-23\", \"2019-06-24\", \"2019-06-25\", \"2019-06-26\", \"2019-06-27\", \"2019-06-28\", \"2019-06-29\", \"2019-06-30\"], \"xaxis\": \"x\", \"y\": [16, 96, 26, 85, 38, 80, 67, 68, 132, 99, 193, 74, 141, 218, 89, 339, 739, 958, 544, 905, 1335, 1175, 1152, 1188, 692, 869, 1097, 993, 1755], \"yaxis\": \"y\"}, {\"hoverlabel\": {\"namelength\": 0}, \"hovertemplate\": \"Medium= earned-share<br>Date=%{x}<br>Pageviews=%{y}\", \"legendgroup\": \" earned-share\", \"line\": {\"color\": \"#ab63fa\", \"dash\": \"solid\"}, \"mode\": \"lines\", \"name\": \" earned-share\", \"showlegend\": true, \"type\": \"scatter\", \"x\": [\"2019-06-01\", \"2019-06-03\", \"2019-06-04\", \"2019-06-05\", \"2019-06-06\", \"2019-06-07\", \"2019-06-10\", \"2019-06-11\", \"2019-06-12\", \"2019-06-13\", \"2019-06-14\", \"2019-06-15\", \"2019-06-16\", \"2019-06-17\", \"2019-06-18\", \"2019-06-19\", \"2019-06-20\", \"2019-06-21\", \"2019-06-22\", \"2019-06-23\", \"2019-06-24\", \"2019-06-25\", \"2019-06-26\", \"2019-06-27\", \"2019-06-28\", \"2019-06-29\", \"2019-06-30\"], \"xaxis\": \"x\", \"y\": [17, 576, 102, 252, 60, 38, 466, 70, 44, 97, 37, 727, 801, 1764, 1628, 1612, 1421, 1048, 32, 295, 1760, 1652, 844, 765, 353, 18, 12], \"yaxis\": \"y\"}, {\"hoverlabel\": {\"namelength\": 0}, \"hovertemplate\": \"Medium= email<br>Date=%{x}<br>Pageviews=%{y}\", \"legendgroup\": \" email\", \"line\": {\"color\": \"#FFA15A\", \"dash\": \"solid\"}, \"mode\": \"lines\", \"name\": \" email\", \"showlegend\": true, \"type\": \"scatter\", \"x\": [\"2019-06-01\", \"2019-06-02\", \"2019-06-03\", \"2019-06-04\", \"2019-06-05\", \"2019-06-06\", \"2019-06-07\", \"2019-06-08\", \"2019-06-09\", \"2019-06-10\", \"2019-06-11\", \"2019-06-12\", \"2019-06-13\", \"2019-06-14\", \"2019-06-15\", \"2019-06-16\", \"2019-06-17\", \"2019-06-18\", \"2019-06-19\", \"2019-06-20\", \"2019-06-21\", \"2019-06-22\", \"2019-06-23\", \"2019-06-24\", \"2019-06-25\", \"2019-06-26\", \"2019-06-27\", \"2019-06-28\", \"2019-06-29\", \"2019-06-30\"], \"xaxis\": \"x\", \"y\": [32325, 80013, 79908, 105861, 92090, 63133, 48819, 42615, 71699, 91687, 65508, 57891, 49844, 49461, 51251, 54454, 89477, 98610, 100985, 53746, 68643, 50077, 57229, 90470, 76398, 90463, 63476, 52701, 42381, 62319], \"yaxis\": \"y\"}, {\"hoverlabel\": {\"namelength\": 0}, \"hovertemplate\": \"Medium= facebook<br>Date=%{x}<br>Pageviews=%{y}\", \"legendgroup\": \" facebook\", \"line\": {\"color\": \"#19d3f3\", \"dash\": \"solid\"}, \"mode\": \"lines\", \"name\": \" facebook\", \"showlegend\": true, \"type\": \"scatter\", \"x\": [\"2019-06-01\", \"2019-06-02\", \"2019-06-03\", \"2019-06-04\", \"2019-06-05\", \"2019-06-06\", \"2019-06-07\", \"2019-06-08\", \"2019-06-09\", \"2019-06-10\", \"2019-06-11\", \"2019-06-12\", \"2019-06-13\", \"2019-06-14\", \"2019-06-15\", \"2019-06-16\", \"2019-06-17\", \"2019-06-18\", \"2019-06-19\", \"2019-06-20\", \"2019-06-21\", \"2019-06-22\", \"2019-06-23\", \"2019-06-24\", \"2019-06-25\", \"2019-06-26\", \"2019-06-27\", \"2019-06-28\", \"2019-06-29\", \"2019-06-30\"], \"xaxis\": \"x\", \"y\": [1808, 2124, 1882, 1831, 21688, 7652, 2144, 2187, 2198, 2132, 1613, 2227, 20345, 11502, 6034, 3612, 1363, 13784, 6563, 3123, 2808, 1945, 1601, 979, 2109, 4466, 3077, 2854, 2437, 1471], \"yaxis\": \"y\"}, {\"hoverlabel\": {\"namelength\": 0}, \"hovertemplate\": \"Medium= feed<br>Date=%{x}<br>Pageviews=%{y}\", \"legendgroup\": \" feed\", \"line\": {\"color\": \"#FF6692\", \"dash\": \"solid\"}, \"mode\": \"lines\", \"name\": \" feed\", \"showlegend\": true, \"type\": \"scatter\", \"x\": [\"2019-06-01\", \"2019-06-03\", \"2019-06-22\"], \"xaxis\": \"x\", \"y\": [392, 461, 393], \"yaxis\": \"y\"}, {\"hoverlabel\": {\"namelength\": 0}, \"hovertemplate\": \"Medium= organic<br>Date=%{x}<br>Pageviews=%{y}\", \"legendgroup\": \" organic\", \"line\": {\"color\": \"#B6E880\", \"dash\": \"solid\"}, \"mode\": \"lines\", \"name\": \" organic\", \"showlegend\": true, \"type\": \"scatter\", \"x\": [\"2019-06-01\", \"2019-06-02\", \"2019-06-03\", \"2019-06-04\", \"2019-06-05\", \"2019-06-06\", \"2019-06-07\", \"2019-06-08\", \"2019-06-09\", \"2019-06-10\", \"2019-06-11\", \"2019-06-12\", \"2019-06-13\", \"2019-06-14\", \"2019-06-15\", \"2019-06-16\", \"2019-06-17\", \"2019-06-18\", \"2019-06-19\", \"2019-06-20\", \"2019-06-21\", \"2019-06-22\", \"2019-06-23\", \"2019-06-24\", \"2019-06-25\", \"2019-06-26\", \"2019-06-27\", \"2019-06-28\", \"2019-06-29\", \"2019-06-30\"], \"xaxis\": \"x\", \"y\": [37157, 54081, 63599, 70615, 66867, 56715, 64013, 39430, 36166, 63065, 51343, 57900, 61562, 51314, 36209, 44378, 71682, 63760, 61350, 68935, 54237, 37833, 32550, 84175, 61337, 53582, 65195, 66809, 29931, 48411], \"yaxis\": \"y\"}, {\"hoverlabel\": {\"namelength\": 0}, \"hovertemplate\": \"Medium= paid<br>Date=%{x}<br>Pageviews=%{y}\", \"legendgroup\": \" paid\", \"line\": {\"color\": \"#FF97FF\", \"dash\": \"solid\"}, \"mode\": \"lines\", \"name\": \" paid\", \"showlegend\": true, \"type\": \"scatter\", \"x\": [\"2019-06-01\", \"2019-06-02\", \"2019-06-03\", \"2019-06-04\", \"2019-06-05\", \"2019-06-06\", \"2019-06-07\", \"2019-06-08\", \"2019-06-09\", \"2019-06-10\", \"2019-06-11\", \"2019-06-12\", \"2019-06-13\", \"2019-06-14\", \"2019-06-15\", \"2019-06-16\", \"2019-06-17\", \"2019-06-18\", \"2019-06-19\", \"2019-06-20\", \"2019-06-21\", \"2019-06-22\", \"2019-06-23\", \"2019-06-24\", \"2019-06-25\", \"2019-06-26\", \"2019-06-27\", \"2019-06-28\", \"2019-06-29\", \"2019-06-30\"], \"xaxis\": \"x\", \"y\": [3749, 4517, 3570, 3296, 3460, 2982, 1148, 875, 950, 1030, 1652, 1622, 1605, 1365, 735, 702, 641, 1738, 3433, 8822, 7419, 8812, 8515, 7841, 7868, 7679, 7881, 6892, 6692, 2777], \"yaxis\": \"y\"}, {\"hoverlabel\": {\"namelength\": 0}, \"hovertemplate\": \"Medium= referral<br>Date=%{x}<br>Pageviews=%{y}\", \"legendgroup\": \" referral\", \"line\": {\"color\": \"#FECB52\", \"dash\": \"solid\"}, \"mode\": \"lines\", \"name\": \" referral\", \"showlegend\": true, \"type\": \"scatter\", \"x\": [\"2019-06-01\", \"2019-06-02\", \"2019-06-03\", \"2019-06-04\", \"2019-06-05\", \"2019-06-06\", \"2019-06-07\", \"2019-06-08\", \"2019-06-09\", \"2019-06-10\", \"2019-06-11\", \"2019-06-12\", \"2019-06-13\", \"2019-06-14\", \"2019-06-15\", \"2019-06-16\", \"2019-06-17\", \"2019-06-18\", \"2019-06-19\", \"2019-06-20\", \"2019-06-21\", \"2019-06-22\", \"2019-06-23\", \"2019-06-24\", \"2019-06-25\", \"2019-06-26\", \"2019-06-27\", \"2019-06-28\", \"2019-06-29\", \"2019-06-30\"], \"xaxis\": \"x\", \"y\": [211106, 349526, 269251, 279789, 304797, 363833, 269057, 321945, 287763, 302273, 273587, 214313, 228645, 148973, 127924, 188203, 220281, 232726, 227966, 247035, 185340, 372384, 283949, 326332, 247756, 257400, 292267, 310697, 249619, 275756], \"yaxis\": \"y\"}, {\"hoverlabel\": {\"namelength\": 0}, \"hovertemplate\": \"Medium= social<br>Date=%{x}<br>Pageviews=%{y}\", \"legendgroup\": \" social\", \"line\": {\"color\": \"#636efa\", \"dash\": \"solid\"}, \"mode\": \"lines\", \"name\": \" social\", \"showlegend\": true, \"type\": \"scatter\", \"x\": [\"2019-06-01\", \"2019-06-02\", \"2019-06-03\", \"2019-06-04\", \"2019-06-05\", \"2019-06-06\", \"2019-06-07\", \"2019-06-08\", \"2019-06-09\", \"2019-06-10\", \"2019-06-11\", \"2019-06-12\", \"2019-06-13\", \"2019-06-14\", \"2019-06-15\", \"2019-06-16\", \"2019-06-17\", \"2019-06-18\", \"2019-06-19\", \"2019-06-20\", \"2019-06-21\", \"2019-06-22\", \"2019-06-23\", \"2019-06-24\", \"2019-06-25\", \"2019-06-26\", \"2019-06-27\", \"2019-06-28\", \"2019-06-29\", \"2019-06-30\"], \"xaxis\": \"x\", \"y\": [8402, 14455, 15570, 20824, 20094, 57684, 31680, 40867, 25967, 31047, 14212, 20787, 5940, 2916, 2677, 6553, 6987, 3885, 2397, 5566, 4616, 2569, 3284, 3861, 3588, 3198, 3297, 7592, 12164, 4293], \"yaxis\": \"y\"}, {\"hoverlabel\": {\"namelength\": 0}, \"hovertemplate\": \"Medium= display<br>Date=%{x}<br>Pageviews=%{y}\", \"legendgroup\": \" display\", \"line\": {\"color\": \"#EF553B\", \"dash\": \"solid\"}, \"mode\": \"lines\", \"name\": \" display\", \"showlegend\": true, \"type\": \"scatter\", \"x\": [\"2019-06-03\", \"2019-06-04\", \"2019-06-05\", \"2019-06-06\", \"2019-06-10\", \"2019-06-11\", \"2019-06-13\", \"2019-06-18\", \"2019-06-20\", \"2019-06-21\", \"2019-06-22\", \"2019-06-23\", \"2019-06-24\", \"2019-06-25\", \"2019-06-27\", \"2019-06-30\"], \"xaxis\": \"x\", \"y\": [690, 778, 22, 13, 15, 34, 27, 95, 20, 239, 577, 661, 407, 16, 13, 16], \"yaxis\": \"y\"}, {\"hoverlabel\": {\"namelength\": 0}, \"hovertemplate\": \"Medium= ig<br>Date=%{x}<br>Pageviews=%{y}\", \"legendgroup\": \" ig\", \"line\": {\"color\": \"#00cc96\", \"dash\": \"solid\"}, \"mode\": \"lines\", \"name\": \" ig\", \"showlegend\": true, \"type\": \"scatter\", \"x\": [\"2019-06-07\", \"2019-06-08\", \"2019-06-23\"], \"xaxis\": \"x\", \"y\": [594, 117, 188], \"yaxis\": \"y\"}, {\"hoverlabel\": {\"namelength\": 0}, \"hovertemplate\": \"Medium= instagram-owned<br>Date=%{x}<br>Pageviews=%{y}\", \"legendgroup\": \" instagram-owned\", \"line\": {\"color\": \"#ab63fa\", \"dash\": \"solid\"}, \"mode\": \"lines\", \"name\": \" instagram-owned\", \"showlegend\": true, \"type\": \"scatter\", \"x\": [\"2019-06-17\", \"2019-06-18\"], \"xaxis\": \"x\", \"y\": [82, 37], \"yaxis\": \"y\"}, {\"hoverlabel\": {\"namelength\": 0}, \"hovertemplate\": \"Medium= DesignTAXI<br>Date=%{x}<br>Pageviews=%{y}\", \"legendgroup\": \" DesignTAXI\", \"line\": {\"color\": \"#FFA15A\", \"dash\": \"solid\"}, \"mode\": \"lines\", \"name\": \" DesignTAXI\", \"showlegend\": true, \"type\": \"scatter\", \"x\": [\"2019-06-26\", \"2019-06-27\"], \"xaxis\": \"x\", \"y\": [1168, 614], \"yaxis\": \"y\"}],\n",
       "                        {\"legend\": {\"title\": {\"text\": \"Medium\"}, \"tracegroupgap\": 0}, \"template\": {\"data\": {\"bar\": [{\"error_x\": {\"color\": \"#2a3f5f\"}, \"error_y\": {\"color\": \"#2a3f5f\"}, \"marker\": {\"line\": {\"color\": \"#E5ECF6\", \"width\": 0.5}}, \"type\": \"bar\"}], \"barpolar\": [{\"marker\": {\"line\": {\"color\": \"#E5ECF6\", \"width\": 0.5}}, \"type\": \"barpolar\"}], \"carpet\": [{\"aaxis\": {\"endlinecolor\": \"#2a3f5f\", \"gridcolor\": \"white\", \"linecolor\": \"white\", \"minorgridcolor\": \"white\", \"startlinecolor\": \"#2a3f5f\"}, \"baxis\": {\"endlinecolor\": \"#2a3f5f\", \"gridcolor\": \"white\", \"linecolor\": \"white\", \"minorgridcolor\": \"white\", \"startlinecolor\": \"#2a3f5f\"}, \"type\": \"carpet\"}], \"choropleth\": [{\"colorbar\": {\"outlinewidth\": 0, \"ticks\": \"\"}, \"type\": \"choropleth\"}], \"contour\": [{\"colorbar\": {\"outlinewidth\": 0, \"ticks\": \"\"}, \"colorscale\": [[0.0, \"#0d0887\"], [0.1111111111111111, \"#46039f\"], [0.2222222222222222, \"#7201a8\"], [0.3333333333333333, \"#9c179e\"], [0.4444444444444444, \"#bd3786\"], [0.5555555555555556, \"#d8576b\"], [0.6666666666666666, \"#ed7953\"], [0.7777777777777778, \"#fb9f3a\"], [0.8888888888888888, \"#fdca26\"], [1.0, \"#f0f921\"]], \"type\": \"contour\"}], \"contourcarpet\": [{\"colorbar\": {\"outlinewidth\": 0, \"ticks\": \"\"}, \"type\": \"contourcarpet\"}], \"heatmap\": [{\"colorbar\": {\"outlinewidth\": 0, \"ticks\": \"\"}, \"colorscale\": [[0.0, \"#0d0887\"], [0.1111111111111111, \"#46039f\"], [0.2222222222222222, \"#7201a8\"], [0.3333333333333333, \"#9c179e\"], [0.4444444444444444, \"#bd3786\"], [0.5555555555555556, \"#d8576b\"], [0.6666666666666666, \"#ed7953\"], [0.7777777777777778, \"#fb9f3a\"], [0.8888888888888888, \"#fdca26\"], [1.0, \"#f0f921\"]], \"type\": \"heatmap\"}], \"heatmapgl\": [{\"colorbar\": {\"outlinewidth\": 0, \"ticks\": \"\"}, \"colorscale\": [[0.0, \"#0d0887\"], [0.1111111111111111, \"#46039f\"], [0.2222222222222222, \"#7201a8\"], [0.3333333333333333, \"#9c179e\"], [0.4444444444444444, \"#bd3786\"], [0.5555555555555556, \"#d8576b\"], [0.6666666666666666, \"#ed7953\"], [0.7777777777777778, \"#fb9f3a\"], [0.8888888888888888, \"#fdca26\"], [1.0, \"#f0f921\"]], \"type\": \"heatmapgl\"}], \"histogram\": [{\"marker\": {\"colorbar\": {\"outlinewidth\": 0, \"ticks\": \"\"}}, \"type\": \"histogram\"}], \"histogram2d\": [{\"colorbar\": {\"outlinewidth\": 0, \"ticks\": \"\"}, \"colorscale\": [[0.0, \"#0d0887\"], [0.1111111111111111, \"#46039f\"], [0.2222222222222222, \"#7201a8\"], [0.3333333333333333, \"#9c179e\"], [0.4444444444444444, \"#bd3786\"], [0.5555555555555556, \"#d8576b\"], [0.6666666666666666, \"#ed7953\"], [0.7777777777777778, \"#fb9f3a\"], [0.8888888888888888, \"#fdca26\"], [1.0, \"#f0f921\"]], \"type\": \"histogram2d\"}], \"histogram2dcontour\": [{\"colorbar\": {\"outlinewidth\": 0, \"ticks\": \"\"}, \"colorscale\": [[0.0, \"#0d0887\"], [0.1111111111111111, \"#46039f\"], [0.2222222222222222, \"#7201a8\"], [0.3333333333333333, \"#9c179e\"], [0.4444444444444444, \"#bd3786\"], [0.5555555555555556, \"#d8576b\"], [0.6666666666666666, \"#ed7953\"], [0.7777777777777778, \"#fb9f3a\"], [0.8888888888888888, \"#fdca26\"], [1.0, \"#f0f921\"]], \"type\": \"histogram2dcontour\"}], \"mesh3d\": [{\"colorbar\": {\"outlinewidth\": 0, \"ticks\": \"\"}, \"type\": \"mesh3d\"}], \"parcoords\": [{\"line\": {\"colorbar\": {\"outlinewidth\": 0, \"ticks\": \"\"}}, \"type\": \"parcoords\"}], \"pie\": [{\"automargin\": true, \"type\": \"pie\"}], \"scatter\": [{\"marker\": {\"colorbar\": {\"outlinewidth\": 0, \"ticks\": \"\"}}, \"type\": \"scatter\"}], \"scatter3d\": [{\"line\": {\"colorbar\": {\"outlinewidth\": 0, \"ticks\": \"\"}}, \"marker\": {\"colorbar\": {\"outlinewidth\": 0, \"ticks\": \"\"}}, \"type\": \"scatter3d\"}], \"scattercarpet\": [{\"marker\": {\"colorbar\": {\"outlinewidth\": 0, \"ticks\": \"\"}}, \"type\": \"scattercarpet\"}], \"scattergeo\": [{\"marker\": {\"colorbar\": {\"outlinewidth\": 0, \"ticks\": \"\"}}, \"type\": \"scattergeo\"}], \"scattergl\": [{\"marker\": {\"colorbar\": {\"outlinewidth\": 0, \"ticks\": \"\"}}, \"type\": \"scattergl\"}], \"scattermapbox\": [{\"marker\": {\"colorbar\": {\"outlinewidth\": 0, \"ticks\": \"\"}}, \"type\": \"scattermapbox\"}], \"scatterpolar\": [{\"marker\": {\"colorbar\": {\"outlinewidth\": 0, \"ticks\": \"\"}}, \"type\": \"scatterpolar\"}], \"scatterpolargl\": [{\"marker\": {\"colorbar\": {\"outlinewidth\": 0, \"ticks\": \"\"}}, \"type\": \"scatterpolargl\"}], \"scatterternary\": [{\"marker\": {\"colorbar\": {\"outlinewidth\": 0, \"ticks\": \"\"}}, \"type\": \"scatterternary\"}], \"surface\": [{\"colorbar\": {\"outlinewidth\": 0, \"ticks\": \"\"}, \"colorscale\": [[0.0, \"#0d0887\"], [0.1111111111111111, \"#46039f\"], [0.2222222222222222, \"#7201a8\"], [0.3333333333333333, \"#9c179e\"], [0.4444444444444444, \"#bd3786\"], [0.5555555555555556, \"#d8576b\"], [0.6666666666666666, \"#ed7953\"], [0.7777777777777778, \"#fb9f3a\"], [0.8888888888888888, \"#fdca26\"], [1.0, \"#f0f921\"]], \"type\": \"surface\"}], \"table\": [{\"cells\": {\"fill\": {\"color\": \"#EBF0F8\"}, \"line\": {\"color\": \"white\"}}, \"header\": {\"fill\": {\"color\": \"#C8D4E3\"}, \"line\": {\"color\": \"white\"}}, \"type\": \"table\"}]}, \"layout\": {\"annotationdefaults\": {\"arrowcolor\": \"#2a3f5f\", \"arrowhead\": 0, \"arrowwidth\": 1}, \"coloraxis\": {\"colorbar\": {\"outlinewidth\": 0, \"ticks\": \"\"}}, \"colorscale\": {\"diverging\": [[0, \"#8e0152\"], [0.1, \"#c51b7d\"], [0.2, \"#de77ae\"], [0.3, \"#f1b6da\"], [0.4, \"#fde0ef\"], [0.5, \"#f7f7f7\"], [0.6, \"#e6f5d0\"], [0.7, \"#b8e186\"], [0.8, \"#7fbc41\"], [0.9, \"#4d9221\"], [1, \"#276419\"]], \"sequential\": [[0.0, \"#0d0887\"], [0.1111111111111111, \"#46039f\"], [0.2222222222222222, \"#7201a8\"], [0.3333333333333333, \"#9c179e\"], [0.4444444444444444, \"#bd3786\"], [0.5555555555555556, \"#d8576b\"], [0.6666666666666666, \"#ed7953\"], [0.7777777777777778, \"#fb9f3a\"], [0.8888888888888888, \"#fdca26\"], [1.0, \"#f0f921\"]], \"sequentialminus\": [[0.0, \"#0d0887\"], [0.1111111111111111, \"#46039f\"], [0.2222222222222222, \"#7201a8\"], [0.3333333333333333, \"#9c179e\"], [0.4444444444444444, \"#bd3786\"], [0.5555555555555556, \"#d8576b\"], [0.6666666666666666, \"#ed7953\"], [0.7777777777777778, \"#fb9f3a\"], [0.8888888888888888, \"#fdca26\"], [1.0, \"#f0f921\"]]}, \"colorway\": [\"#636efa\", \"#EF553B\", \"#00cc96\", \"#ab63fa\", \"#FFA15A\", \"#19d3f3\", \"#FF6692\", \"#B6E880\", \"#FF97FF\", \"#FECB52\"], \"font\": {\"color\": \"#2a3f5f\"}, \"geo\": {\"bgcolor\": \"white\", \"lakecolor\": \"white\", \"landcolor\": \"#E5ECF6\", \"showlakes\": true, \"showland\": true, \"subunitcolor\": \"white\"}, \"hoverlabel\": {\"align\": \"left\"}, \"hovermode\": \"closest\", \"mapbox\": {\"style\": \"light\"}, \"paper_bgcolor\": \"white\", \"plot_bgcolor\": \"#E5ECF6\", \"polar\": {\"angularaxis\": {\"gridcolor\": \"white\", \"linecolor\": \"white\", \"ticks\": \"\"}, \"bgcolor\": \"#E5ECF6\", \"radialaxis\": {\"gridcolor\": \"white\", \"linecolor\": \"white\", \"ticks\": \"\"}}, \"scene\": {\"xaxis\": {\"backgroundcolor\": \"#E5ECF6\", \"gridcolor\": \"white\", \"gridwidth\": 2, \"linecolor\": \"white\", \"showbackground\": true, \"ticks\": \"\", \"zerolinecolor\": \"white\"}, \"yaxis\": {\"backgroundcolor\": \"#E5ECF6\", \"gridcolor\": \"white\", \"gridwidth\": 2, \"linecolor\": \"white\", \"showbackground\": true, \"ticks\": \"\", \"zerolinecolor\": \"white\"}, \"zaxis\": {\"backgroundcolor\": \"#E5ECF6\", \"gridcolor\": \"white\", \"gridwidth\": 2, \"linecolor\": \"white\", \"showbackground\": true, \"ticks\": \"\", \"zerolinecolor\": \"white\"}}, \"shapedefaults\": {\"line\": {\"color\": \"#2a3f5f\"}}, \"ternary\": {\"aaxis\": {\"gridcolor\": \"white\", \"linecolor\": \"white\", \"ticks\": \"\"}, \"baxis\": {\"gridcolor\": \"white\", \"linecolor\": \"white\", \"ticks\": \"\"}, \"bgcolor\": \"#E5ECF6\", \"caxis\": {\"gridcolor\": \"white\", \"linecolor\": \"white\", \"ticks\": \"\"}}, \"title\": {\"x\": 0.05}, \"xaxis\": {\"automargin\": true, \"gridcolor\": \"white\", \"linecolor\": \"white\", \"ticks\": \"\", \"title\": {\"standoff\": 15}, \"zerolinecolor\": \"white\", \"zerolinewidth\": 2}, \"yaxis\": {\"automargin\": true, \"gridcolor\": \"white\", \"linecolor\": \"white\", \"ticks\": \"\", \"title\": {\"standoff\": 15}, \"zerolinecolor\": \"white\", \"zerolinewidth\": 2}}}, \"title\": {\"text\": \"Total Page Views per Date/Medium\"}, \"xaxis\": {\"anchor\": \"y\", \"domain\": [0.0, 1.0], \"title\": {\"text\": \"Date\"}}, \"yaxis\": {\"anchor\": \"x\", \"domain\": [0.0, 1.0], \"title\": {\"text\": \"Pageviews\"}}},\n",
       "                        {\"responsive\": true}\n",
       "                    ).then(function(){\n",
       "                            \n",
       "var gd = document.getElementById('392eb4d7-28ff-49e5-9691-4ea125a065cc');\n",
       "var x = new MutationObserver(function (mutations, observer) {{\n",
       "        var display = window.getComputedStyle(gd).display;\n",
       "        if (!display || display === 'none') {{\n",
       "            console.log([gd, 'removed!']);\n",
       "            Plotly.purge(gd);\n",
       "            observer.disconnect();\n",
       "        }}\n",
       "}});\n",
       "\n",
       "// Listen for the removal of the full notebook cells\n",
       "var notebookContainer = gd.closest('#notebook-container');\n",
       "if (notebookContainer) {{\n",
       "    x.observe(notebookContainer, {childList: true});\n",
       "}}\n",
       "\n",
       "// Listen for the clearing of the current output cell\n",
       "var outputEl = gd.closest('.output');\n",
       "if (outputEl) {{\n",
       "    x.observe(outputEl, {childList: true});\n",
       "}}\n",
       "\n",
       "                        })\n",
       "                };\n",
       "                });\n",
       "            </script>\n",
       "        </div>"
      ]
     },
     "metadata": {},
     "output_type": "display_data"
    },
    {
     "data": {
      "application/vnd.plotly.v1+json": {
       "config": {
        "plotlyServerURL": "https://plot.ly"
       },
       "data": [
        {
         "alignmentgroup": "True",
         "hoverlabel": {
          "namelength": 0
         },
         "hovertemplate": "Medium= (none)<br>Age=%{x}<br>Pageviews=%{y}",
         "legendgroup": " (none)",
         "marker": {
          "color": "#636efa"
         },
         "name": " (none)",
         "offsetgroup": " (none)",
         "orientation": "v",
         "showlegend": true,
         "textposition": "auto",
         "type": "bar",
         "x": [
          "18-24",
          "25-34",
          "35-44",
          "45-54",
          "55-64",
          "65+"
         ],
         "xaxis": "x",
         "y": [
          4922,
          133881,
          58327,
          57415,
          77522,
          52007
         ],
         "yaxis": "y"
        },
        {
         "alignmentgroup": "True",
         "hoverlabel": {
          "namelength": 0
         },
         "hovertemplate": "Medium= (not set)<br>Age=%{x}<br>Pageviews=%{y}",
         "legendgroup": " (not set)",
         "marker": {
          "color": "#EF553B"
         },
         "name": " (not set)",
         "offsetgroup": " (not set)",
         "orientation": "v",
         "showlegend": true,
         "textposition": "auto",
         "type": "bar",
         "x": [
          "25-34",
          "35-44",
          "45-54",
          "55-64",
          "65+"
         ],
         "xaxis": "x",
         "y": [
          125,
          72,
          72,
          62,
          18
         ],
         "yaxis": "y"
        },
        {
         "alignmentgroup": "True",
         "hoverlabel": {
          "namelength": 0
         },
         "hovertemplate": "Medium= DesignTAXI<br>Age=%{x}<br>Pageviews=%{y}",
         "legendgroup": " DesignTAXI",
         "marker": {
          "color": "#00cc96"
         },
         "name": " DesignTAXI",
         "offsetgroup": " DesignTAXI",
         "orientation": "v",
         "showlegend": true,
         "textposition": "auto",
         "type": "bar",
         "x": [
          "25-34",
          "35-44",
          "45-54",
          "55-64",
          "65+"
         ],
         "xaxis": "x",
         "y": [
          228,
          140,
          398,
          495,
          521
         ],
         "yaxis": "y"
        },
        {
         "alignmentgroup": "True",
         "hoverlabel": {
          "namelength": 0
         },
         "hovertemplate": "Medium= cpc<br>Age=%{x}<br>Pageviews=%{y}",
         "legendgroup": " cpc",
         "marker": {
          "color": "#ab63fa"
         },
         "name": " cpc",
         "offsetgroup": " cpc",
         "orientation": "v",
         "showlegend": true,
         "textposition": "auto",
         "type": "bar",
         "x": [
          "18-24",
          "25-34",
          "35-44",
          "45-54",
          "55-64",
          "65+"
         ],
         "xaxis": "x",
         "y": [
          1027,
          5147,
          4585,
          2948,
          1247,
          209
         ],
         "yaxis": "y"
        },
        {
         "alignmentgroup": "True",
         "hoverlabel": {
          "namelength": 0
         },
         "hovertemplate": "Medium= display<br>Age=%{x}<br>Pageviews=%{y}",
         "legendgroup": " display",
         "marker": {
          "color": "#FFA15A"
         },
         "name": " display",
         "offsetgroup": " display",
         "orientation": "v",
         "showlegend": true,
         "textposition": "auto",
         "type": "bar",
         "x": [
          "18-24",
          "25-34",
          "35-44",
          "45-54",
          "55-64"
         ],
         "xaxis": "x",
         "y": [
          643,
          2053,
          734,
          148,
          45
         ],
         "yaxis": "y"
        },
        {
         "alignmentgroup": "True",
         "hoverlabel": {
          "namelength": 0
         },
         "hovertemplate": "Medium= earned-share<br>Age=%{x}<br>Pageviews=%{y}",
         "legendgroup": " earned-share",
         "marker": {
          "color": "#19d3f3"
         },
         "name": " earned-share",
         "offsetgroup": " earned-share",
         "orientation": "v",
         "showlegend": true,
         "textposition": "auto",
         "type": "bar",
         "x": [
          "25-34",
          "35-44",
          "45-54",
          "55-64"
         ],
         "xaxis": "x",
         "y": [
          15282,
          583,
          305,
          321
         ],
         "yaxis": "y"
        },
        {
         "alignmentgroup": "True",
         "hoverlabel": {
          "namelength": 0
         },
         "hovertemplate": "Medium= email<br>Age=%{x}<br>Pageviews=%{y}",
         "legendgroup": " email",
         "marker": {
          "color": "#FF6692"
         },
         "name": " email",
         "offsetgroup": " email",
         "orientation": "v",
         "showlegend": true,
         "textposition": "auto",
         "type": "bar",
         "x": [
          "18-24",
          "25-34",
          "35-44",
          "45-54",
          "55-64",
          "65+"
         ],
         "xaxis": "x",
         "y": [
          54882,
          685262,
          367649,
          363923,
          399536,
          162282
         ],
         "yaxis": "y"
        },
        {
         "alignmentgroup": "True",
         "hoverlabel": {
          "namelength": 0
         },
         "hovertemplate": "Medium= facebook<br>Age=%{x}<br>Pageviews=%{y}",
         "legendgroup": " facebook",
         "marker": {
          "color": "#B6E880"
         },
         "name": " facebook",
         "offsetgroup": " facebook",
         "orientation": "v",
         "showlegend": true,
         "textposition": "auto",
         "type": "bar",
         "x": [
          "18-24",
          "25-34",
          "35-44",
          "45-54",
          "55-64",
          "65+"
         ],
         "xaxis": "x",
         "y": [
          4818,
          35413,
          39211,
          28551,
          20427,
          11139
         ],
         "yaxis": "y"
        },
        {
         "alignmentgroup": "True",
         "hoverlabel": {
          "namelength": 0
         },
         "hovertemplate": "Medium= feed<br>Age=%{x}<br>Pageviews=%{y}",
         "legendgroup": " feed",
         "marker": {
          "color": "#FF97FF"
         },
         "name": " feed",
         "offsetgroup": " feed",
         "orientation": "v",
         "showlegend": true,
         "textposition": "auto",
         "type": "bar",
         "x": [
          "35-44",
          "45-54",
          "55-64",
          "65+"
         ],
         "xaxis": "x",
         "y": [
          262,
          529,
          315,
          140
         ],
         "yaxis": "y"
        },
        {
         "alignmentgroup": "True",
         "hoverlabel": {
          "namelength": 0
         },
         "hovertemplate": "Medium= ig<br>Age=%{x}<br>Pageviews=%{y}",
         "legendgroup": " ig",
         "marker": {
          "color": "#FECB52"
         },
         "name": " ig",
         "offsetgroup": " ig",
         "orientation": "v",
         "showlegend": true,
         "textposition": "auto",
         "type": "bar",
         "x": [
          "25-34",
          "35-44"
         ],
         "xaxis": "x",
         "y": [
          861,
          38
         ],
         "yaxis": "y"
        },
        {
         "alignmentgroup": "True",
         "hoverlabel": {
          "namelength": 0
         },
         "hovertemplate": "Medium= instagram-owned<br>Age=%{x}<br>Pageviews=%{y}",
         "legendgroup": " instagram-owned",
         "marker": {
          "color": "#636efa"
         },
         "name": " instagram-owned",
         "offsetgroup": " instagram-owned",
         "orientation": "v",
         "showlegend": true,
         "textposition": "auto",
         "type": "bar",
         "x": [
          "25-34",
          "35-44",
          "55-64"
         ],
         "xaxis": "x",
         "y": [
          71,
          34,
          14
         ],
         "yaxis": "y"
        },
        {
         "alignmentgroup": "True",
         "hoverlabel": {
          "namelength": 0
         },
         "hovertemplate": "Medium= organic<br>Age=%{x}<br>Pageviews=%{y}",
         "legendgroup": " organic",
         "marker": {
          "color": "#EF553B"
         },
         "name": " organic",
         "offsetgroup": " organic",
         "orientation": "v",
         "showlegend": true,
         "textposition": "auto",
         "type": "bar",
         "x": [
          "18-24",
          "25-34",
          "35-44",
          "45-54",
          "55-64",
          "65+"
         ],
         "xaxis": "x",
         "y": [
          159084,
          899345,
          236854,
          157494,
          142733,
          58691
         ],
         "yaxis": "y"
        },
        {
         "alignmentgroup": "True",
         "hoverlabel": {
          "namelength": 0
         },
         "hovertemplate": "Medium= paid<br>Age=%{x}<br>Pageviews=%{y}",
         "legendgroup": " paid",
         "marker": {
          "color": "#00cc96"
         },
         "name": " paid",
         "offsetgroup": " paid",
         "orientation": "v",
         "showlegend": true,
         "textposition": "auto",
         "type": "bar",
         "x": [
          "18-24",
          "25-34",
          "35-44",
          "45-54",
          "55-64",
          "65+"
         ],
         "xaxis": "x",
         "y": [
          11244,
          60461,
          31116,
          10471,
          4521,
          2455
         ],
         "yaxis": "y"
        },
        {
         "alignmentgroup": "True",
         "hoverlabel": {
          "namelength": 0
         },
         "hovertemplate": "Medium= referral<br>Age=%{x}<br>Pageviews=%{y}",
         "legendgroup": " referral",
         "marker": {
          "color": "#ab63fa"
         },
         "name": " referral",
         "offsetgroup": " referral",
         "orientation": "v",
         "showlegend": true,
         "textposition": "auto",
         "type": "bar",
         "x": [
          "18-24",
          "25-34",
          "35-44",
          "45-54",
          "55-64",
          "65+"
         ],
         "xaxis": "x",
         "y": [
          215497,
          2466030,
          1960434,
          1472783,
          1274561,
          481188
         ],
         "yaxis": "y"
        },
        {
         "alignmentgroup": "True",
         "hoverlabel": {
          "namelength": 0
         },
         "hovertemplate": "Medium= social<br>Age=%{x}<br>Pageviews=%{y}",
         "legendgroup": " social",
         "marker": {
          "color": "#FFA15A"
         },
         "name": " social",
         "offsetgroup": " social",
         "orientation": "v",
         "showlegend": true,
         "textposition": "auto",
         "type": "bar",
         "x": [
          "18-24",
          "25-34",
          "35-44",
          "45-54",
          "55-64",
          "65+"
         ],
         "xaxis": "x",
         "y": [
          6262,
          108317,
          116206,
          79355,
          54349,
          22483
         ],
         "yaxis": "y"
        }
       ],
       "layout": {
        "barmode": "relative",
        "legend": {
         "title": {
          "text": "Medium"
         },
         "tracegroupgap": 0
        },
        "template": {
         "data": {
          "bar": [
           {
            "error_x": {
             "color": "#2a3f5f"
            },
            "error_y": {
             "color": "#2a3f5f"
            },
            "marker": {
             "line": {
              "color": "#E5ECF6",
              "width": 0.5
             }
            },
            "type": "bar"
           }
          ],
          "barpolar": [
           {
            "marker": {
             "line": {
              "color": "#E5ECF6",
              "width": 0.5
             }
            },
            "type": "barpolar"
           }
          ],
          "carpet": [
           {
            "aaxis": {
             "endlinecolor": "#2a3f5f",
             "gridcolor": "white",
             "linecolor": "white",
             "minorgridcolor": "white",
             "startlinecolor": "#2a3f5f"
            },
            "baxis": {
             "endlinecolor": "#2a3f5f",
             "gridcolor": "white",
             "linecolor": "white",
             "minorgridcolor": "white",
             "startlinecolor": "#2a3f5f"
            },
            "type": "carpet"
           }
          ],
          "choropleth": [
           {
            "colorbar": {
             "outlinewidth": 0,
             "ticks": ""
            },
            "type": "choropleth"
           }
          ],
          "contour": [
           {
            "colorbar": {
             "outlinewidth": 0,
             "ticks": ""
            },
            "colorscale": [
             [
              0,
              "#0d0887"
             ],
             [
              0.1111111111111111,
              "#46039f"
             ],
             [
              0.2222222222222222,
              "#7201a8"
             ],
             [
              0.3333333333333333,
              "#9c179e"
             ],
             [
              0.4444444444444444,
              "#bd3786"
             ],
             [
              0.5555555555555556,
              "#d8576b"
             ],
             [
              0.6666666666666666,
              "#ed7953"
             ],
             [
              0.7777777777777778,
              "#fb9f3a"
             ],
             [
              0.8888888888888888,
              "#fdca26"
             ],
             [
              1,
              "#f0f921"
             ]
            ],
            "type": "contour"
           }
          ],
          "contourcarpet": [
           {
            "colorbar": {
             "outlinewidth": 0,
             "ticks": ""
            },
            "type": "contourcarpet"
           }
          ],
          "heatmap": [
           {
            "colorbar": {
             "outlinewidth": 0,
             "ticks": ""
            },
            "colorscale": [
             [
              0,
              "#0d0887"
             ],
             [
              0.1111111111111111,
              "#46039f"
             ],
             [
              0.2222222222222222,
              "#7201a8"
             ],
             [
              0.3333333333333333,
              "#9c179e"
             ],
             [
              0.4444444444444444,
              "#bd3786"
             ],
             [
              0.5555555555555556,
              "#d8576b"
             ],
             [
              0.6666666666666666,
              "#ed7953"
             ],
             [
              0.7777777777777778,
              "#fb9f3a"
             ],
             [
              0.8888888888888888,
              "#fdca26"
             ],
             [
              1,
              "#f0f921"
             ]
            ],
            "type": "heatmap"
           }
          ],
          "heatmapgl": [
           {
            "colorbar": {
             "outlinewidth": 0,
             "ticks": ""
            },
            "colorscale": [
             [
              0,
              "#0d0887"
             ],
             [
              0.1111111111111111,
              "#46039f"
             ],
             [
              0.2222222222222222,
              "#7201a8"
             ],
             [
              0.3333333333333333,
              "#9c179e"
             ],
             [
              0.4444444444444444,
              "#bd3786"
             ],
             [
              0.5555555555555556,
              "#d8576b"
             ],
             [
              0.6666666666666666,
              "#ed7953"
             ],
             [
              0.7777777777777778,
              "#fb9f3a"
             ],
             [
              0.8888888888888888,
              "#fdca26"
             ],
             [
              1,
              "#f0f921"
             ]
            ],
            "type": "heatmapgl"
           }
          ],
          "histogram": [
           {
            "marker": {
             "colorbar": {
              "outlinewidth": 0,
              "ticks": ""
             }
            },
            "type": "histogram"
           }
          ],
          "histogram2d": [
           {
            "colorbar": {
             "outlinewidth": 0,
             "ticks": ""
            },
            "colorscale": [
             [
              0,
              "#0d0887"
             ],
             [
              0.1111111111111111,
              "#46039f"
             ],
             [
              0.2222222222222222,
              "#7201a8"
             ],
             [
              0.3333333333333333,
              "#9c179e"
             ],
             [
              0.4444444444444444,
              "#bd3786"
             ],
             [
              0.5555555555555556,
              "#d8576b"
             ],
             [
              0.6666666666666666,
              "#ed7953"
             ],
             [
              0.7777777777777778,
              "#fb9f3a"
             ],
             [
              0.8888888888888888,
              "#fdca26"
             ],
             [
              1,
              "#f0f921"
             ]
            ],
            "type": "histogram2d"
           }
          ],
          "histogram2dcontour": [
           {
            "colorbar": {
             "outlinewidth": 0,
             "ticks": ""
            },
            "colorscale": [
             [
              0,
              "#0d0887"
             ],
             [
              0.1111111111111111,
              "#46039f"
             ],
             [
              0.2222222222222222,
              "#7201a8"
             ],
             [
              0.3333333333333333,
              "#9c179e"
             ],
             [
              0.4444444444444444,
              "#bd3786"
             ],
             [
              0.5555555555555556,
              "#d8576b"
             ],
             [
              0.6666666666666666,
              "#ed7953"
             ],
             [
              0.7777777777777778,
              "#fb9f3a"
             ],
             [
              0.8888888888888888,
              "#fdca26"
             ],
             [
              1,
              "#f0f921"
             ]
            ],
            "type": "histogram2dcontour"
           }
          ],
          "mesh3d": [
           {
            "colorbar": {
             "outlinewidth": 0,
             "ticks": ""
            },
            "type": "mesh3d"
           }
          ],
          "parcoords": [
           {
            "line": {
             "colorbar": {
              "outlinewidth": 0,
              "ticks": ""
             }
            },
            "type": "parcoords"
           }
          ],
          "pie": [
           {
            "automargin": true,
            "type": "pie"
           }
          ],
          "scatter": [
           {
            "marker": {
             "colorbar": {
              "outlinewidth": 0,
              "ticks": ""
             }
            },
            "type": "scatter"
           }
          ],
          "scatter3d": [
           {
            "line": {
             "colorbar": {
              "outlinewidth": 0,
              "ticks": ""
             }
            },
            "marker": {
             "colorbar": {
              "outlinewidth": 0,
              "ticks": ""
             }
            },
            "type": "scatter3d"
           }
          ],
          "scattercarpet": [
           {
            "marker": {
             "colorbar": {
              "outlinewidth": 0,
              "ticks": ""
             }
            },
            "type": "scattercarpet"
           }
          ],
          "scattergeo": [
           {
            "marker": {
             "colorbar": {
              "outlinewidth": 0,
              "ticks": ""
             }
            },
            "type": "scattergeo"
           }
          ],
          "scattergl": [
           {
            "marker": {
             "colorbar": {
              "outlinewidth": 0,
              "ticks": ""
             }
            },
            "type": "scattergl"
           }
          ],
          "scattermapbox": [
           {
            "marker": {
             "colorbar": {
              "outlinewidth": 0,
              "ticks": ""
             }
            },
            "type": "scattermapbox"
           }
          ],
          "scatterpolar": [
           {
            "marker": {
             "colorbar": {
              "outlinewidth": 0,
              "ticks": ""
             }
            },
            "type": "scatterpolar"
           }
          ],
          "scatterpolargl": [
           {
            "marker": {
             "colorbar": {
              "outlinewidth": 0,
              "ticks": ""
             }
            },
            "type": "scatterpolargl"
           }
          ],
          "scatterternary": [
           {
            "marker": {
             "colorbar": {
              "outlinewidth": 0,
              "ticks": ""
             }
            },
            "type": "scatterternary"
           }
          ],
          "surface": [
           {
            "colorbar": {
             "outlinewidth": 0,
             "ticks": ""
            },
            "colorscale": [
             [
              0,
              "#0d0887"
             ],
             [
              0.1111111111111111,
              "#46039f"
             ],
             [
              0.2222222222222222,
              "#7201a8"
             ],
             [
              0.3333333333333333,
              "#9c179e"
             ],
             [
              0.4444444444444444,
              "#bd3786"
             ],
             [
              0.5555555555555556,
              "#d8576b"
             ],
             [
              0.6666666666666666,
              "#ed7953"
             ],
             [
              0.7777777777777778,
              "#fb9f3a"
             ],
             [
              0.8888888888888888,
              "#fdca26"
             ],
             [
              1,
              "#f0f921"
             ]
            ],
            "type": "surface"
           }
          ],
          "table": [
           {
            "cells": {
             "fill": {
              "color": "#EBF0F8"
             },
             "line": {
              "color": "white"
             }
            },
            "header": {
             "fill": {
              "color": "#C8D4E3"
             },
             "line": {
              "color": "white"
             }
            },
            "type": "table"
           }
          ]
         },
         "layout": {
          "annotationdefaults": {
           "arrowcolor": "#2a3f5f",
           "arrowhead": 0,
           "arrowwidth": 1
          },
          "coloraxis": {
           "colorbar": {
            "outlinewidth": 0,
            "ticks": ""
           }
          },
          "colorscale": {
           "diverging": [
            [
             0,
             "#8e0152"
            ],
            [
             0.1,
             "#c51b7d"
            ],
            [
             0.2,
             "#de77ae"
            ],
            [
             0.3,
             "#f1b6da"
            ],
            [
             0.4,
             "#fde0ef"
            ],
            [
             0.5,
             "#f7f7f7"
            ],
            [
             0.6,
             "#e6f5d0"
            ],
            [
             0.7,
             "#b8e186"
            ],
            [
             0.8,
             "#7fbc41"
            ],
            [
             0.9,
             "#4d9221"
            ],
            [
             1,
             "#276419"
            ]
           ],
           "sequential": [
            [
             0,
             "#0d0887"
            ],
            [
             0.1111111111111111,
             "#46039f"
            ],
            [
             0.2222222222222222,
             "#7201a8"
            ],
            [
             0.3333333333333333,
             "#9c179e"
            ],
            [
             0.4444444444444444,
             "#bd3786"
            ],
            [
             0.5555555555555556,
             "#d8576b"
            ],
            [
             0.6666666666666666,
             "#ed7953"
            ],
            [
             0.7777777777777778,
             "#fb9f3a"
            ],
            [
             0.8888888888888888,
             "#fdca26"
            ],
            [
             1,
             "#f0f921"
            ]
           ],
           "sequentialminus": [
            [
             0,
             "#0d0887"
            ],
            [
             0.1111111111111111,
             "#46039f"
            ],
            [
             0.2222222222222222,
             "#7201a8"
            ],
            [
             0.3333333333333333,
             "#9c179e"
            ],
            [
             0.4444444444444444,
             "#bd3786"
            ],
            [
             0.5555555555555556,
             "#d8576b"
            ],
            [
             0.6666666666666666,
             "#ed7953"
            ],
            [
             0.7777777777777778,
             "#fb9f3a"
            ],
            [
             0.8888888888888888,
             "#fdca26"
            ],
            [
             1,
             "#f0f921"
            ]
           ]
          },
          "colorway": [
           "#636efa",
           "#EF553B",
           "#00cc96",
           "#ab63fa",
           "#FFA15A",
           "#19d3f3",
           "#FF6692",
           "#B6E880",
           "#FF97FF",
           "#FECB52"
          ],
          "font": {
           "color": "#2a3f5f"
          },
          "geo": {
           "bgcolor": "white",
           "lakecolor": "white",
           "landcolor": "#E5ECF6",
           "showlakes": true,
           "showland": true,
           "subunitcolor": "white"
          },
          "hoverlabel": {
           "align": "left"
          },
          "hovermode": "closest",
          "mapbox": {
           "style": "light"
          },
          "paper_bgcolor": "white",
          "plot_bgcolor": "#E5ECF6",
          "polar": {
           "angularaxis": {
            "gridcolor": "white",
            "linecolor": "white",
            "ticks": ""
           },
           "bgcolor": "#E5ECF6",
           "radialaxis": {
            "gridcolor": "white",
            "linecolor": "white",
            "ticks": ""
           }
          },
          "scene": {
           "xaxis": {
            "backgroundcolor": "#E5ECF6",
            "gridcolor": "white",
            "gridwidth": 2,
            "linecolor": "white",
            "showbackground": true,
            "ticks": "",
            "zerolinecolor": "white"
           },
           "yaxis": {
            "backgroundcolor": "#E5ECF6",
            "gridcolor": "white",
            "gridwidth": 2,
            "linecolor": "white",
            "showbackground": true,
            "ticks": "",
            "zerolinecolor": "white"
           },
           "zaxis": {
            "backgroundcolor": "#E5ECF6",
            "gridcolor": "white",
            "gridwidth": 2,
            "linecolor": "white",
            "showbackground": true,
            "ticks": "",
            "zerolinecolor": "white"
           }
          },
          "shapedefaults": {
           "line": {
            "color": "#2a3f5f"
           }
          },
          "ternary": {
           "aaxis": {
            "gridcolor": "white",
            "linecolor": "white",
            "ticks": ""
           },
           "baxis": {
            "gridcolor": "white",
            "linecolor": "white",
            "ticks": ""
           },
           "bgcolor": "#E5ECF6",
           "caxis": {
            "gridcolor": "white",
            "linecolor": "white",
            "ticks": ""
           }
          },
          "title": {
           "x": 0.05
          },
          "xaxis": {
           "automargin": true,
           "gridcolor": "white",
           "linecolor": "white",
           "ticks": "",
           "title": {
            "standoff": 15
           },
           "zerolinecolor": "white",
           "zerolinewidth": 2
          },
          "yaxis": {
           "automargin": true,
           "gridcolor": "white",
           "linecolor": "white",
           "ticks": "",
           "title": {
            "standoff": 15
           },
           "zerolinecolor": "white",
           "zerolinewidth": 2
          }
         }
        },
        "title": {
         "text": "Total Page Views per Medium/Age Group"
        },
        "xaxis": {
         "anchor": "y",
         "domain": [
          0,
          1
         ],
         "title": {
          "text": "Age"
         }
        },
        "yaxis": {
         "anchor": "x",
         "domain": [
          0,
          1
         ],
         "title": {
          "text": "Pageviews"
         }
        }
       }
      },
      "text/html": [
       "<div>\n",
       "        \n",
       "        \n",
       "            <div id=\"7b51eae1-6c9b-4871-b739-fdf42183a766\" class=\"plotly-graph-div\" style=\"height:525px; width:100%;\"></div>\n",
       "            <script type=\"text/javascript\">\n",
       "                require([\"plotly\"], function(Plotly) {\n",
       "                    window.PLOTLYENV=window.PLOTLYENV || {};\n",
       "                    \n",
       "                if (document.getElementById(\"7b51eae1-6c9b-4871-b739-fdf42183a766\")) {\n",
       "                    Plotly.newPlot(\n",
       "                        '7b51eae1-6c9b-4871-b739-fdf42183a766',\n",
       "                        [{\"alignmentgroup\": \"True\", \"hoverlabel\": {\"namelength\": 0}, \"hovertemplate\": \"Medium= (none)<br>Age=%{x}<br>Pageviews=%{y}\", \"legendgroup\": \" (none)\", \"marker\": {\"color\": \"#636efa\"}, \"name\": \" (none)\", \"offsetgroup\": \" (none)\", \"orientation\": \"v\", \"showlegend\": true, \"textposition\": \"auto\", \"type\": \"bar\", \"x\": [\"18-24\", \"25-34\", \"35-44\", \"45-54\", \"55-64\", \"65+\"], \"xaxis\": \"x\", \"y\": [4922, 133881, 58327, 57415, 77522, 52007], \"yaxis\": \"y\"}, {\"alignmentgroup\": \"True\", \"hoverlabel\": {\"namelength\": 0}, \"hovertemplate\": \"Medium= (not set)<br>Age=%{x}<br>Pageviews=%{y}\", \"legendgroup\": \" (not set)\", \"marker\": {\"color\": \"#EF553B\"}, \"name\": \" (not set)\", \"offsetgroup\": \" (not set)\", \"orientation\": \"v\", \"showlegend\": true, \"textposition\": \"auto\", \"type\": \"bar\", \"x\": [\"25-34\", \"35-44\", \"45-54\", \"55-64\", \"65+\"], \"xaxis\": \"x\", \"y\": [125, 72, 72, 62, 18], \"yaxis\": \"y\"}, {\"alignmentgroup\": \"True\", \"hoverlabel\": {\"namelength\": 0}, \"hovertemplate\": \"Medium= DesignTAXI<br>Age=%{x}<br>Pageviews=%{y}\", \"legendgroup\": \" DesignTAXI\", \"marker\": {\"color\": \"#00cc96\"}, \"name\": \" DesignTAXI\", \"offsetgroup\": \" DesignTAXI\", \"orientation\": \"v\", \"showlegend\": true, \"textposition\": \"auto\", \"type\": \"bar\", \"x\": [\"25-34\", \"35-44\", \"45-54\", \"55-64\", \"65+\"], \"xaxis\": \"x\", \"y\": [228, 140, 398, 495, 521], \"yaxis\": \"y\"}, {\"alignmentgroup\": \"True\", \"hoverlabel\": {\"namelength\": 0}, \"hovertemplate\": \"Medium= cpc<br>Age=%{x}<br>Pageviews=%{y}\", \"legendgroup\": \" cpc\", \"marker\": {\"color\": \"#ab63fa\"}, \"name\": \" cpc\", \"offsetgroup\": \" cpc\", \"orientation\": \"v\", \"showlegend\": true, \"textposition\": \"auto\", \"type\": \"bar\", \"x\": [\"18-24\", \"25-34\", \"35-44\", \"45-54\", \"55-64\", \"65+\"], \"xaxis\": \"x\", \"y\": [1027, 5147, 4585, 2948, 1247, 209], \"yaxis\": \"y\"}, {\"alignmentgroup\": \"True\", \"hoverlabel\": {\"namelength\": 0}, \"hovertemplate\": \"Medium= display<br>Age=%{x}<br>Pageviews=%{y}\", \"legendgroup\": \" display\", \"marker\": {\"color\": \"#FFA15A\"}, \"name\": \" display\", \"offsetgroup\": \" display\", \"orientation\": \"v\", \"showlegend\": true, \"textposition\": \"auto\", \"type\": \"bar\", \"x\": [\"18-24\", \"25-34\", \"35-44\", \"45-54\", \"55-64\"], \"xaxis\": \"x\", \"y\": [643, 2053, 734, 148, 45], \"yaxis\": \"y\"}, {\"alignmentgroup\": \"True\", \"hoverlabel\": {\"namelength\": 0}, \"hovertemplate\": \"Medium= earned-share<br>Age=%{x}<br>Pageviews=%{y}\", \"legendgroup\": \" earned-share\", \"marker\": {\"color\": \"#19d3f3\"}, \"name\": \" earned-share\", \"offsetgroup\": \" earned-share\", \"orientation\": \"v\", \"showlegend\": true, \"textposition\": \"auto\", \"type\": \"bar\", \"x\": [\"25-34\", \"35-44\", \"45-54\", \"55-64\"], \"xaxis\": \"x\", \"y\": [15282, 583, 305, 321], \"yaxis\": \"y\"}, {\"alignmentgroup\": \"True\", \"hoverlabel\": {\"namelength\": 0}, \"hovertemplate\": \"Medium= email<br>Age=%{x}<br>Pageviews=%{y}\", \"legendgroup\": \" email\", \"marker\": {\"color\": \"#FF6692\"}, \"name\": \" email\", \"offsetgroup\": \" email\", \"orientation\": \"v\", \"showlegend\": true, \"textposition\": \"auto\", \"type\": \"bar\", \"x\": [\"18-24\", \"25-34\", \"35-44\", \"45-54\", \"55-64\", \"65+\"], \"xaxis\": \"x\", \"y\": [54882, 685262, 367649, 363923, 399536, 162282], \"yaxis\": \"y\"}, {\"alignmentgroup\": \"True\", \"hoverlabel\": {\"namelength\": 0}, \"hovertemplate\": \"Medium= facebook<br>Age=%{x}<br>Pageviews=%{y}\", \"legendgroup\": \" facebook\", \"marker\": {\"color\": \"#B6E880\"}, \"name\": \" facebook\", \"offsetgroup\": \" facebook\", \"orientation\": \"v\", \"showlegend\": true, \"textposition\": \"auto\", \"type\": \"bar\", \"x\": [\"18-24\", \"25-34\", \"35-44\", \"45-54\", \"55-64\", \"65+\"], \"xaxis\": \"x\", \"y\": [4818, 35413, 39211, 28551, 20427, 11139], \"yaxis\": \"y\"}, {\"alignmentgroup\": \"True\", \"hoverlabel\": {\"namelength\": 0}, \"hovertemplate\": \"Medium= feed<br>Age=%{x}<br>Pageviews=%{y}\", \"legendgroup\": \" feed\", \"marker\": {\"color\": \"#FF97FF\"}, \"name\": \" feed\", \"offsetgroup\": \" feed\", \"orientation\": \"v\", \"showlegend\": true, \"textposition\": \"auto\", \"type\": \"bar\", \"x\": [\"35-44\", \"45-54\", \"55-64\", \"65+\"], \"xaxis\": \"x\", \"y\": [262, 529, 315, 140], \"yaxis\": \"y\"}, {\"alignmentgroup\": \"True\", \"hoverlabel\": {\"namelength\": 0}, \"hovertemplate\": \"Medium= ig<br>Age=%{x}<br>Pageviews=%{y}\", \"legendgroup\": \" ig\", \"marker\": {\"color\": \"#FECB52\"}, \"name\": \" ig\", \"offsetgroup\": \" ig\", \"orientation\": \"v\", \"showlegend\": true, \"textposition\": \"auto\", \"type\": \"bar\", \"x\": [\"25-34\", \"35-44\"], \"xaxis\": \"x\", \"y\": [861, 38], \"yaxis\": \"y\"}, {\"alignmentgroup\": \"True\", \"hoverlabel\": {\"namelength\": 0}, \"hovertemplate\": \"Medium= instagram-owned<br>Age=%{x}<br>Pageviews=%{y}\", \"legendgroup\": \" instagram-owned\", \"marker\": {\"color\": \"#636efa\"}, \"name\": \" instagram-owned\", \"offsetgroup\": \" instagram-owned\", \"orientation\": \"v\", \"showlegend\": true, \"textposition\": \"auto\", \"type\": \"bar\", \"x\": [\"25-34\", \"35-44\", \"55-64\"], \"xaxis\": \"x\", \"y\": [71, 34, 14], \"yaxis\": \"y\"}, {\"alignmentgroup\": \"True\", \"hoverlabel\": {\"namelength\": 0}, \"hovertemplate\": \"Medium= organic<br>Age=%{x}<br>Pageviews=%{y}\", \"legendgroup\": \" organic\", \"marker\": {\"color\": \"#EF553B\"}, \"name\": \" organic\", \"offsetgroup\": \" organic\", \"orientation\": \"v\", \"showlegend\": true, \"textposition\": \"auto\", \"type\": \"bar\", \"x\": [\"18-24\", \"25-34\", \"35-44\", \"45-54\", \"55-64\", \"65+\"], \"xaxis\": \"x\", \"y\": [159084, 899345, 236854, 157494, 142733, 58691], \"yaxis\": \"y\"}, {\"alignmentgroup\": \"True\", \"hoverlabel\": {\"namelength\": 0}, \"hovertemplate\": \"Medium= paid<br>Age=%{x}<br>Pageviews=%{y}\", \"legendgroup\": \" paid\", \"marker\": {\"color\": \"#00cc96\"}, \"name\": \" paid\", \"offsetgroup\": \" paid\", \"orientation\": \"v\", \"showlegend\": true, \"textposition\": \"auto\", \"type\": \"bar\", \"x\": [\"18-24\", \"25-34\", \"35-44\", \"45-54\", \"55-64\", \"65+\"], \"xaxis\": \"x\", \"y\": [11244, 60461, 31116, 10471, 4521, 2455], \"yaxis\": \"y\"}, {\"alignmentgroup\": \"True\", \"hoverlabel\": {\"namelength\": 0}, \"hovertemplate\": \"Medium= referral<br>Age=%{x}<br>Pageviews=%{y}\", \"legendgroup\": \" referral\", \"marker\": {\"color\": \"#ab63fa\"}, \"name\": \" referral\", \"offsetgroup\": \" referral\", \"orientation\": \"v\", \"showlegend\": true, \"textposition\": \"auto\", \"type\": \"bar\", \"x\": [\"18-24\", \"25-34\", \"35-44\", \"45-54\", \"55-64\", \"65+\"], \"xaxis\": \"x\", \"y\": [215497, 2466030, 1960434, 1472783, 1274561, 481188], \"yaxis\": \"y\"}, {\"alignmentgroup\": \"True\", \"hoverlabel\": {\"namelength\": 0}, \"hovertemplate\": \"Medium= social<br>Age=%{x}<br>Pageviews=%{y}\", \"legendgroup\": \" social\", \"marker\": {\"color\": \"#FFA15A\"}, \"name\": \" social\", \"offsetgroup\": \" social\", \"orientation\": \"v\", \"showlegend\": true, \"textposition\": \"auto\", \"type\": \"bar\", \"x\": [\"18-24\", \"25-34\", \"35-44\", \"45-54\", \"55-64\", \"65+\"], \"xaxis\": \"x\", \"y\": [6262, 108317, 116206, 79355, 54349, 22483], \"yaxis\": \"y\"}],\n",
       "                        {\"barmode\": \"relative\", \"legend\": {\"title\": {\"text\": \"Medium\"}, \"tracegroupgap\": 0}, \"template\": {\"data\": {\"bar\": [{\"error_x\": {\"color\": \"#2a3f5f\"}, \"error_y\": {\"color\": \"#2a3f5f\"}, \"marker\": {\"line\": {\"color\": \"#E5ECF6\", \"width\": 0.5}}, \"type\": \"bar\"}], \"barpolar\": [{\"marker\": {\"line\": {\"color\": \"#E5ECF6\", \"width\": 0.5}}, \"type\": \"barpolar\"}], \"carpet\": [{\"aaxis\": {\"endlinecolor\": \"#2a3f5f\", \"gridcolor\": \"white\", \"linecolor\": \"white\", \"minorgridcolor\": \"white\", \"startlinecolor\": \"#2a3f5f\"}, \"baxis\": {\"endlinecolor\": \"#2a3f5f\", \"gridcolor\": \"white\", \"linecolor\": \"white\", \"minorgridcolor\": \"white\", \"startlinecolor\": \"#2a3f5f\"}, \"type\": \"carpet\"}], \"choropleth\": [{\"colorbar\": {\"outlinewidth\": 0, \"ticks\": \"\"}, \"type\": \"choropleth\"}], \"contour\": [{\"colorbar\": {\"outlinewidth\": 0, \"ticks\": \"\"}, \"colorscale\": [[0.0, \"#0d0887\"], [0.1111111111111111, \"#46039f\"], [0.2222222222222222, \"#7201a8\"], [0.3333333333333333, \"#9c179e\"], [0.4444444444444444, \"#bd3786\"], [0.5555555555555556, \"#d8576b\"], [0.6666666666666666, \"#ed7953\"], [0.7777777777777778, \"#fb9f3a\"], [0.8888888888888888, \"#fdca26\"], [1.0, \"#f0f921\"]], \"type\": \"contour\"}], \"contourcarpet\": [{\"colorbar\": {\"outlinewidth\": 0, \"ticks\": \"\"}, \"type\": \"contourcarpet\"}], \"heatmap\": [{\"colorbar\": {\"outlinewidth\": 0, \"ticks\": \"\"}, \"colorscale\": [[0.0, \"#0d0887\"], [0.1111111111111111, \"#46039f\"], [0.2222222222222222, \"#7201a8\"], [0.3333333333333333, \"#9c179e\"], [0.4444444444444444, \"#bd3786\"], [0.5555555555555556, \"#d8576b\"], [0.6666666666666666, \"#ed7953\"], [0.7777777777777778, \"#fb9f3a\"], [0.8888888888888888, \"#fdca26\"], [1.0, \"#f0f921\"]], \"type\": \"heatmap\"}], \"heatmapgl\": [{\"colorbar\": {\"outlinewidth\": 0, \"ticks\": \"\"}, \"colorscale\": [[0.0, \"#0d0887\"], [0.1111111111111111, \"#46039f\"], [0.2222222222222222, \"#7201a8\"], [0.3333333333333333, \"#9c179e\"], [0.4444444444444444, \"#bd3786\"], [0.5555555555555556, \"#d8576b\"], [0.6666666666666666, \"#ed7953\"], [0.7777777777777778, \"#fb9f3a\"], [0.8888888888888888, \"#fdca26\"], [1.0, \"#f0f921\"]], \"type\": \"heatmapgl\"}], \"histogram\": [{\"marker\": {\"colorbar\": {\"outlinewidth\": 0, \"ticks\": \"\"}}, \"type\": \"histogram\"}], \"histogram2d\": [{\"colorbar\": {\"outlinewidth\": 0, \"ticks\": \"\"}, \"colorscale\": [[0.0, \"#0d0887\"], [0.1111111111111111, \"#46039f\"], [0.2222222222222222, \"#7201a8\"], [0.3333333333333333, \"#9c179e\"], [0.4444444444444444, \"#bd3786\"], [0.5555555555555556, \"#d8576b\"], [0.6666666666666666, \"#ed7953\"], [0.7777777777777778, \"#fb9f3a\"], [0.8888888888888888, \"#fdca26\"], [1.0, \"#f0f921\"]], \"type\": \"histogram2d\"}], \"histogram2dcontour\": [{\"colorbar\": {\"outlinewidth\": 0, \"ticks\": \"\"}, \"colorscale\": [[0.0, \"#0d0887\"], [0.1111111111111111, \"#46039f\"], [0.2222222222222222, \"#7201a8\"], [0.3333333333333333, \"#9c179e\"], [0.4444444444444444, \"#bd3786\"], [0.5555555555555556, \"#d8576b\"], [0.6666666666666666, \"#ed7953\"], [0.7777777777777778, \"#fb9f3a\"], [0.8888888888888888, \"#fdca26\"], [1.0, \"#f0f921\"]], \"type\": \"histogram2dcontour\"}], \"mesh3d\": [{\"colorbar\": {\"outlinewidth\": 0, \"ticks\": \"\"}, \"type\": \"mesh3d\"}], \"parcoords\": [{\"line\": {\"colorbar\": {\"outlinewidth\": 0, \"ticks\": \"\"}}, \"type\": \"parcoords\"}], \"pie\": [{\"automargin\": true, \"type\": \"pie\"}], \"scatter\": [{\"marker\": {\"colorbar\": {\"outlinewidth\": 0, \"ticks\": \"\"}}, \"type\": \"scatter\"}], \"scatter3d\": [{\"line\": {\"colorbar\": {\"outlinewidth\": 0, \"ticks\": \"\"}}, \"marker\": {\"colorbar\": {\"outlinewidth\": 0, \"ticks\": \"\"}}, \"type\": \"scatter3d\"}], \"scattercarpet\": [{\"marker\": {\"colorbar\": {\"outlinewidth\": 0, \"ticks\": \"\"}}, \"type\": \"scattercarpet\"}], \"scattergeo\": [{\"marker\": {\"colorbar\": {\"outlinewidth\": 0, \"ticks\": \"\"}}, \"type\": \"scattergeo\"}], \"scattergl\": [{\"marker\": {\"colorbar\": {\"outlinewidth\": 0, \"ticks\": \"\"}}, \"type\": \"scattergl\"}], \"scattermapbox\": [{\"marker\": {\"colorbar\": {\"outlinewidth\": 0, \"ticks\": \"\"}}, \"type\": \"scattermapbox\"}], \"scatterpolar\": [{\"marker\": {\"colorbar\": {\"outlinewidth\": 0, \"ticks\": \"\"}}, \"type\": \"scatterpolar\"}], \"scatterpolargl\": [{\"marker\": {\"colorbar\": {\"outlinewidth\": 0, \"ticks\": \"\"}}, \"type\": \"scatterpolargl\"}], \"scatterternary\": [{\"marker\": {\"colorbar\": {\"outlinewidth\": 0, \"ticks\": \"\"}}, \"type\": \"scatterternary\"}], \"surface\": [{\"colorbar\": {\"outlinewidth\": 0, \"ticks\": \"\"}, \"colorscale\": [[0.0, \"#0d0887\"], [0.1111111111111111, \"#46039f\"], [0.2222222222222222, \"#7201a8\"], [0.3333333333333333, \"#9c179e\"], [0.4444444444444444, \"#bd3786\"], [0.5555555555555556, \"#d8576b\"], [0.6666666666666666, \"#ed7953\"], [0.7777777777777778, \"#fb9f3a\"], [0.8888888888888888, \"#fdca26\"], [1.0, \"#f0f921\"]], \"type\": \"surface\"}], \"table\": [{\"cells\": {\"fill\": {\"color\": \"#EBF0F8\"}, \"line\": {\"color\": \"white\"}}, \"header\": {\"fill\": {\"color\": \"#C8D4E3\"}, \"line\": {\"color\": \"white\"}}, \"type\": \"table\"}]}, \"layout\": {\"annotationdefaults\": {\"arrowcolor\": \"#2a3f5f\", \"arrowhead\": 0, \"arrowwidth\": 1}, \"coloraxis\": {\"colorbar\": {\"outlinewidth\": 0, \"ticks\": \"\"}}, \"colorscale\": {\"diverging\": [[0, \"#8e0152\"], [0.1, \"#c51b7d\"], [0.2, \"#de77ae\"], [0.3, \"#f1b6da\"], [0.4, \"#fde0ef\"], [0.5, \"#f7f7f7\"], [0.6, \"#e6f5d0\"], [0.7, \"#b8e186\"], [0.8, \"#7fbc41\"], [0.9, \"#4d9221\"], [1, \"#276419\"]], \"sequential\": [[0.0, \"#0d0887\"], [0.1111111111111111, \"#46039f\"], [0.2222222222222222, \"#7201a8\"], [0.3333333333333333, \"#9c179e\"], [0.4444444444444444, \"#bd3786\"], [0.5555555555555556, \"#d8576b\"], [0.6666666666666666, \"#ed7953\"], [0.7777777777777778, \"#fb9f3a\"], [0.8888888888888888, \"#fdca26\"], [1.0, \"#f0f921\"]], \"sequentialminus\": [[0.0, \"#0d0887\"], [0.1111111111111111, \"#46039f\"], [0.2222222222222222, \"#7201a8\"], [0.3333333333333333, \"#9c179e\"], [0.4444444444444444, \"#bd3786\"], [0.5555555555555556, \"#d8576b\"], [0.6666666666666666, \"#ed7953\"], [0.7777777777777778, \"#fb9f3a\"], [0.8888888888888888, \"#fdca26\"], [1.0, \"#f0f921\"]]}, \"colorway\": [\"#636efa\", \"#EF553B\", \"#00cc96\", \"#ab63fa\", \"#FFA15A\", \"#19d3f3\", \"#FF6692\", \"#B6E880\", \"#FF97FF\", \"#FECB52\"], \"font\": {\"color\": \"#2a3f5f\"}, \"geo\": {\"bgcolor\": \"white\", \"lakecolor\": \"white\", \"landcolor\": \"#E5ECF6\", \"showlakes\": true, \"showland\": true, \"subunitcolor\": \"white\"}, \"hoverlabel\": {\"align\": \"left\"}, \"hovermode\": \"closest\", \"mapbox\": {\"style\": \"light\"}, \"paper_bgcolor\": \"white\", \"plot_bgcolor\": \"#E5ECF6\", \"polar\": {\"angularaxis\": {\"gridcolor\": \"white\", \"linecolor\": \"white\", \"ticks\": \"\"}, \"bgcolor\": \"#E5ECF6\", \"radialaxis\": {\"gridcolor\": \"white\", \"linecolor\": \"white\", \"ticks\": \"\"}}, \"scene\": {\"xaxis\": {\"backgroundcolor\": \"#E5ECF6\", \"gridcolor\": \"white\", \"gridwidth\": 2, \"linecolor\": \"white\", \"showbackground\": true, \"ticks\": \"\", \"zerolinecolor\": \"white\"}, \"yaxis\": {\"backgroundcolor\": \"#E5ECF6\", \"gridcolor\": \"white\", \"gridwidth\": 2, \"linecolor\": \"white\", \"showbackground\": true, \"ticks\": \"\", \"zerolinecolor\": \"white\"}, \"zaxis\": {\"backgroundcolor\": \"#E5ECF6\", \"gridcolor\": \"white\", \"gridwidth\": 2, \"linecolor\": \"white\", \"showbackground\": true, \"ticks\": \"\", \"zerolinecolor\": \"white\"}}, \"shapedefaults\": {\"line\": {\"color\": \"#2a3f5f\"}}, \"ternary\": {\"aaxis\": {\"gridcolor\": \"white\", \"linecolor\": \"white\", \"ticks\": \"\"}, \"baxis\": {\"gridcolor\": \"white\", \"linecolor\": \"white\", \"ticks\": \"\"}, \"bgcolor\": \"#E5ECF6\", \"caxis\": {\"gridcolor\": \"white\", \"linecolor\": \"white\", \"ticks\": \"\"}}, \"title\": {\"x\": 0.05}, \"xaxis\": {\"automargin\": true, \"gridcolor\": \"white\", \"linecolor\": \"white\", \"ticks\": \"\", \"title\": {\"standoff\": 15}, \"zerolinecolor\": \"white\", \"zerolinewidth\": 2}, \"yaxis\": {\"automargin\": true, \"gridcolor\": \"white\", \"linecolor\": \"white\", \"ticks\": \"\", \"title\": {\"standoff\": 15}, \"zerolinecolor\": \"white\", \"zerolinewidth\": 2}}}, \"title\": {\"text\": \"Total Page Views per Medium/Age Group\"}, \"xaxis\": {\"anchor\": \"y\", \"domain\": [0.0, 1.0], \"title\": {\"text\": \"Age\"}}, \"yaxis\": {\"anchor\": \"x\", \"domain\": [0.0, 1.0], \"title\": {\"text\": \"Pageviews\"}}},\n",
       "                        {\"responsive\": true}\n",
       "                    ).then(function(){\n",
       "                            \n",
       "var gd = document.getElementById('7b51eae1-6c9b-4871-b739-fdf42183a766');\n",
       "var x = new MutationObserver(function (mutations, observer) {{\n",
       "        var display = window.getComputedStyle(gd).display;\n",
       "        if (!display || display === 'none') {{\n",
       "            console.log([gd, 'removed!']);\n",
       "            Plotly.purge(gd);\n",
       "            observer.disconnect();\n",
       "        }}\n",
       "}});\n",
       "\n",
       "// Listen for the removal of the full notebook cells\n",
       "var notebookContainer = gd.closest('#notebook-container');\n",
       "if (notebookContainer) {{\n",
       "    x.observe(notebookContainer, {childList: true});\n",
       "}}\n",
       "\n",
       "// Listen for the clearing of the current output cell\n",
       "var outputEl = gd.closest('.output');\n",
       "if (outputEl) {{\n",
       "    x.observe(outputEl, {childList: true});\n",
       "}}\n",
       "\n",
       "                        })\n",
       "                };\n",
       "                });\n",
       "            </script>\n",
       "        </div>"
      ]
     },
     "metadata": {},
     "output_type": "display_data"
    },
    {
     "data": {
      "application/vnd.plotly.v1+json": {
       "config": {
        "plotlyServerURL": "https://plot.ly"
       },
       "data": [
        {
         "alignmentgroup": "True",
         "hoverlabel": {
          "namelength": 0
         },
         "hovertemplate": "Source=(direct) <br>Age=%{x}<br>Pageviews=%{y}",
         "legendgroup": "(direct) ",
         "marker": {
          "color": "#636efa"
         },
         "name": "(direct) ",
         "offsetgroup": "(direct) ",
         "orientation": "v",
         "showlegend": true,
         "textposition": "auto",
         "type": "bar",
         "x": [
          "18-24",
          "25-34",
          "35-44",
          "45-54",
          "55-64",
          "65+"
         ],
         "xaxis": "x",
         "y": [
          4922,
          133881,
          58327,
          57415,
          77522,
          52007
         ],
         "yaxis": "y"
        },
        {
         "alignmentgroup": "True",
         "hoverlabel": {
          "namelength": 0
         },
         "hovertemplate": "Source=DesignTAXI <br>Age=%{x}<br>Pageviews=%{y}",
         "legendgroup": "DesignTAXI ",
         "marker": {
          "color": "#EF553B"
         },
         "name": "DesignTAXI ",
         "offsetgroup": "DesignTAXI ",
         "orientation": "v",
         "showlegend": true,
         "textposition": "auto",
         "type": "bar",
         "x": [
          "25-34",
          "35-44",
          "45-54",
          "55-64",
          "65+"
         ],
         "xaxis": "x",
         "y": [
          228,
          140,
          398,
          495,
          521
         ],
         "yaxis": "y"
        },
        {
         "alignmentgroup": "True",
         "hoverlabel": {
          "namelength": 0
         },
         "hovertemplate": "Source=WWW <br>Age=%{x}<br>Pageviews=%{y}",
         "legendgroup": "WWW ",
         "marker": {
          "color": "#00cc96"
         },
         "name": "WWW ",
         "offsetgroup": "WWW ",
         "orientation": "v",
         "showlegend": true,
         "textposition": "auto",
         "type": "bar",
         "x": [
          "18-24",
          "25-34",
          "35-44",
          "45-54"
         ],
         "xaxis": "x",
         "y": [
          241,
          889,
          272,
          41
         ],
         "yaxis": "y"
        },
        {
         "alignmentgroup": "True",
         "hoverlabel": {
          "namelength": 0
         },
         "hovertemplate": "Source=WhoWhatWear US <br>Age=%{x}<br>Pageviews=%{y}",
         "legendgroup": "WhoWhatWear US ",
         "marker": {
          "color": "#ab63fa"
         },
         "name": "WhoWhatWear US ",
         "offsetgroup": "WhoWhatWear US ",
         "orientation": "v",
         "showlegend": true,
         "textposition": "auto",
         "type": "bar",
         "x": [
          "18-24",
          "25-34",
          "35-44",
          "45-54",
          "55-64"
         ],
         "xaxis": "x",
         "y": [
          402,
          913,
          462,
          107,
          45
         ],
         "yaxis": "y"
        },
        {
         "alignmentgroup": "True",
         "hoverlabel": {
          "namelength": 0
         },
         "hovertemplate": "Source=app.asana.com <br>Age=%{x}<br>Pageviews=%{y}",
         "legendgroup": "app.asana.com ",
         "marker": {
          "color": "#FFA15A"
         },
         "name": "app.asana.com ",
         "offsetgroup": "app.asana.com ",
         "orientation": "v",
         "showlegend": true,
         "textposition": "auto",
         "type": "bar",
         "x": [
          "25-34"
         ],
         "xaxis": "x",
         "y": [
          21
         ],
         "yaxis": "y"
        },
        {
         "alignmentgroup": "True",
         "hoverlabel": {
          "namelength": 0
         },
         "hovertemplate": "Source=apple.news <br>Age=%{x}<br>Pageviews=%{y}",
         "legendgroup": "apple.news ",
         "marker": {
          "color": "#19d3f3"
         },
         "name": "apple.news ",
         "offsetgroup": "apple.news ",
         "orientation": "v",
         "showlegend": true,
         "textposition": "auto",
         "type": "bar",
         "x": [
          "18-24",
          "25-34",
          "35-44",
          "45-54",
          "55-64"
         ],
         "xaxis": "x",
         "y": [
          478,
          2776,
          1949,
          860,
          1217
         ],
         "yaxis": "y"
        },
        {
         "alignmentgroup": "True",
         "hoverlabel": {
          "namelength": 0
         },
         "hovertemplate": "Source=asg.org <br>Age=%{x}<br>Pageviews=%{y}",
         "legendgroup": "asg.org ",
         "marker": {
          "color": "#FF6692"
         },
         "name": "asg.org ",
         "offsetgroup": "asg.org ",
         "orientation": "v",
         "showlegend": true,
         "textposition": "auto",
         "type": "bar",
         "x": [
          "65+"
         ],
         "xaxis": "x",
         "y": [
          226
         ],
         "yaxis": "y"
        },
        {
         "alignmentgroup": "True",
         "hoverlabel": {
          "namelength": 0
         },
         "hovertemplate": "Source=behindthecounter.beautycounter.com <br>Age=%{x}<br>Pageviews=%{y}",
         "legendgroup": "behindthecounter.beautycounter.com ",
         "marker": {
          "color": "#B6E880"
         },
         "name": "behindthecounter.beautycounter.com ",
         "offsetgroup": "behindthecounter.beautycounter.com ",
         "orientation": "v",
         "showlegend": true,
         "textposition": "auto",
         "type": "bar",
         "x": [
          "35-44"
         ],
         "xaxis": "x",
         "y": [
          33
         ],
         "yaxis": "y"
        },
        {
         "alignmentgroup": "True",
         "hoverlabel": {
          "namelength": 0
         },
         "hovertemplate": "Source=bloglovin.com <br>Age=%{x}<br>Pageviews=%{y}",
         "legendgroup": "bloglovin.com ",
         "marker": {
          "color": "#FF97FF"
         },
         "name": "bloglovin.com ",
         "offsetgroup": "bloglovin.com ",
         "orientation": "v",
         "showlegend": true,
         "textposition": "auto",
         "type": "bar",
         "x": [
          "25-34"
         ],
         "xaxis": "x",
         "y": [
          1251
         ],
         "yaxis": "y"
        },
        {
         "alignmentgroup": "True",
         "hoverlabel": {
          "namelength": 0
         },
         "hovertemplate": "Source=brides <br>Age=%{x}<br>Pageviews=%{y}",
         "legendgroup": "brides ",
         "marker": {
          "color": "#FECB52"
         },
         "name": "brides ",
         "offsetgroup": "brides ",
         "orientation": "v",
         "showlegend": true,
         "textposition": "auto",
         "type": "bar",
         "x": [
          "25-34",
          "35-44"
         ],
         "xaxis": "x",
         "y": [
          763,
          38
         ],
         "yaxis": "y"
        },
        {
         "alignmentgroup": "True",
         "hoverlabel": {
          "namelength": 0
         },
         "hovertemplate": "Source=corporette.com <br>Age=%{x}<br>Pageviews=%{y}",
         "legendgroup": "corporette.com ",
         "marker": {
          "color": "#636efa"
         },
         "name": "corporette.com ",
         "offsetgroup": "corporette.com ",
         "orientation": "v",
         "showlegend": true,
         "textposition": "auto",
         "type": "bar",
         "x": [
          "25-34",
          "35-44",
          "45-54"
         ],
         "xaxis": "x",
         "y": [
          1684,
          1429,
          142
         ],
         "yaxis": "y"
        },
        {
         "alignmentgroup": "True",
         "hoverlabel": {
          "namelength": 0
         },
         "hovertemplate": "Source=dash hudson <br>Age=%{x}<br>Pageviews=%{y}",
         "legendgroup": "dash hudson ",
         "marker": {
          "color": "#EF553B"
         },
         "name": "dash hudson ",
         "offsetgroup": "dash hudson ",
         "orientation": "v",
         "showlegend": true,
         "textposition": "auto",
         "type": "bar",
         "x": [
          "25-34",
          "35-44",
          "55-64"
         ],
         "xaxis": "x",
         "y": [
          71,
          34,
          14
         ],
         "yaxis": "y"
        },
        {
         "alignmentgroup": "True",
         "hoverlabel": {
          "namelength": 0
         },
         "hovertemplate": "Source=facebook <br>Age=%{x}<br>Pageviews=%{y}",
         "legendgroup": "facebook ",
         "marker": {
          "color": "#00cc96"
         },
         "name": "facebook ",
         "offsetgroup": "facebook ",
         "orientation": "v",
         "showlegend": true,
         "textposition": "auto",
         "type": "bar",
         "x": [
          "18-24",
          "25-34",
          "35-44",
          "45-54",
          "55-64",
          "65+"
         ],
         "xaxis": "x",
         "y": [
          16086,
          86245,
          47830,
          17990,
          8344,
          4642
         ],
         "yaxis": "y"
        },
        {
         "alignmentgroup": "True",
         "hoverlabel": {
          "namelength": 0
         },
         "hovertemplate": "Source=facebook-owned <br>Age=%{x}<br>Pageviews=%{y}",
         "legendgroup": "facebook-owned ",
         "marker": {
          "color": "#ab63fa"
         },
         "name": "facebook-owned ",
         "offsetgroup": "facebook-owned ",
         "orientation": "v",
         "showlegend": true,
         "textposition": "auto",
         "type": "bar",
         "x": [
          "18-24",
          "25-34",
          "35-44",
          "45-54",
          "55-64",
          "65+"
         ],
         "xaxis": "x",
         "y": [
          1700,
          55939,
          67414,
          51249,
          35353,
          13790
         ],
         "yaxis": "y"
        },
        {
         "alignmentgroup": "True",
         "hoverlabel": {
          "namelength": 0
         },
         "hovertemplate": "Source=facebook.com <br>Age=%{x}<br>Pageviews=%{y}",
         "legendgroup": "facebook.com ",
         "marker": {
          "color": "#FFA15A"
         },
         "name": "facebook.com ",
         "offsetgroup": "facebook.com ",
         "orientation": "v",
         "showlegend": true,
         "textposition": "auto",
         "type": "bar",
         "x": [
          "18-24",
          "25-34",
          "35-44",
          "45-54",
          "55-64",
          "65+"
         ],
         "xaxis": "x",
         "y": [
          7349,
          69115,
          50207,
          31826,
          21945,
          10068
         ],
         "yaxis": "y"
        },
        {
         "alignmentgroup": "True",
         "hoverlabel": {
          "namelength": 0
         },
         "hovertemplate": "Source=feedburner <br>Age=%{x}<br>Pageviews=%{y}",
         "legendgroup": "feedburner ",
         "marker": {
          "color": "#19d3f3"
         },
         "name": "feedburner ",
         "offsetgroup": "feedburner ",
         "orientation": "v",
         "showlegend": true,
         "textposition": "auto",
         "type": "bar",
         "x": [
          "35-44",
          "45-54",
          "55-64",
          "65+"
         ],
         "xaxis": "x",
         "y": [
          262,
          529,
          315,
          140
         ],
         "yaxis": "y"
        },
        {
         "alignmentgroup": "True",
         "hoverlabel": {
          "namelength": 0
         },
         "hovertemplate": "Source=flipboard.com <br>Age=%{x}<br>Pageviews=%{y}",
         "legendgroup": "flipboard.com ",
         "marker": {
          "color": "#FF6692"
         },
         "name": "flipboard.com ",
         "offsetgroup": "flipboard.com ",
         "orientation": "v",
         "showlegend": true,
         "textposition": "auto",
         "type": "bar",
         "x": [
          "25-34",
          "35-44",
          "45-54",
          "55-64",
          "65+"
         ],
         "xaxis": "x",
         "y": [
          2118,
          2475,
          2989,
          1883,
          260
         ],
         "yaxis": "y"
        },
        {
         "alignmentgroup": "True",
         "hoverlabel": {
          "namelength": 0
         },
         "hovertemplate": "Source=frame.bloglovin.com <br>Age=%{x}<br>Pageviews=%{y}",
         "legendgroup": "frame.bloglovin.com ",
         "marker": {
          "color": "#B6E880"
         },
         "name": "frame.bloglovin.com ",
         "offsetgroup": "frame.bloglovin.com ",
         "orientation": "v",
         "showlegend": true,
         "textposition": "auto",
         "type": "bar",
         "x": [
          "25-34",
          "35-44",
          "45-54",
          "55-64"
         ],
         "xaxis": "x",
         "y": [
          9857,
          556,
          459,
          297
         ],
         "yaxis": "y"
        },
        {
         "alignmentgroup": "True",
         "hoverlabel": {
          "namelength": 0
         },
         "hovertemplate": "Source=from.flipboard.com <br>Age=%{x}<br>Pageviews=%{y}",
         "legendgroup": "from.flipboard.com ",
         "marker": {
          "color": "#FF97FF"
         },
         "name": "from.flipboard.com ",
         "offsetgroup": "from.flipboard.com ",
         "orientation": "v",
         "showlegend": true,
         "textposition": "auto",
         "type": "bar",
         "x": [
          "18-24",
          "25-34",
          "35-44",
          "45-54",
          "55-64",
          "65+"
         ],
         "xaxis": "x",
         "y": [
          1143,
          134934,
          244496,
          342574,
          404525,
          144813
         ],
         "yaxis": "y"
        },
        {
         "alignmentgroup": "True",
         "hoverlabel": {
          "namelength": 0
         },
         "hovertemplate": "Source=frontier.yahoo.com <br>Age=%{x}<br>Pageviews=%{y}",
         "legendgroup": "frontier.yahoo.com ",
         "marker": {
          "color": "#FECB52"
         },
         "name": "frontier.yahoo.com ",
         "offsetgroup": "frontier.yahoo.com ",
         "orientation": "v",
         "showlegend": true,
         "textposition": "auto",
         "type": "bar",
         "x": [
          "65+"
         ],
         "xaxis": "x",
         "y": [
          109
         ],
         "yaxis": "y"
        },
        {
         "alignmentgroup": "True",
         "hoverlabel": {
          "namelength": 0
         },
         "hovertemplate": "Source=google <br>Age=%{x}<br>Pageviews=%{y}",
         "legendgroup": "google ",
         "marker": {
          "color": "#636efa"
         },
         "name": "google ",
         "offsetgroup": "google ",
         "orientation": "v",
         "showlegend": true,
         "textposition": "auto",
         "type": "bar",
         "x": [
          "18-24",
          "25-34",
          "35-44",
          "45-54",
          "55-64",
          "65+"
         ],
         "xaxis": "x",
         "y": [
          159084,
          899345,
          236854,
          157494,
          142733,
          58691
         ],
         "yaxis": "y"
        },
        {
         "alignmentgroup": "True",
         "hoverlabel": {
          "namelength": 0
         },
         "hovertemplate": "Source=google.com <br>Age=%{x}<br>Pageviews=%{y}",
         "legendgroup": "google.com ",
         "marker": {
          "color": "#EF553B"
         },
         "name": "google.com ",
         "offsetgroup": "google.com ",
         "orientation": "v",
         "showlegend": true,
         "textposition": "auto",
         "type": "bar",
         "x": [
          "35-44"
         ],
         "xaxis": "x",
         "y": [
          15
         ],
         "yaxis": "y"
        },
        {
         "alignmentgroup": "True",
         "hoverlabel": {
          "namelength": 0
         },
         "hovertemplate": "Source=googleapis.com <br>Age=%{x}<br>Pageviews=%{y}",
         "legendgroup": "googleapis.com ",
         "marker": {
          "color": "#00cc96"
         },
         "name": "googleapis.com ",
         "offsetgroup": "googleapis.com ",
         "orientation": "v",
         "showlegend": true,
         "textposition": "auto",
         "type": "bar",
         "x": [
          "18-24",
          "25-34",
          "35-44",
          "45-54",
          "55-64",
          "65+"
         ],
         "xaxis": "x",
         "y": [
          2453,
          61128,
          41999,
          20415,
          16813,
          6521
         ],
         "yaxis": "y"
        },
        {
         "alignmentgroup": "True",
         "hoverlabel": {
          "namelength": 0
         },
         "hovertemplate": "Source=instagram-owned <br>Age=%{x}<br>Pageviews=%{y}",
         "legendgroup": "instagram-owned ",
         "marker": {
          "color": "#ab63fa"
         },
         "name": "instagram-owned ",
         "offsetgroup": "instagram-owned ",
         "orientation": "v",
         "showlegend": true,
         "textposition": "auto",
         "type": "bar",
         "x": [
          "18-24",
          "25-34",
          "35-44",
          "45-54",
          "55-64",
          "65+"
         ],
         "xaxis": "x",
         "y": [
          119,
          7897,
          2310,
          531,
          142,
          30
         ],
         "yaxis": "y"
        },
        {
         "alignmentgroup": "True",
         "hoverlabel": {
          "namelength": 0
         },
         "hovertemplate": "Source=instagram-story-owned <br>Age=%{x}<br>Pageviews=%{y}",
         "legendgroup": "instagram-story-owned ",
         "marker": {
          "color": "#FFA15A"
         },
         "name": "instagram-story-owned ",
         "offsetgroup": "instagram-story-owned ",
         "orientation": "v",
         "showlegend": true,
         "textposition": "auto",
         "type": "bar",
         "x": [
          "18-24",
          "25-34",
          "35-44",
          "45-54",
          "55-64"
         ],
         "xaxis": "x",
         "y": [
          205,
          11162,
          2716,
          751,
          224
         ],
         "yaxis": "y"
        },
        {
         "alignmentgroup": "True",
         "hoverlabel": {
          "namelength": 0
         },
         "hovertemplate": "Source=instagram.com <br>Age=%{x}<br>Pageviews=%{y}",
         "legendgroup": "instagram.com ",
         "marker": {
          "color": "#19d3f3"
         },
         "name": "instagram.com ",
         "offsetgroup": "instagram.com ",
         "orientation": "v",
         "showlegend": true,
         "textposition": "auto",
         "type": "bar",
         "x": [
          "25-34",
          "35-44"
         ],
         "xaxis": "x",
         "y": [
          5925,
          859
         ],
         "yaxis": "y"
        },
        {
         "alignmentgroup": "True",
         "hoverlabel": {
          "namelength": 0
         },
         "hovertemplate": "Source=jezebel.com <br>Age=%{x}<br>Pageviews=%{y}",
         "legendgroup": "jezebel.com ",
         "marker": {
          "color": "#FF6692"
         },
         "name": "jezebel.com ",
         "offsetgroup": "jezebel.com ",
         "orientation": "v",
         "showlegend": true,
         "textposition": "auto",
         "type": "bar",
         "x": [
          "25-34",
          "35-44",
          "45-54"
         ],
         "xaxis": "x",
         "y": [
          5506,
          2362,
          450
         ],
         "yaxis": "y"
        },
        {
         "alignmentgroup": "True",
         "hoverlabel": {
          "namelength": 0
         },
         "hovertemplate": "Source=l.facebook.com <br>Age=%{x}<br>Pageviews=%{y}",
         "legendgroup": "l.facebook.com ",
         "marker": {
          "color": "#B6E880"
         },
         "name": "l.facebook.com ",
         "offsetgroup": "l.facebook.com ",
         "orientation": "v",
         "showlegend": true,
         "textposition": "auto",
         "type": "bar",
         "x": [
          "18-24",
          "25-34",
          "35-44"
         ],
         "xaxis": "x",
         "y": [
          899,
          2383,
          419
         ],
         "yaxis": "y"
        },
        {
         "alignmentgroup": "True",
         "hoverlabel": {
          "namelength": 0
         },
         "hovertemplate": "Source=l.instagram.com <br>Age=%{x}<br>Pageviews=%{y}",
         "legendgroup": "l.instagram.com ",
         "marker": {
          "color": "#FF97FF"
         },
         "name": "l.instagram.com ",
         "offsetgroup": "l.instagram.com ",
         "orientation": "v",
         "showlegend": true,
         "textposition": "auto",
         "type": "bar",
         "x": [
          "25-34"
         ],
         "xaxis": "x",
         "y": [
          122
         ],
         "yaxis": "y"
        },
        {
         "alignmentgroup": "True",
         "hoverlabel": {
          "namelength": 0
         },
         "hovertemplate": "Source=laurenconrad <br>Age=%{x}<br>Pageviews=%{y}",
         "legendgroup": "laurenconrad ",
         "marker": {
          "color": "#FECB52"
         },
         "name": "laurenconrad ",
         "offsetgroup": "laurenconrad ",
         "orientation": "v",
         "showlegend": true,
         "textposition": "auto",
         "type": "bar",
         "x": [
          "18-24",
          "25-34",
          "35-44",
          "45-54",
          "55-64"
         ],
         "xaxis": "x",
         "y": [
          69,
          672,
          388,
          109,
          28
         ],
         "yaxis": "y"
        },
        {
         "alignmentgroup": "True",
         "hoverlabel": {
          "namelength": 0
         },
         "hovertemplate": "Source=likeshop.me <br>Age=%{x}<br>Pageviews=%{y}",
         "legendgroup": "likeshop.me ",
         "marker": {
          "color": "#636efa"
         },
         "name": "likeshop.me ",
         "offsetgroup": "likeshop.me ",
         "orientation": "v",
         "showlegend": true,
         "textposition": "auto",
         "type": "bar",
         "x": [
          "18-24",
          "25-34",
          "35-44",
          "45-54",
          "55-64",
          "65+"
         ],
         "xaxis": "x",
         "y": [
          1355,
          51528,
          15927,
          2632,
          1538,
          119
         ],
         "yaxis": "y"
        },
        {
         "alignmentgroup": "True",
         "hoverlabel": {
          "namelength": 0
         },
         "hovertemplate": "Source=lm.facebook.com <br>Age=%{x}<br>Pageviews=%{y}",
         "legendgroup": "lm.facebook.com ",
         "marker": {
          "color": "#EF553B"
         },
         "name": "lm.facebook.com ",
         "offsetgroup": "lm.facebook.com ",
         "orientation": "v",
         "showlegend": true,
         "textposition": "auto",
         "type": "bar",
         "x": [
          "18-24",
          "25-34",
          "35-44",
          "45-54"
         ],
         "xaxis": "x",
         "y": [
          6820,
          12716,
          4743,
          1095
         ],
         "yaxis": "y"
        },
        {
         "alignmentgroup": "True",
         "hoverlabel": {
          "namelength": 0
         },
         "hovertemplate": "Source=m.facebook.com <br>Age=%{x}<br>Pageviews=%{y}",
         "legendgroup": "m.facebook.com ",
         "marker": {
          "color": "#00cc96"
         },
         "name": "m.facebook.com ",
         "offsetgroup": "m.facebook.com ",
         "orientation": "v",
         "showlegend": true,
         "textposition": "auto",
         "type": "bar",
         "x": [
          "18-24",
          "25-34",
          "35-44",
          "45-54",
          "55-64",
          "65+"
         ],
         "xaxis": "x",
         "y": [
          147324,
          1379190,
          1216503,
          688767,
          381479,
          130072
         ],
         "yaxis": "y"
        },
        {
         "alignmentgroup": "True",
         "hoverlabel": {
          "namelength": 0
         },
         "hovertemplate": "Source=mail.google.com <br>Age=%{x}<br>Pageviews=%{y}",
         "legendgroup": "mail.google.com ",
         "marker": {
          "color": "#ab63fa"
         },
         "name": "mail.google.com ",
         "offsetgroup": "mail.google.com ",
         "orientation": "v",
         "showlegend": true,
         "textposition": "auto",
         "type": "bar",
         "x": [
          "18-24",
          "25-34"
         ],
         "xaxis": "x",
         "y": [
          354,
          49727
         ],
         "yaxis": "y"
        },
        {
         "alignmentgroup": "True",
         "hoverlabel": {
          "namelength": 0
         },
         "hovertemplate": "Source=mail.yahoo.com <br>Age=%{x}<br>Pageviews=%{y}",
         "legendgroup": "mail.yahoo.com ",
         "marker": {
          "color": "#FFA15A"
         },
         "name": "mail.yahoo.com ",
         "offsetgroup": "mail.yahoo.com ",
         "orientation": "v",
         "showlegend": true,
         "textposition": "auto",
         "type": "bar",
         "x": [
          "25-34"
         ],
         "xaxis": "x",
         "y": [
          272
         ],
         "yaxis": "y"
        },
        {
         "alignmentgroup": "True",
         "hoverlabel": {
          "namelength": 0
         },
         "hovertemplate": "Source=makeup.com <br>Age=%{x}<br>Pageviews=%{y}",
         "legendgroup": "makeup.com ",
         "marker": {
          "color": "#19d3f3"
         },
         "name": "makeup.com ",
         "offsetgroup": "makeup.com ",
         "orientation": "v",
         "showlegend": true,
         "textposition": "auto",
         "type": "bar",
         "x": [
          "25-34",
          "35-44",
          "45-54",
          "55-64",
          "65+"
         ],
         "xaxis": "x",
         "y": [
          128,
          192,
          208,
          108,
          47
         ],
         "yaxis": "y"
        },
        {
         "alignmentgroup": "True",
         "hoverlabel": {
          "namelength": 0
         },
         "hovertemplate": "Source=meetedgar.com <br>Age=%{x}<br>Pageviews=%{y}",
         "legendgroup": "meetedgar.com ",
         "marker": {
          "color": "#FF6692"
         },
         "name": "meetedgar.com ",
         "offsetgroup": "meetedgar.com ",
         "orientation": "v",
         "showlegend": true,
         "textposition": "auto",
         "type": "bar",
         "x": [
          "35-44"
         ],
         "xaxis": "x",
         "y": [
          13
         ],
         "yaxis": "y"
        },
        {
         "alignmentgroup": "True",
         "hoverlabel": {
          "namelength": 0
         },
         "hovertemplate": "Source=news.google.com <br>Age=%{x}<br>Pageviews=%{y}",
         "legendgroup": "news.google.com ",
         "marker": {
          "color": "#B6E880"
         },
         "name": "news.google.com ",
         "offsetgroup": "news.google.com ",
         "orientation": "v",
         "showlegend": true,
         "textposition": "auto",
         "type": "bar",
         "x": [
          "18-24",
          "25-34",
          "35-44",
          "45-54",
          "55-64",
          "65+"
         ],
         "xaxis": "x",
         "y": [
          4311,
          102653,
          75993,
          73462,
          77734,
          42475
         ],
         "yaxis": "y"
        },
        {
         "alignmentgroup": "True",
         "hoverlabel": {
          "namelength": 0
         },
         "hovertemplate": "Source=news.url.google.com <br>Age=%{x}<br>Pageviews=%{y}",
         "legendgroup": "news.url.google.com ",
         "marker": {
          "color": "#FF97FF"
         },
         "name": "news.url.google.com ",
         "offsetgroup": "news.url.google.com ",
         "orientation": "v",
         "showlegend": true,
         "textposition": "auto",
         "type": "bar",
         "x": [
          "55-64"
         ],
         "xaxis": "x",
         "y": [
          129
         ],
         "yaxis": "y"
        },
        {
         "alignmentgroup": "True",
         "hoverlabel": {
          "namelength": 0
         },
         "hovertemplate": "Source=news.yahoo.com <br>Age=%{x}<br>Pageviews=%{y}",
         "legendgroup": "news.yahoo.com ",
         "marker": {
          "color": "#FECB52"
         },
         "name": "news.yahoo.com ",
         "offsetgroup": "news.yahoo.com ",
         "orientation": "v",
         "showlegend": true,
         "textposition": "auto",
         "type": "bar",
         "x": [
          "45-54",
          "55-64",
          "65+"
         ],
         "xaxis": "x",
         "y": [
          258,
          304,
          503
         ],
         "yaxis": "y"
        },
        {
         "alignmentgroup": "True",
         "hoverlabel": {
          "namelength": 0
         },
         "hovertemplate": "Source=newsletter <br>Age=%{x}<br>Pageviews=%{y}",
         "legendgroup": "newsletter ",
         "marker": {
          "color": "#636efa"
         },
         "name": "newsletter ",
         "offsetgroup": "newsletter ",
         "orientation": "v",
         "showlegend": true,
         "textposition": "auto",
         "type": "bar",
         "x": [
          "18-24",
          "25-34",
          "35-44",
          "45-54",
          "55-64",
          "65+"
         ],
         "xaxis": "x",
         "y": [
          54882,
          685262,
          367649,
          363923,
          399536,
          162282
         ],
         "yaxis": "y"
        },
        {
         "alignmentgroup": "True",
         "hoverlabel": {
          "namelength": 0
         },
         "hovertemplate": "Source=now.ruelala.com <br>Age=%{x}<br>Pageviews=%{y}",
         "legendgroup": "now.ruelala.com ",
         "marker": {
          "color": "#EF553B"
         },
         "name": "now.ruelala.com ",
         "offsetgroup": "now.ruelala.com ",
         "orientation": "v",
         "showlegend": true,
         "textposition": "auto",
         "type": "bar",
         "x": [
          "35-44",
          "55-64"
         ],
         "xaxis": "x",
         "y": [
          298,
          257
         ],
         "yaxis": "y"
        },
        {
         "alignmentgroup": "True",
         "hoverlabel": {
          "namelength": 0
         },
         "hovertemplate": "Source=paid.outbrain.com <br>Age=%{x}<br>Pageviews=%{y}",
         "legendgroup": "paid.outbrain.com ",
         "marker": {
          "color": "#00cc96"
         },
         "name": "paid.outbrain.com ",
         "offsetgroup": "paid.outbrain.com ",
         "orientation": "v",
         "showlegend": true,
         "textposition": "auto",
         "type": "bar",
         "x": [
          "55-64",
          "65+"
         ],
         "xaxis": "x",
         "y": [
          549,
          599
         ],
         "yaxis": "y"
        },
        {
         "alignmentgroup": "True",
         "hoverlabel": {
          "namelength": 0
         },
         "hovertemplate": "Source=pinterest-owned <br>Age=%{x}<br>Pageviews=%{y}",
         "legendgroup": "pinterest-owned ",
         "marker": {
          "color": "#ab63fa"
         },
         "name": "pinterest-owned ",
         "offsetgroup": "pinterest-owned ",
         "orientation": "v",
         "showlegend": true,
         "textposition": "auto",
         "type": "bar",
         "x": [
          "25-34",
          "35-44",
          "45-54",
          "55-64",
          "65+"
         ],
         "xaxis": "x",
         "y": [
          452,
          168,
          151,
          120,
          18
         ],
         "yaxis": "y"
        },
        {
         "alignmentgroup": "True",
         "hoverlabel": {
          "namelength": 0
         },
         "hovertemplate": "Source=pinterest.com <br>Age=%{x}<br>Pageviews=%{y}",
         "legendgroup": "pinterest.com ",
         "marker": {
          "color": "#FFA15A"
         },
         "name": "pinterest.com ",
         "offsetgroup": "pinterest.com ",
         "orientation": "v",
         "showlegend": true,
         "textposition": "auto",
         "type": "bar",
         "x": [
          "18-24",
          "25-34",
          "35-44",
          "45-54",
          "55-64",
          "65+"
         ],
         "xaxis": "x",
         "y": [
          1580,
          100999,
          42046,
          49237,
          63607,
          14315
         ],
         "yaxis": "y"
        },
        {
         "alignmentgroup": "True",
         "hoverlabel": {
          "namelength": 0
         },
         "hovertemplate": "Source=play.google.com <br>Age=%{x}<br>Pageviews=%{y}",
         "legendgroup": "play.google.com ",
         "marker": {
          "color": "#19d3f3"
         },
         "name": "play.google.com ",
         "offsetgroup": "play.google.com ",
         "orientation": "v",
         "showlegend": true,
         "textposition": "auto",
         "type": "bar",
         "x": [
          "55-64"
         ],
         "xaxis": "x",
         "y": [
          10
         ],
         "yaxis": "y"
        },
        {
         "alignmentgroup": "True",
         "hoverlabel": {
          "namelength": 0
         },
         "hovertemplate": "Source=popsugar <br>Age=%{x}<br>Pageviews=%{y}",
         "legendgroup": "popsugar ",
         "marker": {
          "color": "#FF6692"
         },
         "name": "popsugar ",
         "offsetgroup": "popsugar ",
         "orientation": "v",
         "showlegend": true,
         "textposition": "auto",
         "type": "bar",
         "x": [
          "18-24",
          "25-34",
          "35-44",
          "45-54",
          "55-64",
          "65+"
         ],
         "xaxis": "x",
         "y": [
          532,
          5969,
          11825,
          9857,
          7215,
          4242
         ],
         "yaxis": "y"
        },
        {
         "alignmentgroup": "True",
         "hoverlabel": {
          "namelength": 0
         },
         "hovertemplate": "Source=purewow <br>Age=%{x}<br>Pageviews=%{y}",
         "legendgroup": "purewow ",
         "marker": {
          "color": "#B6E880"
         },
         "name": "purewow ",
         "offsetgroup": "purewow ",
         "orientation": "v",
         "showlegend": true,
         "textposition": "auto",
         "type": "bar",
         "x": [
          "25-34",
          "35-44",
          "45-54",
          "55-64",
          "65+"
         ],
         "xaxis": "x",
         "y": [
          269,
          125,
          135,
          135,
          77
         ],
         "yaxis": "y"
        },
        {
         "alignmentgroup": "True",
         "hoverlabel": {
          "namelength": 0
         },
         "hovertemplate": "Source=quora <br>Age=%{x}<br>Pageviews=%{y}",
         "legendgroup": "quora ",
         "marker": {
          "color": "#FF97FF"
         },
         "name": "quora ",
         "offsetgroup": "quora ",
         "orientation": "v",
         "showlegend": true,
         "textposition": "auto",
         "type": "bar",
         "x": [
          "25-34",
          "35-44",
          "45-54",
          "55-64",
          "65+"
         ],
         "xaxis": "x",
         "y": [
          16,
          129,
          358,
          763,
          2270
         ],
         "yaxis": "y"
        },
        {
         "alignmentgroup": "True",
         "hoverlabel": {
          "namelength": 0
         },
         "hovertemplate": "Source=quora.com <br>Age=%{x}<br>Pageviews=%{y}",
         "legendgroup": "quora.com ",
         "marker": {
          "color": "#FECB52"
         },
         "name": "quora.com ",
         "offsetgroup": "quora.com ",
         "orientation": "v",
         "showlegend": true,
         "textposition": "auto",
         "type": "bar",
         "x": [
          "45-54",
          "55-64",
          "65+"
         ],
         "xaxis": "x",
         "y": [
          862,
          1116,
          3158
         ],
         "yaxis": "y"
        },
        {
         "alignmentgroup": "True",
         "hoverlabel": {
          "namelength": 0
         },
         "hovertemplate": "Source=reddit.com <br>Age=%{x}<br>Pageviews=%{y}",
         "legendgroup": "reddit.com ",
         "marker": {
          "color": "#636efa"
         },
         "name": "reddit.com ",
         "offsetgroup": "reddit.com ",
         "orientation": "v",
         "showlegend": true,
         "textposition": "auto",
         "type": "bar",
         "x": [
          "25-34"
         ],
         "xaxis": "x",
         "y": [
          100
         ],
         "yaxis": "y"
        },
        {
         "alignmentgroup": "True",
         "hoverlabel": {
          "namelength": 0
         },
         "hovertemplate": "Source=share-button <br>Age=%{x}<br>Pageviews=%{y}",
         "legendgroup": "share-button ",
         "marker": {
          "color": "#EF553B"
         },
         "name": "share-button ",
         "offsetgroup": "share-button ",
         "orientation": "v",
         "showlegend": true,
         "textposition": "auto",
         "type": "bar",
         "x": [
          "25-34",
          "35-44",
          "45-54",
          "55-64"
         ],
         "xaxis": "x",
         "y": [
          15282,
          583,
          305,
          321
         ],
         "yaxis": "y"
        },
        {
         "alignmentgroup": "True",
         "hoverlabel": {
          "namelength": 0
         },
         "hovertemplate": "Source=skincare <br>Age=%{x}<br>Pageviews=%{y}",
         "legendgroup": "skincare ",
         "marker": {
          "color": "#00cc96"
         },
         "name": "skincare ",
         "offsetgroup": "skincare ",
         "orientation": "v",
         "showlegend": true,
         "textposition": "auto",
         "type": "bar",
         "x": [
          "25-34",
          "35-44",
          "45-54",
          "55-64",
          "65+"
         ],
         "xaxis": "x",
         "y": [
          295,
          380,
          387,
          240,
          93
         ],
         "yaxis": "y"
        },
        {
         "alignmentgroup": "True",
         "hoverlabel": {
          "namelength": 0
         },
         "hovertemplate": "Source=skincare.com <br>Age=%{x}<br>Pageviews=%{y}",
         "legendgroup": "skincare.com ",
         "marker": {
          "color": "#ab63fa"
         },
         "name": "skincare.com ",
         "offsetgroup": "skincare.com ",
         "orientation": "v",
         "showlegend": true,
         "textposition": "auto",
         "type": "bar",
         "x": [
          "18-24",
          "25-34",
          "35-44",
          "45-54",
          "55-64",
          "65+"
         ],
         "xaxis": "x",
         "y": [
          32,
          788,
          1084,
          808,
          640,
          339
         ],
         "yaxis": "y"
        },
        {
         "alignmentgroup": "True",
         "hoverlabel": {
          "namelength": 0
         },
         "hovertemplate": "Source=smartnews.com <br>Age=%{x}<br>Pageviews=%{y}",
         "legendgroup": "smartnews.com ",
         "marker": {
          "color": "#FFA15A"
         },
         "name": "smartnews.com ",
         "offsetgroup": "smartnews.com ",
         "orientation": "v",
         "showlegend": true,
         "textposition": "auto",
         "type": "bar",
         "x": [
          "25-34",
          "35-44",
          "45-54",
          "55-64",
          "65+"
         ],
         "xaxis": "x",
         "y": [
          400,
          569,
          1661,
          2422,
          3142
         ],
         "yaxis": "y"
        },
        {
         "alignmentgroup": "True",
         "hoverlabel": {
          "namelength": 0
         },
         "hovertemplate": "Source=social-pinterest-button <br>Age=%{x}<br>Pageviews=%{y}",
         "legendgroup": "social-pinterest-button ",
         "marker": {
          "color": "#19d3f3"
         },
         "name": "social-pinterest-button ",
         "offsetgroup": "social-pinterest-button ",
         "orientation": "v",
         "showlegend": true,
         "textposition": "auto",
         "type": "bar",
         "x": [
          "25-34"
         ],
         "xaxis": "x",
         "y": [
          14
         ],
         "yaxis": "y"
        },
        {
         "alignmentgroup": "True",
         "hoverlabel": {
          "namelength": 0
         },
         "hovertemplate": "Source=t.co <br>Age=%{x}<br>Pageviews=%{y}",
         "legendgroup": "t.co ",
         "marker": {
          "color": "#FF6692"
         },
         "name": "t.co ",
         "offsetgroup": "t.co ",
         "orientation": "v",
         "showlegend": true,
         "textposition": "auto",
         "type": "bar",
         "x": [
          "25-34",
          "35-44"
         ],
         "xaxis": "x",
         "y": [
          1518,
          152
         ],
         "yaxis": "y"
        },
        {
         "alignmentgroup": "True",
         "hoverlabel": {
          "namelength": 0
         },
         "hovertemplate": "Source=theeverygirl <br>Age=%{x}<br>Pageviews=%{y}",
         "legendgroup": "theeverygirl ",
         "marker": {
          "color": "#B6E880"
         },
         "name": "theeverygirl ",
         "offsetgroup": "theeverygirl ",
         "orientation": "v",
         "showlegend": true,
         "textposition": "auto",
         "type": "bar",
         "x": [
          "18-24",
          "25-34",
          "35-44",
          "45-54",
          "55-64",
          "65+"
         ],
         "xaxis": "x",
         "y": [
          214,
          4573,
          7903,
          7524,
          5510,
          2747
         ],
         "yaxis": "y"
        },
        {
         "alignmentgroup": "True",
         "hoverlabel": {
          "namelength": 0
         },
         "hovertemplate": "Source=tpc.googlesyndication.com <br>Age=%{x}<br>Pageviews=%{y}",
         "legendgroup": "tpc.googlesyndication.com ",
         "marker": {
          "color": "#FF97FF"
         },
         "name": "tpc.googlesyndication.com ",
         "offsetgroup": "tpc.googlesyndication.com ",
         "orientation": "v",
         "showlegend": true,
         "textposition": "auto",
         "type": "bar",
         "x": [
          "18-24",
          "25-34",
          "35-44",
          "45-54",
          "55-64",
          "65+"
         ],
         "xaxis": "x",
         "y": [
          37925,
          306562,
          38550,
          13721,
          11809,
          308
         ],
         "yaxis": "y"
        },
        {
         "alignmentgroup": "True",
         "hoverlabel": {
          "namelength": 0
         },
         "hovertemplate": "Source=transition.meltwater.com <br>Age=%{x}<br>Pageviews=%{y}",
         "legendgroup": "transition.meltwater.com ",
         "marker": {
          "color": "#FECB52"
         },
         "name": "transition.meltwater.com ",
         "offsetgroup": "transition.meltwater.com ",
         "orientation": "v",
         "showlegend": true,
         "textposition": "auto",
         "type": "bar",
         "x": [
          "25-34",
          "35-44"
         ],
         "xaxis": "x",
         "y": [
          8301,
          1949
         ],
         "yaxis": "y"
        },
        {
         "alignmentgroup": "True",
         "hoverlabel": {
          "namelength": 0
         },
         "hovertemplate": "Source=twitter-owned <br>Age=%{x}<br>Pageviews=%{y}",
         "legendgroup": "twitter-owned ",
         "marker": {
          "color": "#636efa"
         },
         "name": "twitter-owned ",
         "offsetgroup": "twitter-owned ",
         "orientation": "v",
         "showlegend": true,
         "textposition": "auto",
         "type": "bar",
         "x": [
          "35-44"
         ],
         "xaxis": "x",
         "y": [
          22
         ],
         "yaxis": "y"
        },
        {
         "alignmentgroup": "True",
         "hoverlabel": {
          "namelength": 0
         },
         "hovertemplate": "Source=vogue <br>Age=%{x}<br>Pageviews=%{y}",
         "legendgroup": "vogue ",
         "marker": {
          "color": "#EF553B"
         },
         "name": "vogue ",
         "offsetgroup": "vogue ",
         "orientation": "v",
         "showlegend": true,
         "textposition": "auto",
         "type": "bar",
         "x": [
          "18-24",
          "25-34",
          "35-44",
          "45-54",
          "55-64",
          "65+"
         ],
         "xaxis": "x",
         "y": [
          146,
          2077,
          4969,
          4761,
          3879,
          1616
         ],
         "yaxis": "y"
        },
        {
         "alignmentgroup": "True",
         "hoverlabel": {
          "namelength": 0
         },
         "hovertemplate": "Source=vox.com <br>Age=%{x}<br>Pageviews=%{y}",
         "legendgroup": "vox.com ",
         "marker": {
          "color": "#00cc96"
         },
         "name": "vox.com ",
         "offsetgroup": "vox.com ",
         "orientation": "v",
         "showlegend": true,
         "textposition": "auto",
         "type": "bar",
         "x": [
          "25-34",
          "35-44"
         ],
         "xaxis": "x",
         "y": [
          277,
          77
         ],
         "yaxis": "y"
        },
        {
         "alignmentgroup": "True",
         "hoverlabel": {
          "namelength": 0
         },
         "hovertemplate": "Source=wellandgood <br>Age=%{x}<br>Pageviews=%{y}",
         "legendgroup": "wellandgood ",
         "marker": {
          "color": "#ab63fa"
         },
         "name": "wellandgood ",
         "offsetgroup": "wellandgood ",
         "orientation": "v",
         "showlegend": true,
         "textposition": "auto",
         "type": "bar",
         "x": [
          "18-24",
          "25-34",
          "35-44",
          "45-54",
          "55-64"
         ],
         "xaxis": "x",
         "y": [
          10,
          201,
          234,
          191,
          96
         ],
         "yaxis": "y"
        },
        {
         "alignmentgroup": "True",
         "hoverlabel": {
          "namelength": 0
         },
         "hovertemplate": "Source=whowhatwear <br>Age=%{x}<br>Pageviews=%{y}",
         "legendgroup": "whowhatwear ",
         "marker": {
          "color": "#FFA15A"
         },
         "name": "whowhatwear ",
         "offsetgroup": "whowhatwear ",
         "orientation": "v",
         "showlegend": true,
         "textposition": "auto",
         "type": "bar",
         "x": [
          "25-34"
         ],
         "xaxis": "x",
         "y": [
          251
         ],
         "yaxis": "y"
        },
        {
         "alignmentgroup": "True",
         "hoverlabel": {
          "namelength": 0
         },
         "hovertemplate": "Source=www-whowhatwear-com.cdn.ampproject.org <br>Age=%{x}<br>Pageviews=%{y}",
         "legendgroup": "www-whowhatwear-com.cdn.ampproject.org ",
         "marker": {
          "color": "#19d3f3"
         },
         "name": "www-whowhatwear-com.cdn.ampproject.org ",
         "offsetgroup": "www-whowhatwear-com.cdn.ampproject.org ",
         "orientation": "v",
         "showlegend": true,
         "textposition": "auto",
         "type": "bar",
         "x": [
          "18-24",
          "25-34",
          "35-44",
          "45-54",
          "55-64",
          "65+"
         ],
         "xaxis": "x",
         "y": [
          2553,
          139526,
          165639,
          169707,
          203774,
          66639
         ],
         "yaxis": "y"
        },
        {
         "alignmentgroup": "True",
         "hoverlabel": {
          "namelength": 0
         },
         "hovertemplate": "Source=www-yahoo-com.cdn.ampproject.org <br>Age=%{x}<br>Pageviews=%{y}",
         "legendgroup": "www-yahoo-com.cdn.ampproject.org ",
         "marker": {
          "color": "#FF6692"
         },
         "name": "www-yahoo-com.cdn.ampproject.org ",
         "offsetgroup": "www-yahoo-com.cdn.ampproject.org ",
         "orientation": "v",
         "showlegend": true,
         "textposition": "auto",
         "type": "bar",
         "x": [
          "18-24",
          "25-34",
          "35-44",
          "45-54",
          "55-64",
          "65+"
         ],
         "xaxis": "x",
         "y": [
          1820,
          15703,
          26087,
          26904,
          26238,
          9902
         ],
         "yaxis": "y"
        },
        {
         "alignmentgroup": "True",
         "hoverlabel": {
          "namelength": 0
         },
         "hovertemplate": "Source=yahoo.com <br>Age=%{x}<br>Pageviews=%{y}",
         "legendgroup": "yahoo.com ",
         "marker": {
          "color": "#B6E880"
         },
         "name": "yahoo.com ",
         "offsetgroup": "yahoo.com ",
         "orientation": "v",
         "showlegend": true,
         "textposition": "auto",
         "type": "bar",
         "x": [
          "18-24",
          "25-34",
          "35-44",
          "45-54",
          "55-64",
          "65+"
         ],
         "xaxis": "x",
         "y": [
          3371,
          32602,
          68590,
          71149,
          74724,
          54352
         ],
         "yaxis": "y"
        }
       ],
       "layout": {
        "barmode": "relative",
        "legend": {
         "title": {
          "text": "Source"
         },
         "tracegroupgap": 0
        },
        "template": {
         "data": {
          "bar": [
           {
            "error_x": {
             "color": "#2a3f5f"
            },
            "error_y": {
             "color": "#2a3f5f"
            },
            "marker": {
             "line": {
              "color": "#E5ECF6",
              "width": 0.5
             }
            },
            "type": "bar"
           }
          ],
          "barpolar": [
           {
            "marker": {
             "line": {
              "color": "#E5ECF6",
              "width": 0.5
             }
            },
            "type": "barpolar"
           }
          ],
          "carpet": [
           {
            "aaxis": {
             "endlinecolor": "#2a3f5f",
             "gridcolor": "white",
             "linecolor": "white",
             "minorgridcolor": "white",
             "startlinecolor": "#2a3f5f"
            },
            "baxis": {
             "endlinecolor": "#2a3f5f",
             "gridcolor": "white",
             "linecolor": "white",
             "minorgridcolor": "white",
             "startlinecolor": "#2a3f5f"
            },
            "type": "carpet"
           }
          ],
          "choropleth": [
           {
            "colorbar": {
             "outlinewidth": 0,
             "ticks": ""
            },
            "type": "choropleth"
           }
          ],
          "contour": [
           {
            "colorbar": {
             "outlinewidth": 0,
             "ticks": ""
            },
            "colorscale": [
             [
              0,
              "#0d0887"
             ],
             [
              0.1111111111111111,
              "#46039f"
             ],
             [
              0.2222222222222222,
              "#7201a8"
             ],
             [
              0.3333333333333333,
              "#9c179e"
             ],
             [
              0.4444444444444444,
              "#bd3786"
             ],
             [
              0.5555555555555556,
              "#d8576b"
             ],
             [
              0.6666666666666666,
              "#ed7953"
             ],
             [
              0.7777777777777778,
              "#fb9f3a"
             ],
             [
              0.8888888888888888,
              "#fdca26"
             ],
             [
              1,
              "#f0f921"
             ]
            ],
            "type": "contour"
           }
          ],
          "contourcarpet": [
           {
            "colorbar": {
             "outlinewidth": 0,
             "ticks": ""
            },
            "type": "contourcarpet"
           }
          ],
          "heatmap": [
           {
            "colorbar": {
             "outlinewidth": 0,
             "ticks": ""
            },
            "colorscale": [
             [
              0,
              "#0d0887"
             ],
             [
              0.1111111111111111,
              "#46039f"
             ],
             [
              0.2222222222222222,
              "#7201a8"
             ],
             [
              0.3333333333333333,
              "#9c179e"
             ],
             [
              0.4444444444444444,
              "#bd3786"
             ],
             [
              0.5555555555555556,
              "#d8576b"
             ],
             [
              0.6666666666666666,
              "#ed7953"
             ],
             [
              0.7777777777777778,
              "#fb9f3a"
             ],
             [
              0.8888888888888888,
              "#fdca26"
             ],
             [
              1,
              "#f0f921"
             ]
            ],
            "type": "heatmap"
           }
          ],
          "heatmapgl": [
           {
            "colorbar": {
             "outlinewidth": 0,
             "ticks": ""
            },
            "colorscale": [
             [
              0,
              "#0d0887"
             ],
             [
              0.1111111111111111,
              "#46039f"
             ],
             [
              0.2222222222222222,
              "#7201a8"
             ],
             [
              0.3333333333333333,
              "#9c179e"
             ],
             [
              0.4444444444444444,
              "#bd3786"
             ],
             [
              0.5555555555555556,
              "#d8576b"
             ],
             [
              0.6666666666666666,
              "#ed7953"
             ],
             [
              0.7777777777777778,
              "#fb9f3a"
             ],
             [
              0.8888888888888888,
              "#fdca26"
             ],
             [
              1,
              "#f0f921"
             ]
            ],
            "type": "heatmapgl"
           }
          ],
          "histogram": [
           {
            "marker": {
             "colorbar": {
              "outlinewidth": 0,
              "ticks": ""
             }
            },
            "type": "histogram"
           }
          ],
          "histogram2d": [
           {
            "colorbar": {
             "outlinewidth": 0,
             "ticks": ""
            },
            "colorscale": [
             [
              0,
              "#0d0887"
             ],
             [
              0.1111111111111111,
              "#46039f"
             ],
             [
              0.2222222222222222,
              "#7201a8"
             ],
             [
              0.3333333333333333,
              "#9c179e"
             ],
             [
              0.4444444444444444,
              "#bd3786"
             ],
             [
              0.5555555555555556,
              "#d8576b"
             ],
             [
              0.6666666666666666,
              "#ed7953"
             ],
             [
              0.7777777777777778,
              "#fb9f3a"
             ],
             [
              0.8888888888888888,
              "#fdca26"
             ],
             [
              1,
              "#f0f921"
             ]
            ],
            "type": "histogram2d"
           }
          ],
          "histogram2dcontour": [
           {
            "colorbar": {
             "outlinewidth": 0,
             "ticks": ""
            },
            "colorscale": [
             [
              0,
              "#0d0887"
             ],
             [
              0.1111111111111111,
              "#46039f"
             ],
             [
              0.2222222222222222,
              "#7201a8"
             ],
             [
              0.3333333333333333,
              "#9c179e"
             ],
             [
              0.4444444444444444,
              "#bd3786"
             ],
             [
              0.5555555555555556,
              "#d8576b"
             ],
             [
              0.6666666666666666,
              "#ed7953"
             ],
             [
              0.7777777777777778,
              "#fb9f3a"
             ],
             [
              0.8888888888888888,
              "#fdca26"
             ],
             [
              1,
              "#f0f921"
             ]
            ],
            "type": "histogram2dcontour"
           }
          ],
          "mesh3d": [
           {
            "colorbar": {
             "outlinewidth": 0,
             "ticks": ""
            },
            "type": "mesh3d"
           }
          ],
          "parcoords": [
           {
            "line": {
             "colorbar": {
              "outlinewidth": 0,
              "ticks": ""
             }
            },
            "type": "parcoords"
           }
          ],
          "pie": [
           {
            "automargin": true,
            "type": "pie"
           }
          ],
          "scatter": [
           {
            "marker": {
             "colorbar": {
              "outlinewidth": 0,
              "ticks": ""
             }
            },
            "type": "scatter"
           }
          ],
          "scatter3d": [
           {
            "line": {
             "colorbar": {
              "outlinewidth": 0,
              "ticks": ""
             }
            },
            "marker": {
             "colorbar": {
              "outlinewidth": 0,
              "ticks": ""
             }
            },
            "type": "scatter3d"
           }
          ],
          "scattercarpet": [
           {
            "marker": {
             "colorbar": {
              "outlinewidth": 0,
              "ticks": ""
             }
            },
            "type": "scattercarpet"
           }
          ],
          "scattergeo": [
           {
            "marker": {
             "colorbar": {
              "outlinewidth": 0,
              "ticks": ""
             }
            },
            "type": "scattergeo"
           }
          ],
          "scattergl": [
           {
            "marker": {
             "colorbar": {
              "outlinewidth": 0,
              "ticks": ""
             }
            },
            "type": "scattergl"
           }
          ],
          "scattermapbox": [
           {
            "marker": {
             "colorbar": {
              "outlinewidth": 0,
              "ticks": ""
             }
            },
            "type": "scattermapbox"
           }
          ],
          "scatterpolar": [
           {
            "marker": {
             "colorbar": {
              "outlinewidth": 0,
              "ticks": ""
             }
            },
            "type": "scatterpolar"
           }
          ],
          "scatterpolargl": [
           {
            "marker": {
             "colorbar": {
              "outlinewidth": 0,
              "ticks": ""
             }
            },
            "type": "scatterpolargl"
           }
          ],
          "scatterternary": [
           {
            "marker": {
             "colorbar": {
              "outlinewidth": 0,
              "ticks": ""
             }
            },
            "type": "scatterternary"
           }
          ],
          "surface": [
           {
            "colorbar": {
             "outlinewidth": 0,
             "ticks": ""
            },
            "colorscale": [
             [
              0,
              "#0d0887"
             ],
             [
              0.1111111111111111,
              "#46039f"
             ],
             [
              0.2222222222222222,
              "#7201a8"
             ],
             [
              0.3333333333333333,
              "#9c179e"
             ],
             [
              0.4444444444444444,
              "#bd3786"
             ],
             [
              0.5555555555555556,
              "#d8576b"
             ],
             [
              0.6666666666666666,
              "#ed7953"
             ],
             [
              0.7777777777777778,
              "#fb9f3a"
             ],
             [
              0.8888888888888888,
              "#fdca26"
             ],
             [
              1,
              "#f0f921"
             ]
            ],
            "type": "surface"
           }
          ],
          "table": [
           {
            "cells": {
             "fill": {
              "color": "#EBF0F8"
             },
             "line": {
              "color": "white"
             }
            },
            "header": {
             "fill": {
              "color": "#C8D4E3"
             },
             "line": {
              "color": "white"
             }
            },
            "type": "table"
           }
          ]
         },
         "layout": {
          "annotationdefaults": {
           "arrowcolor": "#2a3f5f",
           "arrowhead": 0,
           "arrowwidth": 1
          },
          "coloraxis": {
           "colorbar": {
            "outlinewidth": 0,
            "ticks": ""
           }
          },
          "colorscale": {
           "diverging": [
            [
             0,
             "#8e0152"
            ],
            [
             0.1,
             "#c51b7d"
            ],
            [
             0.2,
             "#de77ae"
            ],
            [
             0.3,
             "#f1b6da"
            ],
            [
             0.4,
             "#fde0ef"
            ],
            [
             0.5,
             "#f7f7f7"
            ],
            [
             0.6,
             "#e6f5d0"
            ],
            [
             0.7,
             "#b8e186"
            ],
            [
             0.8,
             "#7fbc41"
            ],
            [
             0.9,
             "#4d9221"
            ],
            [
             1,
             "#276419"
            ]
           ],
           "sequential": [
            [
             0,
             "#0d0887"
            ],
            [
             0.1111111111111111,
             "#46039f"
            ],
            [
             0.2222222222222222,
             "#7201a8"
            ],
            [
             0.3333333333333333,
             "#9c179e"
            ],
            [
             0.4444444444444444,
             "#bd3786"
            ],
            [
             0.5555555555555556,
             "#d8576b"
            ],
            [
             0.6666666666666666,
             "#ed7953"
            ],
            [
             0.7777777777777778,
             "#fb9f3a"
            ],
            [
             0.8888888888888888,
             "#fdca26"
            ],
            [
             1,
             "#f0f921"
            ]
           ],
           "sequentialminus": [
            [
             0,
             "#0d0887"
            ],
            [
             0.1111111111111111,
             "#46039f"
            ],
            [
             0.2222222222222222,
             "#7201a8"
            ],
            [
             0.3333333333333333,
             "#9c179e"
            ],
            [
             0.4444444444444444,
             "#bd3786"
            ],
            [
             0.5555555555555556,
             "#d8576b"
            ],
            [
             0.6666666666666666,
             "#ed7953"
            ],
            [
             0.7777777777777778,
             "#fb9f3a"
            ],
            [
             0.8888888888888888,
             "#fdca26"
            ],
            [
             1,
             "#f0f921"
            ]
           ]
          },
          "colorway": [
           "#636efa",
           "#EF553B",
           "#00cc96",
           "#ab63fa",
           "#FFA15A",
           "#19d3f3",
           "#FF6692",
           "#B6E880",
           "#FF97FF",
           "#FECB52"
          ],
          "font": {
           "color": "#2a3f5f"
          },
          "geo": {
           "bgcolor": "white",
           "lakecolor": "white",
           "landcolor": "#E5ECF6",
           "showlakes": true,
           "showland": true,
           "subunitcolor": "white"
          },
          "hoverlabel": {
           "align": "left"
          },
          "hovermode": "closest",
          "mapbox": {
           "style": "light"
          },
          "paper_bgcolor": "white",
          "plot_bgcolor": "#E5ECF6",
          "polar": {
           "angularaxis": {
            "gridcolor": "white",
            "linecolor": "white",
            "ticks": ""
           },
           "bgcolor": "#E5ECF6",
           "radialaxis": {
            "gridcolor": "white",
            "linecolor": "white",
            "ticks": ""
           }
          },
          "scene": {
           "xaxis": {
            "backgroundcolor": "#E5ECF6",
            "gridcolor": "white",
            "gridwidth": 2,
            "linecolor": "white",
            "showbackground": true,
            "ticks": "",
            "zerolinecolor": "white"
           },
           "yaxis": {
            "backgroundcolor": "#E5ECF6",
            "gridcolor": "white",
            "gridwidth": 2,
            "linecolor": "white",
            "showbackground": true,
            "ticks": "",
            "zerolinecolor": "white"
           },
           "zaxis": {
            "backgroundcolor": "#E5ECF6",
            "gridcolor": "white",
            "gridwidth": 2,
            "linecolor": "white",
            "showbackground": true,
            "ticks": "",
            "zerolinecolor": "white"
           }
          },
          "shapedefaults": {
           "line": {
            "color": "#2a3f5f"
           }
          },
          "ternary": {
           "aaxis": {
            "gridcolor": "white",
            "linecolor": "white",
            "ticks": ""
           },
           "baxis": {
            "gridcolor": "white",
            "linecolor": "white",
            "ticks": ""
           },
           "bgcolor": "#E5ECF6",
           "caxis": {
            "gridcolor": "white",
            "linecolor": "white",
            "ticks": ""
           }
          },
          "title": {
           "x": 0.05
          },
          "xaxis": {
           "automargin": true,
           "gridcolor": "white",
           "linecolor": "white",
           "ticks": "",
           "title": {
            "standoff": 15
           },
           "zerolinecolor": "white",
           "zerolinewidth": 2
          },
          "yaxis": {
           "automargin": true,
           "gridcolor": "white",
           "linecolor": "white",
           "ticks": "",
           "title": {
            "standoff": 15
           },
           "zerolinecolor": "white",
           "zerolinewidth": 2
          }
         }
        },
        "title": {
         "text": "Total Page views per Source/Age Group"
        },
        "xaxis": {
         "anchor": "y",
         "domain": [
          0,
          1
         ],
         "title": {
          "text": "Age"
         }
        },
        "yaxis": {
         "anchor": "x",
         "domain": [
          0,
          1
         ],
         "title": {
          "text": "Pageviews"
         }
        }
       }
      },
      "text/html": [
       "<div>\n",
       "        \n",
       "        \n",
       "            <div id=\"b6b8816a-a284-40d4-8b6b-a771ce844257\" class=\"plotly-graph-div\" style=\"height:525px; width:100%;\"></div>\n",
       "            <script type=\"text/javascript\">\n",
       "                require([\"plotly\"], function(Plotly) {\n",
       "                    window.PLOTLYENV=window.PLOTLYENV || {};\n",
       "                    \n",
       "                if (document.getElementById(\"b6b8816a-a284-40d4-8b6b-a771ce844257\")) {\n",
       "                    Plotly.newPlot(\n",
       "                        'b6b8816a-a284-40d4-8b6b-a771ce844257',\n",
       "                        [{\"alignmentgroup\": \"True\", \"hoverlabel\": {\"namelength\": 0}, \"hovertemplate\": \"Source=(direct) <br>Age=%{x}<br>Pageviews=%{y}\", \"legendgroup\": \"(direct) \", \"marker\": {\"color\": \"#636efa\"}, \"name\": \"(direct) \", \"offsetgroup\": \"(direct) \", \"orientation\": \"v\", \"showlegend\": true, \"textposition\": \"auto\", \"type\": \"bar\", \"x\": [\"18-24\", \"25-34\", \"35-44\", \"45-54\", \"55-64\", \"65+\"], \"xaxis\": \"x\", \"y\": [4922, 133881, 58327, 57415, 77522, 52007], \"yaxis\": \"y\"}, {\"alignmentgroup\": \"True\", \"hoverlabel\": {\"namelength\": 0}, \"hovertemplate\": \"Source=DesignTAXI <br>Age=%{x}<br>Pageviews=%{y}\", \"legendgroup\": \"DesignTAXI \", \"marker\": {\"color\": \"#EF553B\"}, \"name\": \"DesignTAXI \", \"offsetgroup\": \"DesignTAXI \", \"orientation\": \"v\", \"showlegend\": true, \"textposition\": \"auto\", \"type\": \"bar\", \"x\": [\"25-34\", \"35-44\", \"45-54\", \"55-64\", \"65+\"], \"xaxis\": \"x\", \"y\": [228, 140, 398, 495, 521], \"yaxis\": \"y\"}, {\"alignmentgroup\": \"True\", \"hoverlabel\": {\"namelength\": 0}, \"hovertemplate\": \"Source=WWW <br>Age=%{x}<br>Pageviews=%{y}\", \"legendgroup\": \"WWW \", \"marker\": {\"color\": \"#00cc96\"}, \"name\": \"WWW \", \"offsetgroup\": \"WWW \", \"orientation\": \"v\", \"showlegend\": true, \"textposition\": \"auto\", \"type\": \"bar\", \"x\": [\"18-24\", \"25-34\", \"35-44\", \"45-54\"], \"xaxis\": \"x\", \"y\": [241, 889, 272, 41], \"yaxis\": \"y\"}, {\"alignmentgroup\": \"True\", \"hoverlabel\": {\"namelength\": 0}, \"hovertemplate\": \"Source=WhoWhatWear US <br>Age=%{x}<br>Pageviews=%{y}\", \"legendgroup\": \"WhoWhatWear US \", \"marker\": {\"color\": \"#ab63fa\"}, \"name\": \"WhoWhatWear US \", \"offsetgroup\": \"WhoWhatWear US \", \"orientation\": \"v\", \"showlegend\": true, \"textposition\": \"auto\", \"type\": \"bar\", \"x\": [\"18-24\", \"25-34\", \"35-44\", \"45-54\", \"55-64\"], \"xaxis\": \"x\", \"y\": [402, 913, 462, 107, 45], \"yaxis\": \"y\"}, {\"alignmentgroup\": \"True\", \"hoverlabel\": {\"namelength\": 0}, \"hovertemplate\": \"Source=app.asana.com <br>Age=%{x}<br>Pageviews=%{y}\", \"legendgroup\": \"app.asana.com \", \"marker\": {\"color\": \"#FFA15A\"}, \"name\": \"app.asana.com \", \"offsetgroup\": \"app.asana.com \", \"orientation\": \"v\", \"showlegend\": true, \"textposition\": \"auto\", \"type\": \"bar\", \"x\": [\"25-34\"], \"xaxis\": \"x\", \"y\": [21], \"yaxis\": \"y\"}, {\"alignmentgroup\": \"True\", \"hoverlabel\": {\"namelength\": 0}, \"hovertemplate\": \"Source=apple.news <br>Age=%{x}<br>Pageviews=%{y}\", \"legendgroup\": \"apple.news \", \"marker\": {\"color\": \"#19d3f3\"}, \"name\": \"apple.news \", \"offsetgroup\": \"apple.news \", \"orientation\": \"v\", \"showlegend\": true, \"textposition\": \"auto\", \"type\": \"bar\", \"x\": [\"18-24\", \"25-34\", \"35-44\", \"45-54\", \"55-64\"], \"xaxis\": \"x\", \"y\": [478, 2776, 1949, 860, 1217], \"yaxis\": \"y\"}, {\"alignmentgroup\": \"True\", \"hoverlabel\": {\"namelength\": 0}, \"hovertemplate\": \"Source=asg.org <br>Age=%{x}<br>Pageviews=%{y}\", \"legendgroup\": \"asg.org \", \"marker\": {\"color\": \"#FF6692\"}, \"name\": \"asg.org \", \"offsetgroup\": \"asg.org \", \"orientation\": \"v\", \"showlegend\": true, \"textposition\": \"auto\", \"type\": \"bar\", \"x\": [\"65+\"], \"xaxis\": \"x\", \"y\": [226], \"yaxis\": \"y\"}, {\"alignmentgroup\": \"True\", \"hoverlabel\": {\"namelength\": 0}, \"hovertemplate\": \"Source=behindthecounter.beautycounter.com <br>Age=%{x}<br>Pageviews=%{y}\", \"legendgroup\": \"behindthecounter.beautycounter.com \", \"marker\": {\"color\": \"#B6E880\"}, \"name\": \"behindthecounter.beautycounter.com \", \"offsetgroup\": \"behindthecounter.beautycounter.com \", \"orientation\": \"v\", \"showlegend\": true, \"textposition\": \"auto\", \"type\": \"bar\", \"x\": [\"35-44\"], \"xaxis\": \"x\", \"y\": [33], \"yaxis\": \"y\"}, {\"alignmentgroup\": \"True\", \"hoverlabel\": {\"namelength\": 0}, \"hovertemplate\": \"Source=bloglovin.com <br>Age=%{x}<br>Pageviews=%{y}\", \"legendgroup\": \"bloglovin.com \", \"marker\": {\"color\": \"#FF97FF\"}, \"name\": \"bloglovin.com \", \"offsetgroup\": \"bloglovin.com \", \"orientation\": \"v\", \"showlegend\": true, \"textposition\": \"auto\", \"type\": \"bar\", \"x\": [\"25-34\"], \"xaxis\": \"x\", \"y\": [1251], \"yaxis\": \"y\"}, {\"alignmentgroup\": \"True\", \"hoverlabel\": {\"namelength\": 0}, \"hovertemplate\": \"Source=brides <br>Age=%{x}<br>Pageviews=%{y}\", \"legendgroup\": \"brides \", \"marker\": {\"color\": \"#FECB52\"}, \"name\": \"brides \", \"offsetgroup\": \"brides \", \"orientation\": \"v\", \"showlegend\": true, \"textposition\": \"auto\", \"type\": \"bar\", \"x\": [\"25-34\", \"35-44\"], \"xaxis\": \"x\", \"y\": [763, 38], \"yaxis\": \"y\"}, {\"alignmentgroup\": \"True\", \"hoverlabel\": {\"namelength\": 0}, \"hovertemplate\": \"Source=corporette.com <br>Age=%{x}<br>Pageviews=%{y}\", \"legendgroup\": \"corporette.com \", \"marker\": {\"color\": \"#636efa\"}, \"name\": \"corporette.com \", \"offsetgroup\": \"corporette.com \", \"orientation\": \"v\", \"showlegend\": true, \"textposition\": \"auto\", \"type\": \"bar\", \"x\": [\"25-34\", \"35-44\", \"45-54\"], \"xaxis\": \"x\", \"y\": [1684, 1429, 142], \"yaxis\": \"y\"}, {\"alignmentgroup\": \"True\", \"hoverlabel\": {\"namelength\": 0}, \"hovertemplate\": \"Source=dash hudson <br>Age=%{x}<br>Pageviews=%{y}\", \"legendgroup\": \"dash hudson \", \"marker\": {\"color\": \"#EF553B\"}, \"name\": \"dash hudson \", \"offsetgroup\": \"dash hudson \", \"orientation\": \"v\", \"showlegend\": true, \"textposition\": \"auto\", \"type\": \"bar\", \"x\": [\"25-34\", \"35-44\", \"55-64\"], \"xaxis\": \"x\", \"y\": [71, 34, 14], \"yaxis\": \"y\"}, {\"alignmentgroup\": \"True\", \"hoverlabel\": {\"namelength\": 0}, \"hovertemplate\": \"Source=facebook <br>Age=%{x}<br>Pageviews=%{y}\", \"legendgroup\": \"facebook \", \"marker\": {\"color\": \"#00cc96\"}, \"name\": \"facebook \", \"offsetgroup\": \"facebook \", \"orientation\": \"v\", \"showlegend\": true, \"textposition\": \"auto\", \"type\": \"bar\", \"x\": [\"18-24\", \"25-34\", \"35-44\", \"45-54\", \"55-64\", \"65+\"], \"xaxis\": \"x\", \"y\": [16086, 86245, 47830, 17990, 8344, 4642], \"yaxis\": \"y\"}, {\"alignmentgroup\": \"True\", \"hoverlabel\": {\"namelength\": 0}, \"hovertemplate\": \"Source=facebook-owned <br>Age=%{x}<br>Pageviews=%{y}\", \"legendgroup\": \"facebook-owned \", \"marker\": {\"color\": \"#ab63fa\"}, \"name\": \"facebook-owned \", \"offsetgroup\": \"facebook-owned \", \"orientation\": \"v\", \"showlegend\": true, \"textposition\": \"auto\", \"type\": \"bar\", \"x\": [\"18-24\", \"25-34\", \"35-44\", \"45-54\", \"55-64\", \"65+\"], \"xaxis\": \"x\", \"y\": [1700, 55939, 67414, 51249, 35353, 13790], \"yaxis\": \"y\"}, {\"alignmentgroup\": \"True\", \"hoverlabel\": {\"namelength\": 0}, \"hovertemplate\": \"Source=facebook.com <br>Age=%{x}<br>Pageviews=%{y}\", \"legendgroup\": \"facebook.com \", \"marker\": {\"color\": \"#FFA15A\"}, \"name\": \"facebook.com \", \"offsetgroup\": \"facebook.com \", \"orientation\": \"v\", \"showlegend\": true, \"textposition\": \"auto\", \"type\": \"bar\", \"x\": [\"18-24\", \"25-34\", \"35-44\", \"45-54\", \"55-64\", \"65+\"], \"xaxis\": \"x\", \"y\": [7349, 69115, 50207, 31826, 21945, 10068], \"yaxis\": \"y\"}, {\"alignmentgroup\": \"True\", \"hoverlabel\": {\"namelength\": 0}, \"hovertemplate\": \"Source=feedburner <br>Age=%{x}<br>Pageviews=%{y}\", \"legendgroup\": \"feedburner \", \"marker\": {\"color\": \"#19d3f3\"}, \"name\": \"feedburner \", \"offsetgroup\": \"feedburner \", \"orientation\": \"v\", \"showlegend\": true, \"textposition\": \"auto\", \"type\": \"bar\", \"x\": [\"35-44\", \"45-54\", \"55-64\", \"65+\"], \"xaxis\": \"x\", \"y\": [262, 529, 315, 140], \"yaxis\": \"y\"}, {\"alignmentgroup\": \"True\", \"hoverlabel\": {\"namelength\": 0}, \"hovertemplate\": \"Source=flipboard.com <br>Age=%{x}<br>Pageviews=%{y}\", \"legendgroup\": \"flipboard.com \", \"marker\": {\"color\": \"#FF6692\"}, \"name\": \"flipboard.com \", \"offsetgroup\": \"flipboard.com \", \"orientation\": \"v\", \"showlegend\": true, \"textposition\": \"auto\", \"type\": \"bar\", \"x\": [\"25-34\", \"35-44\", \"45-54\", \"55-64\", \"65+\"], \"xaxis\": \"x\", \"y\": [2118, 2475, 2989, 1883, 260], \"yaxis\": \"y\"}, {\"alignmentgroup\": \"True\", \"hoverlabel\": {\"namelength\": 0}, \"hovertemplate\": \"Source=frame.bloglovin.com <br>Age=%{x}<br>Pageviews=%{y}\", \"legendgroup\": \"frame.bloglovin.com \", \"marker\": {\"color\": \"#B6E880\"}, \"name\": \"frame.bloglovin.com \", \"offsetgroup\": \"frame.bloglovin.com \", \"orientation\": \"v\", \"showlegend\": true, \"textposition\": \"auto\", \"type\": \"bar\", \"x\": [\"25-34\", \"35-44\", \"45-54\", \"55-64\"], \"xaxis\": \"x\", \"y\": [9857, 556, 459, 297], \"yaxis\": \"y\"}, {\"alignmentgroup\": \"True\", \"hoverlabel\": {\"namelength\": 0}, \"hovertemplate\": \"Source=from.flipboard.com <br>Age=%{x}<br>Pageviews=%{y}\", \"legendgroup\": \"from.flipboard.com \", \"marker\": {\"color\": \"#FF97FF\"}, \"name\": \"from.flipboard.com \", \"offsetgroup\": \"from.flipboard.com \", \"orientation\": \"v\", \"showlegend\": true, \"textposition\": \"auto\", \"type\": \"bar\", \"x\": [\"18-24\", \"25-34\", \"35-44\", \"45-54\", \"55-64\", \"65+\"], \"xaxis\": \"x\", \"y\": [1143, 134934, 244496, 342574, 404525, 144813], \"yaxis\": \"y\"}, {\"alignmentgroup\": \"True\", \"hoverlabel\": {\"namelength\": 0}, \"hovertemplate\": \"Source=frontier.yahoo.com <br>Age=%{x}<br>Pageviews=%{y}\", \"legendgroup\": \"frontier.yahoo.com \", \"marker\": {\"color\": \"#FECB52\"}, \"name\": \"frontier.yahoo.com \", \"offsetgroup\": \"frontier.yahoo.com \", \"orientation\": \"v\", \"showlegend\": true, \"textposition\": \"auto\", \"type\": \"bar\", \"x\": [\"65+\"], \"xaxis\": \"x\", \"y\": [109], \"yaxis\": \"y\"}, {\"alignmentgroup\": \"True\", \"hoverlabel\": {\"namelength\": 0}, \"hovertemplate\": \"Source=google <br>Age=%{x}<br>Pageviews=%{y}\", \"legendgroup\": \"google \", \"marker\": {\"color\": \"#636efa\"}, \"name\": \"google \", \"offsetgroup\": \"google \", \"orientation\": \"v\", \"showlegend\": true, \"textposition\": \"auto\", \"type\": \"bar\", \"x\": [\"18-24\", \"25-34\", \"35-44\", \"45-54\", \"55-64\", \"65+\"], \"xaxis\": \"x\", \"y\": [159084, 899345, 236854, 157494, 142733, 58691], \"yaxis\": \"y\"}, {\"alignmentgroup\": \"True\", \"hoverlabel\": {\"namelength\": 0}, \"hovertemplate\": \"Source=google.com <br>Age=%{x}<br>Pageviews=%{y}\", \"legendgroup\": \"google.com \", \"marker\": {\"color\": \"#EF553B\"}, \"name\": \"google.com \", \"offsetgroup\": \"google.com \", \"orientation\": \"v\", \"showlegend\": true, \"textposition\": \"auto\", \"type\": \"bar\", \"x\": [\"35-44\"], \"xaxis\": \"x\", \"y\": [15], \"yaxis\": \"y\"}, {\"alignmentgroup\": \"True\", \"hoverlabel\": {\"namelength\": 0}, \"hovertemplate\": \"Source=googleapis.com <br>Age=%{x}<br>Pageviews=%{y}\", \"legendgroup\": \"googleapis.com \", \"marker\": {\"color\": \"#00cc96\"}, \"name\": \"googleapis.com \", \"offsetgroup\": \"googleapis.com \", \"orientation\": \"v\", \"showlegend\": true, \"textposition\": \"auto\", \"type\": \"bar\", \"x\": [\"18-24\", \"25-34\", \"35-44\", \"45-54\", \"55-64\", \"65+\"], \"xaxis\": \"x\", \"y\": [2453, 61128, 41999, 20415, 16813, 6521], \"yaxis\": \"y\"}, {\"alignmentgroup\": \"True\", \"hoverlabel\": {\"namelength\": 0}, \"hovertemplate\": \"Source=instagram-owned <br>Age=%{x}<br>Pageviews=%{y}\", \"legendgroup\": \"instagram-owned \", \"marker\": {\"color\": \"#ab63fa\"}, \"name\": \"instagram-owned \", \"offsetgroup\": \"instagram-owned \", \"orientation\": \"v\", \"showlegend\": true, \"textposition\": \"auto\", \"type\": \"bar\", \"x\": [\"18-24\", \"25-34\", \"35-44\", \"45-54\", \"55-64\", \"65+\"], \"xaxis\": \"x\", \"y\": [119, 7897, 2310, 531, 142, 30], \"yaxis\": \"y\"}, {\"alignmentgroup\": \"True\", \"hoverlabel\": {\"namelength\": 0}, \"hovertemplate\": \"Source=instagram-story-owned <br>Age=%{x}<br>Pageviews=%{y}\", \"legendgroup\": \"instagram-story-owned \", \"marker\": {\"color\": \"#FFA15A\"}, \"name\": \"instagram-story-owned \", \"offsetgroup\": \"instagram-story-owned \", \"orientation\": \"v\", \"showlegend\": true, \"textposition\": \"auto\", \"type\": \"bar\", \"x\": [\"18-24\", \"25-34\", \"35-44\", \"45-54\", \"55-64\"], \"xaxis\": \"x\", \"y\": [205, 11162, 2716, 751, 224], \"yaxis\": \"y\"}, {\"alignmentgroup\": \"True\", \"hoverlabel\": {\"namelength\": 0}, \"hovertemplate\": \"Source=instagram.com <br>Age=%{x}<br>Pageviews=%{y}\", \"legendgroup\": \"instagram.com \", \"marker\": {\"color\": \"#19d3f3\"}, \"name\": \"instagram.com \", \"offsetgroup\": \"instagram.com \", \"orientation\": \"v\", \"showlegend\": true, \"textposition\": \"auto\", \"type\": \"bar\", \"x\": [\"25-34\", \"35-44\"], \"xaxis\": \"x\", \"y\": [5925, 859], \"yaxis\": \"y\"}, {\"alignmentgroup\": \"True\", \"hoverlabel\": {\"namelength\": 0}, \"hovertemplate\": \"Source=jezebel.com <br>Age=%{x}<br>Pageviews=%{y}\", \"legendgroup\": \"jezebel.com \", \"marker\": {\"color\": \"#FF6692\"}, \"name\": \"jezebel.com \", \"offsetgroup\": \"jezebel.com \", \"orientation\": \"v\", \"showlegend\": true, \"textposition\": \"auto\", \"type\": \"bar\", \"x\": [\"25-34\", \"35-44\", \"45-54\"], \"xaxis\": \"x\", \"y\": [5506, 2362, 450], \"yaxis\": \"y\"}, {\"alignmentgroup\": \"True\", \"hoverlabel\": {\"namelength\": 0}, \"hovertemplate\": \"Source=l.facebook.com <br>Age=%{x}<br>Pageviews=%{y}\", \"legendgroup\": \"l.facebook.com \", \"marker\": {\"color\": \"#B6E880\"}, \"name\": \"l.facebook.com \", \"offsetgroup\": \"l.facebook.com \", \"orientation\": \"v\", \"showlegend\": true, \"textposition\": \"auto\", \"type\": \"bar\", \"x\": [\"18-24\", \"25-34\", \"35-44\"], \"xaxis\": \"x\", \"y\": [899, 2383, 419], \"yaxis\": \"y\"}, {\"alignmentgroup\": \"True\", \"hoverlabel\": {\"namelength\": 0}, \"hovertemplate\": \"Source=l.instagram.com <br>Age=%{x}<br>Pageviews=%{y}\", \"legendgroup\": \"l.instagram.com \", \"marker\": {\"color\": \"#FF97FF\"}, \"name\": \"l.instagram.com \", \"offsetgroup\": \"l.instagram.com \", \"orientation\": \"v\", \"showlegend\": true, \"textposition\": \"auto\", \"type\": \"bar\", \"x\": [\"25-34\"], \"xaxis\": \"x\", \"y\": [122], \"yaxis\": \"y\"}, {\"alignmentgroup\": \"True\", \"hoverlabel\": {\"namelength\": 0}, \"hovertemplate\": \"Source=laurenconrad <br>Age=%{x}<br>Pageviews=%{y}\", \"legendgroup\": \"laurenconrad \", \"marker\": {\"color\": \"#FECB52\"}, \"name\": \"laurenconrad \", \"offsetgroup\": \"laurenconrad \", \"orientation\": \"v\", \"showlegend\": true, \"textposition\": \"auto\", \"type\": \"bar\", \"x\": [\"18-24\", \"25-34\", \"35-44\", \"45-54\", \"55-64\"], \"xaxis\": \"x\", \"y\": [69, 672, 388, 109, 28], \"yaxis\": \"y\"}, {\"alignmentgroup\": \"True\", \"hoverlabel\": {\"namelength\": 0}, \"hovertemplate\": \"Source=likeshop.me <br>Age=%{x}<br>Pageviews=%{y}\", \"legendgroup\": \"likeshop.me \", \"marker\": {\"color\": \"#636efa\"}, \"name\": \"likeshop.me \", \"offsetgroup\": \"likeshop.me \", \"orientation\": \"v\", \"showlegend\": true, \"textposition\": \"auto\", \"type\": \"bar\", \"x\": [\"18-24\", \"25-34\", \"35-44\", \"45-54\", \"55-64\", \"65+\"], \"xaxis\": \"x\", \"y\": [1355, 51528, 15927, 2632, 1538, 119], \"yaxis\": \"y\"}, {\"alignmentgroup\": \"True\", \"hoverlabel\": {\"namelength\": 0}, \"hovertemplate\": \"Source=lm.facebook.com <br>Age=%{x}<br>Pageviews=%{y}\", \"legendgroup\": \"lm.facebook.com \", \"marker\": {\"color\": \"#EF553B\"}, \"name\": \"lm.facebook.com \", \"offsetgroup\": \"lm.facebook.com \", \"orientation\": \"v\", \"showlegend\": true, \"textposition\": \"auto\", \"type\": \"bar\", \"x\": [\"18-24\", \"25-34\", \"35-44\", \"45-54\"], \"xaxis\": \"x\", \"y\": [6820, 12716, 4743, 1095], \"yaxis\": \"y\"}, {\"alignmentgroup\": \"True\", \"hoverlabel\": {\"namelength\": 0}, \"hovertemplate\": \"Source=m.facebook.com <br>Age=%{x}<br>Pageviews=%{y}\", \"legendgroup\": \"m.facebook.com \", \"marker\": {\"color\": \"#00cc96\"}, \"name\": \"m.facebook.com \", \"offsetgroup\": \"m.facebook.com \", \"orientation\": \"v\", \"showlegend\": true, \"textposition\": \"auto\", \"type\": \"bar\", \"x\": [\"18-24\", \"25-34\", \"35-44\", \"45-54\", \"55-64\", \"65+\"], \"xaxis\": \"x\", \"y\": [147324, 1379190, 1216503, 688767, 381479, 130072], \"yaxis\": \"y\"}, {\"alignmentgroup\": \"True\", \"hoverlabel\": {\"namelength\": 0}, \"hovertemplate\": \"Source=mail.google.com <br>Age=%{x}<br>Pageviews=%{y}\", \"legendgroup\": \"mail.google.com \", \"marker\": {\"color\": \"#ab63fa\"}, \"name\": \"mail.google.com \", \"offsetgroup\": \"mail.google.com \", \"orientation\": \"v\", \"showlegend\": true, \"textposition\": \"auto\", \"type\": \"bar\", \"x\": [\"18-24\", \"25-34\"], \"xaxis\": \"x\", \"y\": [354, 49727], \"yaxis\": \"y\"}, {\"alignmentgroup\": \"True\", \"hoverlabel\": {\"namelength\": 0}, \"hovertemplate\": \"Source=mail.yahoo.com <br>Age=%{x}<br>Pageviews=%{y}\", \"legendgroup\": \"mail.yahoo.com \", \"marker\": {\"color\": \"#FFA15A\"}, \"name\": \"mail.yahoo.com \", \"offsetgroup\": \"mail.yahoo.com \", \"orientation\": \"v\", \"showlegend\": true, \"textposition\": \"auto\", \"type\": \"bar\", \"x\": [\"25-34\"], \"xaxis\": \"x\", \"y\": [272], \"yaxis\": \"y\"}, {\"alignmentgroup\": \"True\", \"hoverlabel\": {\"namelength\": 0}, \"hovertemplate\": \"Source=makeup.com <br>Age=%{x}<br>Pageviews=%{y}\", \"legendgroup\": \"makeup.com \", \"marker\": {\"color\": \"#19d3f3\"}, \"name\": \"makeup.com \", \"offsetgroup\": \"makeup.com \", \"orientation\": \"v\", \"showlegend\": true, \"textposition\": \"auto\", \"type\": \"bar\", \"x\": [\"25-34\", \"35-44\", \"45-54\", \"55-64\", \"65+\"], \"xaxis\": \"x\", \"y\": [128, 192, 208, 108, 47], \"yaxis\": \"y\"}, {\"alignmentgroup\": \"True\", \"hoverlabel\": {\"namelength\": 0}, \"hovertemplate\": \"Source=meetedgar.com <br>Age=%{x}<br>Pageviews=%{y}\", \"legendgroup\": \"meetedgar.com \", \"marker\": {\"color\": \"#FF6692\"}, \"name\": \"meetedgar.com \", \"offsetgroup\": \"meetedgar.com \", \"orientation\": \"v\", \"showlegend\": true, \"textposition\": \"auto\", \"type\": \"bar\", \"x\": [\"35-44\"], \"xaxis\": \"x\", \"y\": [13], \"yaxis\": \"y\"}, {\"alignmentgroup\": \"True\", \"hoverlabel\": {\"namelength\": 0}, \"hovertemplate\": \"Source=news.google.com <br>Age=%{x}<br>Pageviews=%{y}\", \"legendgroup\": \"news.google.com \", \"marker\": {\"color\": \"#B6E880\"}, \"name\": \"news.google.com \", \"offsetgroup\": \"news.google.com \", \"orientation\": \"v\", \"showlegend\": true, \"textposition\": \"auto\", \"type\": \"bar\", \"x\": [\"18-24\", \"25-34\", \"35-44\", \"45-54\", \"55-64\", \"65+\"], \"xaxis\": \"x\", \"y\": [4311, 102653, 75993, 73462, 77734, 42475], \"yaxis\": \"y\"}, {\"alignmentgroup\": \"True\", \"hoverlabel\": {\"namelength\": 0}, \"hovertemplate\": \"Source=news.url.google.com <br>Age=%{x}<br>Pageviews=%{y}\", \"legendgroup\": \"news.url.google.com \", \"marker\": {\"color\": \"#FF97FF\"}, \"name\": \"news.url.google.com \", \"offsetgroup\": \"news.url.google.com \", \"orientation\": \"v\", \"showlegend\": true, \"textposition\": \"auto\", \"type\": \"bar\", \"x\": [\"55-64\"], \"xaxis\": \"x\", \"y\": [129], \"yaxis\": \"y\"}, {\"alignmentgroup\": \"True\", \"hoverlabel\": {\"namelength\": 0}, \"hovertemplate\": \"Source=news.yahoo.com <br>Age=%{x}<br>Pageviews=%{y}\", \"legendgroup\": \"news.yahoo.com \", \"marker\": {\"color\": \"#FECB52\"}, \"name\": \"news.yahoo.com \", \"offsetgroup\": \"news.yahoo.com \", \"orientation\": \"v\", \"showlegend\": true, \"textposition\": \"auto\", \"type\": \"bar\", \"x\": [\"45-54\", \"55-64\", \"65+\"], \"xaxis\": \"x\", \"y\": [258, 304, 503], \"yaxis\": \"y\"}, {\"alignmentgroup\": \"True\", \"hoverlabel\": {\"namelength\": 0}, \"hovertemplate\": \"Source=newsletter <br>Age=%{x}<br>Pageviews=%{y}\", \"legendgroup\": \"newsletter \", \"marker\": {\"color\": \"#636efa\"}, \"name\": \"newsletter \", \"offsetgroup\": \"newsletter \", \"orientation\": \"v\", \"showlegend\": true, \"textposition\": \"auto\", \"type\": \"bar\", \"x\": [\"18-24\", \"25-34\", \"35-44\", \"45-54\", \"55-64\", \"65+\"], \"xaxis\": \"x\", \"y\": [54882, 685262, 367649, 363923, 399536, 162282], \"yaxis\": \"y\"}, {\"alignmentgroup\": \"True\", \"hoverlabel\": {\"namelength\": 0}, \"hovertemplate\": \"Source=now.ruelala.com <br>Age=%{x}<br>Pageviews=%{y}\", \"legendgroup\": \"now.ruelala.com \", \"marker\": {\"color\": \"#EF553B\"}, \"name\": \"now.ruelala.com \", \"offsetgroup\": \"now.ruelala.com \", \"orientation\": \"v\", \"showlegend\": true, \"textposition\": \"auto\", \"type\": \"bar\", \"x\": [\"35-44\", \"55-64\"], \"xaxis\": \"x\", \"y\": [298, 257], \"yaxis\": \"y\"}, {\"alignmentgroup\": \"True\", \"hoverlabel\": {\"namelength\": 0}, \"hovertemplate\": \"Source=paid.outbrain.com <br>Age=%{x}<br>Pageviews=%{y}\", \"legendgroup\": \"paid.outbrain.com \", \"marker\": {\"color\": \"#00cc96\"}, \"name\": \"paid.outbrain.com \", \"offsetgroup\": \"paid.outbrain.com \", \"orientation\": \"v\", \"showlegend\": true, \"textposition\": \"auto\", \"type\": \"bar\", \"x\": [\"55-64\", \"65+\"], \"xaxis\": \"x\", \"y\": [549, 599], \"yaxis\": \"y\"}, {\"alignmentgroup\": \"True\", \"hoverlabel\": {\"namelength\": 0}, \"hovertemplate\": \"Source=pinterest-owned <br>Age=%{x}<br>Pageviews=%{y}\", \"legendgroup\": \"pinterest-owned \", \"marker\": {\"color\": \"#ab63fa\"}, \"name\": \"pinterest-owned \", \"offsetgroup\": \"pinterest-owned \", \"orientation\": \"v\", \"showlegend\": true, \"textposition\": \"auto\", \"type\": \"bar\", \"x\": [\"25-34\", \"35-44\", \"45-54\", \"55-64\", \"65+\"], \"xaxis\": \"x\", \"y\": [452, 168, 151, 120, 18], \"yaxis\": \"y\"}, {\"alignmentgroup\": \"True\", \"hoverlabel\": {\"namelength\": 0}, \"hovertemplate\": \"Source=pinterest.com <br>Age=%{x}<br>Pageviews=%{y}\", \"legendgroup\": \"pinterest.com \", \"marker\": {\"color\": \"#FFA15A\"}, \"name\": \"pinterest.com \", \"offsetgroup\": \"pinterest.com \", \"orientation\": \"v\", \"showlegend\": true, \"textposition\": \"auto\", \"type\": \"bar\", \"x\": [\"18-24\", \"25-34\", \"35-44\", \"45-54\", \"55-64\", \"65+\"], \"xaxis\": \"x\", \"y\": [1580, 100999, 42046, 49237, 63607, 14315], \"yaxis\": \"y\"}, {\"alignmentgroup\": \"True\", \"hoverlabel\": {\"namelength\": 0}, \"hovertemplate\": \"Source=play.google.com <br>Age=%{x}<br>Pageviews=%{y}\", \"legendgroup\": \"play.google.com \", \"marker\": {\"color\": \"#19d3f3\"}, \"name\": \"play.google.com \", \"offsetgroup\": \"play.google.com \", \"orientation\": \"v\", \"showlegend\": true, \"textposition\": \"auto\", \"type\": \"bar\", \"x\": [\"55-64\"], \"xaxis\": \"x\", \"y\": [10], \"yaxis\": \"y\"}, {\"alignmentgroup\": \"True\", \"hoverlabel\": {\"namelength\": 0}, \"hovertemplate\": \"Source=popsugar <br>Age=%{x}<br>Pageviews=%{y}\", \"legendgroup\": \"popsugar \", \"marker\": {\"color\": \"#FF6692\"}, \"name\": \"popsugar \", \"offsetgroup\": \"popsugar \", \"orientation\": \"v\", \"showlegend\": true, \"textposition\": \"auto\", \"type\": \"bar\", \"x\": [\"18-24\", \"25-34\", \"35-44\", \"45-54\", \"55-64\", \"65+\"], \"xaxis\": \"x\", \"y\": [532, 5969, 11825, 9857, 7215, 4242], \"yaxis\": \"y\"}, {\"alignmentgroup\": \"True\", \"hoverlabel\": {\"namelength\": 0}, \"hovertemplate\": \"Source=purewow <br>Age=%{x}<br>Pageviews=%{y}\", \"legendgroup\": \"purewow \", \"marker\": {\"color\": \"#B6E880\"}, \"name\": \"purewow \", \"offsetgroup\": \"purewow \", \"orientation\": \"v\", \"showlegend\": true, \"textposition\": \"auto\", \"type\": \"bar\", \"x\": [\"25-34\", \"35-44\", \"45-54\", \"55-64\", \"65+\"], \"xaxis\": \"x\", \"y\": [269, 125, 135, 135, 77], \"yaxis\": \"y\"}, {\"alignmentgroup\": \"True\", \"hoverlabel\": {\"namelength\": 0}, \"hovertemplate\": \"Source=quora <br>Age=%{x}<br>Pageviews=%{y}\", \"legendgroup\": \"quora \", \"marker\": {\"color\": \"#FF97FF\"}, \"name\": \"quora \", \"offsetgroup\": \"quora \", \"orientation\": \"v\", \"showlegend\": true, \"textposition\": \"auto\", \"type\": \"bar\", \"x\": [\"25-34\", \"35-44\", \"45-54\", \"55-64\", \"65+\"], \"xaxis\": \"x\", \"y\": [16, 129, 358, 763, 2270], \"yaxis\": \"y\"}, {\"alignmentgroup\": \"True\", \"hoverlabel\": {\"namelength\": 0}, \"hovertemplate\": \"Source=quora.com <br>Age=%{x}<br>Pageviews=%{y}\", \"legendgroup\": \"quora.com \", \"marker\": {\"color\": \"#FECB52\"}, \"name\": \"quora.com \", \"offsetgroup\": \"quora.com \", \"orientation\": \"v\", \"showlegend\": true, \"textposition\": \"auto\", \"type\": \"bar\", \"x\": [\"45-54\", \"55-64\", \"65+\"], \"xaxis\": \"x\", \"y\": [862, 1116, 3158], \"yaxis\": \"y\"}, {\"alignmentgroup\": \"True\", \"hoverlabel\": {\"namelength\": 0}, \"hovertemplate\": \"Source=reddit.com <br>Age=%{x}<br>Pageviews=%{y}\", \"legendgroup\": \"reddit.com \", \"marker\": {\"color\": \"#636efa\"}, \"name\": \"reddit.com \", \"offsetgroup\": \"reddit.com \", \"orientation\": \"v\", \"showlegend\": true, \"textposition\": \"auto\", \"type\": \"bar\", \"x\": [\"25-34\"], \"xaxis\": \"x\", \"y\": [100], \"yaxis\": \"y\"}, {\"alignmentgroup\": \"True\", \"hoverlabel\": {\"namelength\": 0}, \"hovertemplate\": \"Source=share-button <br>Age=%{x}<br>Pageviews=%{y}\", \"legendgroup\": \"share-button \", \"marker\": {\"color\": \"#EF553B\"}, \"name\": \"share-button \", \"offsetgroup\": \"share-button \", \"orientation\": \"v\", \"showlegend\": true, \"textposition\": \"auto\", \"type\": \"bar\", \"x\": [\"25-34\", \"35-44\", \"45-54\", \"55-64\"], \"xaxis\": \"x\", \"y\": [15282, 583, 305, 321], \"yaxis\": \"y\"}, {\"alignmentgroup\": \"True\", \"hoverlabel\": {\"namelength\": 0}, \"hovertemplate\": \"Source=skincare <br>Age=%{x}<br>Pageviews=%{y}\", \"legendgroup\": \"skincare \", \"marker\": {\"color\": \"#00cc96\"}, \"name\": \"skincare \", \"offsetgroup\": \"skincare \", \"orientation\": \"v\", \"showlegend\": true, \"textposition\": \"auto\", \"type\": \"bar\", \"x\": [\"25-34\", \"35-44\", \"45-54\", \"55-64\", \"65+\"], \"xaxis\": \"x\", \"y\": [295, 380, 387, 240, 93], \"yaxis\": \"y\"}, {\"alignmentgroup\": \"True\", \"hoverlabel\": {\"namelength\": 0}, \"hovertemplate\": \"Source=skincare.com <br>Age=%{x}<br>Pageviews=%{y}\", \"legendgroup\": \"skincare.com \", \"marker\": {\"color\": \"#ab63fa\"}, \"name\": \"skincare.com \", \"offsetgroup\": \"skincare.com \", \"orientation\": \"v\", \"showlegend\": true, \"textposition\": \"auto\", \"type\": \"bar\", \"x\": [\"18-24\", \"25-34\", \"35-44\", \"45-54\", \"55-64\", \"65+\"], \"xaxis\": \"x\", \"y\": [32, 788, 1084, 808, 640, 339], \"yaxis\": \"y\"}, {\"alignmentgroup\": \"True\", \"hoverlabel\": {\"namelength\": 0}, \"hovertemplate\": \"Source=smartnews.com <br>Age=%{x}<br>Pageviews=%{y}\", \"legendgroup\": \"smartnews.com \", \"marker\": {\"color\": \"#FFA15A\"}, \"name\": \"smartnews.com \", \"offsetgroup\": \"smartnews.com \", \"orientation\": \"v\", \"showlegend\": true, \"textposition\": \"auto\", \"type\": \"bar\", \"x\": [\"25-34\", \"35-44\", \"45-54\", \"55-64\", \"65+\"], \"xaxis\": \"x\", \"y\": [400, 569, 1661, 2422, 3142], \"yaxis\": \"y\"}, {\"alignmentgroup\": \"True\", \"hoverlabel\": {\"namelength\": 0}, \"hovertemplate\": \"Source=social-pinterest-button <br>Age=%{x}<br>Pageviews=%{y}\", \"legendgroup\": \"social-pinterest-button \", \"marker\": {\"color\": \"#19d3f3\"}, \"name\": \"social-pinterest-button \", \"offsetgroup\": \"social-pinterest-button \", \"orientation\": \"v\", \"showlegend\": true, \"textposition\": \"auto\", \"type\": \"bar\", \"x\": [\"25-34\"], \"xaxis\": \"x\", \"y\": [14], \"yaxis\": \"y\"}, {\"alignmentgroup\": \"True\", \"hoverlabel\": {\"namelength\": 0}, \"hovertemplate\": \"Source=t.co <br>Age=%{x}<br>Pageviews=%{y}\", \"legendgroup\": \"t.co \", \"marker\": {\"color\": \"#FF6692\"}, \"name\": \"t.co \", \"offsetgroup\": \"t.co \", \"orientation\": \"v\", \"showlegend\": true, \"textposition\": \"auto\", \"type\": \"bar\", \"x\": [\"25-34\", \"35-44\"], \"xaxis\": \"x\", \"y\": [1518, 152], \"yaxis\": \"y\"}, {\"alignmentgroup\": \"True\", \"hoverlabel\": {\"namelength\": 0}, \"hovertemplate\": \"Source=theeverygirl <br>Age=%{x}<br>Pageviews=%{y}\", \"legendgroup\": \"theeverygirl \", \"marker\": {\"color\": \"#B6E880\"}, \"name\": \"theeverygirl \", \"offsetgroup\": \"theeverygirl \", \"orientation\": \"v\", \"showlegend\": true, \"textposition\": \"auto\", \"type\": \"bar\", \"x\": [\"18-24\", \"25-34\", \"35-44\", \"45-54\", \"55-64\", \"65+\"], \"xaxis\": \"x\", \"y\": [214, 4573, 7903, 7524, 5510, 2747], \"yaxis\": \"y\"}, {\"alignmentgroup\": \"True\", \"hoverlabel\": {\"namelength\": 0}, \"hovertemplate\": \"Source=tpc.googlesyndication.com <br>Age=%{x}<br>Pageviews=%{y}\", \"legendgroup\": \"tpc.googlesyndication.com \", \"marker\": {\"color\": \"#FF97FF\"}, \"name\": \"tpc.googlesyndication.com \", \"offsetgroup\": \"tpc.googlesyndication.com \", \"orientation\": \"v\", \"showlegend\": true, \"textposition\": \"auto\", \"type\": \"bar\", \"x\": [\"18-24\", \"25-34\", \"35-44\", \"45-54\", \"55-64\", \"65+\"], \"xaxis\": \"x\", \"y\": [37925, 306562, 38550, 13721, 11809, 308], \"yaxis\": \"y\"}, {\"alignmentgroup\": \"True\", \"hoverlabel\": {\"namelength\": 0}, \"hovertemplate\": \"Source=transition.meltwater.com <br>Age=%{x}<br>Pageviews=%{y}\", \"legendgroup\": \"transition.meltwater.com \", \"marker\": {\"color\": \"#FECB52\"}, \"name\": \"transition.meltwater.com \", \"offsetgroup\": \"transition.meltwater.com \", \"orientation\": \"v\", \"showlegend\": true, \"textposition\": \"auto\", \"type\": \"bar\", \"x\": [\"25-34\", \"35-44\"], \"xaxis\": \"x\", \"y\": [8301, 1949], \"yaxis\": \"y\"}, {\"alignmentgroup\": \"True\", \"hoverlabel\": {\"namelength\": 0}, \"hovertemplate\": \"Source=twitter-owned <br>Age=%{x}<br>Pageviews=%{y}\", \"legendgroup\": \"twitter-owned \", \"marker\": {\"color\": \"#636efa\"}, \"name\": \"twitter-owned \", \"offsetgroup\": \"twitter-owned \", \"orientation\": \"v\", \"showlegend\": true, \"textposition\": \"auto\", \"type\": \"bar\", \"x\": [\"35-44\"], \"xaxis\": \"x\", \"y\": [22], \"yaxis\": \"y\"}, {\"alignmentgroup\": \"True\", \"hoverlabel\": {\"namelength\": 0}, \"hovertemplate\": \"Source=vogue <br>Age=%{x}<br>Pageviews=%{y}\", \"legendgroup\": \"vogue \", \"marker\": {\"color\": \"#EF553B\"}, \"name\": \"vogue \", \"offsetgroup\": \"vogue \", \"orientation\": \"v\", \"showlegend\": true, \"textposition\": \"auto\", \"type\": \"bar\", \"x\": [\"18-24\", \"25-34\", \"35-44\", \"45-54\", \"55-64\", \"65+\"], \"xaxis\": \"x\", \"y\": [146, 2077, 4969, 4761, 3879, 1616], \"yaxis\": \"y\"}, {\"alignmentgroup\": \"True\", \"hoverlabel\": {\"namelength\": 0}, \"hovertemplate\": \"Source=vox.com <br>Age=%{x}<br>Pageviews=%{y}\", \"legendgroup\": \"vox.com \", \"marker\": {\"color\": \"#00cc96\"}, \"name\": \"vox.com \", \"offsetgroup\": \"vox.com \", \"orientation\": \"v\", \"showlegend\": true, \"textposition\": \"auto\", \"type\": \"bar\", \"x\": [\"25-34\", \"35-44\"], \"xaxis\": \"x\", \"y\": [277, 77], \"yaxis\": \"y\"}, {\"alignmentgroup\": \"True\", \"hoverlabel\": {\"namelength\": 0}, \"hovertemplate\": \"Source=wellandgood <br>Age=%{x}<br>Pageviews=%{y}\", \"legendgroup\": \"wellandgood \", \"marker\": {\"color\": \"#ab63fa\"}, \"name\": \"wellandgood \", \"offsetgroup\": \"wellandgood \", \"orientation\": \"v\", \"showlegend\": true, \"textposition\": \"auto\", \"type\": \"bar\", \"x\": [\"18-24\", \"25-34\", \"35-44\", \"45-54\", \"55-64\"], \"xaxis\": \"x\", \"y\": [10, 201, 234, 191, 96], \"yaxis\": \"y\"}, {\"alignmentgroup\": \"True\", \"hoverlabel\": {\"namelength\": 0}, \"hovertemplate\": \"Source=whowhatwear <br>Age=%{x}<br>Pageviews=%{y}\", \"legendgroup\": \"whowhatwear \", \"marker\": {\"color\": \"#FFA15A\"}, \"name\": \"whowhatwear \", \"offsetgroup\": \"whowhatwear \", \"orientation\": \"v\", \"showlegend\": true, \"textposition\": \"auto\", \"type\": \"bar\", \"x\": [\"25-34\"], \"xaxis\": \"x\", \"y\": [251], \"yaxis\": \"y\"}, {\"alignmentgroup\": \"True\", \"hoverlabel\": {\"namelength\": 0}, \"hovertemplate\": \"Source=www-whowhatwear-com.cdn.ampproject.org <br>Age=%{x}<br>Pageviews=%{y}\", \"legendgroup\": \"www-whowhatwear-com.cdn.ampproject.org \", \"marker\": {\"color\": \"#19d3f3\"}, \"name\": \"www-whowhatwear-com.cdn.ampproject.org \", \"offsetgroup\": \"www-whowhatwear-com.cdn.ampproject.org \", \"orientation\": \"v\", \"showlegend\": true, \"textposition\": \"auto\", \"type\": \"bar\", \"x\": [\"18-24\", \"25-34\", \"35-44\", \"45-54\", \"55-64\", \"65+\"], \"xaxis\": \"x\", \"y\": [2553, 139526, 165639, 169707, 203774, 66639], \"yaxis\": \"y\"}, {\"alignmentgroup\": \"True\", \"hoverlabel\": {\"namelength\": 0}, \"hovertemplate\": \"Source=www-yahoo-com.cdn.ampproject.org <br>Age=%{x}<br>Pageviews=%{y}\", \"legendgroup\": \"www-yahoo-com.cdn.ampproject.org \", \"marker\": {\"color\": \"#FF6692\"}, \"name\": \"www-yahoo-com.cdn.ampproject.org \", \"offsetgroup\": \"www-yahoo-com.cdn.ampproject.org \", \"orientation\": \"v\", \"showlegend\": true, \"textposition\": \"auto\", \"type\": \"bar\", \"x\": [\"18-24\", \"25-34\", \"35-44\", \"45-54\", \"55-64\", \"65+\"], \"xaxis\": \"x\", \"y\": [1820, 15703, 26087, 26904, 26238, 9902], \"yaxis\": \"y\"}, {\"alignmentgroup\": \"True\", \"hoverlabel\": {\"namelength\": 0}, \"hovertemplate\": \"Source=yahoo.com <br>Age=%{x}<br>Pageviews=%{y}\", \"legendgroup\": \"yahoo.com \", \"marker\": {\"color\": \"#B6E880\"}, \"name\": \"yahoo.com \", \"offsetgroup\": \"yahoo.com \", \"orientation\": \"v\", \"showlegend\": true, \"textposition\": \"auto\", \"type\": \"bar\", \"x\": [\"18-24\", \"25-34\", \"35-44\", \"45-54\", \"55-64\", \"65+\"], \"xaxis\": \"x\", \"y\": [3371, 32602, 68590, 71149, 74724, 54352], \"yaxis\": \"y\"}],\n",
       "                        {\"barmode\": \"relative\", \"legend\": {\"title\": {\"text\": \"Source\"}, \"tracegroupgap\": 0}, \"template\": {\"data\": {\"bar\": [{\"error_x\": {\"color\": \"#2a3f5f\"}, \"error_y\": {\"color\": \"#2a3f5f\"}, \"marker\": {\"line\": {\"color\": \"#E5ECF6\", \"width\": 0.5}}, \"type\": \"bar\"}], \"barpolar\": [{\"marker\": {\"line\": {\"color\": \"#E5ECF6\", \"width\": 0.5}}, \"type\": \"barpolar\"}], \"carpet\": [{\"aaxis\": {\"endlinecolor\": \"#2a3f5f\", \"gridcolor\": \"white\", \"linecolor\": \"white\", \"minorgridcolor\": \"white\", \"startlinecolor\": \"#2a3f5f\"}, \"baxis\": {\"endlinecolor\": \"#2a3f5f\", \"gridcolor\": \"white\", \"linecolor\": \"white\", \"minorgridcolor\": \"white\", \"startlinecolor\": \"#2a3f5f\"}, \"type\": \"carpet\"}], \"choropleth\": [{\"colorbar\": {\"outlinewidth\": 0, \"ticks\": \"\"}, \"type\": \"choropleth\"}], \"contour\": [{\"colorbar\": {\"outlinewidth\": 0, \"ticks\": \"\"}, \"colorscale\": [[0.0, \"#0d0887\"], [0.1111111111111111, \"#46039f\"], [0.2222222222222222, \"#7201a8\"], [0.3333333333333333, \"#9c179e\"], [0.4444444444444444, \"#bd3786\"], [0.5555555555555556, \"#d8576b\"], [0.6666666666666666, \"#ed7953\"], [0.7777777777777778, \"#fb9f3a\"], [0.8888888888888888, \"#fdca26\"], [1.0, \"#f0f921\"]], \"type\": \"contour\"}], \"contourcarpet\": [{\"colorbar\": {\"outlinewidth\": 0, \"ticks\": \"\"}, \"type\": \"contourcarpet\"}], \"heatmap\": [{\"colorbar\": {\"outlinewidth\": 0, \"ticks\": \"\"}, \"colorscale\": [[0.0, \"#0d0887\"], [0.1111111111111111, \"#46039f\"], [0.2222222222222222, \"#7201a8\"], [0.3333333333333333, \"#9c179e\"], [0.4444444444444444, \"#bd3786\"], [0.5555555555555556, \"#d8576b\"], [0.6666666666666666, \"#ed7953\"], [0.7777777777777778, \"#fb9f3a\"], [0.8888888888888888, \"#fdca26\"], [1.0, \"#f0f921\"]], \"type\": \"heatmap\"}], \"heatmapgl\": [{\"colorbar\": {\"outlinewidth\": 0, \"ticks\": \"\"}, \"colorscale\": [[0.0, \"#0d0887\"], [0.1111111111111111, \"#46039f\"], [0.2222222222222222, \"#7201a8\"], [0.3333333333333333, \"#9c179e\"], [0.4444444444444444, \"#bd3786\"], [0.5555555555555556, \"#d8576b\"], [0.6666666666666666, \"#ed7953\"], [0.7777777777777778, \"#fb9f3a\"], [0.8888888888888888, \"#fdca26\"], [1.0, \"#f0f921\"]], \"type\": \"heatmapgl\"}], \"histogram\": [{\"marker\": {\"colorbar\": {\"outlinewidth\": 0, \"ticks\": \"\"}}, \"type\": \"histogram\"}], \"histogram2d\": [{\"colorbar\": {\"outlinewidth\": 0, \"ticks\": \"\"}, \"colorscale\": [[0.0, \"#0d0887\"], [0.1111111111111111, \"#46039f\"], [0.2222222222222222, \"#7201a8\"], [0.3333333333333333, \"#9c179e\"], [0.4444444444444444, \"#bd3786\"], [0.5555555555555556, \"#d8576b\"], [0.6666666666666666, \"#ed7953\"], [0.7777777777777778, \"#fb9f3a\"], [0.8888888888888888, \"#fdca26\"], [1.0, \"#f0f921\"]], \"type\": \"histogram2d\"}], \"histogram2dcontour\": [{\"colorbar\": {\"outlinewidth\": 0, \"ticks\": \"\"}, \"colorscale\": [[0.0, \"#0d0887\"], [0.1111111111111111, \"#46039f\"], [0.2222222222222222, \"#7201a8\"], [0.3333333333333333, \"#9c179e\"], [0.4444444444444444, \"#bd3786\"], [0.5555555555555556, \"#d8576b\"], [0.6666666666666666, \"#ed7953\"], [0.7777777777777778, \"#fb9f3a\"], [0.8888888888888888, \"#fdca26\"], [1.0, \"#f0f921\"]], \"type\": \"histogram2dcontour\"}], \"mesh3d\": [{\"colorbar\": {\"outlinewidth\": 0, \"ticks\": \"\"}, \"type\": \"mesh3d\"}], \"parcoords\": [{\"line\": {\"colorbar\": {\"outlinewidth\": 0, \"ticks\": \"\"}}, \"type\": \"parcoords\"}], \"pie\": [{\"automargin\": true, \"type\": \"pie\"}], \"scatter\": [{\"marker\": {\"colorbar\": {\"outlinewidth\": 0, \"ticks\": \"\"}}, \"type\": \"scatter\"}], \"scatter3d\": [{\"line\": {\"colorbar\": {\"outlinewidth\": 0, \"ticks\": \"\"}}, \"marker\": {\"colorbar\": {\"outlinewidth\": 0, \"ticks\": \"\"}}, \"type\": \"scatter3d\"}], \"scattercarpet\": [{\"marker\": {\"colorbar\": {\"outlinewidth\": 0, \"ticks\": \"\"}}, \"type\": \"scattercarpet\"}], \"scattergeo\": [{\"marker\": {\"colorbar\": {\"outlinewidth\": 0, \"ticks\": \"\"}}, \"type\": \"scattergeo\"}], \"scattergl\": [{\"marker\": {\"colorbar\": {\"outlinewidth\": 0, \"ticks\": \"\"}}, \"type\": \"scattergl\"}], \"scattermapbox\": [{\"marker\": {\"colorbar\": {\"outlinewidth\": 0, \"ticks\": \"\"}}, \"type\": \"scattermapbox\"}], \"scatterpolar\": [{\"marker\": {\"colorbar\": {\"outlinewidth\": 0, \"ticks\": \"\"}}, \"type\": \"scatterpolar\"}], \"scatterpolargl\": [{\"marker\": {\"colorbar\": {\"outlinewidth\": 0, \"ticks\": \"\"}}, \"type\": \"scatterpolargl\"}], \"scatterternary\": [{\"marker\": {\"colorbar\": {\"outlinewidth\": 0, \"ticks\": \"\"}}, \"type\": \"scatterternary\"}], \"surface\": [{\"colorbar\": {\"outlinewidth\": 0, \"ticks\": \"\"}, \"colorscale\": [[0.0, \"#0d0887\"], [0.1111111111111111, \"#46039f\"], [0.2222222222222222, \"#7201a8\"], [0.3333333333333333, \"#9c179e\"], [0.4444444444444444, \"#bd3786\"], [0.5555555555555556, \"#d8576b\"], [0.6666666666666666, \"#ed7953\"], [0.7777777777777778, \"#fb9f3a\"], [0.8888888888888888, \"#fdca26\"], [1.0, \"#f0f921\"]], \"type\": \"surface\"}], \"table\": [{\"cells\": {\"fill\": {\"color\": \"#EBF0F8\"}, \"line\": {\"color\": \"white\"}}, \"header\": {\"fill\": {\"color\": \"#C8D4E3\"}, \"line\": {\"color\": \"white\"}}, \"type\": \"table\"}]}, \"layout\": {\"annotationdefaults\": {\"arrowcolor\": \"#2a3f5f\", \"arrowhead\": 0, \"arrowwidth\": 1}, \"coloraxis\": {\"colorbar\": {\"outlinewidth\": 0, \"ticks\": \"\"}}, \"colorscale\": {\"diverging\": [[0, \"#8e0152\"], [0.1, \"#c51b7d\"], [0.2, \"#de77ae\"], [0.3, \"#f1b6da\"], [0.4, \"#fde0ef\"], [0.5, \"#f7f7f7\"], [0.6, \"#e6f5d0\"], [0.7, \"#b8e186\"], [0.8, \"#7fbc41\"], [0.9, \"#4d9221\"], [1, \"#276419\"]], \"sequential\": [[0.0, \"#0d0887\"], [0.1111111111111111, \"#46039f\"], [0.2222222222222222, \"#7201a8\"], [0.3333333333333333, \"#9c179e\"], [0.4444444444444444, \"#bd3786\"], [0.5555555555555556, \"#d8576b\"], [0.6666666666666666, \"#ed7953\"], [0.7777777777777778, \"#fb9f3a\"], [0.8888888888888888, \"#fdca26\"], [1.0, \"#f0f921\"]], \"sequentialminus\": [[0.0, \"#0d0887\"], [0.1111111111111111, \"#46039f\"], [0.2222222222222222, \"#7201a8\"], [0.3333333333333333, \"#9c179e\"], [0.4444444444444444, \"#bd3786\"], [0.5555555555555556, \"#d8576b\"], [0.6666666666666666, \"#ed7953\"], [0.7777777777777778, \"#fb9f3a\"], [0.8888888888888888, \"#fdca26\"], [1.0, \"#f0f921\"]]}, \"colorway\": [\"#636efa\", \"#EF553B\", \"#00cc96\", \"#ab63fa\", \"#FFA15A\", \"#19d3f3\", \"#FF6692\", \"#B6E880\", \"#FF97FF\", \"#FECB52\"], \"font\": {\"color\": \"#2a3f5f\"}, \"geo\": {\"bgcolor\": \"white\", \"lakecolor\": \"white\", \"landcolor\": \"#E5ECF6\", \"showlakes\": true, \"showland\": true, \"subunitcolor\": \"white\"}, \"hoverlabel\": {\"align\": \"left\"}, \"hovermode\": \"closest\", \"mapbox\": {\"style\": \"light\"}, \"paper_bgcolor\": \"white\", \"plot_bgcolor\": \"#E5ECF6\", \"polar\": {\"angularaxis\": {\"gridcolor\": \"white\", \"linecolor\": \"white\", \"ticks\": \"\"}, \"bgcolor\": \"#E5ECF6\", \"radialaxis\": {\"gridcolor\": \"white\", \"linecolor\": \"white\", \"ticks\": \"\"}}, \"scene\": {\"xaxis\": {\"backgroundcolor\": \"#E5ECF6\", \"gridcolor\": \"white\", \"gridwidth\": 2, \"linecolor\": \"white\", \"showbackground\": true, \"ticks\": \"\", \"zerolinecolor\": \"white\"}, \"yaxis\": {\"backgroundcolor\": \"#E5ECF6\", \"gridcolor\": \"white\", \"gridwidth\": 2, \"linecolor\": \"white\", \"showbackground\": true, \"ticks\": \"\", \"zerolinecolor\": \"white\"}, \"zaxis\": {\"backgroundcolor\": \"#E5ECF6\", \"gridcolor\": \"white\", \"gridwidth\": 2, \"linecolor\": \"white\", \"showbackground\": true, \"ticks\": \"\", \"zerolinecolor\": \"white\"}}, \"shapedefaults\": {\"line\": {\"color\": \"#2a3f5f\"}}, \"ternary\": {\"aaxis\": {\"gridcolor\": \"white\", \"linecolor\": \"white\", \"ticks\": \"\"}, \"baxis\": {\"gridcolor\": \"white\", \"linecolor\": \"white\", \"ticks\": \"\"}, \"bgcolor\": \"#E5ECF6\", \"caxis\": {\"gridcolor\": \"white\", \"linecolor\": \"white\", \"ticks\": \"\"}}, \"title\": {\"x\": 0.05}, \"xaxis\": {\"automargin\": true, \"gridcolor\": \"white\", \"linecolor\": \"white\", \"ticks\": \"\", \"title\": {\"standoff\": 15}, \"zerolinecolor\": \"white\", \"zerolinewidth\": 2}, \"yaxis\": {\"automargin\": true, \"gridcolor\": \"white\", \"linecolor\": \"white\", \"ticks\": \"\", \"title\": {\"standoff\": 15}, \"zerolinecolor\": \"white\", \"zerolinewidth\": 2}}}, \"title\": {\"text\": \"Total Page views per Source/Age Group\"}, \"xaxis\": {\"anchor\": \"y\", \"domain\": [0.0, 1.0], \"title\": {\"text\": \"Age\"}}, \"yaxis\": {\"anchor\": \"x\", \"domain\": [0.0, 1.0], \"title\": {\"text\": \"Pageviews\"}}},\n",
       "                        {\"responsive\": true}\n",
       "                    ).then(function(){\n",
       "                            \n",
       "var gd = document.getElementById('b6b8816a-a284-40d4-8b6b-a771ce844257');\n",
       "var x = new MutationObserver(function (mutations, observer) {{\n",
       "        var display = window.getComputedStyle(gd).display;\n",
       "        if (!display || display === 'none') {{\n",
       "            console.log([gd, 'removed!']);\n",
       "            Plotly.purge(gd);\n",
       "            observer.disconnect();\n",
       "        }}\n",
       "}});\n",
       "\n",
       "// Listen for the removal of the full notebook cells\n",
       "var notebookContainer = gd.closest('#notebook-container');\n",
       "if (notebookContainer) {{\n",
       "    x.observe(notebookContainer, {childList: true});\n",
       "}}\n",
       "\n",
       "// Listen for the clearing of the current output cell\n",
       "var outputEl = gd.closest('.output');\n",
       "if (outputEl) {{\n",
       "    x.observe(outputEl, {childList: true});\n",
       "}}\n",
       "\n",
       "                        })\n",
       "                };\n",
       "                });\n",
       "            </script>\n",
       "        </div>"
      ]
     },
     "metadata": {},
     "output_type": "display_data"
    }
   ],
   "source": [
    "date = www.groupby(['Date']).sum().reset_index()\n",
    "fig1 = px.line(date, x=\"Date\", y=\"Pageviews\", title='Total Page Views per Date')\n",
    "fig1.show()\n",
    "\n",
    "date_age = www.groupby(['Date', 'Age']).sum().reset_index()\n",
    "fig2 = px.line(date_age, x=\"Date\", y=\"Pageviews\", color= 'Age', title='Total Page Views per Date/Age Group')\n",
    "fig2.show()\n",
    "\n",
    "date_medium = www.groupby(['Date', 'Medium']).sum().reset_index()\n",
    "fig3 = px.line(date_medium, x=\"Date\", y=\"Pageviews\", color= 'Medium', title='Total Page Views per Date/Medium')\n",
    "fig3.show()\n",
    "\n",
    "medium_age = www.groupby(['Medium', 'Age']).sum().reset_index()\n",
    "fig4 = px.bar(medium_age, x=\"Age\", y=\"Pageviews\", color= 'Medium', title='Total Page Views per Medium/Age Group')\n",
    "fig4.show()\n",
    "\n",
    "source_age = www.groupby(['Source', 'Age']).sum().reset_index()\n",
    "fig5 = px.bar(source_age, x=\"Age\", y =\"Pageviews\", color = \"Source\", title = 'Total Page views per Source/Age Group')\n",
    "fig5.show()"
   ]
  },
  {
   "cell_type": "markdown",
   "metadata": {},
   "source": [
    "------"
   ]
  },
  {
   "cell_type": "code",
   "execution_count": 52,
   "metadata": {},
   "outputs": [],
   "source": [
    "articles = www.groupby(['Page Title']).sum().reset_index()"
   ]
  },
  {
   "cell_type": "code",
   "execution_count": 53,
   "metadata": {
    "scrolled": true
   },
   "outputs": [
    {
     "data": {
      "text/html": [
       "<div>\n",
       "<style scoped>\n",
       "    .dataframe tbody tr th:only-of-type {\n",
       "        vertical-align: middle;\n",
       "    }\n",
       "\n",
       "    .dataframe tbody tr th {\n",
       "        vertical-align: top;\n",
       "    }\n",
       "\n",
       "    .dataframe thead th {\n",
       "        text-align: right;\n",
       "    }\n",
       "</style>\n",
       "<table border=\"1\" class=\"dataframe\">\n",
       "  <thead>\n",
       "    <tr style=\"text-align: right;\">\n",
       "      <th></th>\n",
       "      <th>Page Title</th>\n",
       "      <th>Pageviews</th>\n",
       "      <th>Unique Pageviews</th>\n",
       "      <th>unique_percent</th>\n",
       "      <th>page_wc</th>\n",
       "      <th>page_number</th>\n",
       "      <th>source_facebook</th>\n",
       "      <th>source_google</th>\n",
       "      <th>source_yahoo</th>\n",
       "      <th>source_instagram</th>\n",
       "      <th>source_pinterest</th>\n",
       "    </tr>\n",
       "  </thead>\n",
       "  <tbody>\n",
       "    <tr>\n",
       "      <td>0</td>\n",
       "      <td>'80s Fashion Trends: 35 Iconic Looks From the ...</td>\n",
       "      <td>50</td>\n",
       "      <td>47</td>\n",
       "      <td>0.94</td>\n",
       "      <td>9</td>\n",
       "      <td>0</td>\n",
       "      <td>0</td>\n",
       "      <td>1</td>\n",
       "      <td>0</td>\n",
       "      <td>0</td>\n",
       "      <td>0</td>\n",
       "    </tr>\n",
       "  </tbody>\n",
       "</table>\n",
       "</div>"
      ],
      "text/plain": [
       "                                          Page Title  Pageviews  \\\n",
       "0  '80s Fashion Trends: 35 Iconic Looks From the ...         50   \n",
       "\n",
       "   Unique Pageviews  unique_percent  page_wc  page_number  source_facebook  \\\n",
       "0                47            0.94        9            0                0   \n",
       "\n",
       "   source_google  source_yahoo  source_instagram  source_pinterest  \n",
       "0              1             0                 0                 0  "
      ]
     },
     "execution_count": 53,
     "metadata": {},
     "output_type": "execute_result"
    }
   ],
   "source": [
    "articles.head(1)"
   ]
  },
  {
   "cell_type": "markdown",
   "metadata": {},
   "source": [
    "# Feature Engineering on new dataframe"
   ]
  },
  {
   "cell_type": "code",
   "execution_count": 54,
   "metadata": {},
   "outputs": [
    {
     "name": "stderr",
     "output_type": "stream",
     "text": [
      "C:\\Users\\Brianna Lytle\\Anaconda3\\lib\\site-packages\\ipykernel_launcher.py:7: SettingWithCopyWarning: \n",
      "A value is trying to be set on a copy of a slice from a DataFrame\n",
      "\n",
      "See the caveats in the documentation: http://pandas.pydata.org/pandas-docs/stable/user_guide/indexing.html#returning-a-view-versus-a-copy\n",
      "  import sys\n",
      "C:\\Users\\Brianna Lytle\\Anaconda3\\lib\\site-packages\\ipykernel_launcher.py:9: SettingWithCopyWarning: \n",
      "A value is trying to be set on a copy of a slice from a DataFrame\n",
      "\n",
      "See the caveats in the documentation: http://pandas.pydata.org/pandas-docs/stable/user_guide/indexing.html#returning-a-view-versus-a-copy\n",
      "  if __name__ == '__main__':\n"
     ]
    }
   ],
   "source": [
    "#split 'Page Title' column into two\n",
    "page_split = articles['Page Title'].str.split('|', expand = True)\n",
    "articles['Page'] = page_split[0]\n",
    "articles['Title'] = page_split[1]\n",
    "for i in range(len(articles['Title'])):\n",
    "    if \"Who What Wear UK\" in articles['Title'][i]:\n",
    "        articles['Title'][i] = 'Who What Wear UK'\n",
    "    elif \"Who What Wear\" in articles['Title'][i]:\n",
    "        articles['Title'][i] = 'Who What Wear'\n",
    "    else:\n",
    "        pass"
   ]
  },
  {
   "cell_type": "code",
   "execution_count": 47,
   "metadata": {},
   "outputs": [],
   "source": [
    "#split 'Source / Medium column into two'\n",
    "source_split = articles['Source / Medium'].str.split('/', expand = True)\n",
    "articles['Source'] = source_split[0]\n",
    "articles['Medium'] = source_split[1]"
   ]
  },
  {
   "cell_type": "code",
   "execution_count": 55,
   "metadata": {},
   "outputs": [
    {
     "data": {
      "text/html": [
       "<div>\n",
       "<style scoped>\n",
       "    .dataframe tbody tr th:only-of-type {\n",
       "        vertical-align: middle;\n",
       "    }\n",
       "\n",
       "    .dataframe tbody tr th {\n",
       "        vertical-align: top;\n",
       "    }\n",
       "\n",
       "    .dataframe thead th {\n",
       "        text-align: right;\n",
       "    }\n",
       "</style>\n",
       "<table border=\"1\" class=\"dataframe\">\n",
       "  <thead>\n",
       "    <tr style=\"text-align: right;\">\n",
       "      <th></th>\n",
       "      <th>Page Title</th>\n",
       "      <th>Pageviews</th>\n",
       "      <th>Unique Pageviews</th>\n",
       "      <th>unique_percent</th>\n",
       "      <th>page_wc</th>\n",
       "      <th>page_number</th>\n",
       "      <th>source_facebook</th>\n",
       "      <th>source_google</th>\n",
       "      <th>source_yahoo</th>\n",
       "      <th>source_instagram</th>\n",
       "      <th>source_pinterest</th>\n",
       "      <th>Page</th>\n",
       "      <th>Title</th>\n",
       "    </tr>\n",
       "  </thead>\n",
       "  <tbody>\n",
       "    <tr>\n",
       "      <td>0</td>\n",
       "      <td>'80s Fashion Trends: 35 Iconic Looks From the ...</td>\n",
       "      <td>50</td>\n",
       "      <td>47</td>\n",
       "      <td>0.94</td>\n",
       "      <td>9</td>\n",
       "      <td>0</td>\n",
       "      <td>0</td>\n",
       "      <td>1</td>\n",
       "      <td>0</td>\n",
       "      <td>0</td>\n",
       "      <td>0</td>\n",
       "      <td>'80s Fashion Trends: 35 Iconic Looks From the ...</td>\n",
       "      <td>Who What Wear UK</td>\n",
       "    </tr>\n",
       "  </tbody>\n",
       "</table>\n",
       "</div>"
      ],
      "text/plain": [
       "                                          Page Title  Pageviews  \\\n",
       "0  '80s Fashion Trends: 35 Iconic Looks From the ...         50   \n",
       "\n",
       "   Unique Pageviews  unique_percent  page_wc  page_number  source_facebook  \\\n",
       "0                47            0.94        9            0                0   \n",
       "\n",
       "   source_google  source_yahoo  source_instagram  source_pinterest  \\\n",
       "0              1             0                 0                 0   \n",
       "\n",
       "                                                Page             Title  \n",
       "0  '80s Fashion Trends: 35 Iconic Looks From the ...  Who What Wear UK  "
      ]
     },
     "execution_count": 55,
     "metadata": {},
     "output_type": "execute_result"
    }
   ],
   "source": [
    "articles.head(1)"
   ]
  },
  {
   "cell_type": "code",
   "execution_count": null,
   "metadata": {},
   "outputs": [],
   "source": []
  }
 ],
 "metadata": {
  "kernelspec": {
   "display_name": "Python 3",
   "language": "python",
   "name": "python3"
  },
  "language_info": {
   "codemirror_mode": {
    "name": "ipython",
    "version": 3
   },
   "file_extension": ".py",
   "mimetype": "text/x-python",
   "name": "python",
   "nbconvert_exporter": "python",
   "pygments_lexer": "ipython3",
   "version": "3.7.4"
  }
 },
 "nbformat": 4,
 "nbformat_minor": 2
}
